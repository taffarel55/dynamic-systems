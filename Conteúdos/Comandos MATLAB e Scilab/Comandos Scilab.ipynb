{
 "cells": [
  {
   "cell_type": "markdown",
   "metadata": {},
   "source": [
    "# Comandos Scilab"
   ]
  },
  {
   "cell_type": "markdown",
   "metadata": {},
   "source": [
    "Nesta seção, são abordados alguns problemas associados a Sistemas de Controle. Considera-se a configuração padrão do sistema realimentado da Fig. 01."
   ]
  },
  {
   "cell_type": "markdown",
   "metadata": {},
   "source": [
    "![image.png](figura1.png)"
   ]
  },
  {
   "cell_type": "markdown",
   "metadata": {},
   "source": [
    "## PROBLEMAS:"
   ]
  },
  {
   "cell_type": "markdown",
   "metadata": {},
   "source": [
    "Seja o sistema de controle da Fig. 01 com as funções de transferência dadas a seguir e $G_d(s) = 0$:"
   ]
  },
  {
   "cell_type": "markdown",
   "metadata": {},
   "source": [
    "$$G(s)=\\frac{s^2 + s + 2}{s(s + 5)(s^2 + 2s + 1)}$$"
   ]
  },
  {
   "cell_type": "markdown",
   "metadata": {},
   "source": [
    "$$H(s)=1$$"
   ]
  },
  {
   "cell_type": "markdown",
   "metadata": {},
   "source": [
    "$$K(s)=\\frac{20s + 0.01}{s}$$"
   ]
  },
  {
   "cell_type": "markdown",
   "metadata": {},
   "source": [
    "- 1) Obter a função de transferência de malha-fechada resultante; \n",
    "- 2) Calcular uma representação no espaço de estados para a planta, O controlador e o sistema em malha-fechada; \n",
    "- 3) Analisar a estabilidade do sistema em malha-fechada utilizando a função de transferência e o modelo no espaço de estados. Encontrar o polinômio caracterı́stico do sistema resultante;\n",
    "- 4) Obter os sinais de saı́da $y(t)$ e controle $u(t)$ do sistema em malha fechada para a entrada $r(t)$ o degrau unitário e o impulso unitário. Determinar o maior pico do sinal de saı́da e o tempo que a saı́da leva para atingir 98% do regime permanente, para $r(t) = 1$; \n",
    "- 5) Calcular a saı́da do sistema em malha-fechada para as entradas $r(t) = sen(πt)$ e $r(t)$ uma onda quadrada de amplitude unitária e perı́odo igual a quatro; \n",
    "- 6) Analisar a controlabilidade e a observabilidade da planta a ser controlada $(G(s))$ e obter a forma de Jordan associada à matriz dinâmica (planta);\n",
    "- 7) Com $G_d(s) =\\frac{1}{s^2 +s+1}$ , obter a resposta em frequência entre a saı́da y e a perturbaçaõ w ; \n",
    "- 8) O controlador $K(s)$ é substituı́do pelo controlador digital $K(z)$ com o segurador de ordem zero (ZOH), conforme a Fig. 02. Obter o modelo discreto para a planta e ZOH (visto pelo controlador) e, em seguida, calcular a função de transferência discreta de malha-fechada. Calcular a resposta ao degrau unitário e analisar a estabilidade do sistema resultante de malha-fechada. O perı́odo de amostragem é $T_s = 0.01s$ e $K(z) = \\frac{0.473z − 0.4728}{z-1}$"
   ]
  },
  {
   "cell_type": "markdown",
   "metadata": {},
   "source": [
    "![image.png](figura2.png)"
   ]
  },
  {
   "cell_type": "markdown",
   "metadata": {},
   "source": [
    "### Problema 1"
   ]
  },
  {
   "cell_type": "markdown",
   "metadata": {},
   "source": [
    "Obter a função de transferência de malha-fechada resultante."
   ]
  },
  {
   "cell_type": "markdown",
   "metadata": {},
   "source": [
    "Primeiro vamos determinar G(s):"
   ]
  },
  {
   "cell_type": "code",
   "execution_count": 5,
   "metadata": {},
   "outputs": [
    {
     "name": "stdout",
     "output_type": "stream",
     "text": [
      "\u001b[4l\u001b[0m\n",
      "\u001b[0m\u001b[4l\u001b[0m\n",
      "\u001b[0m\u001b[4l\u001b[0m G  = \n",
      "\n",
      "       2 +s +s²       \n",
      "   -----------------  \n",
      "   5s +11s² +7s³ +s⁴  \n",
      "\n",
      "\u001b[0m"
     ]
    }
   ],
   "source": [
    "s=poly(0,'s');\n",
    "G = (s^2+s+2)/(s*(s+5)*(s^2+2*s+1));\n",
    "G = syslin('c',G)"
   ]
  },
  {
   "cell_type": "markdown",
   "metadata": {},
   "source": [
    "Agora o H(s):"
   ]
  },
  {
   "cell_type": "code",
   "execution_count": 6,
   "metadata": {},
   "outputs": [
    {
     "name": "stdout",
     "output_type": "stream",
     "text": [
      "\u001b[4l\u001b[0m H  = \n",
      "\n",
      "   1  \n",
      "   -  \n",
      "   1  \n",
      "\n",
      "\u001b[0m"
     ]
    }
   ],
   "source": [
    "H = syslin('c',[1],[1])"
   ]
  },
  {
   "cell_type": "markdown",
   "metadata": {},
   "source": [
    "E por fim o K(s)"
   ]
  },
  {
   "cell_type": "code",
   "execution_count": 7,
   "metadata": {},
   "outputs": [
    {
     "name": "stdout",
     "output_type": "stream",
     "text": [
      "\u001b[4l\u001b[0m K  = \n",
      "\n",
      "   0.01 +20s  \n",
      "   ---------  \n",
      "       s      \n",
      "\n",
      "\u001b[0m"
     ]
    }
   ],
   "source": [
    "K = syslin('c',(20*s+0.01)/(s))"
   ]
  },
  {
   "cell_type": "markdown",
   "metadata": {},
   "source": [
    "Vamos agora obter a função transferência equivalente em malha fechada $$\\frac{GK}{1+GK}$$"
   ]
  },
  {
   "cell_type": "code",
   "execution_count": 8,
   "metadata": {},
   "outputs": [
    {
     "name": "stdout",
     "output_type": "stream",
     "text": [
      "\u001b[4l\u001b[0m MF  = \n",
      "\n",
      "       0.02 +40.01s +20.01s² +20s³       \n",
      "   ------------------------------------  \n",
      "   0.02 +40.01s +25.01s² +31s³ +7s⁴ +s⁵  \n",
      "\n",
      "\u001b[0m"
     ]
    }
   ],
   "source": [
    "MF = (G*K)/.(H)"
   ]
  },
  {
   "cell_type": "markdown",
   "metadata": {},
   "source": [
    "Para obter o numerador e o denominador da função transferência de malha fechada:"
   ]
  },
  {
   "cell_type": "code",
   "execution_count": 9,
   "metadata": {},
   "outputs": [
    {
     "name": "stdout",
     "output_type": "stream",
     "text": [
      "\u001b[4l\u001b[0m num_mf  = \n",
      "\n",
      "  0.02 +40.01s +20.01s² +20s³\n",
      "\n",
      "\u001b[0m\u001b[4l\u001b[0m den_mf  = \n",
      "\n",
      "  0.02 +40.01s +25.01s² +31s³ +7s⁴ +s⁵\n",
      "\n",
      "\u001b[0m"
     ]
    }
   ],
   "source": [
    "num_mf = MF.num\n",
    "den_mf = MF.den"
   ]
  },
  {
   "cell_type": "markdown",
   "metadata": {},
   "source": [
    "Para se obter os coeficientes:"
   ]
  },
  {
   "cell_type": "code",
   "execution_count": 10,
   "metadata": {},
   "outputs": [
    {
     "name": "stdout",
     "output_type": "stream",
     "text": [
      "\u001b[4l\u001b[0m num_mf  = \n",
      "\n",
      "   0.02   40.01   20.01   20.\n",
      "\n",
      "\u001b[0m\u001b[4l\u001b[0m den_mf  = \n",
      "\n",
      "   0.02   40.01   25.01   31.   7.   1.\n",
      "\n",
      "\u001b[0m"
     ]
    }
   ],
   "source": [
    "num_mf = coeff(num_mf)\n",
    "den_mf = coeff(den_mf)"
   ]
  },
  {
   "cell_type": "markdown",
   "metadata": {},
   "source": [
    "Uma função útil para ver polos e zeros:"
   ]
  },
  {
   "cell_type": "code",
   "execution_count": 11,
   "metadata": {},
   "outputs": [
    {
     "name": "stdout",
     "output_type": "stream",
     "text": [
      "\u001b[4l\u001b[0m ans  =\n",
      "\n",
      "                           (s+0.0005) (s^2+1s+2)                      \n",
      "   20 -------------------------------------------------------------- \n",
      "      (s+0.000500031) (s^2+6.41539s+25.6924) (s^2+0.584107s+1.55678) \n",
      "\n",
      "\n",
      "\u001b[0m"
     ]
    }
   ],
   "source": [
    "zpk(MF)"
   ]
  },
  {
   "cell_type": "markdown",
   "metadata": {},
   "source": [
    "### Problema 2"
   ]
  },
  {
   "cell_type": "markdown",
   "metadata": {},
   "source": [
    "Calcular uma representação no espaço de estados para a planta, O controlador e o sistema em malha-fechada"
   ]
  },
  {
   "cell_type": "markdown",
   "metadata": {},
   "source": [
    "Para G(s):"
   ]
  },
  {
   "cell_type": "code",
   "execution_count": 12,
   "metadata": {},
   "outputs": [
    {
     "name": "stdout",
     "output_type": "stream",
     "text": [
      "\u001b[4l\u001b[0m ssG  = \n",
      "\n",
      "\n",
      " ssG(1)  (state-space system:)\n",
      "\n",
      "  \"lss\"  \"A\"  \"B\"  \"C\"  \"D\"  \"X0\"  \"dt\"\n",
      "\n",
      " ssG(2)= A matrix =\n",
      "\n",
      "   0.0454545   0.5622417   2.776D-17  -2.776D-17\n",
      "  -0.3809524  -5.526936   -1.580973    4.441D-16\n",
      "  -0.2411616  -0.521717   -0.5185185  -1.4552138\n",
      "   0.2305926   5.7967172   2.075027   -1.       \n",
      "\n",
      " ssG(3)= B matrix =\n",
      "\n",
      "   0.\n",
      "  -1.7514389\n",
      "  -0.5744270\n",
      "   0.7762059\n",
      "\n",
      " ssG(4)= C matrix =\n",
      "\n",
      "  -1.0155048  -1.388D-17   0.   6.939D-18\n",
      "\n",
      " ssG(5)= D matrix =\n",
      "\n",
      "   0.\n",
      "\n",
      " ssG(6)= X0 (initial state) =\n",
      "\n",
      "   0.\n",
      "   0.\n",
      "   0.\n",
      "   0.\n",
      "\n",
      " ssG(7)= Time domain =\n",
      "\n",
      "  \"c\"\n",
      "\n",
      "\u001b[0m"
     ]
    }
   ],
   "source": [
    "ssG = tf2ss(G)"
   ]
  },
  {
   "cell_type": "markdown",
   "metadata": {},
   "source": [
    "Para K(s):"
   ]
  },
  {
   "cell_type": "code",
   "execution_count": 13,
   "metadata": {},
   "outputs": [
    {
     "name": "stdout",
     "output_type": "stream",
     "text": [
      "\u001b[4l\u001b[0m ssK  = \n",
      "\n",
      "\n",
      " ssK(1)  (state-space system:)\n",
      "\n",
      "  \"lss\"  \"A\"  \"B\"  \"C\"  \"D\"  \"X0\"  \"dt\"\n",
      "\n",
      " ssK(2)= A matrix =\n",
      "\n",
      "   0.\n",
      "\n",
      " ssK(3)= B matrix =\n",
      "\n",
      "   0.1\n",
      "\n",
      " ssK(4)= C matrix =\n",
      "\n",
      "   0.1\n",
      "\n",
      " ssK(5)= D matrix =\n",
      "\n",
      "   20.\n",
      "\n",
      " ssK(6)= X0 (initial state) =\n",
      "\n",
      "   0.\n",
      "\n",
      " ssK(7)= Time domain =\n",
      "\n",
      "  \"c\"\n",
      "\n",
      "\u001b[0m"
     ]
    }
   ],
   "source": [
    "ssK = tf2ss(K)"
   ]
  },
  {
   "cell_type": "markdown",
   "metadata": {},
   "source": [
    "H(s):"
   ]
  },
  {
   "cell_type": "code",
   "execution_count": 14,
   "metadata": {},
   "outputs": [
    {
     "name": "stdout",
     "output_type": "stream",
     "text": [
      "\u001b[4l\u001b[0m ssH  = \n",
      "\n",
      "\n",
      " ssH(1)  (state-space system:)\n",
      "\n",
      "  \"lss\"  \"A\"  \"B\"  \"C\"  \"D\"  \"X0\"  \"dt\"\n",
      "\n",
      " ssH(2)= A matrix =\n",
      "\n",
      "    []\n",
      "\n",
      " ssH(3)= B matrix =\n",
      "\n",
      "    []\n",
      "\n",
      " ssH(4)= C matrix =\n",
      "\n",
      "    []\n",
      "\n",
      " ssH(5)= D matrix =\n",
      "\n",
      "   1.\n",
      "\n",
      " ssH(6)= X0 (initial state) =\n",
      "\n",
      "    []\n",
      "\n",
      " ssH(7)= Time domain =\n",
      "\n",
      "  \"c\"\n",
      "\n",
      "\u001b[0m"
     ]
    }
   ],
   "source": [
    "ssH = tf2ss(H)"
   ]
  },
  {
   "cell_type": "markdown",
   "metadata": {},
   "source": [
    "Para obter algum atributo do objeto, como por exemplo a matriz A, podemos fazer:"
   ]
  },
  {
   "cell_type": "code",
   "execution_count": 15,
   "metadata": {},
   "outputs": [
    {
     "name": "stdout",
     "output_type": "stream",
     "text": [
      "\u001b[4l\u001b[0m ans  =\n",
      "\n",
      "   0.0454545   0.5622417   2.776D-17  -2.776D-17\n",
      "  -0.3809524  -5.526936   -1.580973    4.441D-16\n",
      "  -0.2411616  -0.521717   -0.5185185  -1.4552138\n",
      "   0.2305926   5.7967172   2.075027   -1.       \n",
      "\n",
      "\u001b[0m"
     ]
    }
   ],
   "source": [
    "ssG(2)"
   ]
  },
  {
   "cell_type": "markdown",
   "metadata": {},
   "source": [
    "Vamos agora obter a representação em espaço de estados em malha fechada:"
   ]
  },
  {
   "cell_type": "code",
   "execution_count": 16,
   "metadata": {},
   "outputs": [
    {
     "name": "stdout",
     "output_type": "stream",
     "text": [
      "\u001b[4l\u001b[0m ssMF  = \n",
      "\n",
      "\n",
      " ssMF(1)  (state-space system:)\n",
      "\n",
      "  \"lss\"  \"A\"  \"B\"  \"C\"  \"D\"  \"X0\"  \"dt\"\n",
      "\n",
      " ssMF(2)= A matrix =\n",
      "\n",
      "   0.0454545   0.5622417   2.776D-17  -2.776D-17   0.       \n",
      "  -35.952844  -5.526936   -1.580973    6.872D-16  -0.1751439\n",
      "  -11.907828  -0.521717   -0.5185185  -1.4552138  -0.0574427\n",
      "   15.995408   5.7967172   2.075027   -1.          0.0776206\n",
      "   0.1015505   1.388D-18   0.         -6.939D-19   0.       \n",
      "\n",
      " ssMF(3)= B matrix =\n",
      "\n",
      "   0.\n",
      "  -35.028777\n",
      "  -11.488539\n",
      "   15.524117\n",
      "   0.1\n",
      "\n",
      " ssMF(4)= C matrix =\n",
      "\n",
      "  -1.0155048  -1.388D-17   0.   6.939D-18   0.\n",
      "\n",
      " ssMF(5)= D matrix =\n",
      "\n",
      "   0.\n",
      "\n",
      " ssMF(6)= X0 (initial state) =\n",
      "\n",
      "   0.\n",
      "   0.\n",
      "   0.\n",
      "   0.\n",
      "   0.\n",
      "\n",
      " ssMF(7)= Time domain =\n",
      "\n",
      "  \"c\"\n",
      "\n",
      "\u001b[0m"
     ]
    }
   ],
   "source": [
    "ssMF = (ssG*ssK)/.(ssH)"
   ]
  },
  {
   "cell_type": "markdown",
   "metadata": {},
   "source": [
    "E para encontrar os pólos e zeros (e já obter a função transferência):"
   ]
  },
  {
   "cell_type": "code",
   "execution_count": 17,
   "metadata": {},
   "outputs": [
    {
     "name": "stdout",
     "output_type": "stream",
     "text": [
      "\u001b[4l\u001b[0m ans  =\n",
      "\n",
      "                           (s+0.0005) (s^2+1s+2)                      \n",
      "   20 -------------------------------------------------------------- \n",
      "      (s+0.000500031) (s^2+6.41539s+25.6924) (s^2+0.584107s+1.55678) \n",
      "\n",
      "\n",
      "\u001b[0m"
     ]
    }
   ],
   "source": [
    "zpk(ssMF)"
   ]
  },
  {
   "cell_type": "markdown",
   "metadata": {},
   "source": [
    "Para só ir para função transferência:"
   ]
  },
  {
   "cell_type": "code",
   "execution_count": 18,
   "metadata": {},
   "outputs": [
    {
     "name": "stdout",
     "output_type": "stream",
     "text": [
      "\u001b[4l\u001b[0m ans  =\n",
      "\n",
      "   0.02 +40.01s +20.01s² +20s³ +8.118D-15s⁴  \n",
      "   ----------------------------------------  \n",
      "     0.02 +40.01s +25.01s² +31s³ +7s⁴ +s⁵    \n",
      "\n",
      "\u001b[0m"
     ]
    }
   ],
   "source": [
    "ss2tf(ssMF)"
   ]
  },
  {
   "cell_type": "markdown",
   "metadata": {},
   "source": [
    "Para dar uma limpada em coeficientes pequenos:"
   ]
  },
  {
   "cell_type": "code",
   "execution_count": 19,
   "metadata": {},
   "outputs": [
    {
     "name": "stdout",
     "output_type": "stream",
     "text": [
      "\u001b[4l\u001b[0m ans  =\n",
      "\n",
      "            40.000002 +19.999999s +20s²            \n",
      "   ----------------------------------------------  \n",
      "   39.997506 +24.994502s +30.9965s² +6.9995s³ +s⁴  \n",
      "\n",
      "\u001b[0m"
     ]
    }
   ],
   "source": [
    "clean(ss2tf(ssMF))"
   ]
  },
  {
   "cell_type": "markdown",
   "metadata": {},
   "source": [
    "### Problema 3"
   ]
  },
  {
   "cell_type": "markdown",
   "metadata": {},
   "source": [
    "Analisar a estabilidade do sistema em malha-fechada utilizando a função de transferência e o modelo no espaço de estados. Encontrar o polinômio caracterı́stico do sistema resultante;"
   ]
  },
  {
   "cell_type": "markdown",
   "metadata": {},
   "source": [
    "#### Análise sem Lyapunov"
   ]
  },
  {
   "cell_type": "markdown",
   "metadata": {},
   "source": [
    "Para isso, iremos olhar as raízes do denominador e ver que todos estão no semiplano esquerdo."
   ]
  },
  {
   "cell_type": "code",
   "execution_count": 20,
   "metadata": {},
   "outputs": [
    {
     "name": "stdout",
     "output_type": "stream",
     "text": [
      "\u001b[4l\u001b[0m ans  =\n",
      "\n",
      "  -3.2076964 + 3.9246816i\n",
      "  -3.2076964 - 3.9246816i\n",
      "  -0.2920536 + 1.213048i \n",
      "  -0.2920536 - 1.213048i \n",
      "  -0.0005    + 0.i       \n",
      "\n",
      "\u001b[0m"
     ]
    }
   ],
   "source": [
    "roots(MF.den)"
   ]
  },
  {
   "cell_type": "markdown",
   "metadata": {},
   "source": [
    "Para olhar os autovalores"
   ]
  },
  {
   "cell_type": "code",
   "execution_count": 21,
   "metadata": {},
   "outputs": [
    {
     "name": "stdout",
     "output_type": "stream",
     "text": [
      "\u001b[4l\u001b[0m\n",
      "\u001b[0m\u001b[4l\u001b[0m ans  =\n",
      "\n",
      "  -3.2076964 + 3.9246816i\n",
      "  -3.2076964 - 3.9246816i\n",
      "  -0.2920536 + 1.213048i \n",
      "  -0.2920536 - 1.213048i \n",
      "  -0.0005    + 0.i       \n",
      "\n",
      "\u001b[0m"
     ]
    }
   ],
   "source": [
    "Amf=ssMF(2);\n",
    "spec(Amf)"
   ]
  },
  {
   "cell_type": "markdown",
   "metadata": {},
   "source": [
    "Esta função, pode retornar autovalores e autovetores."
   ]
  },
  {
   "cell_type": "code",
   "execution_count": 22,
   "metadata": {},
   "outputs": [
    {
     "name": "stdout",
     "output_type": "stream",
     "text": [
      "\u001b[4l\u001b[0m p  = \n",
      "\n",
      "         column 1 to 3\n",
      "\n",
      "   0.0626227 + 0.0185883i   0.0626227 - 0.0185883i   0.0336133 - 0.0117489i\n",
      "  -0.4920916 + 0.3295801i  -0.4920916 - 0.3295801i   0.0051708 + 0.0795742i\n",
      "   0.1160037 + 0.3155248i   0.1160037 - 0.3155248i  -0.7202913 + 0.i       \n",
      "   0.729343  + 0.i          0.729343  + 0.i         -0.1647514 + 0.6681334i\n",
      "  -0.0005056 - 0.0012071i  -0.0005056 + 0.0012071i  -0.00157   - 0.0024359i\n",
      "\n",
      "         column 4 to 5\n",
      "\n",
      "   0.0336133 + 0.0117489i  -0.0049239 + 0.i\n",
      "   0.0051708 - 0.0795742i   0.0004025 + 0.i\n",
      "  -0.7202913 + 0.i         -0.0002134 + 0.i\n",
      "  -0.1647514 - 0.6681334i   0.0007502 + 0.i\n",
      "  -0.00157   + 0.0024359i   0.9999875 + 0.i\n",
      " v  = \n",
      "\n",
      "         column 1 to 3\n",
      "\n",
      "  -3.2076964 + 3.9246816i   0.        + 0.i          0.        + 0.i      \n",
      "   0.        + 0.i         -3.2076964 - 3.9246816i   0.        + 0.i      \n",
      "   0.        + 0.i          0.        + 0.i         -0.2920536 + 1.213048i\n",
      "   0.        + 0.i          0.        + 0.i          0.        + 0.i      \n",
      "   0.        + 0.i          0.        + 0.i          0.        + 0.i      \n",
      "\n",
      "         column 4 to 5\n",
      "\n",
      "   0.        + 0.i         0.     + 0.i\n",
      "   0.        + 0.i         0.     + 0.i\n",
      "   0.        + 0.i         0.     + 0.i\n",
      "  -0.2920536 - 1.213048i   0.     + 0.i\n",
      "   0.        + 0.i        -0.0005 + 0.i\n",
      "\n",
      "\u001b[0m"
     ]
    }
   ],
   "source": [
    "[p,v]=spec(Amf)"
   ]
  },
  {
   "cell_type": "markdown",
   "metadata": {},
   "source": [
    "Podemos gerar também uma matriz de forma aleatória, e usar com a eig:"
   ]
  },
  {
   "cell_type": "code",
   "execution_count": 23,
   "metadata": {},
   "outputs": [
    {
     "name": "stdout",
     "output_type": "stream",
     "text": [
      "\u001b[4l\u001b[0m J  = \n",
      "\n",
      "   0.2113249   0.3303271   0.8497452\n",
      "   0.7560439   0.6653811   0.685731 \n",
      "   0.0002211   0.6283918   0.8782165\n",
      "\n",
      "\u001b[0m\u001b[4l\u001b[0m p2  = \n",
      "\n",
      "  -0.1883121 + 0.4974572i  -0.1883121 - 0.4974572i   0.4654016 + 0.i\n",
      "   0.699273  + 0.i          0.699273  + 0.i          0.7013981 + 0.i\n",
      "  -0.4402642 - 0.1850934i  -0.4402642 + 0.1850934i   0.5398538 + 0.i\n",
      " v2  = \n",
      "\n",
      "   0.0300427 + 0.3563346i   0.        + 0.i          0.        + 0.i\n",
      "   0.        + 0.i          0.0300427 - 0.3563346i   0.        + 0.i\n",
      "   0.        + 0.i          0.        + 0.i          1.6948371 + 0.i\n",
      "\n",
      "\u001b[0m"
     ]
    }
   ],
   "source": [
    "J=rand(3,3)\n",
    "[p2,v2]=spec(J)"
   ]
  },
  {
   "cell_type": "markdown",
   "metadata": {},
   "source": [
    "Para encontrar o polinômio característico:"
   ]
  },
  {
   "cell_type": "code",
   "execution_count": 24,
   "metadata": {},
   "outputs": [
    {
     "name": "stdout",
     "output_type": "stream",
     "text": [
      "\u001b[4l\u001b[0m polinomio  = \n",
      "\n",
      "  0.02 +40.01x +25.01x² +31x³ +7x⁴ +x⁵\n",
      "\n",
      "\u001b[0m"
     ]
    }
   ],
   "source": [
    "polinomio = poly(Amf,'x')"
   ]
  },
  {
   "cell_type": "markdown",
   "metadata": {},
   "source": [
    "Para encontrar os polos e zeros, diretamente da função transferência:"
   ]
  },
  {
   "cell_type": "code",
   "execution_count": 25,
   "metadata": {},
   "outputs": [
    {
     "name": "stdout",
     "output_type": "stream",
     "text": [
      "\u001b[4l\u001b[0m\n",
      "\u001b[0m"
     ]
    },
    {
     "data": {
      "image/svg+xml": "<svg xmlns:xlink=\"http://www.w3.org/1999/xlink\" xmlns=\"http://www.w3.org/2000/svg\" style=\"fill-opacity:1; color-rendering:auto; color-interpolation:auto; text-rendering:auto; stroke:black; stroke-linecap:square; stroke-miterlimit:10; shape-rendering:auto; stroke-opacity:1; fill:black; stroke-dasharray:none; font-weight:normal; stroke-width:1; font-family:'Dialog'; font-style:normal; stroke-linejoin:miter; font-size:12px; stroke-dashoffset:0; image-rendering:auto;\" width=\"554\" height=\"336\"><!--Generated by Scilab with Batik SVG Generator--><defs id=\"genericDefs\"/><g><defs id=\"defs1\"><font horiz-adv-x=\"60.0\" id=\"font1\"><font-face ascent=\"92.822266\" descent=\"23.583984\" units-per-em=\"100\" style=\"font-style:normal; font-family:sans-serif; font-weight:normal;\"/><missing-glyph horiz-adv-x=\"60.0\" d=\"M4.9844 -17.6719 L4.9844 70.5156 L54.9844 70.5156 L54.9844 -17.6719 L4.9844 -17.6719 ZM10.5938 -12.1094 L49.4219 -12.1094 L49.4219 64.8906 L10.5938 64.8906 L10.5938 -12.1094 Z\"/><glyph unicode=\"0\" horiz-adv-x=\"64.0\" d=\"M31.7812 66.4062 Q24.1719 66.4062 20.3281 58.9062 Q16.5 51.4219 16.5 36.375 Q16.5 21.3906 20.3281 13.8906 Q24.1719 6.3906 31.7812 6.3906 Q39.4531 6.3906 43.2812 13.8906 Q47.125 21.3906 47.125 36.375 Q47.125 51.4219 43.2812 58.9062 Q39.4531 66.4062 31.7812 66.4062 ZM31.7812 74.2188 Q44.0469 74.2188 50.5156 64.5156 Q56.9844 54.8281 56.9844 36.375 Q56.9844 17.9688 50.5156 8.2656 Q44.0469 -1.4219 31.7812 -1.4219 Q19.5312 -1.4219 13.0625 8.2656 Q6.5938 17.9688 6.5938 36.375 Q6.5938 54.8281 13.0625 64.5156 Q19.5312 74.2188 31.7812 74.2188 Z\"/><glyph unicode=\"1\" horiz-adv-x=\"64.0\" d=\"M12.4062 8.2969 L28.5156 8.2969 L28.5156 63.9219 L10.9844 60.4062 L10.9844 69.3906 L28.4219 72.9062 L38.2812 72.9062 L38.2812 8.2969 L54.3906 8.2969 L54.3906 0 L12.4062 0 L12.4062 8.2969 Z\"/><glyph unicode=\"-\" horiz-adv-x=\"36.0\" d=\"M4.8906 31.3906 L31.2031 31.3906 L31.2031 23.3906 L4.8906 23.3906 L4.8906 31.3906 Z\"/><glyph unicode=\"8\" horiz-adv-x=\"64.0\" d=\"M31.7812 34.625 Q24.75 34.625 20.7188 30.8594 Q16.7031 27.0938 16.7031 20.5156 Q16.7031 13.9219 20.7188 10.1562 Q24.75 6.3906 31.7812 6.3906 Q38.8125 6.3906 42.8594 10.1719 Q46.9219 13.9688 46.9219 20.5156 Q46.9219 27.0938 42.8906 30.8594 Q38.875 34.625 31.7812 34.625 ZM21.9219 38.8125 Q15.5781 40.375 12.0312 44.7188 Q8.5 49.0781 8.5 55.3281 Q8.5 64.0625 14.7188 69.1406 Q20.9531 74.2188 31.7812 74.2188 Q42.6719 74.2188 48.875 69.1406 Q55.0781 64.0625 55.0781 55.3281 Q55.0781 49.0781 51.5312 44.7188 Q48 40.375 41.7031 38.8125 Q48.8281 37.1562 52.7969 32.3125 Q56.7812 27.4844 56.7812 20.5156 Q56.7812 9.9062 50.3125 4.2344 Q43.8438 -1.4219 31.7812 -1.4219 Q19.7344 -1.4219 13.25 4.2344 Q6.7812 9.9062 6.7812 20.5156 Q6.7812 27.4844 10.7812 32.3125 Q14.7969 37.1562 21.9219 38.8125 ZM18.3125 54.3906 Q18.3125 48.7344 21.8438 45.5625 Q25.3906 42.3906 31.7812 42.3906 Q38.1406 42.3906 41.7188 45.5625 Q45.3125 48.7344 45.3125 54.3906 Q45.3125 60.0625 41.7188 63.2344 Q38.1406 66.4062 31.7812 66.4062 Q25.3906 66.4062 21.8438 63.2344 Q18.3125 60.0625 18.3125 54.3906 Z\"/><glyph unicode=\"6\" horiz-adv-x=\"64.0\" d=\"M33.0156 40.375 Q26.375 40.375 22.4844 35.8281 Q18.6094 31.2969 18.6094 23.3906 Q18.6094 15.5312 22.4844 10.9531 Q26.375 6.3906 33.0156 6.3906 Q39.6562 6.3906 43.5312 10.9531 Q47.4062 15.5312 47.4062 23.3906 Q47.4062 31.2969 43.5312 35.8281 Q39.6562 40.375 33.0156 40.375 ZM52.5938 71.2969 L52.5938 62.3125 Q48.875 64.0625 45.0938 64.9844 Q41.3125 65.9219 37.5938 65.9219 Q27.8281 65.9219 22.6719 59.3281 Q17.5312 52.7344 16.7969 39.4062 Q19.6719 43.6562 24.0156 45.9219 Q28.375 48.1875 33.5938 48.1875 Q44.5781 48.1875 50.9531 41.5156 Q57.3281 34.8594 57.3281 23.3906 Q57.3281 12.1562 50.6875 5.3594 Q44.0469 -1.4219 33.0156 -1.4219 Q20.3594 -1.4219 13.6719 8.2656 Q6.9844 17.9688 6.9844 36.375 Q6.9844 53.6562 15.1875 63.9375 Q23.3906 74.2188 37.2031 74.2188 Q40.9219 74.2188 44.7031 73.4844 Q48.4844 72.75 52.5938 71.2969 Z\"/><glyph unicode=\"4\" horiz-adv-x=\"64.0\" d=\"M37.7969 64.3125 L12.8906 25.3906 L37.7969 25.3906 L37.7969 64.3125 ZM35.2031 72.9062 L47.6094 72.9062 L47.6094 25.3906 L58.0156 25.3906 L58.0156 17.1875 L47.6094 17.1875 L47.6094 0 L37.7969 0 L37.7969 17.1875 L4.8906 17.1875 L4.8906 26.7031 L35.2031 72.9062 Z\"/><glyph unicode=\"2\" horiz-adv-x=\"64.0\" d=\"M19.1875 8.2969 L53.6094 8.2969 L53.6094 0 L7.3281 0 L7.3281 8.2969 Q12.9375 14.1094 22.625 23.8906 Q32.3281 33.6875 34.8125 36.5312 Q39.5469 41.8438 41.4219 45.5312 Q43.3125 49.2188 43.3125 52.7812 Q43.3125 58.5938 39.2344 62.25 Q35.1562 65.9219 28.6094 65.9219 Q23.9688 65.9219 18.8125 64.3125 Q13.6719 62.7031 7.8125 59.4219 L7.8125 69.3906 Q13.7656 71.7812 18.9375 73 Q24.125 74.2188 28.4219 74.2188 Q39.75 74.2188 46.4844 68.5469 Q53.2188 62.8906 53.2188 53.4219 Q53.2188 48.9219 51.5312 44.8906 Q49.8594 40.875 45.4062 35.4062 Q44.1875 33.9844 37.6406 27.2188 Q31.1094 20.4531 19.1875 8.2969 Z\"/><glyph unicode=\"l\" horiz-adv-x=\"28.0\" d=\"M9.4219 75.9844 L18.4062 75.9844 L18.4062 0 L9.4219 0 L9.4219 75.9844 Z\"/><glyph unicode=\"a\" horiz-adv-x=\"61.0\" d=\"M34.2812 27.4844 Q23.3906 27.4844 19.1875 25 Q14.9844 22.5156 14.9844 16.5 Q14.9844 11.7188 18.1406 8.9062 Q21.2969 6.1094 26.7031 6.1094 Q34.1875 6.1094 38.7031 11.4062 Q43.2188 16.7031 43.2188 25.4844 L43.2188 27.4844 L34.2812 27.4844 ZM52.2031 31.2031 L52.2031 0 L43.2188 0 L43.2188 8.2969 Q40.1406 3.3281 35.5469 0.9531 Q30.9531 -1.4219 24.3125 -1.4219 Q15.9219 -1.4219 10.9531 3.2969 Q6 8.0156 6 15.9219 Q6 25.1406 12.1719 29.8281 Q18.3594 34.5156 30.6094 34.5156 L43.2188 34.5156 L43.2188 35.4062 Q43.2188 41.6094 39.1406 45 Q35.0625 48.3906 27.6875 48.3906 Q23 48.3906 18.5469 47.2656 Q14.1094 46.1406 10.0156 43.8906 L10.0156 52.2031 Q14.9375 54.1094 19.5781 55.0469 Q24.2188 56 28.6094 56 Q40.4844 56 46.3438 49.8438 Q52.2031 43.7031 52.2031 31.2031 Z\"/><glyph unicode=\"e\" horiz-adv-x=\"62.0\" d=\"M56.2031 29.5938 L56.2031 25.2031 L14.8906 25.2031 Q15.4844 15.9219 20.4844 11.0625 Q25.4844 6.2031 34.4219 6.2031 Q39.5938 6.2031 44.4531 7.4688 Q49.3125 8.7344 54.1094 11.2812 L54.1094 2.7812 Q49.2656 0.7344 44.1875 -0.3438 Q39.1094 -1.4219 33.8906 -1.4219 Q20.7969 -1.4219 13.1562 6.1875 Q5.5156 13.8125 5.5156 26.8125 Q5.5156 40.2344 12.7656 48.1094 Q20.0156 56 32.3281 56 Q43.3594 56 49.7812 48.8906 Q56.2031 41.7969 56.2031 29.5938 ZM47.2188 32.2344 Q47.125 39.5938 43.0938 43.9844 Q39.0625 48.3906 32.4219 48.3906 Q24.9062 48.3906 20.3906 44.1406 Q15.875 39.8906 15.1875 32.1719 L47.2188 32.2344 Z\"/><glyph unicode=\"r\" horiz-adv-x=\"41.0\" d=\"M41.1094 46.2969 Q39.5938 47.1719 37.8125 47.5781 Q36.0312 48 33.8906 48 Q26.2656 48 22.1875 43.0469 Q18.1094 38.0938 18.1094 28.8125 L18.1094 0 L9.0781 0 L9.0781 54.6875 L18.1094 54.6875 L18.1094 46.1875 Q20.9531 51.1719 25.4844 53.5781 Q30.0312 56 36.5312 56 Q37.4531 56 38.5781 55.875 Q39.7031 55.7656 41.0625 55.5156 L41.1094 46.2969 Z\"/><glyph unicode=\" \" horiz-adv-x=\"32.0\" d=\"\"/><glyph unicode=\"o\" horiz-adv-x=\"61.0\" d=\"M30.6094 48.3906 Q23.3906 48.3906 19.1875 42.75 Q14.9844 37.1094 14.9844 27.2969 Q14.9844 17.4844 19.1562 11.8438 Q23.3438 6.2031 30.6094 6.2031 Q37.7969 6.2031 41.9844 11.8594 Q46.1875 17.5312 46.1875 27.2969 Q46.1875 37.0156 41.9844 42.7031 Q37.7969 48.3906 30.6094 48.3906 ZM30.6094 56 Q42.3281 56 49.0156 48.375 Q55.7188 40.7656 55.7188 27.2969 Q55.7188 13.875 49.0156 6.2188 Q42.3281 -1.4219 30.6094 -1.4219 Q18.8438 -1.4219 12.1719 6.2188 Q5.5156 13.875 5.5156 27.2969 Q5.5156 40.7656 12.1719 48.375 Q18.8438 56 30.6094 56 Z\"/><glyph unicode=\"x\" horiz-adv-x=\"59.0\" d=\"M54.8906 54.6875 L35.1094 28.0781 L55.9062 0 L45.3125 0 L29.3906 21.4844 L13.4844 0 L2.875 0 L24.125 28.6094 L4.6875 54.6875 L15.2812 54.6875 L29.7812 35.2031 L44.2812 54.6875 L54.8906 54.6875 Z\"/><glyph unicode=\"i\" horiz-adv-x=\"28.0\" d=\"M9.4219 54.6875 L18.4062 54.6875 L18.4062 0 L9.4219 0 L9.4219 54.6875 ZM9.4219 75.9844 L18.4062 75.9844 L18.4062 64.5938 L9.4219 64.5938 L9.4219 75.9844 Z\"/><glyph unicode=\"E\" horiz-adv-x=\"63.0\" d=\"M9.8125 72.9062 L55.9062 72.9062 L55.9062 64.5938 L19.6719 64.5938 L19.6719 43.0156 L54.3906 43.0156 L54.3906 34.7188 L19.6719 34.7188 L19.6719 8.2969 L56.7812 8.2969 L56.7812 0 L9.8125 0 L9.8125 72.9062 Z\"/><glyph unicode=\"á\" horiz-adv-x=\"61.0\" d=\"M34.2812 27.4844 Q23.3906 27.4844 19.1875 25 Q14.9844 22.5156 14.9844 16.5 Q14.9844 11.7188 18.1406 8.9062 Q21.2969 6.1094 26.7031 6.1094 Q34.1875 6.1094 38.7031 11.4062 Q43.2188 16.7031 43.2188 25.4844 L43.2188 27.4844 L34.2812 27.4844 ZM52.2031 31.2031 L52.2031 0 L43.2188 0 L43.2188 8.2969 Q40.1406 3.3281 35.5469 0.9531 Q30.9531 -1.4219 24.3125 -1.4219 Q15.9219 -1.4219 10.9531 3.2969 Q6 8.0156 6 15.9219 Q6 25.1406 12.1719 29.8281 Q18.3594 34.5156 30.6094 34.5156 L43.2188 34.5156 L43.2188 35.4062 Q43.2188 41.6094 39.1406 45 Q35.0625 48.3906 27.6875 48.3906 Q23 48.3906 18.5469 47.2656 Q14.1094 46.1406 10.0156 43.8906 L10.0156 52.2031 Q14.9375 54.1094 19.5781 55.0469 Q24.2188 56 28.6094 56 Q40.4844 56 46.3438 49.8438 Q52.2031 43.7031 52.2031 31.2031 ZM35.7812 79.9844 L45.5 79.9844 L29.5938 61.625 L22.1094 61.625 L35.7812 79.9844 Z\"/><glyph unicode=\"n\" horiz-adv-x=\"63.0\" d=\"M54.8906 33.0156 L54.8906 0 L45.9062 0 L45.9062 32.7188 Q45.9062 40.4844 42.875 44.3281 Q39.8438 48.1875 33.7969 48.1875 Q26.5156 48.1875 22.3125 43.5469 Q18.1094 38.9219 18.1094 30.9062 L18.1094 0 L9.0781 0 L9.0781 54.6875 L18.1094 54.6875 L18.1094 46.1875 Q21.3438 51.125 25.7031 53.5625 Q30.0781 56 35.7969 56 Q45.2188 56 50.0469 50.1719 Q54.8906 44.3438 54.8906 33.0156 Z\"/><glyph unicode=\"g\" horiz-adv-x=\"63.0\" d=\"M45.4062 27.9844 Q45.4062 37.75 41.375 43.1094 Q37.3594 48.4844 30.0781 48.4844 Q22.8594 48.4844 18.8281 43.1094 Q14.7969 37.75 14.7969 27.9844 Q14.7969 18.2656 18.8281 12.8906 Q22.8594 7.5156 30.0781 7.5156 Q37.3594 7.5156 41.375 12.8906 Q45.4062 18.2656 45.4062 27.9844 ZM54.3906 6.7812 Q54.3906 -7.1719 48.1875 -13.9844 Q42 -20.7969 29.2031 -20.7969 Q24.4688 -20.7969 20.2656 -20.0938 Q16.0625 -19.3906 12.1094 -17.9219 L12.1094 -9.1875 Q16.0625 -11.3281 19.9219 -12.3438 Q23.7812 -13.375 27.7812 -13.375 Q36.625 -13.375 41.0156 -8.7656 Q45.4062 -4.1562 45.4062 5.1719 L45.4062 9.625 Q42.625 4.7812 38.2812 2.3906 Q33.9375 0 27.875 0 Q17.8281 0 11.6719 7.6562 Q5.5156 15.3281 5.5156 27.9844 Q5.5156 40.6719 11.6719 48.3281 Q17.8281 56 27.875 56 Q33.9375 56 38.2812 53.6094 Q42.625 51.2188 45.4062 46.3906 L45.4062 54.6875 L54.3906 54.6875 L54.3906 6.7812 Z\"/><glyph unicode=\"m\" horiz-adv-x=\"97.0\" d=\"M52 44.1875 Q55.375 50.25 60.0625 53.125 Q64.75 56 71.0938 56 Q79.6406 56 84.2812 50.0156 Q88.9219 44.0469 88.9219 33.0156 L88.9219 0 L79.8906 0 L79.8906 32.7188 Q79.8906 40.5781 77.0938 44.375 Q74.3125 48.1875 68.6094 48.1875 Q61.625 48.1875 57.5625 43.5469 Q53.5156 38.9219 53.5156 30.9062 L53.5156 0 L44.4844 0 L44.4844 32.7188 Q44.4844 40.625 41.7031 44.4062 Q38.9219 48.1875 33.1094 48.1875 Q26.2188 48.1875 22.1562 43.5312 Q18.1094 38.875 18.1094 30.9062 L18.1094 0 L9.0781 0 L9.0781 54.6875 L18.1094 54.6875 L18.1094 46.1875 Q21.1875 51.2188 25.4844 53.6094 Q29.7812 56 35.6875 56 Q41.6562 56 45.8281 52.9688 Q50 49.9531 52 44.1875 Z\"/><glyph unicode=\"s\" horiz-adv-x=\"52.0\" d=\"M44.2812 53.0781 L44.2812 44.5781 Q40.4844 46.5312 36.375 47.5 Q32.2812 48.4844 27.875 48.4844 Q21.1875 48.4844 17.8438 46.4375 Q14.5 44.3906 14.5 40.2812 Q14.5 37.1562 16.8906 35.375 Q19.2812 33.5938 26.5156 31.9844 L29.5938 31.2969 Q39.1562 29.25 43.1875 25.5156 Q47.2188 21.7812 47.2188 15.0938 Q47.2188 7.4688 41.1875 3.0156 Q35.1562 -1.4219 24.6094 -1.4219 Q20.2188 -1.4219 15.4531 -0.5625 Q10.6875 0.2969 5.4219 2 L5.4219 11.2812 Q10.4062 8.6875 15.2344 7.3906 Q20.0625 6.1094 24.8125 6.1094 Q31.1562 6.1094 34.5625 8.2812 Q37.9844 10.4531 37.9844 14.4062 Q37.9844 18.0625 35.5156 20.0156 Q33.0625 21.9688 24.7031 23.7812 L21.5781 24.5156 Q13.2344 26.2656 9.5156 29.9062 Q5.8125 33.5469 5.8125 39.8906 Q5.8125 47.6094 11.2812 51.7969 Q16.75 56 26.8125 56 Q31.7812 56 36.1719 55.2656 Q40.5781 54.5469 44.2812 53.0781 Z\"/><glyph unicode=\"ó\" horiz-adv-x=\"61.0\" d=\"M30.6094 48.3906 Q23.3906 48.3906 19.1875 42.75 Q14.9844 37.1094 14.9844 27.2969 Q14.9844 17.4844 19.1562 11.8438 Q23.3438 6.2031 30.6094 6.2031 Q37.7969 6.2031 41.9844 11.8594 Q46.1875 17.5312 46.1875 27.2969 Q46.1875 37.0156 41.9844 42.7031 Q37.7969 48.3906 30.6094 48.3906 ZM30.6094 56 Q42.3281 56 49.0156 48.375 Q55.7188 40.7656 55.7188 27.2969 Q55.7188 13.875 49.0156 6.2188 Q42.3281 -1.4219 30.6094 -1.4219 Q18.8438 -1.4219 12.1719 6.2188 Q5.5156 13.875 5.5156 27.2969 Q5.5156 40.7656 12.1719 48.375 Q18.8438 56 30.6094 56 ZM37.3906 79.9844 L47.1094 79.9844 L31.2031 61.625 L23.7188 61.625 L37.3906 79.9844 Z\"/><glyph unicode=\"P\" horiz-adv-x=\"60.0\" d=\"M19.6719 64.7969 L19.6719 37.4062 L32.0781 37.4062 Q38.9688 37.4062 42.7188 40.9688 Q46.4844 44.5312 46.4844 51.125 Q46.4844 57.6719 42.7188 61.2344 Q38.9688 64.7969 32.0781 64.7969 L19.6719 64.7969 ZM9.8125 72.9062 L32.0781 72.9062 Q44.3438 72.9062 50.6094 67.3594 Q56.8906 61.8125 56.8906 51.125 Q56.8906 40.3281 50.6094 34.8125 Q44.3438 29.2969 32.0781 29.2969 L19.6719 29.2969 L19.6719 0 L9.8125 0 L9.8125 72.9062 Z\"/><glyph unicode=\"Z\" horiz-adv-x=\"69.0\" d=\"M5.6094 72.9062 L62.8906 72.9062 L62.8906 65.375 L16.7969 8.2969 L64.0156 8.2969 L64.0156 0 L4.5 0 L4.5 7.5156 L50.5938 64.5938 L5.6094 64.5938 L5.6094 72.9062 Z\"/><glyph unicode=\"ã\" horiz-adv-x=\"61.0\" d=\"M34.2812 27.4844 Q23.3906 27.4844 19.1875 25 Q14.9844 22.5156 14.9844 16.5 Q14.9844 11.7188 18.1406 8.9062 Q21.2969 6.1094 26.7031 6.1094 Q34.1875 6.1094 38.7031 11.4062 Q43.2188 16.7031 43.2188 25.4844 L43.2188 27.4844 L34.2812 27.4844 ZM52.2031 31.2031 L52.2031 0 L43.2188 0 L43.2188 8.2969 Q40.1406 3.3281 35.5469 0.9531 Q30.9531 -1.4219 24.3125 -1.4219 Q15.9219 -1.4219 10.9531 3.2969 Q6 8.0156 6 15.9219 Q6 25.1406 12.1719 29.8281 Q18.3594 34.5156 30.6094 34.5156 L43.2188 34.5156 L43.2188 35.4062 Q43.2188 41.6094 39.1406 45 Q35.0625 48.3906 27.6875 48.3906 Q23 48.3906 18.5469 47.2656 Q14.1094 46.1406 10.0156 43.8906 L10.0156 52.2031 Q14.9375 54.1094 19.5781 55.0469 Q24.2188 56 28.6094 56 Q40.4844 56 46.3438 49.8438 Q52.2031 43.7031 52.2031 31.2031 ZM28.8125 66.8906 L26.0156 69.5781 Q24.9531 70.5625 24.1406 71.0156 Q23.3438 71.4844 22.7031 71.4844 Q20.8438 71.4844 19.9688 69.7031 Q19.0938 67.9219 18.9844 63.9219 L12.8906 63.9219 Q12.9844 70.5156 15.4688 74.0938 Q17.9688 77.6875 22.4062 77.6875 Q24.2656 77.6875 25.8281 77 Q27.3906 76.3125 29.2031 74.7031 L31.9844 72.0156 Q33.0469 71.0469 33.8594 70.5781 Q34.6719 70.125 35.2969 70.125 Q37.1562 70.125 38.0312 71.9062 Q38.9062 73.6875 39.0156 77.6875 L45.1094 77.6875 Q45.0156 71.0938 42.5156 67.5 Q40.0312 63.9219 35.5938 63.9219 Q33.7344 63.9219 32.1719 64.5938 Q30.6094 65.2812 28.8125 66.8906 Z\"/><glyph unicode=\"t\" horiz-adv-x=\"39.0\" d=\"M18.3125 70.2188 L18.3125 54.6875 L36.8125 54.6875 L36.8125 47.7031 L18.3125 47.7031 L18.3125 18.0156 Q18.3125 11.3281 20.1406 9.4219 Q21.9688 7.5156 27.5938 7.5156 L36.8125 7.5156 L36.8125 0 L27.5938 0 Q17.1875 0 13.2344 3.875 Q9.2812 7.7656 9.2812 18.0156 L9.2812 47.7031 L2.6875 47.7031 L2.6875 54.6875 L9.2812 54.6875 L9.2812 70.2188 L18.3125 70.2188 Z\"/><glyph unicode=\"d\" horiz-adv-x=\"63.0\" d=\"M45.4062 46.3906 L45.4062 75.9844 L54.3906 75.9844 L54.3906 0 L45.4062 0 L45.4062 8.2031 Q42.5781 3.3281 38.25 0.9531 Q33.9375 -1.4219 27.875 -1.4219 Q17.9688 -1.4219 11.7344 6.4844 Q5.5156 14.4062 5.5156 27.2969 Q5.5156 40.1875 11.7344 48.0938 Q17.9688 56 27.875 56 Q33.9375 56 38.25 53.625 Q42.5781 51.2656 45.4062 46.3906 ZM14.7969 27.2969 Q14.7969 17.3906 18.875 11.75 Q22.9531 6.1094 30.0781 6.1094 Q37.2031 6.1094 41.2969 11.75 Q45.4062 17.3906 45.4062 27.2969 Q45.4062 37.2031 41.2969 42.8438 Q37.2031 48.4844 30.0781 48.4844 Q22.9531 48.4844 18.875 42.8438 Q14.7969 37.2031 14.7969 27.2969 Z\"/><glyph unicode=\"z\" horiz-adv-x=\"52.0\" d=\"M5.5156 54.6875 L48.1875 54.6875 L48.1875 46.4844 L14.4062 7.1719 L48.1875 7.1719 L48.1875 0 L4.2969 0 L4.2969 8.2031 L38.0938 47.5156 L5.5156 47.5156 L5.5156 54.6875 Z\"/></font></defs><g style=\"fill:white; text-rendering:optimizeLegibility; stroke:white;\"><rect x=\"0\" width=\"554\" height=\"336\" y=\"0\" style=\"stroke:none;\"/></g><g style=\"stroke-linecap:butt; fill:white; text-rendering:geometricPrecision; stroke-linejoin:bevel; shape-rendering:crispEdges; stroke:white; stroke-width:0;\"><path style=\"stroke:none;\" d=\"M484.75 42 L484.75 290 L69.25 42 Z\"/><path style=\"stroke:none;\" d=\"M484.75 290 L69.25 290 L69.25 42 Z\"/><path style=\"stroke:none;\" d=\"M484.75 42 L484.75 290 L484.75 290 Z\"/><path style=\"stroke:none;\" d=\"M69.25 42 L69.25 290 L69.25 290 Z\"/><path style=\"stroke:none;\" d=\"M484.75 42 L484.75 290 L69.25 42 Z\"/><path style=\"stroke:none;\" d=\"M484.75 290 L69.25 290 L69.25 42 Z\"/><path style=\"stroke:none;\" d=\"M484.75 42 L484.75 42 L484.75 290 Z\"/><path style=\"stroke:none;\" d=\"M69.25 42 L69.25 42 L69.25 290 Z\"/><path style=\"stroke:none;\" d=\"M484.75 42 L69.25 42 L484.75 42 Z\"/><path style=\"stroke:none;\" d=\"M69.25 42 L69.25 42 L484.75 42 Z\"/><path style=\"stroke:none;\" d=\"M484.75 290 L69.25 290 L484.75 290 Z\"/><path style=\"stroke:none;\" d=\"M69.25 290 L69.25 290 L484.75 290 Z\"/></g><g style=\"fill:rgb(190,190,190); text-rendering:geometricPrecision; stroke-dasharray:1,1; shape-rendering:crispEdges; stroke-linecap:butt; stroke:rgb(190,190,190);\"><path style=\"fill:none;\" d=\"M69.25 290 L69.25 42\"/><path style=\"fill:none;\" d=\"M69.25 290 L69.25 290\"/><path style=\"fill:none;\" d=\"M121.1875 290 L121.1875 42\"/><path style=\"fill:none;\" d=\"M121.1875 290 L121.1875 290\"/><path style=\"fill:none;\" d=\"M173.125 290 L173.125 42\"/><path style=\"fill:none;\" d=\"M173.125 290 L173.125 290\"/><path style=\"fill:none;\" d=\"M225.0625 290 L225.0625 42\"/><path style=\"fill:none;\" d=\"M225.0625 290 L225.0625 290\"/><path style=\"fill:none;\" d=\"M277 290 L277 42\"/><path style=\"fill:none;\" d=\"M277 290 L277 290\"/><path style=\"fill:none;\" d=\"M328.9375 290 L328.9375 42\"/><path style=\"fill:none;\" d=\"M328.9375 290 L328.9375 290\"/><path style=\"fill:none;\" d=\"M380.875 290 L380.875 42\"/><path style=\"fill:none;\" d=\"M380.875 290 L380.875 290\"/><path style=\"fill:none;\" d=\"M432.8125 290 L432.8125 42\"/><path style=\"fill:none;\" d=\"M432.8125 290 L432.8125 290\"/><path style=\"fill:none;\" d=\"M484.75 290 L484.75 42\"/><path style=\"fill:none;\" d=\"M484.75 290 L484.75 290\"/><path style=\"fill:none;\" d=\"M69.25 265.2 L484.75 265.2\"/><path style=\"fill:none;\" d=\"M69.25 265.2 L69.25 265.2\"/><path style=\"fill:none;\" d=\"M69.25 215.6 L484.75 215.6\"/><path style=\"fill:none;\" d=\"M69.25 215.6 L69.25 215.6\"/><path style=\"fill:none;\" d=\"M69.25 166 L484.75 166\"/><path style=\"fill:none;\" d=\"M69.25 166 L69.25 166\"/><path style=\"fill:none;\" d=\"M69.25 116.4 L484.75 116.4\"/><path style=\"fill:none;\" d=\"M69.25 116.4 L69.25 116.4\"/><path style=\"fill:none;\" d=\"M69.25 66.8 L484.75 66.8\"/><path style=\"fill:none;\" d=\"M69.25 66.8 L69.25 66.8\"/></g><g transform=\"translate(324.9375,299)\" style=\"font-size:10px; stroke-linecap:butt; text-rendering:geometricPrecision; font-family:sans-serif; stroke-linejoin:bevel; stroke-width:0;\"><text x=\"-0.6562\" xml:space=\"preserve\" y=\"9.2822\" style=\"stroke:none;\">0</text></g><g transform=\"translate(60.25,299)\" style=\"font-size:10px; stroke-linecap:butt; text-rendering:geometricPrecision; font-family:sans-serif; stroke-linejoin:bevel; stroke-width:0;\"><text x=\"-0.4844\" xml:space=\"preserve\" y=\"9.2822\" style=\"stroke:none;\">-10</text></g><g transform=\"translate(115.1875,299)\" style=\"font-size:10px; stroke-linecap:butt; text-rendering:geometricPrecision; font-family:sans-serif; stroke-linejoin:bevel; stroke-width:0;\"><text x=\"-0.4844\" xml:space=\"preserve\" y=\"9.2822\" style=\"stroke:none;\">-8</text></g><g transform=\"translate(167.125,299)\" style=\"font-size:10px; stroke-linecap:butt; text-rendering:geometricPrecision; font-family:sans-serif; stroke-linejoin:bevel; stroke-width:0;\"><text x=\"-0.4844\" xml:space=\"preserve\" y=\"9.2822\" style=\"stroke:none;\">-6</text></g><g transform=\"translate(219.0625,299)\" style=\"font-size:10px; stroke-linecap:butt; text-rendering:geometricPrecision; font-family:sans-serif; stroke-linejoin:bevel; stroke-width:0;\"><text x=\"-0.4844\" xml:space=\"preserve\" y=\"9.2822\" style=\"stroke:none;\">-4</text></g><g transform=\"translate(271.5,299)\" style=\"font-size:10px; stroke-linecap:butt; text-rendering:geometricPrecision; font-family:sans-serif; stroke-linejoin:bevel; stroke-width:0;\"><text x=\"-0.4844\" xml:space=\"preserve\" y=\"9.2822\" style=\"stroke:none;\">-2</text></g><g transform=\"translate(377.375,299)\" style=\"font-size:10px; stroke-linecap:butt; text-rendering:geometricPrecision; font-family:sans-serif; stroke-linejoin:bevel; stroke-width:0;\"><text x=\"-0.7344\" xml:space=\"preserve\" y=\"9.2822\" style=\"stroke:none;\">2</text></g><g transform=\"translate(428.8125,299)\" style=\"font-size:10px; stroke-linecap:butt; text-rendering:geometricPrecision; font-family:sans-serif; stroke-linejoin:bevel; stroke-width:0;\"><text x=\"-0.4844\" xml:space=\"preserve\" y=\"9.2822\" style=\"stroke:none;\">4</text></g><g transform=\"translate(480.75,299)\" style=\"font-size:10px; stroke-linecap:butt; text-rendering:geometricPrecision; font-family:sans-serif; stroke-linejoin:bevel; stroke-width:0;\"><text x=\"-0.7031\" xml:space=\"preserve\" y=\"9.2822\" style=\"stroke:none;\">6</text></g><g style=\"text-rendering:geometricPrecision; font-size:10px; shape-rendering:crispEdges; font-family:sans-serif; stroke-linecap:butt;\"><path style=\"fill:none;\" d=\"M69.25 290 L69.25 296\"/><path style=\"fill:none;\" d=\"M121.1875 290 L121.1875 296\"/><path style=\"fill:none;\" d=\"M173.125 290 L173.125 296\"/><path style=\"fill:none;\" d=\"M225.0625 290 L225.0625 296\"/><path style=\"fill:none;\" d=\"M277 290 L277 296\"/><path style=\"fill:none;\" d=\"M328.9375 290 L328.9375 296\"/><path style=\"fill:none;\" d=\"M380.875 290 L380.875 296\"/><path style=\"fill:none;\" d=\"M432.8125 290 L432.8125 296\"/><path style=\"fill:none;\" d=\"M484.75 290 L484.75 296\"/><path style=\"fill:none;\" d=\"M69.25 290 L69.25 293\"/><path style=\"fill:none;\" d=\"M95.2188 290 L95.2188 293\"/><path style=\"fill:none;\" d=\"M121.1875 290 L121.1875 293\"/><path style=\"fill:none;\" d=\"M147.1562 290 L147.1562 293\"/><path style=\"fill:none;\" d=\"M173.125 290 L173.125 293\"/><path style=\"fill:none;\" d=\"M199.0938 290 L199.0938 293\"/><path style=\"fill:none;\" d=\"M225.0625 290 L225.0625 293\"/><path style=\"fill:none;\" d=\"M251.0312 290 L251.0312 293\"/><path style=\"fill:none;\" d=\"M277 290 L277 293\"/><path style=\"fill:none;\" d=\"M302.9688 290 L302.9688 293\"/><path style=\"fill:none;\" d=\"M328.9375 290 L328.9375 293\"/><path style=\"fill:none;\" d=\"M354.9062 290 L354.9062 293\"/><path style=\"fill:none;\" d=\"M380.875 290 L380.875 293\"/><path style=\"fill:none;\" d=\"M406.8438 290 L406.8438 293\"/><path style=\"fill:none;\" d=\"M432.8125 290 L432.8125 293\"/><path style=\"fill:none;\" d=\"M458.7812 290 L458.7812 293\"/><path style=\"fill:none;\" d=\"M484.75 290 L484.75 293\"/><path style=\"fill:none;\" d=\"M484.75 290 L69.25 290\"/><text x=\"-0.6562\" y=\"9.2822\" transform=\"translate(52.25,159.5)\" style=\"stroke-linejoin:bevel; shape-rendering:auto; stroke:none; stroke-width:0;\" xml:space=\"preserve\">0</text></g><g transform=\"translate(48.25,258.7)\" style=\"font-size:10px; stroke-linecap:butt; text-rendering:geometricPrecision; font-family:sans-serif; stroke-linejoin:bevel; stroke-width:0;\"><text x=\"-0.4844\" xml:space=\"preserve\" y=\"9.2822\" style=\"stroke:none;\">-4</text></g><g transform=\"translate(49.25,209.1)\" style=\"font-size:10px; stroke-linecap:butt; text-rendering:geometricPrecision; font-family:sans-serif; stroke-linejoin:bevel; stroke-width:0;\"><text x=\"-0.4844\" xml:space=\"preserve\" y=\"9.2822\" style=\"stroke:none;\">-2</text></g><g transform=\"translate(53.25,109.9)\" style=\"font-size:10px; stroke-linecap:butt; text-rendering:geometricPrecision; font-family:sans-serif; stroke-linejoin:bevel; stroke-width:0;\"><text x=\"-0.7344\" xml:space=\"preserve\" y=\"9.2822\" style=\"stroke:none;\">2</text></g><g transform=\"translate(52.25,60.3)\" style=\"font-size:10px; stroke-linecap:butt; text-rendering:geometricPrecision; font-family:sans-serif; stroke-linejoin:bevel; stroke-width:0;\"><text x=\"-0.4844\" xml:space=\"preserve\" y=\"9.2822\" style=\"stroke:none;\">4</text></g><g style=\"text-rendering:geometricPrecision; font-size:10px; shape-rendering:crispEdges; font-family:sans-serif; stroke-linecap:butt;\"><path style=\"fill:none;\" d=\"M69.25 265.2 L63.25 265.2\"/><path style=\"fill:none;\" d=\"M69.25 215.6 L63.25 215.6\"/><path style=\"fill:none;\" d=\"M69.25 166 L63.25 166\"/><path style=\"fill:none;\" d=\"M69.25 116.4 L63.25 116.4\"/><path style=\"fill:none;\" d=\"M69.25 66.8 L63.25 66.8\"/><path style=\"fill:none;\" d=\"M69.25 290 L66.25 290\"/><path style=\"fill:none;\" d=\"M69.25 265.2 L66.25 265.2\"/><path style=\"fill:none;\" d=\"M69.25 240.4 L66.25 240.4\"/><path style=\"fill:none;\" d=\"M69.25 215.6 L66.25 215.6\"/><path style=\"fill:none;\" d=\"M69.25 190.8 L66.25 190.8\"/><path style=\"fill:none;\" d=\"M69.25 166 L66.25 166\"/><path style=\"fill:none;\" d=\"M69.25 141.2 L66.25 141.2\"/><path style=\"fill:none;\" d=\"M69.25 116.4 L66.25 116.4\"/><path style=\"fill:none;\" d=\"M69.25 91.6 L66.25 91.6\"/><path style=\"fill:none;\" d=\"M69.25 66.8 L66.25 66.8\"/><path style=\"fill:none;\" d=\"M69.25 42 L66.25 42\"/><path style=\"fill:none;\" d=\"M69.25 42 L69.25 290\"/></g><g transform=\"translate(248,315)\" style=\"text-rendering:geometricPrecision; stroke-width:0; font-family:sans-serif; stroke-linecap:butt; stroke-linejoin:bevel;\"><text x=\"0.8281\" xml:space=\"preserve\" y=\"13.1387\" style=\"stroke:none;\">Eixo real</text></g><g transform=\"translate(45.25,166) rotate(270) translate(-49,-19)\" style=\"text-rendering:geometricPrecision; stroke-width:0; font-family:sans-serif; stroke-linecap:butt; stroke-linejoin:bevel;\"><text x=\"0.8281\" xml:space=\"preserve\" y=\"13.1387\" style=\"stroke:none;\">Eixo imaginário</text></g><g transform=\"translate(328.9245,166)\" style=\"stroke-linecap:butt; fill:white; text-rendering:geometricPrecision; font-family:sans-serif; stroke-linejoin:bevel; stroke:white; stroke-width:0;\"><polygon style=\"stroke:none;\" points=\" -3 0 0 -3 3 0 0 3\"/></g><g style=\"text-rendering:geometricPrecision; font-family:sans-serif; stroke-linecap:butt;\" transform=\"translate(328.9245,166)\"><path style=\"fill:none;\" d=\"M-3 0 L0 -3 L3 0 L0 3 L-3 0\"/></g><g transform=\"translate(315.9531,133.1927)\" style=\"stroke-linecap:butt; fill:white; text-rendering:geometricPrecision; font-family:sans-serif; stroke-linejoin:bevel; stroke:white; stroke-width:0;\"><polygon style=\"stroke:none;\" points=\" -3 0 0 -3 3 0 0 3\"/></g><g style=\"text-rendering:geometricPrecision; font-family:sans-serif; stroke-linecap:butt;\" transform=\"translate(315.9531,133.1927)\"><path style=\"fill:none;\" d=\"M-3 0 L0 -3 L3 0 L0 3 L-3 0\"/></g><g transform=\"translate(315.9531,198.8073)\" style=\"stroke-linecap:butt; fill:white; text-rendering:geometricPrecision; font-family:sans-serif; stroke-linejoin:bevel; stroke:white; stroke-width:0;\"><polygon style=\"stroke:none;\" points=\" -3 0 0 -3 3 0 0 3\"/></g><g style=\"text-rendering:geometricPrecision; font-family:sans-serif; stroke-linecap:butt;\" transform=\"translate(315.9531,198.8073)\"><path style=\"fill:none;\" d=\"M-3 0 L0 -3 L3 0 L0 3 L-3 0\"/></g><g style=\"text-rendering:geometricPrecision; font-family:sans-serif; stroke-linecap:butt;\" transform=\"translate(245.6376,68.6679)\"><path style=\"fill:none;\" d=\"M-4 -4 L4 4\"/><path style=\"fill:none;\" d=\"M-4 4 L4 -4\"/></g><g style=\"text-rendering:geometricPrecision; font-family:sans-serif; stroke-linecap:butt;\" transform=\"translate(245.6376,263.3321)\"><path style=\"fill:none;\" d=\"M-4 -4 L4 4\"/><path style=\"fill:none;\" d=\"M-4 4 L4 -4\"/></g><g style=\"text-rendering:geometricPrecision; font-family:sans-serif; stroke-linecap:butt;\" transform=\"translate(321.3532,135.9164)\"><path style=\"fill:none;\" d=\"M-4 -4 L4 4\"/><path style=\"fill:none;\" d=\"M-4 4 L4 -4\"/></g><g style=\"text-rendering:geometricPrecision; font-family:sans-serif; stroke-linecap:butt;\" transform=\"translate(321.3532,196.0836)\"><path style=\"fill:none;\" d=\"M-4 -4 L4 4\"/><path style=\"fill:none;\" d=\"M-4 4 L4 -4\"/></g><g style=\"text-rendering:geometricPrecision; font-family:sans-serif; stroke-linecap:butt;\" transform=\"translate(328.9245,166)\"><path style=\"fill:none;\" d=\"M-4 -4 L4 4\"/><path style=\"fill:none;\" d=\"M-4 4 L4 -4\"/></g><g style=\"text-rendering:geometricPrecision; shape-rendering:crispEdges; font-family:sans-serif; stroke-linecap:butt;\"><path style=\"fill:none;\" d=\"M328.9375 273.0653 L328.9375 58.9347\"/><path style=\"fill:none;\" d=\"M69.25 290 L69.25 42 L69.25 42 L484.75 42 L484.75 290 L484.75 290 L69.25 290\"/><path style=\"fill:none;\" d=\"M484.75 42 L69.25 42\"/><path style=\"fill:none;\" d=\"M484.75 42 L484.75 290\"/><path style=\"fill:none;\" d=\"M484.75 42 L484.75 42\"/></g><g style=\"stroke-linecap:butt; fill:white; text-rendering:geometricPrecision; font-family:sans-serif; stroke-linejoin:bevel; shape-rendering:crispEdges; stroke:white; stroke-width:0;\"><path style=\"stroke:none;\" d=\"M389.425 81.44 L479.5562 81.44 L479.5562 44.48 Z\"/><path style=\"stroke:none;\" d=\"M389.425 81.44 L479.5562 44.48 L389.425 44.48 Z\"/></g><g style=\"text-rendering:geometricPrecision; shape-rendering:crispEdges; font-family:sans-serif; stroke-linecap:butt;\"><path style=\"fill:none;\" d=\"M389.425 81.44 L479.5562 81.44\"/><path style=\"fill:none;\" d=\"M479.5562 81.44 L479.5562 44.48\"/><path style=\"fill:none;\" d=\"M479.5562 44.48 L389.425 44.48\"/><path style=\"fill:none;\" d=\"M389.425 44.48 L389.425 81.44\"/></g><g transform=\"translate(394.6187,69.96)\" style=\"stroke-linecap:butt; fill:white; text-rendering:geometricPrecision; font-family:sans-serif; stroke-linejoin:bevel; stroke:white; stroke-width:0;\"><polygon style=\"stroke:none;\" points=\" -3 0 0 -3 3 0 0 3\"/></g><g style=\"text-rendering:geometricPrecision; font-family:sans-serif; stroke-linecap:butt;\" transform=\"translate(394.6187,69.96)\"><path style=\"fill:none;\" d=\"M-3 0 L0 -3 L3 0 L0 3 L-3 0\"/></g><g transform=\"translate(415.3937,69.96)\" style=\"stroke-linecap:butt; fill:white; text-rendering:geometricPrecision; font-family:sans-serif; stroke-linejoin:bevel; stroke:white; stroke-width:0;\"><polygon style=\"stroke:none;\" points=\" -3 0 0 -3 3 0 0 3\"/></g><g style=\"text-rendering:geometricPrecision; font-family:sans-serif; stroke-linecap:butt;\" transform=\"translate(415.3937,69.96)\"><path style=\"fill:none;\" d=\"M-3 0 L0 -3 L3 0 L0 3 L-3 0\"/></g><g transform=\"translate(436.1687,69.96)\" style=\"stroke-linecap:butt; fill:white; text-rendering:geometricPrecision; font-family:sans-serif; stroke-linejoin:bevel; stroke:white; stroke-width:0;\"><polygon style=\"stroke:none;\" points=\" -3 0 0 -3 3 0 0 3\"/></g><g style=\"text-rendering:geometricPrecision; font-family:sans-serif; stroke-linecap:butt;\" transform=\"translate(436.1687,69.96)\"><path style=\"fill:none;\" d=\"M-3 0 L0 -3 L3 0 L0 3 L-3 0\"/></g><g style=\"text-rendering:geometricPrecision; font-family:sans-serif; stroke-linecap:butt;\" transform=\"translate(394.6187,55.96)\"><path style=\"fill:none;\" d=\"M-4 -4 L4 4\"/><path style=\"fill:none;\" d=\"M-4 4 L4 -4\"/></g><g style=\"text-rendering:geometricPrecision; font-family:sans-serif; stroke-linecap:butt;\" transform=\"translate(415.3937,55.96)\"><path style=\"fill:none;\" d=\"M-4 -4 L4 4\"/><path style=\"fill:none;\" d=\"M-4 4 L4 -4\"/></g><g style=\"text-rendering:geometricPrecision; font-family:sans-serif; stroke-linecap:butt;\" transform=\"translate(436.1687,55.96)\"><path style=\"fill:none;\" d=\"M-4 -4 L4 4\"/><path style=\"fill:none;\" d=\"M-4 4 L4 -4\"/></g><g transform=\"translate(441.3625,46.96)\" style=\"stroke-linecap:butt; fill:white; text-rendering:geometricPrecision; font-family:sans-serif; stroke-linejoin:bevel; stroke:white; stroke-width:0;\"><rect x=\"0\" width=\"33\" height=\"32\" y=\"0\" style=\"stroke:none;\"/><text x=\"1.0156\" y=\"11.2822\" style=\"fill:black; font-size:10px; stroke:none;\" xml:space=\"preserve\">Pólos</text><text x=\"1.5469\" y=\"26.2822\" style=\"fill:black; font-size:10px; stroke:none;\" xml:space=\"preserve\">Zeros</text></g><g transform=\"translate(173,12)\" style=\"font-size:14px; stroke-linecap:butt; text-rendering:geometricPrecision; font-family:sans-serif; stroke-linejoin:bevel; stroke-width:0;\"><text x=\"0.625\" xml:space=\"preserve\" y=\"14.9951\" style=\"stroke:none;\">Pólos e zeros de transmissão</text></g></g></svg>",
      "text/plain": [
       "<IPython.core.display.SVG object>"
      ]
     },
     "metadata": {},
     "output_type": "display_data"
    }
   ],
   "source": [
    "plzr(MF) // Também pode ser feito usando ssMF"
   ]
  },
  {
   "cell_type": "code",
   "execution_count": 26,
   "metadata": {},
   "outputs": [
    {
     "name": "stdout",
     "output_type": "stream",
     "text": [
      "\u001b[4l\u001b[0m poles  = \n",
      "\n",
      "  -3.2076964 + 3.9246816i\n",
      "  -3.2076964 - 3.9246816i\n",
      "  -0.2920536 + 1.213048i \n",
      "  -0.2920536 - 1.213048i \n",
      "  -0.0005    + 0.i       \n",
      "\n",
      "\u001b[0m\u001b[4l\u001b[0m zero  = \n",
      "\n",
      "  -0.5    + 1.3228757i\n",
      "  -0.5    - 1.3228757i\n",
      "  -0.0005 + 0.i       \n",
      "\n",
      "\u001b[0m"
     ]
    }
   ],
   "source": [
    "poles = roots(MF.den)\n",
    "zero = roots(MF.num)"
   ]
  },
  {
   "cell_type": "markdown",
   "metadata": {},
   "source": [
    "Para verificar estabilidade da função transferência:"
   ]
  },
  {
   "cell_type": "code",
   "execution_count": 27,
   "metadata": {},
   "outputs": [
    {
     "name": "stdout",
     "output_type": "stream",
     "text": [
      "\u001b[4l\u001b[0m r  = \n",
      "\n",
      "   1.          31.         40.01\n",
      "   7.          25.01       0.02 \n",
      "   27.427143   40.007143   0.   \n",
      "   14.799312   0.02        0.   \n",
      "   39.970077   0.          0.   \n",
      "   0.02        0.          0.   \n",
      "\n",
      "\u001b[0m\u001b[4l\u001b[0m\n",
      "\u001b[0m\u001b[4l\u001b[0m ans  =\n",
      "\n",
      "   1.\n",
      "\n",
      "\u001b[0m"
     ]
    }
   ],
   "source": [
    "r = routh_t(polinomio)\n",
    "\n",
    "(sign(prod(sign(r(:,1))+1))+1)/2"
   ]
  },
  {
   "cell_type": "markdown",
   "metadata": {},
   "source": [
    "Para ver o mapa de pólos e zeros:"
   ]
  },
  {
   "cell_type": "code",
   "execution_count": 28,
   "metadata": {},
   "outputs": [
    {
     "name": "stdout",
     "output_type": "stream",
     "text": [
      "\u001b[4l\u001b[0m\n",
      "\u001b[0m"
     ]
    },
    {
     "data": {
      "image/svg+xml": "<svg xmlns:xlink=\"http://www.w3.org/1999/xlink\" xmlns=\"http://www.w3.org/2000/svg\" style=\"fill-opacity:1; color-rendering:auto; color-interpolation:auto; text-rendering:auto; stroke:black; stroke-linecap:square; stroke-miterlimit:10; shape-rendering:auto; stroke-opacity:1; fill:black; stroke-dasharray:none; font-weight:normal; stroke-width:1; font-family:'Dialog'; font-style:normal; stroke-linejoin:miter; font-size:12px; stroke-dashoffset:0; image-rendering:auto;\" width=\"554\" height=\"336\"><!--Generated by Scilab with Batik SVG Generator--><defs id=\"genericDefs\"/><g><defs id=\"defs1\"><font horiz-adv-x=\"60.0\" id=\"font1\"><font-face ascent=\"92.822266\" descent=\"23.583984\" units-per-em=\"100\" style=\"font-style:normal; font-family:sans-serif; font-weight:normal;\"/><missing-glyph horiz-adv-x=\"60.0\" d=\"M4.9844 -17.6719 L4.9844 70.5156 L54.9844 70.5156 L54.9844 -17.6719 L4.9844 -17.6719 ZM10.5938 -12.1094 L49.4219 -12.1094 L49.4219 64.8906 L10.5938 64.8906 L10.5938 -12.1094 Z\"/><glyph unicode=\"0\" horiz-adv-x=\"64.0\" d=\"M31.7812 66.4062 Q24.1719 66.4062 20.3281 58.9062 Q16.5 51.4219 16.5 36.375 Q16.5 21.3906 20.3281 13.8906 Q24.1719 6.3906 31.7812 6.3906 Q39.4531 6.3906 43.2812 13.8906 Q47.125 21.3906 47.125 36.375 Q47.125 51.4219 43.2812 58.9062 Q39.4531 66.4062 31.7812 66.4062 ZM31.7812 74.2188 Q44.0469 74.2188 50.5156 64.5156 Q56.9844 54.8281 56.9844 36.375 Q56.9844 17.9688 50.5156 8.2656 Q44.0469 -1.4219 31.7812 -1.4219 Q19.5312 -1.4219 13.0625 8.2656 Q6.5938 17.9688 6.5938 36.375 Q6.5938 54.8281 13.0625 64.5156 Q19.5312 74.2188 31.7812 74.2188 Z\"/><glyph unicode=\"1\" horiz-adv-x=\"64.0\" d=\"M12.4062 8.2969 L28.5156 8.2969 L28.5156 63.9219 L10.9844 60.4062 L10.9844 69.3906 L28.4219 72.9062 L38.2812 72.9062 L38.2812 8.2969 L54.3906 8.2969 L54.3906 0 L12.4062 0 L12.4062 8.2969 Z\"/><glyph unicode=\"-\" horiz-adv-x=\"36.0\" d=\"M4.8906 31.3906 L31.2031 31.3906 L31.2031 23.3906 L4.8906 23.3906 L4.8906 31.3906 Z\"/><glyph unicode=\"8\" horiz-adv-x=\"64.0\" d=\"M31.7812 34.625 Q24.75 34.625 20.7188 30.8594 Q16.7031 27.0938 16.7031 20.5156 Q16.7031 13.9219 20.7188 10.1562 Q24.75 6.3906 31.7812 6.3906 Q38.8125 6.3906 42.8594 10.1719 Q46.9219 13.9688 46.9219 20.5156 Q46.9219 27.0938 42.8906 30.8594 Q38.875 34.625 31.7812 34.625 ZM21.9219 38.8125 Q15.5781 40.375 12.0312 44.7188 Q8.5 49.0781 8.5 55.3281 Q8.5 64.0625 14.7188 69.1406 Q20.9531 74.2188 31.7812 74.2188 Q42.6719 74.2188 48.875 69.1406 Q55.0781 64.0625 55.0781 55.3281 Q55.0781 49.0781 51.5312 44.7188 Q48 40.375 41.7031 38.8125 Q48.8281 37.1562 52.7969 32.3125 Q56.7812 27.4844 56.7812 20.5156 Q56.7812 9.9062 50.3125 4.2344 Q43.8438 -1.4219 31.7812 -1.4219 Q19.7344 -1.4219 13.25 4.2344 Q6.7812 9.9062 6.7812 20.5156 Q6.7812 27.4844 10.7812 32.3125 Q14.7969 37.1562 21.9219 38.8125 ZM18.3125 54.3906 Q18.3125 48.7344 21.8438 45.5625 Q25.3906 42.3906 31.7812 42.3906 Q38.1406 42.3906 41.7188 45.5625 Q45.3125 48.7344 45.3125 54.3906 Q45.3125 60.0625 41.7188 63.2344 Q38.1406 66.4062 31.7812 66.4062 Q25.3906 66.4062 21.8438 63.2344 Q18.3125 60.0625 18.3125 54.3906 Z\"/><glyph unicode=\"6\" horiz-adv-x=\"64.0\" d=\"M33.0156 40.375 Q26.375 40.375 22.4844 35.8281 Q18.6094 31.2969 18.6094 23.3906 Q18.6094 15.5312 22.4844 10.9531 Q26.375 6.3906 33.0156 6.3906 Q39.6562 6.3906 43.5312 10.9531 Q47.4062 15.5312 47.4062 23.3906 Q47.4062 31.2969 43.5312 35.8281 Q39.6562 40.375 33.0156 40.375 ZM52.5938 71.2969 L52.5938 62.3125 Q48.875 64.0625 45.0938 64.9844 Q41.3125 65.9219 37.5938 65.9219 Q27.8281 65.9219 22.6719 59.3281 Q17.5312 52.7344 16.7969 39.4062 Q19.6719 43.6562 24.0156 45.9219 Q28.375 48.1875 33.5938 48.1875 Q44.5781 48.1875 50.9531 41.5156 Q57.3281 34.8594 57.3281 23.3906 Q57.3281 12.1562 50.6875 5.3594 Q44.0469 -1.4219 33.0156 -1.4219 Q20.3594 -1.4219 13.6719 8.2656 Q6.9844 17.9688 6.9844 36.375 Q6.9844 53.6562 15.1875 63.9375 Q23.3906 74.2188 37.2031 74.2188 Q40.9219 74.2188 44.7031 73.4844 Q48.4844 72.75 52.5938 71.2969 Z\"/><glyph unicode=\"4\" horiz-adv-x=\"64.0\" d=\"M37.7969 64.3125 L12.8906 25.3906 L37.7969 25.3906 L37.7969 64.3125 ZM35.2031 72.9062 L47.6094 72.9062 L47.6094 25.3906 L58.0156 25.3906 L58.0156 17.1875 L47.6094 17.1875 L47.6094 0 L37.7969 0 L37.7969 17.1875 L4.8906 17.1875 L4.8906 26.7031 L35.2031 72.9062 Z\"/><glyph unicode=\"2\" horiz-adv-x=\"64.0\" d=\"M19.1875 8.2969 L53.6094 8.2969 L53.6094 0 L7.3281 0 L7.3281 8.2969 Q12.9375 14.1094 22.625 23.8906 Q32.3281 33.6875 34.8125 36.5312 Q39.5469 41.8438 41.4219 45.5312 Q43.3125 49.2188 43.3125 52.7812 Q43.3125 58.5938 39.2344 62.25 Q35.1562 65.9219 28.6094 65.9219 Q23.9688 65.9219 18.8125 64.3125 Q13.6719 62.7031 7.8125 59.4219 L7.8125 69.3906 Q13.7656 71.7812 18.9375 73 Q24.125 74.2188 28.4219 74.2188 Q39.75 74.2188 46.4844 68.5469 Q53.2188 62.8906 53.2188 53.4219 Q53.2188 48.9219 51.5312 44.8906 Q49.8594 40.875 45.4062 35.4062 Q44.1875 33.9844 37.6406 27.2188 Q31.1094 20.4531 19.1875 8.2969 Z\"/><glyph unicode=\"l\" horiz-adv-x=\"28.0\" d=\"M9.4219 75.9844 L18.4062 75.9844 L18.4062 0 L9.4219 0 L9.4219 75.9844 Z\"/><glyph unicode=\"a\" horiz-adv-x=\"61.0\" d=\"M34.2812 27.4844 Q23.3906 27.4844 19.1875 25 Q14.9844 22.5156 14.9844 16.5 Q14.9844 11.7188 18.1406 8.9062 Q21.2969 6.1094 26.7031 6.1094 Q34.1875 6.1094 38.7031 11.4062 Q43.2188 16.7031 43.2188 25.4844 L43.2188 27.4844 L34.2812 27.4844 ZM52.2031 31.2031 L52.2031 0 L43.2188 0 L43.2188 8.2969 Q40.1406 3.3281 35.5469 0.9531 Q30.9531 -1.4219 24.3125 -1.4219 Q15.9219 -1.4219 10.9531 3.2969 Q6 8.0156 6 15.9219 Q6 25.1406 12.1719 29.8281 Q18.3594 34.5156 30.6094 34.5156 L43.2188 34.5156 L43.2188 35.4062 Q43.2188 41.6094 39.1406 45 Q35.0625 48.3906 27.6875 48.3906 Q23 48.3906 18.5469 47.2656 Q14.1094 46.1406 10.0156 43.8906 L10.0156 52.2031 Q14.9375 54.1094 19.5781 55.0469 Q24.2188 56 28.6094 56 Q40.4844 56 46.3438 49.8438 Q52.2031 43.7031 52.2031 31.2031 Z\"/><glyph unicode=\"e\" horiz-adv-x=\"62.0\" d=\"M56.2031 29.5938 L56.2031 25.2031 L14.8906 25.2031 Q15.4844 15.9219 20.4844 11.0625 Q25.4844 6.2031 34.4219 6.2031 Q39.5938 6.2031 44.4531 7.4688 Q49.3125 8.7344 54.1094 11.2812 L54.1094 2.7812 Q49.2656 0.7344 44.1875 -0.3438 Q39.1094 -1.4219 33.8906 -1.4219 Q20.7969 -1.4219 13.1562 6.1875 Q5.5156 13.8125 5.5156 26.8125 Q5.5156 40.2344 12.7656 48.1094 Q20.0156 56 32.3281 56 Q43.3594 56 49.7812 48.8906 Q56.2031 41.7969 56.2031 29.5938 ZM47.2188 32.2344 Q47.125 39.5938 43.0938 43.9844 Q39.0625 48.3906 32.4219 48.3906 Q24.9062 48.3906 20.3906 44.1406 Q15.875 39.8906 15.1875 32.1719 L47.2188 32.2344 Z\"/><glyph unicode=\"r\" horiz-adv-x=\"41.0\" d=\"M41.1094 46.2969 Q39.5938 47.1719 37.8125 47.5781 Q36.0312 48 33.8906 48 Q26.2656 48 22.1875 43.0469 Q18.1094 38.0938 18.1094 28.8125 L18.1094 0 L9.0781 0 L9.0781 54.6875 L18.1094 54.6875 L18.1094 46.1875 Q20.9531 51.1719 25.4844 53.5781 Q30.0312 56 36.5312 56 Q37.4531 56 38.5781 55.875 Q39.7031 55.7656 41.0625 55.5156 L41.1094 46.2969 Z\"/><glyph unicode=\" \" horiz-adv-x=\"32.0\" d=\"\"/><glyph unicode=\"o\" horiz-adv-x=\"61.0\" d=\"M30.6094 48.3906 Q23.3906 48.3906 19.1875 42.75 Q14.9844 37.1094 14.9844 27.2969 Q14.9844 17.4844 19.1562 11.8438 Q23.3438 6.2031 30.6094 6.2031 Q37.7969 6.2031 41.9844 11.8594 Q46.1875 17.5312 46.1875 27.2969 Q46.1875 37.0156 41.9844 42.7031 Q37.7969 48.3906 30.6094 48.3906 ZM30.6094 56 Q42.3281 56 49.0156 48.375 Q55.7188 40.7656 55.7188 27.2969 Q55.7188 13.875 49.0156 6.2188 Q42.3281 -1.4219 30.6094 -1.4219 Q18.8438 -1.4219 12.1719 6.2188 Q5.5156 13.875 5.5156 27.2969 Q5.5156 40.7656 12.1719 48.375 Q18.8438 56 30.6094 56 Z\"/><glyph unicode=\"x\" horiz-adv-x=\"59.0\" d=\"M54.8906 54.6875 L35.1094 28.0781 L55.9062 0 L45.3125 0 L29.3906 21.4844 L13.4844 0 L2.875 0 L24.125 28.6094 L4.6875 54.6875 L15.2812 54.6875 L29.7812 35.2031 L44.2812 54.6875 L54.8906 54.6875 Z\"/><glyph unicode=\"i\" horiz-adv-x=\"28.0\" d=\"M9.4219 54.6875 L18.4062 54.6875 L18.4062 0 L9.4219 0 L9.4219 54.6875 ZM9.4219 75.9844 L18.4062 75.9844 L18.4062 64.5938 L9.4219 64.5938 L9.4219 75.9844 Z\"/><glyph unicode=\"E\" horiz-adv-x=\"63.0\" d=\"M9.8125 72.9062 L55.9062 72.9062 L55.9062 64.5938 L19.6719 64.5938 L19.6719 43.0156 L54.3906 43.0156 L54.3906 34.7188 L19.6719 34.7188 L19.6719 8.2969 L56.7812 8.2969 L56.7812 0 L9.8125 0 L9.8125 72.9062 Z\"/><glyph unicode=\"á\" horiz-adv-x=\"61.0\" d=\"M34.2812 27.4844 Q23.3906 27.4844 19.1875 25 Q14.9844 22.5156 14.9844 16.5 Q14.9844 11.7188 18.1406 8.9062 Q21.2969 6.1094 26.7031 6.1094 Q34.1875 6.1094 38.7031 11.4062 Q43.2188 16.7031 43.2188 25.4844 L43.2188 27.4844 L34.2812 27.4844 ZM52.2031 31.2031 L52.2031 0 L43.2188 0 L43.2188 8.2969 Q40.1406 3.3281 35.5469 0.9531 Q30.9531 -1.4219 24.3125 -1.4219 Q15.9219 -1.4219 10.9531 3.2969 Q6 8.0156 6 15.9219 Q6 25.1406 12.1719 29.8281 Q18.3594 34.5156 30.6094 34.5156 L43.2188 34.5156 L43.2188 35.4062 Q43.2188 41.6094 39.1406 45 Q35.0625 48.3906 27.6875 48.3906 Q23 48.3906 18.5469 47.2656 Q14.1094 46.1406 10.0156 43.8906 L10.0156 52.2031 Q14.9375 54.1094 19.5781 55.0469 Q24.2188 56 28.6094 56 Q40.4844 56 46.3438 49.8438 Q52.2031 43.7031 52.2031 31.2031 ZM35.7812 79.9844 L45.5 79.9844 L29.5938 61.625 L22.1094 61.625 L35.7812 79.9844 Z\"/><glyph unicode=\"n\" horiz-adv-x=\"63.0\" d=\"M54.8906 33.0156 L54.8906 0 L45.9062 0 L45.9062 32.7188 Q45.9062 40.4844 42.875 44.3281 Q39.8438 48.1875 33.7969 48.1875 Q26.5156 48.1875 22.3125 43.5469 Q18.1094 38.9219 18.1094 30.9062 L18.1094 0 L9.0781 0 L9.0781 54.6875 L18.1094 54.6875 L18.1094 46.1875 Q21.3438 51.125 25.7031 53.5625 Q30.0781 56 35.7969 56 Q45.2188 56 50.0469 50.1719 Q54.8906 44.3438 54.8906 33.0156 Z\"/><glyph unicode=\"g\" horiz-adv-x=\"63.0\" d=\"M45.4062 27.9844 Q45.4062 37.75 41.375 43.1094 Q37.3594 48.4844 30.0781 48.4844 Q22.8594 48.4844 18.8281 43.1094 Q14.7969 37.75 14.7969 27.9844 Q14.7969 18.2656 18.8281 12.8906 Q22.8594 7.5156 30.0781 7.5156 Q37.3594 7.5156 41.375 12.8906 Q45.4062 18.2656 45.4062 27.9844 ZM54.3906 6.7812 Q54.3906 -7.1719 48.1875 -13.9844 Q42 -20.7969 29.2031 -20.7969 Q24.4688 -20.7969 20.2656 -20.0938 Q16.0625 -19.3906 12.1094 -17.9219 L12.1094 -9.1875 Q16.0625 -11.3281 19.9219 -12.3438 Q23.7812 -13.375 27.7812 -13.375 Q36.625 -13.375 41.0156 -8.7656 Q45.4062 -4.1562 45.4062 5.1719 L45.4062 9.625 Q42.625 4.7812 38.2812 2.3906 Q33.9375 0 27.875 0 Q17.8281 0 11.6719 7.6562 Q5.5156 15.3281 5.5156 27.9844 Q5.5156 40.6719 11.6719 48.3281 Q17.8281 56 27.875 56 Q33.9375 56 38.2812 53.6094 Q42.625 51.2188 45.4062 46.3906 L45.4062 54.6875 L54.3906 54.6875 L54.3906 6.7812 Z\"/><glyph unicode=\"m\" horiz-adv-x=\"97.0\" d=\"M52 44.1875 Q55.375 50.25 60.0625 53.125 Q64.75 56 71.0938 56 Q79.6406 56 84.2812 50.0156 Q88.9219 44.0469 88.9219 33.0156 L88.9219 0 L79.8906 0 L79.8906 32.7188 Q79.8906 40.5781 77.0938 44.375 Q74.3125 48.1875 68.6094 48.1875 Q61.625 48.1875 57.5625 43.5469 Q53.5156 38.9219 53.5156 30.9062 L53.5156 0 L44.4844 0 L44.4844 32.7188 Q44.4844 40.625 41.7031 44.4062 Q38.9219 48.1875 33.1094 48.1875 Q26.2188 48.1875 22.1562 43.5312 Q18.1094 38.875 18.1094 30.9062 L18.1094 0 L9.0781 0 L9.0781 54.6875 L18.1094 54.6875 L18.1094 46.1875 Q21.1875 51.2188 25.4844 53.6094 Q29.7812 56 35.6875 56 Q41.6562 56 45.8281 52.9688 Q50 49.9531 52 44.1875 Z\"/><glyph unicode=\"s\" horiz-adv-x=\"52.0\" d=\"M44.2812 53.0781 L44.2812 44.5781 Q40.4844 46.5312 36.375 47.5 Q32.2812 48.4844 27.875 48.4844 Q21.1875 48.4844 17.8438 46.4375 Q14.5 44.3906 14.5 40.2812 Q14.5 37.1562 16.8906 35.375 Q19.2812 33.5938 26.5156 31.9844 L29.5938 31.2969 Q39.1562 29.25 43.1875 25.5156 Q47.2188 21.7812 47.2188 15.0938 Q47.2188 7.4688 41.1875 3.0156 Q35.1562 -1.4219 24.6094 -1.4219 Q20.2188 -1.4219 15.4531 -0.5625 Q10.6875 0.2969 5.4219 2 L5.4219 11.2812 Q10.4062 8.6875 15.2344 7.3906 Q20.0625 6.1094 24.8125 6.1094 Q31.1562 6.1094 34.5625 8.2812 Q37.9844 10.4531 37.9844 14.4062 Q37.9844 18.0625 35.5156 20.0156 Q33.0625 21.9688 24.7031 23.7812 L21.5781 24.5156 Q13.2344 26.2656 9.5156 29.9062 Q5.8125 33.5469 5.8125 39.8906 Q5.8125 47.6094 11.2812 51.7969 Q16.75 56 26.8125 56 Q31.7812 56 36.1719 55.2656 Q40.5781 54.5469 44.2812 53.0781 Z\"/><glyph unicode=\"ó\" horiz-adv-x=\"61.0\" d=\"M30.6094 48.3906 Q23.3906 48.3906 19.1875 42.75 Q14.9844 37.1094 14.9844 27.2969 Q14.9844 17.4844 19.1562 11.8438 Q23.3438 6.2031 30.6094 6.2031 Q37.7969 6.2031 41.9844 11.8594 Q46.1875 17.5312 46.1875 27.2969 Q46.1875 37.0156 41.9844 42.7031 Q37.7969 48.3906 30.6094 48.3906 ZM30.6094 56 Q42.3281 56 49.0156 48.375 Q55.7188 40.7656 55.7188 27.2969 Q55.7188 13.875 49.0156 6.2188 Q42.3281 -1.4219 30.6094 -1.4219 Q18.8438 -1.4219 12.1719 6.2188 Q5.5156 13.875 5.5156 27.2969 Q5.5156 40.7656 12.1719 48.375 Q18.8438 56 30.6094 56 ZM37.3906 79.9844 L47.1094 79.9844 L31.2031 61.625 L23.7188 61.625 L37.3906 79.9844 Z\"/><glyph unicode=\"P\" horiz-adv-x=\"60.0\" d=\"M19.6719 64.7969 L19.6719 37.4062 L32.0781 37.4062 Q38.9688 37.4062 42.7188 40.9688 Q46.4844 44.5312 46.4844 51.125 Q46.4844 57.6719 42.7188 61.2344 Q38.9688 64.7969 32.0781 64.7969 L19.6719 64.7969 ZM9.8125 72.9062 L32.0781 72.9062 Q44.3438 72.9062 50.6094 67.3594 Q56.8906 61.8125 56.8906 51.125 Q56.8906 40.3281 50.6094 34.8125 Q44.3438 29.2969 32.0781 29.2969 L19.6719 29.2969 L19.6719 0 L9.8125 0 L9.8125 72.9062 Z\"/><glyph unicode=\"Z\" horiz-adv-x=\"69.0\" d=\"M5.6094 72.9062 L62.8906 72.9062 L62.8906 65.375 L16.7969 8.2969 L64.0156 8.2969 L64.0156 0 L4.5 0 L4.5 7.5156 L50.5938 64.5938 L5.6094 64.5938 L5.6094 72.9062 Z\"/><glyph unicode=\"ã\" horiz-adv-x=\"61.0\" d=\"M34.2812 27.4844 Q23.3906 27.4844 19.1875 25 Q14.9844 22.5156 14.9844 16.5 Q14.9844 11.7188 18.1406 8.9062 Q21.2969 6.1094 26.7031 6.1094 Q34.1875 6.1094 38.7031 11.4062 Q43.2188 16.7031 43.2188 25.4844 L43.2188 27.4844 L34.2812 27.4844 ZM52.2031 31.2031 L52.2031 0 L43.2188 0 L43.2188 8.2969 Q40.1406 3.3281 35.5469 0.9531 Q30.9531 -1.4219 24.3125 -1.4219 Q15.9219 -1.4219 10.9531 3.2969 Q6 8.0156 6 15.9219 Q6 25.1406 12.1719 29.8281 Q18.3594 34.5156 30.6094 34.5156 L43.2188 34.5156 L43.2188 35.4062 Q43.2188 41.6094 39.1406 45 Q35.0625 48.3906 27.6875 48.3906 Q23 48.3906 18.5469 47.2656 Q14.1094 46.1406 10.0156 43.8906 L10.0156 52.2031 Q14.9375 54.1094 19.5781 55.0469 Q24.2188 56 28.6094 56 Q40.4844 56 46.3438 49.8438 Q52.2031 43.7031 52.2031 31.2031 ZM28.8125 66.8906 L26.0156 69.5781 Q24.9531 70.5625 24.1406 71.0156 Q23.3438 71.4844 22.7031 71.4844 Q20.8438 71.4844 19.9688 69.7031 Q19.0938 67.9219 18.9844 63.9219 L12.8906 63.9219 Q12.9844 70.5156 15.4688 74.0938 Q17.9688 77.6875 22.4062 77.6875 Q24.2656 77.6875 25.8281 77 Q27.3906 76.3125 29.2031 74.7031 L31.9844 72.0156 Q33.0469 71.0469 33.8594 70.5781 Q34.6719 70.125 35.2969 70.125 Q37.1562 70.125 38.0312 71.9062 Q38.9062 73.6875 39.0156 77.6875 L45.1094 77.6875 Q45.0156 71.0938 42.5156 67.5 Q40.0312 63.9219 35.5938 63.9219 Q33.7344 63.9219 32.1719 64.5938 Q30.6094 65.2812 28.8125 66.8906 Z\"/><glyph unicode=\"t\" horiz-adv-x=\"39.0\" d=\"M18.3125 70.2188 L18.3125 54.6875 L36.8125 54.6875 L36.8125 47.7031 L18.3125 47.7031 L18.3125 18.0156 Q18.3125 11.3281 20.1406 9.4219 Q21.9688 7.5156 27.5938 7.5156 L36.8125 7.5156 L36.8125 0 L27.5938 0 Q17.1875 0 13.2344 3.875 Q9.2812 7.7656 9.2812 18.0156 L9.2812 47.7031 L2.6875 47.7031 L2.6875 54.6875 L9.2812 54.6875 L9.2812 70.2188 L18.3125 70.2188 Z\"/><glyph unicode=\"d\" horiz-adv-x=\"63.0\" d=\"M45.4062 46.3906 L45.4062 75.9844 L54.3906 75.9844 L54.3906 0 L45.4062 0 L45.4062 8.2031 Q42.5781 3.3281 38.25 0.9531 Q33.9375 -1.4219 27.875 -1.4219 Q17.9688 -1.4219 11.7344 6.4844 Q5.5156 14.4062 5.5156 27.2969 Q5.5156 40.1875 11.7344 48.0938 Q17.9688 56 27.875 56 Q33.9375 56 38.25 53.625 Q42.5781 51.2656 45.4062 46.3906 ZM14.7969 27.2969 Q14.7969 17.3906 18.875 11.75 Q22.9531 6.1094 30.0781 6.1094 Q37.2031 6.1094 41.2969 11.75 Q45.4062 17.3906 45.4062 27.2969 Q45.4062 37.2031 41.2969 42.8438 Q37.2031 48.4844 30.0781 48.4844 Q22.9531 48.4844 18.875 42.8438 Q14.7969 37.2031 14.7969 27.2969 Z\"/><glyph unicode=\"z\" horiz-adv-x=\"52.0\" d=\"M5.5156 54.6875 L48.1875 54.6875 L48.1875 46.4844 L14.4062 7.1719 L48.1875 7.1719 L48.1875 0 L4.2969 0 L4.2969 8.2031 L38.0938 47.5156 L5.5156 47.5156 L5.5156 54.6875 Z\"/></font></defs><g style=\"fill:white; text-rendering:optimizeLegibility; stroke:white;\"><rect x=\"0\" width=\"554\" height=\"336\" y=\"0\" style=\"stroke:none;\"/></g><g style=\"stroke-linecap:butt; fill:white; text-rendering:geometricPrecision; stroke-linejoin:bevel; shape-rendering:crispEdges; stroke:white; stroke-width:0;\"><path style=\"stroke:none;\" d=\"M484.75 42 L484.75 290 L69.25 42 Z\"/><path style=\"stroke:none;\" d=\"M484.75 290 L69.25 290 L69.25 42 Z\"/><path style=\"stroke:none;\" d=\"M484.75 42 L484.75 290 L484.75 290 Z\"/><path style=\"stroke:none;\" d=\"M69.25 42 L69.25 290 L69.25 290 Z\"/><path style=\"stroke:none;\" d=\"M484.75 42 L484.75 290 L69.25 42 Z\"/><path style=\"stroke:none;\" d=\"M484.75 290 L69.25 290 L69.25 42 Z\"/><path style=\"stroke:none;\" d=\"M484.75 42 L484.75 42 L484.75 290 Z\"/><path style=\"stroke:none;\" d=\"M69.25 42 L69.25 42 L69.25 290 Z\"/><path style=\"stroke:none;\" d=\"M484.75 42 L69.25 42 L484.75 42 Z\"/><path style=\"stroke:none;\" d=\"M69.25 42 L69.25 42 L484.75 42 Z\"/><path style=\"stroke:none;\" d=\"M484.75 290 L69.25 290 L484.75 290 Z\"/><path style=\"stroke:none;\" d=\"M69.25 290 L69.25 290 L484.75 290 Z\"/></g><g style=\"fill:rgb(190,190,190); text-rendering:geometricPrecision; stroke-dasharray:1,1; shape-rendering:crispEdges; stroke-linecap:butt; stroke:rgb(190,190,190);\"><path style=\"fill:none;\" d=\"M69.25 290 L69.25 42\"/><path style=\"fill:none;\" d=\"M69.25 290 L69.25 290\"/><path style=\"fill:none;\" d=\"M121.1875 290 L121.1875 42\"/><path style=\"fill:none;\" d=\"M121.1875 290 L121.1875 290\"/><path style=\"fill:none;\" d=\"M173.125 290 L173.125 42\"/><path style=\"fill:none;\" d=\"M173.125 290 L173.125 290\"/><path style=\"fill:none;\" d=\"M225.0625 290 L225.0625 42\"/><path style=\"fill:none;\" d=\"M225.0625 290 L225.0625 290\"/><path style=\"fill:none;\" d=\"M277 290 L277 42\"/><path style=\"fill:none;\" d=\"M277 290 L277 290\"/><path style=\"fill:none;\" d=\"M328.9375 290 L328.9375 42\"/><path style=\"fill:none;\" d=\"M328.9375 290 L328.9375 290\"/><path style=\"fill:none;\" d=\"M380.875 290 L380.875 42\"/><path style=\"fill:none;\" d=\"M380.875 290 L380.875 290\"/><path style=\"fill:none;\" d=\"M432.8125 290 L432.8125 42\"/><path style=\"fill:none;\" d=\"M432.8125 290 L432.8125 290\"/><path style=\"fill:none;\" d=\"M484.75 290 L484.75 42\"/><path style=\"fill:none;\" d=\"M484.75 290 L484.75 290\"/><path style=\"fill:none;\" d=\"M69.25 265.2 L484.75 265.2\"/><path style=\"fill:none;\" d=\"M69.25 265.2 L69.25 265.2\"/><path style=\"fill:none;\" d=\"M69.25 215.6 L484.75 215.6\"/><path style=\"fill:none;\" d=\"M69.25 215.6 L69.25 215.6\"/><path style=\"fill:none;\" d=\"M69.25 166 L484.75 166\"/><path style=\"fill:none;\" d=\"M69.25 166 L69.25 166\"/><path style=\"fill:none;\" d=\"M69.25 116.4 L484.75 116.4\"/><path style=\"fill:none;\" d=\"M69.25 116.4 L69.25 116.4\"/><path style=\"fill:none;\" d=\"M69.25 66.8 L484.75 66.8\"/><path style=\"fill:none;\" d=\"M69.25 66.8 L69.25 66.8\"/></g><g transform=\"translate(324.9375,299)\" style=\"font-size:10px; stroke-linecap:butt; text-rendering:geometricPrecision; font-family:sans-serif; stroke-linejoin:bevel; stroke-width:0;\"><text x=\"-0.6562\" xml:space=\"preserve\" y=\"9.2822\" style=\"stroke:none;\">0</text></g><g transform=\"translate(60.25,299)\" style=\"font-size:10px; stroke-linecap:butt; text-rendering:geometricPrecision; font-family:sans-serif; stroke-linejoin:bevel; stroke-width:0;\"><text x=\"-0.4844\" xml:space=\"preserve\" y=\"9.2822\" style=\"stroke:none;\">-10</text></g><g transform=\"translate(115.1875,299)\" style=\"font-size:10px; stroke-linecap:butt; text-rendering:geometricPrecision; font-family:sans-serif; stroke-linejoin:bevel; stroke-width:0;\"><text x=\"-0.4844\" xml:space=\"preserve\" y=\"9.2822\" style=\"stroke:none;\">-8</text></g><g transform=\"translate(167.125,299)\" style=\"font-size:10px; stroke-linecap:butt; text-rendering:geometricPrecision; font-family:sans-serif; stroke-linejoin:bevel; stroke-width:0;\"><text x=\"-0.4844\" xml:space=\"preserve\" y=\"9.2822\" style=\"stroke:none;\">-6</text></g><g transform=\"translate(219.0625,299)\" style=\"font-size:10px; stroke-linecap:butt; text-rendering:geometricPrecision; font-family:sans-serif; stroke-linejoin:bevel; stroke-width:0;\"><text x=\"-0.4844\" xml:space=\"preserve\" y=\"9.2822\" style=\"stroke:none;\">-4</text></g><g transform=\"translate(271.5,299)\" style=\"font-size:10px; stroke-linecap:butt; text-rendering:geometricPrecision; font-family:sans-serif; stroke-linejoin:bevel; stroke-width:0;\"><text x=\"-0.4844\" xml:space=\"preserve\" y=\"9.2822\" style=\"stroke:none;\">-2</text></g><g transform=\"translate(377.375,299)\" style=\"font-size:10px; stroke-linecap:butt; text-rendering:geometricPrecision; font-family:sans-serif; stroke-linejoin:bevel; stroke-width:0;\"><text x=\"-0.7344\" xml:space=\"preserve\" y=\"9.2822\" style=\"stroke:none;\">2</text></g><g transform=\"translate(428.8125,299)\" style=\"font-size:10px; stroke-linecap:butt; text-rendering:geometricPrecision; font-family:sans-serif; stroke-linejoin:bevel; stroke-width:0;\"><text x=\"-0.4844\" xml:space=\"preserve\" y=\"9.2822\" style=\"stroke:none;\">4</text></g><g transform=\"translate(480.75,299)\" style=\"font-size:10px; stroke-linecap:butt; text-rendering:geometricPrecision; font-family:sans-serif; stroke-linejoin:bevel; stroke-width:0;\"><text x=\"-0.7031\" xml:space=\"preserve\" y=\"9.2822\" style=\"stroke:none;\">6</text></g><g style=\"text-rendering:geometricPrecision; font-size:10px; shape-rendering:crispEdges; font-family:sans-serif; stroke-linecap:butt;\"><path style=\"fill:none;\" d=\"M69.25 290 L69.25 296\"/><path style=\"fill:none;\" d=\"M121.1875 290 L121.1875 296\"/><path style=\"fill:none;\" d=\"M173.125 290 L173.125 296\"/><path style=\"fill:none;\" d=\"M225.0625 290 L225.0625 296\"/><path style=\"fill:none;\" d=\"M277 290 L277 296\"/><path style=\"fill:none;\" d=\"M328.9375 290 L328.9375 296\"/><path style=\"fill:none;\" d=\"M380.875 290 L380.875 296\"/><path style=\"fill:none;\" d=\"M432.8125 290 L432.8125 296\"/><path style=\"fill:none;\" d=\"M484.75 290 L484.75 296\"/><path style=\"fill:none;\" d=\"M69.25 290 L69.25 293\"/><path style=\"fill:none;\" d=\"M95.2188 290 L95.2188 293\"/><path style=\"fill:none;\" d=\"M121.1875 290 L121.1875 293\"/><path style=\"fill:none;\" d=\"M147.1562 290 L147.1562 293\"/><path style=\"fill:none;\" d=\"M173.125 290 L173.125 293\"/><path style=\"fill:none;\" d=\"M199.0938 290 L199.0938 293\"/><path style=\"fill:none;\" d=\"M225.0625 290 L225.0625 293\"/><path style=\"fill:none;\" d=\"M251.0312 290 L251.0312 293\"/><path style=\"fill:none;\" d=\"M277 290 L277 293\"/><path style=\"fill:none;\" d=\"M302.9688 290 L302.9688 293\"/><path style=\"fill:none;\" d=\"M328.9375 290 L328.9375 293\"/><path style=\"fill:none;\" d=\"M354.9062 290 L354.9062 293\"/><path style=\"fill:none;\" d=\"M380.875 290 L380.875 293\"/><path style=\"fill:none;\" d=\"M406.8438 290 L406.8438 293\"/><path style=\"fill:none;\" d=\"M432.8125 290 L432.8125 293\"/><path style=\"fill:none;\" d=\"M458.7812 290 L458.7812 293\"/><path style=\"fill:none;\" d=\"M484.75 290 L484.75 293\"/><path style=\"fill:none;\" d=\"M484.75 290 L69.25 290\"/><text x=\"-0.6562\" y=\"9.2822\" transform=\"translate(52.25,159.5)\" style=\"stroke-linejoin:bevel; shape-rendering:auto; stroke:none; stroke-width:0;\" xml:space=\"preserve\">0</text></g><g transform=\"translate(48.25,258.7)\" style=\"font-size:10px; stroke-linecap:butt; text-rendering:geometricPrecision; font-family:sans-serif; stroke-linejoin:bevel; stroke-width:0;\"><text x=\"-0.4844\" xml:space=\"preserve\" y=\"9.2822\" style=\"stroke:none;\">-4</text></g><g transform=\"translate(49.25,209.1)\" style=\"font-size:10px; stroke-linecap:butt; text-rendering:geometricPrecision; font-family:sans-serif; stroke-linejoin:bevel; stroke-width:0;\"><text x=\"-0.4844\" xml:space=\"preserve\" y=\"9.2822\" style=\"stroke:none;\">-2</text></g><g transform=\"translate(53.25,109.9)\" style=\"font-size:10px; stroke-linecap:butt; text-rendering:geometricPrecision; font-family:sans-serif; stroke-linejoin:bevel; stroke-width:0;\"><text x=\"-0.7344\" xml:space=\"preserve\" y=\"9.2822\" style=\"stroke:none;\">2</text></g><g transform=\"translate(52.25,60.3)\" style=\"font-size:10px; stroke-linecap:butt; text-rendering:geometricPrecision; font-family:sans-serif; stroke-linejoin:bevel; stroke-width:0;\"><text x=\"-0.4844\" xml:space=\"preserve\" y=\"9.2822\" style=\"stroke:none;\">4</text></g><g style=\"text-rendering:geometricPrecision; font-size:10px; shape-rendering:crispEdges; font-family:sans-serif; stroke-linecap:butt;\"><path style=\"fill:none;\" d=\"M69.25 265.2 L63.25 265.2\"/><path style=\"fill:none;\" d=\"M69.25 215.6 L63.25 215.6\"/><path style=\"fill:none;\" d=\"M69.25 166 L63.25 166\"/><path style=\"fill:none;\" d=\"M69.25 116.4 L63.25 116.4\"/><path style=\"fill:none;\" d=\"M69.25 66.8 L63.25 66.8\"/><path style=\"fill:none;\" d=\"M69.25 290 L66.25 290\"/><path style=\"fill:none;\" d=\"M69.25 265.2 L66.25 265.2\"/><path style=\"fill:none;\" d=\"M69.25 240.4 L66.25 240.4\"/><path style=\"fill:none;\" d=\"M69.25 215.6 L66.25 215.6\"/><path style=\"fill:none;\" d=\"M69.25 190.8 L66.25 190.8\"/><path style=\"fill:none;\" d=\"M69.25 166 L66.25 166\"/><path style=\"fill:none;\" d=\"M69.25 141.2 L66.25 141.2\"/><path style=\"fill:none;\" d=\"M69.25 116.4 L66.25 116.4\"/><path style=\"fill:none;\" d=\"M69.25 91.6 L66.25 91.6\"/><path style=\"fill:none;\" d=\"M69.25 66.8 L66.25 66.8\"/><path style=\"fill:none;\" d=\"M69.25 42 L66.25 42\"/><path style=\"fill:none;\" d=\"M69.25 42 L69.25 290\"/></g><g transform=\"translate(248,315)\" style=\"text-rendering:geometricPrecision; stroke-width:0; font-family:sans-serif; stroke-linecap:butt; stroke-linejoin:bevel;\"><text x=\"0.8281\" xml:space=\"preserve\" y=\"13.1387\" style=\"stroke:none;\">Eixo real</text></g><g transform=\"translate(45.25,166) rotate(270) translate(-49,-19)\" style=\"text-rendering:geometricPrecision; stroke-width:0; font-family:sans-serif; stroke-linecap:butt; stroke-linejoin:bevel;\"><text x=\"0.8281\" xml:space=\"preserve\" y=\"13.1387\" style=\"stroke:none;\">Eixo imaginário</text></g><g transform=\"translate(328.9245,166)\" style=\"stroke-linecap:butt; fill:white; text-rendering:geometricPrecision; font-family:sans-serif; stroke-linejoin:bevel; stroke:white; stroke-width:0;\"><polygon style=\"stroke:none;\" points=\" -3 0 0 -3 3 0 0 3\"/></g><g style=\"text-rendering:geometricPrecision; font-family:sans-serif; stroke-linecap:butt;\" transform=\"translate(328.9245,166)\"><path style=\"fill:none;\" d=\"M-3 0 L0 -3 L3 0 L0 3 L-3 0\"/></g><g transform=\"translate(315.9531,133.1927)\" style=\"stroke-linecap:butt; fill:white; text-rendering:geometricPrecision; font-family:sans-serif; stroke-linejoin:bevel; stroke:white; stroke-width:0;\"><polygon style=\"stroke:none;\" points=\" -3 0 0 -3 3 0 0 3\"/></g><g style=\"text-rendering:geometricPrecision; font-family:sans-serif; stroke-linecap:butt;\" transform=\"translate(315.9531,133.1927)\"><path style=\"fill:none;\" d=\"M-3 0 L0 -3 L3 0 L0 3 L-3 0\"/></g><g transform=\"translate(315.9531,198.8073)\" style=\"stroke-linecap:butt; fill:white; text-rendering:geometricPrecision; font-family:sans-serif; stroke-linejoin:bevel; stroke:white; stroke-width:0;\"><polygon style=\"stroke:none;\" points=\" -3 0 0 -3 3 0 0 3\"/></g><g style=\"text-rendering:geometricPrecision; font-family:sans-serif; stroke-linecap:butt;\" transform=\"translate(315.9531,198.8073)\"><path style=\"fill:none;\" d=\"M-3 0 L0 -3 L3 0 L0 3 L-3 0\"/></g><g style=\"text-rendering:geometricPrecision; font-family:sans-serif; stroke-linecap:butt;\" transform=\"translate(245.6376,68.6679)\"><path style=\"fill:none;\" d=\"M-4 -4 L4 4\"/><path style=\"fill:none;\" d=\"M-4 4 L4 -4\"/></g><g style=\"text-rendering:geometricPrecision; font-family:sans-serif; stroke-linecap:butt;\" transform=\"translate(245.6376,263.3321)\"><path style=\"fill:none;\" d=\"M-4 -4 L4 4\"/><path style=\"fill:none;\" d=\"M-4 4 L4 -4\"/></g><g style=\"text-rendering:geometricPrecision; font-family:sans-serif; stroke-linecap:butt;\" transform=\"translate(321.3532,135.9164)\"><path style=\"fill:none;\" d=\"M-4 -4 L4 4\"/><path style=\"fill:none;\" d=\"M-4 4 L4 -4\"/></g><g style=\"text-rendering:geometricPrecision; font-family:sans-serif; stroke-linecap:butt;\" transform=\"translate(321.3532,196.0836)\"><path style=\"fill:none;\" d=\"M-4 -4 L4 4\"/><path style=\"fill:none;\" d=\"M-4 4 L4 -4\"/></g><g style=\"text-rendering:geometricPrecision; font-family:sans-serif; stroke-linecap:butt;\" transform=\"translate(328.9245,166)\"><path style=\"fill:none;\" d=\"M-4 -4 L4 4\"/><path style=\"fill:none;\" d=\"M-4 4 L4 -4\"/></g><g style=\"text-rendering:geometricPrecision; shape-rendering:crispEdges; font-family:sans-serif; stroke-linecap:butt;\"><path style=\"fill:none;\" d=\"M328.9375 273.0653 L328.9375 58.9347\"/><path style=\"fill:none;\" d=\"M69.25 290 L69.25 42 L69.25 42 L484.75 42 L484.75 290 L484.75 290 L69.25 290\"/><path style=\"fill:none;\" d=\"M484.75 42 L69.25 42\"/><path style=\"fill:none;\" d=\"M484.75 42 L484.75 290\"/><path style=\"fill:none;\" d=\"M484.75 42 L484.75 42\"/></g><g style=\"stroke-linecap:butt; fill:white; text-rendering:geometricPrecision; font-family:sans-serif; stroke-linejoin:bevel; shape-rendering:crispEdges; stroke:white; stroke-width:0;\"><path style=\"stroke:none;\" d=\"M389.425 81.44 L479.5562 81.44 L479.5562 44.48 Z\"/><path style=\"stroke:none;\" d=\"M389.425 81.44 L479.5562 44.48 L389.425 44.48 Z\"/></g><g style=\"text-rendering:geometricPrecision; shape-rendering:crispEdges; font-family:sans-serif; stroke-linecap:butt;\"><path style=\"fill:none;\" d=\"M389.425 81.44 L479.5562 81.44\"/><path style=\"fill:none;\" d=\"M479.5562 81.44 L479.5562 44.48\"/><path style=\"fill:none;\" d=\"M479.5562 44.48 L389.425 44.48\"/><path style=\"fill:none;\" d=\"M389.425 44.48 L389.425 81.44\"/></g><g transform=\"translate(394.6187,69.96)\" style=\"stroke-linecap:butt; fill:white; text-rendering:geometricPrecision; font-family:sans-serif; stroke-linejoin:bevel; stroke:white; stroke-width:0;\"><polygon style=\"stroke:none;\" points=\" -3 0 0 -3 3 0 0 3\"/></g><g style=\"text-rendering:geometricPrecision; font-family:sans-serif; stroke-linecap:butt;\" transform=\"translate(394.6187,69.96)\"><path style=\"fill:none;\" d=\"M-3 0 L0 -3 L3 0 L0 3 L-3 0\"/></g><g transform=\"translate(415.3937,69.96)\" style=\"stroke-linecap:butt; fill:white; text-rendering:geometricPrecision; font-family:sans-serif; stroke-linejoin:bevel; stroke:white; stroke-width:0;\"><polygon style=\"stroke:none;\" points=\" -3 0 0 -3 3 0 0 3\"/></g><g style=\"text-rendering:geometricPrecision; font-family:sans-serif; stroke-linecap:butt;\" transform=\"translate(415.3937,69.96)\"><path style=\"fill:none;\" d=\"M-3 0 L0 -3 L3 0 L0 3 L-3 0\"/></g><g transform=\"translate(436.1687,69.96)\" style=\"stroke-linecap:butt; fill:white; text-rendering:geometricPrecision; font-family:sans-serif; stroke-linejoin:bevel; stroke:white; stroke-width:0;\"><polygon style=\"stroke:none;\" points=\" -3 0 0 -3 3 0 0 3\"/></g><g style=\"text-rendering:geometricPrecision; font-family:sans-serif; stroke-linecap:butt;\" transform=\"translate(436.1687,69.96)\"><path style=\"fill:none;\" d=\"M-3 0 L0 -3 L3 0 L0 3 L-3 0\"/></g><g style=\"text-rendering:geometricPrecision; font-family:sans-serif; stroke-linecap:butt;\" transform=\"translate(394.6187,55.96)\"><path style=\"fill:none;\" d=\"M-4 -4 L4 4\"/><path style=\"fill:none;\" d=\"M-4 4 L4 -4\"/></g><g style=\"text-rendering:geometricPrecision; font-family:sans-serif; stroke-linecap:butt;\" transform=\"translate(415.3937,55.96)\"><path style=\"fill:none;\" d=\"M-4 -4 L4 4\"/><path style=\"fill:none;\" d=\"M-4 4 L4 -4\"/></g><g style=\"text-rendering:geometricPrecision; font-family:sans-serif; stroke-linecap:butt;\" transform=\"translate(436.1687,55.96)\"><path style=\"fill:none;\" d=\"M-4 -4 L4 4\"/><path style=\"fill:none;\" d=\"M-4 4 L4 -4\"/></g><g transform=\"translate(441.3625,46.96)\" style=\"stroke-linecap:butt; fill:white; text-rendering:geometricPrecision; font-family:sans-serif; stroke-linejoin:bevel; stroke:white; stroke-width:0;\"><rect x=\"0\" width=\"33\" height=\"32\" y=\"0\" style=\"stroke:none;\"/><text x=\"1.0156\" y=\"11.2822\" style=\"fill:black; font-size:10px; stroke:none;\" xml:space=\"preserve\">Pólos</text><text x=\"1.5469\" y=\"26.2822\" style=\"fill:black; font-size:10px; stroke:none;\" xml:space=\"preserve\">Zeros</text></g><g transform=\"translate(173,12)\" style=\"font-size:14px; stroke-linecap:butt; text-rendering:geometricPrecision; font-family:sans-serif; stroke-linejoin:bevel; stroke-width:0;\"><text x=\"0.625\" xml:space=\"preserve\" y=\"14.9951\" style=\"stroke:none;\">Pólos e zeros de transmissão</text></g></g></svg>",
      "text/plain": [
       "<IPython.core.display.SVG object>"
      ]
     },
     "metadata": {},
     "output_type": "display_data"
    }
   ],
   "source": [
    "plzr(MF) // Funciona com um objeto ss, tf ou zpk"
   ]
  },
  {
   "cell_type": "markdown",
   "metadata": {},
   "source": [
    "#### Análise com Lyapunov"
   ]
  },
  {
   "cell_type": "markdown",
   "metadata": {},
   "source": [
    "Para ver o que a função faz:help lyap"
   ]
  },
  {
   "cell_type": "code",
   "execution_count": 29,
   "metadata": {},
   "outputs": [
    {
     "name": "stdout",
     "output_type": "stream",
     "text": [
      "\u001b[4l\u001b[0m\n",
      "\u001b[0m"
     ]
    }
   ],
   "source": [
    "help lyap"
   ]
  },
  {
   "cell_type": "markdown",
   "metadata": {},
   "source": [
    "Iremos usar a primeira opção do comando acima, para isso, definiremos uma matriz Q diagonal positiva qualquer e obteremos os autovetores e autovalores da matriz W, solução da equação de Lyapunov"
   ]
  },
  {
   "cell_type": "code",
   "execution_count": 30,
   "metadata": {},
   "outputs": [
    {
     "name": "stdout",
     "output_type": "stream",
     "text": [
      "\u001b[4l\u001b[0m\n",
      "\u001b[0m\u001b[4l\u001b[0m W  = \n",
      "\n",
      "  -0.3210496   0.9152526   1.6772016   0.6453113   4.9236596\n",
      "   0.9152526  -5.3566783  -2.3658567  -6.0767065  -0.3400672\n",
      "   1.6772016  -2.3658567  -28.625059  -3.0238      0.093621 \n",
      "   0.6453113  -6.0767065  -3.0238     -31.723878  -0.5988153\n",
      "   4.9236596  -0.3400672   0.093621   -0.5988153  -1000.2924\n",
      "\n",
      "\u001b[0m\u001b[4l\u001b[0m V  = \n",
      "\n",
      "         column 1 to 3\n",
      "\n",
      "   0.0626227 + 0.0185883i   0.0626227 - 0.0185883i   0.0336133 - 0.0117489i\n",
      "  -0.4920916 + 0.3295801i  -0.4920916 - 0.3295801i   0.0051708 + 0.0795742i\n",
      "   0.1160037 + 0.3155248i   0.1160037 - 0.3155248i  -0.7202913 + 0.i       \n",
      "   0.729343  + 0.i          0.729343  + 0.i         -0.1647514 + 0.6681334i\n",
      "  -0.0005056 - 0.0012071i  -0.0005056 + 0.0012071i  -0.00157   - 0.0024359i\n",
      "\n",
      "         column 4 to 5\n",
      "\n",
      "   0.0336133 + 0.0117489i  -0.0049239 + 0.i\n",
      "   0.0051708 - 0.0795742i   0.0004025 + 0.i\n",
      "  -0.7202913 + 0.i         -0.0002134 + 0.i\n",
      "  -0.1647514 - 0.6681334i   0.0007502 + 0.i\n",
      "  -0.00157   + 0.0024359i   0.9999875 + 0.i\n",
      " D  = \n",
      "\n",
      "         column 1 to 3\n",
      "\n",
      "  -3.2076964 + 3.9246816i   0.        + 0.i          0.        + 0.i      \n",
      "   0.        + 0.i         -3.2076964 - 3.9246816i   0.        + 0.i      \n",
      "   0.        + 0.i          0.        + 0.i         -0.2920536 + 1.213048i\n",
      "   0.        + 0.i          0.        + 0.i          0.        + 0.i      \n",
      "   0.        + 0.i          0.        + 0.i          0.        + 0.i      \n",
      "\n",
      "         column 4 to 5\n",
      "\n",
      "   0.        + 0.i         0.     + 0.i\n",
      "   0.        + 0.i         0.     + 0.i\n",
      "   0.        + 0.i         0.     + 0.i\n",
      "  -0.2920536 - 1.213048i   0.     + 0.i\n",
      "   0.        + 0.i        -0.0005 + 0.i\n",
      "\n",
      "\u001b[0m"
     ]
    }
   ],
   "source": [
    "Q = eye(5,5);\n",
    "W = lyap(Amf',Q,'c')\n",
    "[V,D]=spec(Amf)"
   ]
  },
  {
   "cell_type": "markdown",
   "metadata": {},
   "source": [
    "Para obter a diagonal em um vetor da matriz diagonal:"
   ]
  },
  {
   "cell_type": "code",
   "execution_count": 31,
   "metadata": {},
   "outputs": [
    {
     "name": "stdout",
     "output_type": "stream",
     "text": [
      "\u001b[4l\u001b[0m ans  =\n",
      "\n",
      "  -3.2076964 + 3.9246816i\n",
      "  -3.2076964 - 3.9246816i\n",
      "  -0.2920536 + 1.213048i \n",
      "  -0.2920536 - 1.213048i \n",
      "  -0.0005    + 0.i       \n",
      "\n",
      "\u001b[0m"
     ]
    }
   ],
   "source": [
    "diag(D) // A função também cria uma matriz diagonal"
   ]
  },
  {
   "cell_type": "markdown",
   "metadata": {},
   "source": [
    "E para obter o determinante da matriz:"
   ]
  },
  {
   "cell_type": "code",
   "execution_count": 32,
   "metadata": {},
   "outputs": [
    {
     "name": "stdout",
     "output_type": "stream",
     "text": [
      "\u001b[4l\u001b[0m ans  =\n",
      "\n",
      "  -276533.11\n",
      "\n",
      "\u001b[0m"
     ]
    }
   ],
   "source": [
    "det(W)"
   ]
  },
  {
   "cell_type": "markdown",
   "metadata": {},
   "source": [
    "### Problema 4"
   ]
  },
  {
   "cell_type": "markdown",
   "metadata": {},
   "source": [
    "Obter os sinais de saı́da y(t) e controle u(t) do sistema em malha fechada para a entrada r(t) o degrau unitário e o impulso unitário. Determinar o maior pico do sinal de saı́da e o tempo que a saı́da leva para atingir 98% do regime permanente, para r(t) = 1."
   ]
  },
  {
   "cell_type": "markdown",
   "metadata": {},
   "source": [
    "Podemos usar a função `csim`:"
   ]
  },
  {
   "cell_type": "code",
   "execution_count": 33,
   "metadata": {},
   "outputs": [
    {
     "name": "stdout",
     "output_type": "stream",
     "text": [
      "\u001b[4l\u001b[0m\n",
      "\u001b[0m\u001b[4l\u001b[0m\n",
      "\u001b[0m\u001b[4l\u001b[0m\n",
      "\u001b[0m\u001b[4l\u001b[0m\n",
      "\u001b[0m\u001b[4l\u001b[0m\n",
      "\u001b[0m"
     ]
    },
    {
     "data": {
      "image/svg+xml": "<svg xmlns:xlink=\"http://www.w3.org/1999/xlink\" xmlns=\"http://www.w3.org/2000/svg\" style=\"fill-opacity:1; color-rendering:auto; color-interpolation:auto; text-rendering:auto; stroke:black; stroke-linecap:square; stroke-miterlimit:10; shape-rendering:auto; stroke-opacity:1; fill:black; stroke-dasharray:none; font-weight:normal; stroke-width:1; font-family:'Dialog'; font-style:normal; stroke-linejoin:miter; font-size:12px; stroke-dashoffset:0; image-rendering:auto;\" width=\"548\" height=\"336\"><!--Generated by Scilab with Batik SVG Generator--><defs id=\"genericDefs\"/><g><defs id=\"defs1\"><clipPath clipPathUnits=\"userSpaceOnUse\" id=\"clipPath1\"><path d=\"M68.4959 41.9975 L479.5041 41.9975 L479.5041 290.3635 L68.4959 290.3635 L68.4959 41.9975 Z\"/></clipPath><font horiz-adv-x=\"60.0\" id=\"font1\"><font-face ascent=\"92.822266\" descent=\"23.583984\" units-per-em=\"100\" style=\"font-style:normal; font-family:sans-serif; font-weight:normal;\"/><missing-glyph horiz-adv-x=\"60.0\" d=\"M4.9844 -17.6719 L4.9844 70.5156 L54.9844 70.5156 L54.9844 -17.6719 L4.9844 -17.6719 ZM10.5938 -12.1094 L49.4219 -12.1094 L49.4219 64.8906 L10.5938 64.8906 L10.5938 -12.1094 Z\"/><glyph unicode=\"0\" horiz-adv-x=\"64.0\" d=\"M31.7812 66.4062 Q24.1719 66.4062 20.3281 58.9062 Q16.5 51.4219 16.5 36.375 Q16.5 21.3906 20.3281 13.8906 Q24.1719 6.3906 31.7812 6.3906 Q39.4531 6.3906 43.2812 13.8906 Q47.125 21.3906 47.125 36.375 Q47.125 51.4219 43.2812 58.9062 Q39.4531 66.4062 31.7812 66.4062 ZM31.7812 74.2188 Q44.0469 74.2188 50.5156 64.5156 Q56.9844 54.8281 56.9844 36.375 Q56.9844 17.9688 50.5156 8.2656 Q44.0469 -1.4219 31.7812 -1.4219 Q19.5312 -1.4219 13.0625 8.2656 Q6.5938 17.9688 6.5938 36.375 Q6.5938 54.8281 13.0625 64.5156 Q19.5312 74.2188 31.7812 74.2188 Z\"/><glyph unicode=\"2\" horiz-adv-x=\"64.0\" d=\"M19.1875 8.2969 L53.6094 8.2969 L53.6094 0 L7.3281 0 L7.3281 8.2969 Q12.9375 14.1094 22.625 23.8906 Q32.3281 33.6875 34.8125 36.5312 Q39.5469 41.8438 41.4219 45.5312 Q43.3125 49.2188 43.3125 52.7812 Q43.3125 58.5938 39.2344 62.25 Q35.1562 65.9219 28.6094 65.9219 Q23.9688 65.9219 18.8125 64.3125 Q13.6719 62.7031 7.8125 59.4219 L7.8125 69.3906 Q13.7656 71.7812 18.9375 73 Q24.125 74.2188 28.4219 74.2188 Q39.75 74.2188 46.4844 68.5469 Q53.2188 62.8906 53.2188 53.4219 Q53.2188 48.9219 51.5312 44.8906 Q49.8594 40.875 45.4062 35.4062 Q44.1875 33.9844 37.6406 27.2188 Q31.1094 20.4531 19.1875 8.2969 Z\"/><glyph unicode=\"1\" horiz-adv-x=\"64.0\" d=\"M12.4062 8.2969 L28.5156 8.2969 L28.5156 63.9219 L10.9844 60.4062 L10.9844 69.3906 L28.4219 72.9062 L38.2812 72.9062 L38.2812 8.2969 L54.3906 8.2969 L54.3906 0 L12.4062 0 L12.4062 8.2969 Z\"/><glyph unicode=\"4\" horiz-adv-x=\"64.0\" d=\"M37.7969 64.3125 L12.8906 25.3906 L37.7969 25.3906 L37.7969 64.3125 ZM35.2031 72.9062 L47.6094 72.9062 L47.6094 25.3906 L58.0156 25.3906 L58.0156 17.1875 L47.6094 17.1875 L47.6094 0 L37.7969 0 L37.7969 17.1875 L4.8906 17.1875 L4.8906 26.7031 L35.2031 72.9062 Z\"/><glyph unicode=\"6\" horiz-adv-x=\"64.0\" d=\"M33.0156 40.375 Q26.375 40.375 22.4844 35.8281 Q18.6094 31.2969 18.6094 23.3906 Q18.6094 15.5312 22.4844 10.9531 Q26.375 6.3906 33.0156 6.3906 Q39.6562 6.3906 43.5312 10.9531 Q47.4062 15.5312 47.4062 23.3906 Q47.4062 31.2969 43.5312 35.8281 Q39.6562 40.375 33.0156 40.375 ZM52.5938 71.2969 L52.5938 62.3125 Q48.875 64.0625 45.0938 64.9844 Q41.3125 65.9219 37.5938 65.9219 Q27.8281 65.9219 22.6719 59.3281 Q17.5312 52.7344 16.7969 39.4062 Q19.6719 43.6562 24.0156 45.9219 Q28.375 48.1875 33.5938 48.1875 Q44.5781 48.1875 50.9531 41.5156 Q57.3281 34.8594 57.3281 23.3906 Q57.3281 12.1562 50.6875 5.3594 Q44.0469 -1.4219 33.0156 -1.4219 Q20.3594 -1.4219 13.6719 8.2656 Q6.9844 17.9688 6.9844 36.375 Q6.9844 53.6562 15.1875 63.9375 Q23.3906 74.2188 37.2031 74.2188 Q40.9219 74.2188 44.7031 73.4844 Q48.4844 72.75 52.5938 71.2969 Z\"/><glyph unicode=\"8\" horiz-adv-x=\"64.0\" d=\"M31.7812 34.625 Q24.75 34.625 20.7188 30.8594 Q16.7031 27.0938 16.7031 20.5156 Q16.7031 13.9219 20.7188 10.1562 Q24.75 6.3906 31.7812 6.3906 Q38.8125 6.3906 42.8594 10.1719 Q46.9219 13.9688 46.9219 20.5156 Q46.9219 27.0938 42.8906 30.8594 Q38.875 34.625 31.7812 34.625 ZM21.9219 38.8125 Q15.5781 40.375 12.0312 44.7188 Q8.5 49.0781 8.5 55.3281 Q8.5 64.0625 14.7188 69.1406 Q20.9531 74.2188 31.7812 74.2188 Q42.6719 74.2188 48.875 69.1406 Q55.0781 64.0625 55.0781 55.3281 Q55.0781 49.0781 51.5312 44.7188 Q48 40.375 41.7031 38.8125 Q48.8281 37.1562 52.7969 32.3125 Q56.7812 27.4844 56.7812 20.5156 Q56.7812 9.9062 50.3125 4.2344 Q43.8438 -1.4219 31.7812 -1.4219 Q19.7344 -1.4219 13.25 4.2344 Q6.7812 9.9062 6.7812 20.5156 Q6.7812 27.4844 10.7812 32.3125 Q14.7969 37.1562 21.9219 38.8125 ZM18.3125 54.3906 Q18.3125 48.7344 21.8438 45.5625 Q25.3906 42.3906 31.7812 42.3906 Q38.1406 42.3906 41.7188 45.5625 Q45.3125 48.7344 45.3125 54.3906 Q45.3125 60.0625 41.7188 63.2344 Q38.1406 66.4062 31.7812 66.4062 Q25.3906 66.4062 21.8438 63.2344 Q18.3125 60.0625 18.3125 54.3906 Z\"/><glyph unicode=\".\" horiz-adv-x=\"32.0\" d=\"M10.6875 12.4062 L21 12.4062 L21 0 L10.6875 0 L10.6875 12.4062 Z\"/><glyph unicode=\")\" horiz-adv-x=\"39.0\" d=\"M8.0156 75.875 L15.8281 75.875 Q23.1406 64.3594 26.7812 53.3125 Q30.4219 42.2812 30.4219 31.3906 Q30.4219 20.4531 26.7812 9.375 Q23.1406 -1.7031 15.8281 -13.1875 L8.0156 -13.1875 Q14.5 -2 17.7031 9.0625 Q20.9062 20.125 20.9062 31.3906 Q20.9062 42.6719 17.7031 53.6562 Q14.5 64.6562 8.0156 75.875 Z\"/><glyph unicode=\"s\" horiz-adv-x=\"52.0\" d=\"M44.2812 53.0781 L44.2812 44.5781 Q40.4844 46.5312 36.375 47.5 Q32.2812 48.4844 27.875 48.4844 Q21.1875 48.4844 17.8438 46.4375 Q14.5 44.3906 14.5 40.2812 Q14.5 37.1562 16.8906 35.375 Q19.2812 33.5938 26.5156 31.9844 L29.5938 31.2969 Q39.1562 29.25 43.1875 25.5156 Q47.2188 21.7812 47.2188 15.0938 Q47.2188 7.4688 41.1875 3.0156 Q35.1562 -1.4219 24.6094 -1.4219 Q20.2188 -1.4219 15.4531 -0.5625 Q10.6875 0.2969 5.4219 2 L5.4219 11.2812 Q10.4062 8.6875 15.2344 7.3906 Q20.0625 6.1094 24.8125 6.1094 Q31.1562 6.1094 34.5625 8.2812 Q37.9844 10.4531 37.9844 14.4062 Q37.9844 18.0625 35.5156 20.0156 Q33.0625 21.9688 24.7031 23.7812 L21.5781 24.5156 Q13.2344 26.2656 9.5156 29.9062 Q5.8125 33.5469 5.8125 39.8906 Q5.8125 47.6094 11.2812 51.7969 Q16.75 56 26.8125 56 Q31.7812 56 36.1719 55.2656 Q40.5781 54.5469 44.2812 53.0781 Z\"/><glyph unicode=\"(\" horiz-adv-x=\"39.0\" d=\"M31 75.875 Q24.4688 64.6562 21.2812 53.6562 Q18.1094 42.6719 18.1094 31.3906 Q18.1094 20.125 21.3125 9.0625 Q24.5156 -2 31 -13.1875 L23.1875 -13.1875 Q15.875 -1.7031 12.2344 9.375 Q8.5938 20.4531 8.5938 31.3906 Q8.5938 42.2812 12.2031 53.3125 Q15.8281 64.3594 23.1875 75.875 L31 75.875 Z\"/><glyph unicode=\" \" horiz-adv-x=\"32.0\" d=\"\"/><glyph unicode=\"o\" horiz-adv-x=\"61.0\" d=\"M30.6094 48.3906 Q23.3906 48.3906 19.1875 42.75 Q14.9844 37.1094 14.9844 27.2969 Q14.9844 17.4844 19.1562 11.8438 Q23.3438 6.2031 30.6094 6.2031 Q37.7969 6.2031 41.9844 11.8594 Q46.1875 17.5312 46.1875 27.2969 Q46.1875 37.0156 41.9844 42.7031 Q37.7969 48.3906 30.6094 48.3906 ZM30.6094 56 Q42.3281 56 49.0156 48.375 Q55.7188 40.7656 55.7188 27.2969 Q55.7188 13.875 49.0156 6.2188 Q42.3281 -1.4219 30.6094 -1.4219 Q18.8438 -1.4219 12.1719 6.2188 Q5.5156 13.875 5.5156 27.2969 Q5.5156 40.7656 12.1719 48.375 Q18.8438 56 30.6094 56 Z\"/><glyph unicode=\"p\" horiz-adv-x=\"63.0\" d=\"M18.1094 8.2031 L18.1094 -20.7969 L9.0781 -20.7969 L9.0781 54.6875 L18.1094 54.6875 L18.1094 46.3906 Q20.9531 51.2656 25.2656 53.625 Q29.5938 56 35.5938 56 Q45.5625 56 51.7812 48.0938 Q58.0156 40.1875 58.0156 27.2969 Q58.0156 14.4062 51.7812 6.4844 Q45.5625 -1.4219 35.5938 -1.4219 Q29.5938 -1.4219 25.2656 0.9531 Q20.9531 3.3281 18.1094 8.2031 ZM48.6875 27.2969 Q48.6875 37.2031 44.6094 42.8438 Q40.5312 48.4844 33.4062 48.4844 Q26.2656 48.4844 22.1875 42.8438 Q18.1094 37.2031 18.1094 27.2969 Q18.1094 17.3906 22.1875 11.75 Q26.2656 6.1094 33.4062 6.1094 Q40.5312 6.1094 44.6094 11.75 Q48.6875 17.3906 48.6875 27.2969 Z\"/><glyph unicode=\"m\" horiz-adv-x=\"97.0\" d=\"M52 44.1875 Q55.375 50.25 60.0625 53.125 Q64.75 56 71.0938 56 Q79.6406 56 84.2812 50.0156 Q88.9219 44.0469 88.9219 33.0156 L88.9219 0 L79.8906 0 L79.8906 32.7188 Q79.8906 40.5781 77.0938 44.375 Q74.3125 48.1875 68.6094 48.1875 Q61.625 48.1875 57.5625 43.5469 Q53.5156 38.9219 53.5156 30.9062 L53.5156 0 L44.4844 0 L44.4844 32.7188 Q44.4844 40.625 41.7031 44.4062 Q38.9219 48.1875 33.1094 48.1875 Q26.2188 48.1875 22.1562 43.5312 Q18.1094 38.875 18.1094 30.9062 L18.1094 0 L9.0781 0 L9.0781 54.6875 L18.1094 54.6875 L18.1094 46.1875 Q21.1875 51.2188 25.4844 53.6094 Q29.7812 56 35.6875 56 Q41.6562 56 45.8281 52.9688 Q50 49.9531 52 44.1875 Z\"/><glyph unicode=\"e\" horiz-adv-x=\"62.0\" d=\"M56.2031 29.5938 L56.2031 25.2031 L14.8906 25.2031 Q15.4844 15.9219 20.4844 11.0625 Q25.4844 6.2031 34.4219 6.2031 Q39.5938 6.2031 44.4531 7.4688 Q49.3125 8.7344 54.1094 11.2812 L54.1094 2.7812 Q49.2656 0.7344 44.1875 -0.3438 Q39.1094 -1.4219 33.8906 -1.4219 Q20.7969 -1.4219 13.1562 6.1875 Q5.5156 13.8125 5.5156 26.8125 Q5.5156 40.2344 12.7656 48.1094 Q20.0156 56 32.3281 56 Q43.3594 56 49.7812 48.8906 Q56.2031 41.7969 56.2031 29.5938 ZM47.2188 32.2344 Q47.125 39.5938 43.0938 43.9844 Q39.0625 48.3906 32.4219 48.3906 Q24.9062 48.3906 20.3906 44.1406 Q15.875 39.8906 15.1875 32.1719 L47.2188 32.2344 Z\"/><glyph unicode=\"T\" horiz-adv-x=\"61.0\" d=\"M-0.2969 72.9062 L61.375 72.9062 L61.375 64.5938 L35.5 64.5938 L35.5 0 L25.5938 0 L25.5938 64.5938 L-0.2969 64.5938 L-0.2969 72.9062 Z\"/><glyph unicode=\"C\" horiz-adv-x=\"70.0\" d=\"M64.4062 67.2812 L64.4062 56.8906 Q59.4219 61.5312 53.7812 63.8125 Q48.1406 66.1094 41.7969 66.1094 Q29.2969 66.1094 22.6562 58.4688 Q16.0156 50.8281 16.0156 36.375 Q16.0156 21.9688 22.6562 14.3281 Q29.2969 6.6875 41.7969 6.6875 Q48.1406 6.6875 53.7812 8.9844 Q59.4219 11.2812 64.4062 15.9219 L64.4062 5.6094 Q59.2344 2.0938 53.4375 0.3281 Q47.6562 -1.4219 41.2188 -1.4219 Q24.6562 -1.4219 15.125 8.7031 Q5.6094 18.8438 5.6094 36.375 Q5.6094 53.9531 15.125 64.0781 Q24.6562 74.2188 41.2188 74.2188 Q47.75 74.2188 53.5312 72.4844 Q59.3281 70.75 64.4062 67.2812 Z\"/><glyph unicode=\"°\" horiz-adv-x=\"50.0\" d=\"M25 67.9219 Q21.0938 67.9219 18.4062 65.2031 Q15.7188 62.5 15.7188 58.5938 Q15.7188 54.7344 18.4062 52.0781 Q21.0938 49.4219 25 49.4219 Q28.9062 49.4219 31.5938 52.0781 Q34.2812 54.7344 34.2812 58.5938 Q34.2812 62.4531 31.5625 65.1875 Q28.8594 67.9219 25 67.9219 ZM25 74.2188 Q28.125 74.2188 31 73.0156 Q33.8906 71.8281 35.9844 69.5781 Q38.2344 67.3906 39.3594 64.5938 Q40.4844 61.8125 40.4844 58.5938 Q40.4844 52.1562 35.9688 47.6875 Q31.4531 43.2188 24.9062 43.2188 Q18.3125 43.2188 13.9062 47.6094 Q9.5156 52 9.5156 58.5938 Q9.5156 65.1406 14 69.6719 Q18.5 74.2188 25 74.2188 Z\"/><glyph unicode=\"d\" horiz-adv-x=\"63.0\" d=\"M45.4062 46.3906 L45.4062 75.9844 L54.3906 75.9844 L54.3906 0 L45.4062 0 L45.4062 8.2031 Q42.5781 3.3281 38.25 0.9531 Q33.9375 -1.4219 27.875 -1.4219 Q17.9688 -1.4219 11.7344 6.4844 Q5.5156 14.4062 5.5156 27.2969 Q5.5156 40.1875 11.7344 48.0938 Q17.9688 56 27.875 56 Q33.9375 56 38.25 53.625 Q42.5781 51.2656 45.4062 46.3906 ZM14.7969 27.2969 Q14.7969 17.3906 18.875 11.75 Q22.9531 6.1094 30.0781 6.1094 Q37.2031 6.1094 41.2969 11.75 Q45.4062 17.3906 45.4062 27.2969 Q45.4062 37.2031 41.2969 42.8438 Q37.2031 48.4844 30.0781 48.4844 Q22.9531 48.4844 18.875 42.8438 Q14.7969 37.2031 14.7969 27.2969 Z\"/><glyph unicode=\"í\" horiz-adv-x=\"28.0\" d=\"M20.7031 79.9844 L30.4219 79.9844 L14.5156 61.625 L7.0312 61.625 L20.7031 79.9844 ZM9.4219 54.6875 L18.4062 54.6875 L18.4062 0 L9.4219 0 L9.4219 54.6875 ZM13.9219 56 L13.9219 56 Z\"/><glyph unicode=\"a\" horiz-adv-x=\"61.0\" d=\"M34.2812 27.4844 Q23.3906 27.4844 19.1875 25 Q14.9844 22.5156 14.9844 16.5 Q14.9844 11.7188 18.1406 8.9062 Q21.2969 6.1094 26.7031 6.1094 Q34.1875 6.1094 38.7031 11.4062 Q43.2188 16.7031 43.2188 25.4844 L43.2188 27.4844 L34.2812 27.4844 ZM52.2031 31.2031 L52.2031 0 L43.2188 0 L43.2188 8.2969 Q40.1406 3.3281 35.5469 0.9531 Q30.9531 -1.4219 24.3125 -1.4219 Q15.9219 -1.4219 10.9531 3.2969 Q6 8.0156 6 15.9219 Q6 25.1406 12.1719 29.8281 Q18.3594 34.5156 30.6094 34.5156 L43.2188 34.5156 L43.2188 35.4062 Q43.2188 41.6094 39.1406 45 Q35.0625 48.3906 27.6875 48.3906 Q23 48.3906 18.5469 47.2656 Q14.1094 46.1406 10.0156 43.8906 L10.0156 52.2031 Q14.9375 54.1094 19.5781 55.0469 Q24.2188 56 28.6094 56 Q40.4844 56 46.3438 49.8438 Q52.2031 43.7031 52.2031 31.2031 Z\"/><glyph unicode=\"S\" horiz-adv-x=\"63.0\" d=\"M53.5156 70.5156 L53.5156 60.8906 Q47.9062 63.5781 42.9219 64.8906 Q37.9375 66.2188 33.2969 66.2188 Q25.25 66.2188 20.875 63.0938 Q16.5 59.9688 16.5 54.2031 Q16.5 49.3594 19.4062 46.8906 Q22.3125 44.4375 30.4219 42.9219 L36.375 41.7031 Q47.4062 39.5938 52.6562 34.2969 Q57.9062 29 57.9062 20.125 Q57.9062 9.5156 50.7969 4.0469 Q43.7031 -1.4219 29.9844 -1.4219 Q24.8125 -1.4219 18.9688 -0.25 Q13.1406 0.9219 6.8906 3.2188 L6.8906 13.375 Q12.8906 10.0156 18.6562 8.2969 Q24.4219 6.5938 29.9844 6.5938 Q38.4219 6.5938 43.0156 9.9062 Q47.6094 13.2344 47.6094 19.3906 Q47.6094 24.75 44.3125 27.7812 Q41.0156 30.8125 33.5 32.3281 L27.4844 33.5 Q16.4531 35.6875 11.5156 40.375 Q6.5938 45.0625 6.5938 53.4219 Q6.5938 63.0938 13.4062 68.6562 Q20.2188 74.2188 32.1719 74.2188 Q37.3125 74.2188 42.625 73.2812 Q47.9531 72.3594 53.5156 70.5156 Z\"/><glyph unicode=\"u\" horiz-adv-x=\"63.0\" d=\"M8.5 21.5781 L8.5 54.6875 L17.4844 54.6875 L17.4844 21.9219 Q17.4844 14.1562 20.5 10.2656 Q23.5312 6.3906 29.5938 6.3906 Q36.8594 6.3906 41.0781 11.0312 Q45.3125 15.6719 45.3125 23.6875 L45.3125 54.6875 L54.2969 54.6875 L54.2969 0 L45.3125 0 L45.3125 8.4062 Q42.0469 3.4219 37.7188 1 Q33.4062 -1.4219 27.6875 -1.4219 Q18.2656 -1.4219 13.375 4.4375 Q8.5 10.2969 8.5 21.5781 ZM31.1094 56 L31.1094 56 Z\"/><glyph unicode=\"r\" horiz-adv-x=\"41.0\" d=\"M41.1094 46.2969 Q39.5938 47.1719 37.8125 47.5781 Q36.0312 48 33.8906 48 Q26.2656 48 22.1875 43.0469 Q18.1094 38.0938 18.1094 28.8125 L18.1094 0 L9.0781 0 L9.0781 54.6875 L18.1094 54.6875 L18.1094 46.1875 Q20.9531 51.1719 25.4844 53.5781 Q30.0312 56 36.5312 56 Q37.4531 56 38.5781 55.875 Q39.7031 55.7656 41.0625 55.5156 L41.1094 46.2969 Z\"/><glyph unicode=\"g\" horiz-adv-x=\"63.0\" d=\"M45.4062 27.9844 Q45.4062 37.75 41.375 43.1094 Q37.3594 48.4844 30.0781 48.4844 Q22.8594 48.4844 18.8281 43.1094 Q14.7969 37.75 14.7969 27.9844 Q14.7969 18.2656 18.8281 12.8906 Q22.8594 7.5156 30.0781 7.5156 Q37.3594 7.5156 41.375 12.8906 Q45.4062 18.2656 45.4062 27.9844 ZM54.3906 6.7812 Q54.3906 -7.1719 48.1875 -13.9844 Q42 -20.7969 29.2031 -20.7969 Q24.4688 -20.7969 20.2656 -20.0938 Q16.0625 -19.3906 12.1094 -17.9219 L12.1094 -9.1875 Q16.0625 -11.3281 19.9219 -12.3438 Q23.7812 -13.375 27.7812 -13.375 Q36.625 -13.375 41.0156 -8.7656 Q45.4062 -4.1562 45.4062 5.1719 L45.4062 9.625 Q42.625 4.7812 38.2812 2.3906 Q33.9375 0 27.875 0 Q17.8281 0 11.6719 7.6562 Q5.5156 15.3281 5.5156 27.9844 Q5.5156 40.6719 11.6719 48.3281 Q17.8281 56 27.875 56 Q33.9375 56 38.2812 53.6094 Q42.625 51.2188 45.4062 46.3906 L45.4062 54.6875 L54.3906 54.6875 L54.3906 6.7812 Z\"/><glyph unicode=\"t\" horiz-adv-x=\"39.0\" d=\"M18.3125 70.2188 L18.3125 54.6875 L36.8125 54.6875 L36.8125 47.7031 L18.3125 47.7031 L18.3125 18.0156 Q18.3125 11.3281 20.1406 9.4219 Q21.9688 7.5156 27.5938 7.5156 L36.8125 7.5156 L36.8125 0 L27.5938 0 Q17.1875 0 13.2344 3.875 Q9.2812 7.7656 9.2812 18.0156 L9.2812 47.7031 L2.6875 47.7031 L2.6875 54.6875 L9.2812 54.6875 L9.2812 70.2188 L18.3125 70.2188 Z\"/><glyph unicode=\"R\" horiz-adv-x=\"69.0\" d=\"M44.3906 34.1875 Q47.5625 33.1094 50.5625 29.5938 Q53.5625 26.0781 56.5938 19.9219 L66.6094 0 L56 0 L46.6875 18.7031 Q43.0625 26.0312 39.6719 28.4219 Q36.2812 30.8125 30.4219 30.8125 L19.6719 30.8125 L19.6719 0 L9.8125 0 L9.8125 72.9062 L32.0781 72.9062 Q44.5781 72.9062 50.7344 67.6719 Q56.8906 62.4531 56.8906 51.9062 Q56.8906 45.0156 53.6875 40.4688 Q50.4844 35.9375 44.3906 34.1875 ZM19.6719 64.7969 L19.6719 38.9219 L32.0781 38.9219 Q39.2031 38.9219 42.8438 42.2188 Q46.4844 45.5156 46.4844 51.9062 Q46.4844 58.2969 42.8438 61.5469 Q39.2031 64.7969 32.0781 64.7969 L19.6719 64.7969 Z\"/><glyph unicode=\"á\" horiz-adv-x=\"61.0\" d=\"M34.2812 27.4844 Q23.3906 27.4844 19.1875 25 Q14.9844 22.5156 14.9844 16.5 Q14.9844 11.7188 18.1406 8.9062 Q21.2969 6.1094 26.7031 6.1094 Q34.1875 6.1094 38.7031 11.4062 Q43.2188 16.7031 43.2188 25.4844 L43.2188 27.4844 L34.2812 27.4844 ZM52.2031 31.2031 L52.2031 0 L43.2188 0 L43.2188 8.2969 Q40.1406 3.3281 35.5469 0.9531 Q30.9531 -1.4219 24.3125 -1.4219 Q15.9219 -1.4219 10.9531 3.2969 Q6 8.0156 6 15.9219 Q6 25.1406 12.1719 29.8281 Q18.3594 34.5156 30.6094 34.5156 L43.2188 34.5156 L43.2188 35.4062 Q43.2188 41.6094 39.1406 45 Q35.0625 48.3906 27.6875 48.3906 Q23 48.3906 18.5469 47.2656 Q14.1094 46.1406 10.0156 43.8906 L10.0156 52.2031 Q14.9375 54.1094 19.5781 55.0469 Q24.2188 56 28.6094 56 Q40.4844 56 46.3438 49.8438 Q52.2031 43.7031 52.2031 31.2031 ZM35.7812 79.9844 L45.5 79.9844 L29.5938 61.625 L22.1094 61.625 L35.7812 79.9844 Z\"/><glyph unicode=\"i\" horiz-adv-x=\"28.0\" d=\"M9.4219 54.6875 L18.4062 54.6875 L18.4062 0 L9.4219 0 L9.4219 54.6875 ZM9.4219 75.9844 L18.4062 75.9844 L18.4062 64.5938 L9.4219 64.5938 L9.4219 75.9844 Z\"/><glyph unicode=\"n\" horiz-adv-x=\"63.0\" d=\"M54.8906 33.0156 L54.8906 0 L45.9062 0 L45.9062 32.7188 Q45.9062 40.4844 42.875 44.3281 Q39.8438 48.1875 33.7969 48.1875 Q26.5156 48.1875 22.3125 43.5469 Q18.1094 38.9219 18.1094 30.9062 L18.1094 0 L9.0781 0 L9.0781 54.6875 L18.1094 54.6875 L18.1094 46.1875 Q21.3438 51.125 25.7031 53.5625 Q30.0781 56 35.7969 56 Q45.2188 56 50.0469 50.1719 Q54.8906 44.3438 54.8906 33.0156 Z\"/></font></defs><g style=\"fill:white; text-rendering:optimizeLegibility; stroke:white;\"><rect x=\"0\" width=\"548\" height=\"336\" y=\"0\" style=\"stroke:none;\"/></g><g style=\"stroke-linecap:butt; fill:white; text-rendering:geometricPrecision; stroke-linejoin:bevel; shape-rendering:crispEdges; stroke:white; stroke-width:0;\"><path style=\"stroke:none;\" d=\"M479.5 42 L479.5 290.361 L68.5 42 Z\"/><path style=\"stroke:none;\" d=\"M479.5 290.361 L68.5 290.361 L68.5 42 Z\"/><path style=\"stroke:none;\" d=\"M479.5 42 L479.5 290.361 L479.5 290.361 Z\"/><path style=\"stroke:none;\" d=\"M68.5 42 L68.5 290.361 L68.5 290.361 Z\"/><path style=\"stroke:none;\" d=\"M479.5 42 L479.5 290.361 L68.5 42 Z\"/><path style=\"stroke:none;\" d=\"M479.5 290.361 L68.5 290.361 L68.5 42 Z\"/><path style=\"stroke:none;\" d=\"M479.5 42 L479.5 42 L479.5 290.361 Z\"/><path style=\"stroke:none;\" d=\"M68.5 42 L68.5 42 L68.5 290.361 Z\"/><path style=\"stroke:none;\" d=\"M479.5 42 L68.5 42 L479.5 42 Z\"/><path style=\"stroke:none;\" d=\"M68.5 42 L68.5 42 L479.5 42 Z\"/><path style=\"stroke:none;\" d=\"M479.5 290.361 L68.5 290.361 L479.5 290.361 Z\"/><path style=\"stroke:none;\" d=\"M68.5 290.361 L68.5 290.361 L479.5 290.361 Z\"/></g><g style=\"text-rendering:geometricPrecision; stroke-dasharray:1,1; shape-rendering:crispEdges; stroke-linecap:butt;\"><path style=\"fill:none;\" d=\"M68.5 290.361 L68.5 42\"/><path style=\"fill:none;\" d=\"M68.5 290.361 L68.5 290.361\"/><path style=\"fill:none;\" d=\"M101.38 290.361 L101.38 42\"/><path style=\"fill:none;\" d=\"M101.38 290.361 L101.38 290.361\"/><path style=\"fill:none;\" d=\"M134.26 290.361 L134.26 42\"/><path style=\"fill:none;\" d=\"M134.26 290.361 L134.26 290.361\"/><path style=\"fill:none;\" d=\"M167.14 290.361 L167.14 42\"/><path style=\"fill:none;\" d=\"M167.14 290.361 L167.14 290.361\"/><path style=\"fill:none;\" d=\"M200.02 290.361 L200.02 42\"/><path style=\"fill:none;\" d=\"M200.02 290.361 L200.02 290.361\"/><path style=\"fill:none;\" d=\"M232.9 290.361 L232.9 42\"/><path style=\"fill:none;\" d=\"M232.9 290.361 L232.9 290.361\"/><path style=\"fill:none;\" d=\"M265.78 290.361 L265.78 42\"/><path style=\"fill:none;\" d=\"M265.78 290.361 L265.78 290.361\"/><path style=\"fill:none;\" d=\"M298.66 290.361 L298.66 42\"/><path style=\"fill:none;\" d=\"M298.66 290.361 L298.66 290.361\"/><path style=\"fill:none;\" d=\"M331.54 290.361 L331.54 42\"/><path style=\"fill:none;\" d=\"M331.54 290.361 L331.54 290.361\"/><path style=\"fill:none;\" d=\"M364.42 290.361 L364.42 42\"/><path style=\"fill:none;\" d=\"M364.42 290.361 L364.42 290.361\"/><path style=\"fill:none;\" d=\"M397.3 290.361 L397.3 42\"/><path style=\"fill:none;\" d=\"M397.3 290.361 L397.3 290.361\"/><path style=\"fill:none;\" d=\"M430.18 290.361 L430.18 42\"/><path style=\"fill:none;\" d=\"M430.18 290.361 L430.18 290.361\"/><path style=\"fill:none;\" d=\"M463.06 290.361 L463.06 42\"/><path style=\"fill:none;\" d=\"M463.06 290.361 L463.06 290.361\"/><path style=\"fill:none;\" d=\"M68.5 290.361 L479.5 290.361\"/><path style=\"fill:none;\" d=\"M68.5 290.361 L68.5 290.361\"/><path style=\"fill:none;\" d=\"M68.5 248.9675 L479.5 248.9675\"/><path style=\"fill:none;\" d=\"M68.5 248.9675 L68.5 248.9675\"/><path style=\"fill:none;\" d=\"M68.5 207.574 L479.5 207.574\"/><path style=\"fill:none;\" d=\"M68.5 207.574 L68.5 207.574\"/><path style=\"fill:none;\" d=\"M68.5 166.1805 L479.5 166.1805\"/><path style=\"fill:none;\" d=\"M68.5 166.1805 L68.5 166.1805\"/><path style=\"fill:none;\" d=\"M68.5 124.787 L479.5 124.787\"/><path style=\"fill:none;\" d=\"M68.5 124.787 L68.5 124.787\"/><path style=\"fill:none;\" d=\"M68.5 83.3935 L479.5 83.3935\"/><path style=\"fill:none;\" d=\"M68.5 83.3935 L68.5 83.3935\"/><path style=\"fill:none;\" d=\"M68.5 42 L479.5 42\"/><path style=\"fill:none;\" d=\"M68.5 42 L68.5 42\"/></g><g transform=\"translate(64.5,299.361)\" style=\"font-size:10px; stroke-linecap:butt; text-rendering:geometricPrecision; font-family:sans-serif; stroke-linejoin:bevel; stroke-width:0;\"><text x=\"-0.6562\" xml:space=\"preserve\" y=\"9.2822\" style=\"stroke:none;\">0</text></g><g transform=\"translate(390.8,299.361)\" style=\"font-size:10px; stroke-linecap:butt; text-rendering:geometricPrecision; font-family:sans-serif; stroke-linejoin:bevel; stroke-width:0;\"><text x=\"-0.7344\" xml:space=\"preserve\" y=\"9.2822\" style=\"stroke:none;\">20</text></g><g transform=\"translate(226.4,299.361)\" style=\"font-size:10px; stroke-linecap:butt; text-rendering:geometricPrecision; font-family:sans-serif; stroke-linejoin:bevel; stroke-width:0;\"><text x=\"-1.0938\" xml:space=\"preserve\" y=\"9.2822\" style=\"stroke:none;\">10</text></g><g transform=\"translate(97.88,299.361)\" style=\"font-size:10px; stroke-linecap:butt; text-rendering:geometricPrecision; font-family:sans-serif; stroke-linejoin:bevel; stroke-width:0;\"><text x=\"-0.7344\" xml:space=\"preserve\" y=\"9.2822\" style=\"stroke:none;\">2</text></g><g transform=\"translate(130.26,299.361)\" style=\"font-size:10px; stroke-linecap:butt; text-rendering:geometricPrecision; font-family:sans-serif; stroke-linejoin:bevel; stroke-width:0;\"><text x=\"-0.4844\" xml:space=\"preserve\" y=\"9.2822\" style=\"stroke:none;\">4</text></g><g transform=\"translate(163.14,299.361)\" style=\"font-size:10px; stroke-linecap:butt; text-rendering:geometricPrecision; font-family:sans-serif; stroke-linejoin:bevel; stroke-width:0;\"><text x=\"-0.7031\" xml:space=\"preserve\" y=\"9.2822\" style=\"stroke:none;\">6</text></g><g transform=\"translate(196.52,299.361)\" style=\"font-size:10px; stroke-linecap:butt; text-rendering:geometricPrecision; font-family:sans-serif; stroke-linejoin:bevel; stroke-width:0;\"><text x=\"-0.6719\" xml:space=\"preserve\" y=\"9.2822\" style=\"stroke:none;\">8</text></g><g transform=\"translate(259.28,299.361)\" style=\"font-size:10px; stroke-linecap:butt; text-rendering:geometricPrecision; font-family:sans-serif; stroke-linejoin:bevel; stroke-width:0;\"><text x=\"-1.0938\" xml:space=\"preserve\" y=\"9.2822\" style=\"stroke:none;\">12</text></g><g transform=\"translate(292.16,299.361)\" style=\"font-size:10px; stroke-linecap:butt; text-rendering:geometricPrecision; font-family:sans-serif; stroke-linejoin:bevel; stroke-width:0;\"><text x=\"-1.0938\" xml:space=\"preserve\" y=\"9.2822\" style=\"stroke:none;\">14</text></g><g transform=\"translate(325.04,299.361)\" style=\"font-size:10px; stroke-linecap:butt; text-rendering:geometricPrecision; font-family:sans-serif; stroke-linejoin:bevel; stroke-width:0;\"><text x=\"-1.0938\" xml:space=\"preserve\" y=\"9.2822\" style=\"stroke:none;\">16</text></g><g transform=\"translate(357.92,299.361)\" style=\"font-size:10px; stroke-linecap:butt; text-rendering:geometricPrecision; font-family:sans-serif; stroke-linejoin:bevel; stroke-width:0;\"><text x=\"-1.0938\" xml:space=\"preserve\" y=\"9.2822\" style=\"stroke:none;\">18</text></g><g transform=\"translate(423.68,299.361)\" style=\"font-size:10px; stroke-linecap:butt; text-rendering:geometricPrecision; font-family:sans-serif; stroke-linejoin:bevel; stroke-width:0;\"><text x=\"-0.7344\" xml:space=\"preserve\" y=\"9.2822\" style=\"stroke:none;\">22</text></g><g transform=\"translate(456.06,299.361)\" style=\"font-size:10px; stroke-linecap:butt; text-rendering:geometricPrecision; font-family:sans-serif; stroke-linejoin:bevel; stroke-width:0;\"><text x=\"-0.7344\" xml:space=\"preserve\" y=\"9.2822\" style=\"stroke:none;\">24</text></g><g style=\"text-rendering:geometricPrecision; font-size:10px; shape-rendering:crispEdges; font-family:sans-serif; stroke-linecap:butt;\"><path style=\"fill:none;\" d=\"M68.5 290.361 L68.5 296.361\"/><path style=\"fill:none;\" d=\"M101.38 290.361 L101.38 296.361\"/><path style=\"fill:none;\" d=\"M134.26 290.361 L134.26 296.361\"/><path style=\"fill:none;\" d=\"M167.14 290.361 L167.14 296.361\"/><path style=\"fill:none;\" d=\"M200.02 290.361 L200.02 296.361\"/><path style=\"fill:none;\" d=\"M232.9 290.361 L232.9 296.361\"/><path style=\"fill:none;\" d=\"M265.78 290.361 L265.78 296.361\"/><path style=\"fill:none;\" d=\"M298.66 290.361 L298.66 296.361\"/><path style=\"fill:none;\" d=\"M331.54 290.361 L331.54 296.361\"/><path style=\"fill:none;\" d=\"M364.42 290.361 L364.42 296.361\"/><path style=\"fill:none;\" d=\"M397.3 290.361 L397.3 296.361\"/><path style=\"fill:none;\" d=\"M430.18 290.361 L430.18 296.361\"/><path style=\"fill:none;\" d=\"M463.06 290.361 L463.06 296.361\"/><path style=\"fill:none;\" d=\"M68.5 290.361 L68.5 293.361\"/><path style=\"fill:none;\" d=\"M84.94 290.361 L84.94 293.361\"/><path style=\"fill:none;\" d=\"M101.38 290.361 L101.38 293.361\"/><path style=\"fill:none;\" d=\"M117.82 290.361 L117.82 293.361\"/><path style=\"fill:none;\" d=\"M134.26 290.361 L134.26 293.361\"/><path style=\"fill:none;\" d=\"M150.7 290.361 L150.7 293.361\"/><path style=\"fill:none;\" d=\"M167.14 290.361 L167.14 293.361\"/><path style=\"fill:none;\" d=\"M183.58 290.361 L183.58 293.361\"/><path style=\"fill:none;\" d=\"M200.02 290.361 L200.02 293.361\"/><path style=\"fill:none;\" d=\"M216.46 290.361 L216.46 293.361\"/><path style=\"fill:none;\" d=\"M232.9 290.361 L232.9 293.361\"/><path style=\"fill:none;\" d=\"M249.34 290.361 L249.34 293.361\"/><path style=\"fill:none;\" d=\"M265.78 290.361 L265.78 293.361\"/><path style=\"fill:none;\" d=\"M282.22 290.361 L282.22 293.361\"/><path style=\"fill:none;\" d=\"M298.66 290.361 L298.66 293.361\"/><path style=\"fill:none;\" d=\"M315.1 290.361 L315.1 293.361\"/><path style=\"fill:none;\" d=\"M331.54 290.361 L331.54 293.361\"/><path style=\"fill:none;\" d=\"M347.98 290.361 L347.98 293.361\"/><path style=\"fill:none;\" d=\"M364.42 290.361 L364.42 293.361\"/><path style=\"fill:none;\" d=\"M380.86 290.361 L380.86 293.361\"/><path style=\"fill:none;\" d=\"M397.3 290.361 L397.3 293.361\"/><path style=\"fill:none;\" d=\"M413.74 290.361 L413.74 293.361\"/><path style=\"fill:none;\" d=\"M430.18 290.361 L430.18 293.361\"/><path style=\"fill:none;\" d=\"M446.62 290.361 L446.62 293.361\"/><path style=\"fill:none;\" d=\"M463.06 290.361 L463.06 293.361\"/><path style=\"fill:none;\" d=\"M479.5 290.361 L479.5 293.361\"/><path style=\"fill:none;\" d=\"M479.5 290.361 L68.5 290.361\"/><text x=\"-0.6562\" y=\"9.2822\" transform=\"translate(51.5,283.861)\" style=\"stroke-linejoin:bevel; shape-rendering:auto; stroke:none; stroke-width:0;\" xml:space=\"preserve\">0</text></g><g transform=\"translate(52.5,76.8935)\" style=\"font-size:10px; stroke-linecap:butt; text-rendering:geometricPrecision; font-family:sans-serif; stroke-linejoin:bevel; stroke-width:0;\"><text x=\"-1.0938\" xml:space=\"preserve\" y=\"9.2822\" style=\"stroke:none;\">1</text></g><g transform=\"translate(43.5,242.4675)\" style=\"font-size:10px; stroke-linecap:butt; text-rendering:geometricPrecision; font-family:sans-serif; stroke-linejoin:bevel; stroke-width:0;\"><text x=\"-0.6562\" xml:space=\"preserve\" y=\"9.2822\" style=\"stroke:none;\">0.2</text></g><g transform=\"translate(42.5,201.074)\" style=\"font-size:10px; stroke-linecap:butt; text-rendering:geometricPrecision; font-family:sans-serif; stroke-linejoin:bevel; stroke-width:0;\"><text x=\"-0.6562\" xml:space=\"preserve\" y=\"9.2822\" style=\"stroke:none;\">0.4</text></g><g transform=\"translate(42.5,159.6805)\" style=\"font-size:10px; stroke-linecap:butt; text-rendering:geometricPrecision; font-family:sans-serif; stroke-linejoin:bevel; stroke-width:0;\"><text x=\"-0.6562\" xml:space=\"preserve\" y=\"9.2822\" style=\"stroke:none;\">0.6</text></g><g transform=\"translate(42.5,118.287)\" style=\"font-size:10px; stroke-linecap:butt; text-rendering:geometricPrecision; font-family:sans-serif; stroke-linejoin:bevel; stroke-width:0;\"><text x=\"-0.6562\" xml:space=\"preserve\" y=\"9.2822\" style=\"stroke:none;\">0.8</text></g><g transform=\"translate(43.5,35.5)\" style=\"font-size:10px; stroke-linecap:butt; text-rendering:geometricPrecision; font-family:sans-serif; stroke-linejoin:bevel; stroke-width:0;\"><text x=\"-1.0938\" xml:space=\"preserve\" y=\"9.2822\" style=\"stroke:none;\">1.2</text></g><g style=\"text-rendering:geometricPrecision; font-size:10px; shape-rendering:crispEdges; font-family:sans-serif; stroke-linecap:butt;\"><path style=\"fill:none;\" d=\"M68.5 290.361 L62.5 290.361\"/><path style=\"fill:none;\" d=\"M68.5 248.9675 L62.5 248.9675\"/><path style=\"fill:none;\" d=\"M68.5 207.574 L62.5 207.574\"/><path style=\"fill:none;\" d=\"M68.5 166.1805 L62.5 166.1805\"/><path style=\"fill:none;\" d=\"M68.5 124.787 L62.5 124.787\"/><path style=\"fill:none;\" d=\"M68.5 83.3935 L62.5 83.3935\"/><path style=\"fill:none;\" d=\"M68.5 42 L62.5 42\"/><path style=\"fill:none;\" d=\"M68.5 290.361 L65.5 290.361\"/><path style=\"fill:none;\" d=\"M68.5 269.6642 L65.5 269.6642\"/><path style=\"fill:none;\" d=\"M68.5 248.9675 L65.5 248.9675\"/><path style=\"fill:none;\" d=\"M68.5 228.2707 L65.5 228.2707\"/><path style=\"fill:none;\" d=\"M68.5 207.574 L65.5 207.574\"/><path style=\"fill:none;\" d=\"M68.5 186.8772 L65.5 186.8772\"/><path style=\"fill:none;\" d=\"M68.5 166.1805 L65.5 166.1805\"/><path style=\"fill:none;\" d=\"M68.5 145.4837 L65.5 145.4837\"/><path style=\"fill:none;\" d=\"M68.5 124.787 L65.5 124.787\"/><path style=\"fill:none;\" d=\"M68.5 104.0902 L65.5 104.0902\"/><path style=\"fill:none;\" d=\"M68.5 83.3935 L65.5 83.3935\"/><path style=\"fill:none;\" d=\"M68.5 62.6967 L65.5 62.6967\"/><path style=\"fill:none;\" d=\"M68.5 42 L65.5 42\"/><path style=\"fill:none;\" d=\"M68.5 42 L68.5 290.361\"/></g><g transform=\"translate(240,315.361)\" style=\"text-rendering:geometricPrecision; stroke-width:0; font-family:sans-serif; stroke-linecap:butt; stroke-linejoin:bevel;\"><text x=\"2.0312\" xml:space=\"preserve\" y=\"13.1387\" style=\"stroke:none;\">Tempo (s)</text></g><g transform=\"translate(39.5,166.1805) rotate(270) translate(-33.5,-19)\" style=\"text-rendering:geometricPrecision; stroke-width:0; font-family:sans-serif; stroke-linecap:butt; stroke-linejoin:bevel;\"><text x=\"1.2031\" xml:space=\"preserve\" y=\"13.1387\" style=\"stroke:none;\">Saída (°C)</text></g><g style=\"text-rendering:geometricPrecision; stroke-width:2; shape-rendering:crispEdges; font-family:sans-serif; stroke-linecap:butt;\"><path d=\"M68.5 290.361 L69.322 285.6895 L70.144 273.5592 L70.966 256.491 L71.788 236.5815 L72.61 215.5049 L73.432 194.539 L74.254 174.6045 L75.076 156.3134 L75.898 140.0211 L76.72 125.8783 L77.542 113.8791 L78.364 103.9054 L79.186 95.7647 L80.008 89.2215 L80.83 84.0224 L81.652 79.9157 L82.474 76.665 L83.296 74.0584 L84.118 71.9137 L84.94 70.0807 L85.762 68.4409 L86.584 66.9054 L87.406 65.4123 L88.228 63.9225 L89.05 62.4159 L89.872 60.8876 L90.694 59.3437 L91.516 57.7985 L92.338 56.271 L93.16 54.7832 L93.982 53.3572 L94.804 52.0147 L95.626 50.7754 L96.448 49.6564 L97.27 48.6719 L98.092 47.8328 L98.914 47.1474 L99.736 46.6205 L100.558 46.2547 L101.38 46.0501 L102.202 46.0048 L103.024 46.1153 L103.846 46.3767 L104.668 46.783 L105.49 47.3275 L106.312 48.003 L107.134 48.8016 L107.956 49.7154 L108.778 50.7363 L109.6 51.8561 L110.422 53.0666 L111.244 54.3597 L112.066 55.7275 L112.888 57.1619 L113.71 58.6552 L114.532 60.1996 L115.354 61.7877 L116.176 63.4121 L116.998 65.0654 L117.82 66.7405 L118.642 68.4305 L119.464 70.1285 L120.286 71.8279 L121.108 73.5223 L121.93 75.2054 L122.752 76.8711 L123.574 78.5137 L124.396 80.1276 L125.218 81.7075 L126.04 83.2483 L126.862 84.7453 L127.684 86.194 L128.506 87.5903 L129.328 88.9303 L130.15 90.2106 L130.972 91.4278 L131.794 92.5793 L132.616 93.6623 L133.438 94.6749 L134.26 95.615 L135.082 96.4811 L135.904 97.2721 L136.726 97.9871 L137.548 98.6255 L138.37 99.1871 L139.192 99.6719 L140.014 100.0803 L140.836 100.4129 L141.658 100.6706 L142.48 100.8545 L143.302 100.9662 L144.124 101.0072 L144.946 100.9795 L145.768 100.8851 L146.59 100.7262 L147.412 100.5055 L148.234 100.2254 L149.056 99.8888 L149.878 99.4985 L150.7 99.0577 L151.522 98.5695 L152.344 98.0371 L153.166 97.4638 L153.988 96.853 L154.81 96.2081 L155.632 95.5327 L156.454 94.83 L157.276 94.1037 L158.098 93.3572 L158.92 92.5939 L159.742 91.8172 L160.564 91.0305 L161.386 90.2372 L162.208 89.4404 L163.03 88.6433 L163.852 87.849 L164.674 87.0604 L165.496 86.2803 L166.318 85.5117 L167.14 84.7569 L167.962 84.0187 L168.784 83.2992 L169.606 82.6007 L170.428 81.9253 L171.25 81.275 L172.072 80.6514 L172.894 80.0563 L173.716 79.491 L174.538 78.957 L175.36 78.4552 L176.182 77.9868 L177.004 77.5525 L177.826 77.1531 L178.648 76.7891 L179.47 76.4608 L180.292 76.1685 L181.114 75.9123 L181.936 75.6921 L182.758 75.5077 L183.58 75.3588 L184.402 75.2449 L185.224 75.1655 L186.046 75.1199 L186.868 75.1073 L187.69 75.1268 L188.512 75.1774 L189.334 75.2579 L190.156 75.3673 L190.978 75.5043 L191.8 75.6675 L192.622 75.8556 L193.444 76.0671 L194.266 76.3006 L195.088 76.5546 L195.91 76.8274 L196.732 77.1174 L197.554 77.4231 L198.376 77.7429 L199.198 78.0751 L200.02 78.4181 L200.842 78.7702 L201.664 79.1299 L202.486 79.4955 L203.308 79.8655 L204.13 80.2383 L204.952 80.6125 L205.774 80.9864 L206.596 81.3588 L207.418 81.7283 L208.24 82.0934 L209.062 82.453 L209.884 82.8057 L210.706 83.1506 L211.528 83.4863 L212.35 83.812 L213.172 84.1267 L213.994 84.4295 L214.816 84.7195 L215.638 84.996 L216.46 85.2584 L217.282 85.5061 L218.104 85.7384 L218.926 85.9551 L219.748 86.1556 L220.57 86.3397 L221.392 86.5072 L222.214 86.6578 L223.036 86.7916 L223.858 86.9084 L224.68 87.0083 L225.502 87.0915 L226.324 87.158 L227.146 87.2081 L227.968 87.2421 L228.79 87.2604 L229.612 87.2632 L230.434 87.251 L231.256 87.2244 L232.078 87.1838 L232.9 87.1298 L233.722 87.0629 L234.544 86.9839 L235.366 86.8933 L236.188 86.7919 L237.01 86.6803 L237.832 86.5592 L238.654 86.4295 L239.476 86.2918 L240.298 86.1469 L241.12 85.9955 L241.942 85.8385 L242.764 85.6766 L243.586 85.5105 L244.408 85.3411 L245.23 85.169 L246.052 84.995 L246.874 84.8199 L247.696 84.6442 L248.518 84.4688 L249.34 84.2942 L250.162 84.1212 L250.984 83.9503 L251.806 83.7821 L252.628 83.6172 L253.45 83.4562 L254.272 83.2995 L255.094 83.1477 L255.916 83.0011 L256.738 82.8602 L257.56 82.7253 L258.382 82.5968 L259.204 82.4751 L260.026 82.3603 L260.848 82.2527 L261.67 82.1525 L262.492 82.06 L263.314 81.9751 L264.136 81.8981 L264.958 81.829 L265.78 81.7679 L266.602 81.7146 L267.424 81.6693 L268.246 81.6319 L269.068 81.6023 L269.89 81.5803 L270.712 81.5658 L271.534 81.5588 L272.356 81.5589 L273.178 81.566 L274 81.5799 L274.822 81.6002 L275.644 81.6268 L276.466 81.6594 L277.288 81.6976 L278.11 81.7412 L278.932 81.7898 L279.754 81.8431 L280.576 81.9008 L281.398 81.9625 L282.22 82.0278 L283.042 82.0965 L283.864 82.1681 L284.686 82.2423 L285.508 82.3187 L286.33 82.397 L287.152 82.4768 L287.974 82.5578 L288.796 82.6396 L289.618 82.7219 L290.44 82.8043 L291.262 82.8866 L292.084 82.9684 L292.906 83.0495 L293.728 83.1294 L294.55 83.2081 L295.372 83.2851 L296.194 83.3603 L297.016 83.4334 L297.838 83.5042 L298.66 83.5725 L299.482 83.6381 L300.304 83.7008 L301.126 83.7604 L301.948 83.8169 L302.77 83.8701 L303.592 83.9199 L304.414 83.9662 L305.236 84.0089 L306.058 84.048 L306.88 84.0834 L307.702 84.1151 L308.524 84.143 L309.346 84.1673 L310.168 84.1878 L310.99 84.2046 L311.812 84.2178 L312.634 84.2274 L313.456 84.2334 L314.278 84.236 L315.1 84.2353 L315.922 84.2313 L316.744 84.2242 L317.566 84.214 L318.388 84.201 L319.21 84.1851 L320.032 84.1667 L320.854 84.1457 L321.676 84.1224 L322.498 84.097 L323.32 84.0695 L324.142 84.0402 L324.964 84.0092 L325.786 83.9767 L326.608 83.9428 L327.43 83.9078 L328.252 83.8717 L329.074 83.8348 L329.896 83.7972 L330.718 83.7591 L331.54 83.7207 L332.362 83.682 L333.184 83.6433 L334.006 83.6047 L334.828 83.5664 L335.65 83.5284 L336.472 83.491 L337.294 83.4543 L338.116 83.4183 L338.938 83.3832 L339.76 83.3491 L340.582 83.3161 L341.404 83.2843 L342.226 83.2538 L343.048 83.2246 L343.87 83.1969 L344.692 83.1707 L345.514 83.1461 L346.336 83.123 L347.158 83.1016 L347.98 83.0819 L348.802 83.0639 L349.624 83.0477 L350.446 83.0332 L351.268 83.0204 L352.09 83.0094 L352.912 83.0001 L353.734 82.9926 L354.556 82.9867 L355.378 82.9826 L356.2 82.98 L357.022 82.9791 L357.844 82.9798 L358.666 82.982 L359.488 82.9856 L360.31 82.9907 L361.132 82.9971 L361.954 83.0048 L362.776 83.0137 L363.598 83.0237 L364.42 83.0349 L365.242 83.047 L366.064 83.0601 L366.886 83.074 L367.708 83.0887 L368.53 83.1041 L369.352 83.1201 L370.174 83.1367 L370.996 83.1537 L371.818 83.1711 L372.64 83.1888 L373.462 83.2067 L374.284 83.2248 L375.106 83.243 L375.928 83.2611 L376.75 83.2792 L377.572 83.2972 L378.394 83.3149 L379.216 83.3324 L380.038 83.3496 L380.86 83.3664 L381.682 83.3828 L382.504 83.3987 L383.326 83.4141 L384.148 83.4289 L384.97 83.4431 L385.792 83.4566 L386.614 83.4695 L387.436 83.4817 L388.258 83.4931 L389.08 83.5037 L389.902 83.5136 L390.724 83.5227 L391.546 83.531 L392.368 83.5385 L393.19 83.5451 L394.012 83.5509 L394.834 83.5559 L395.656 83.5601 L396.478 83.5635 L397.3 83.5661 L398.122 83.5679 L398.944 83.5689 L399.766 83.5692 L400.588 83.5687 L401.41 83.5675 L402.232 83.5657 L403.054 83.5632 L403.876 83.5601 L404.698 83.5563 L405.52 83.552 L406.342 83.5472 L407.164 83.5419 L407.986 83.5361 L408.808 83.5299 L409.63 83.5233 L410.452 83.5163 L411.274 83.509 L412.096 83.5014 L412.918 83.4936 L413.74 83.4856 L414.562 83.4774 L415.384 83.4691 L416.206 83.4606 L417.028 83.4521 L417.85 83.4436 L418.672 83.4351 L419.494 83.4266 L420.316 83.4182 L421.138 83.4099 L421.96 83.4017 L422.782 83.3937 L423.604 83.3858 L424.426 83.3782 L425.248 83.3708 L426.07 83.3636 L426.892 83.3567 L427.714 83.3501 L428.536 83.3438 L429.358 83.3378 L430.18 83.3322 L431.002 83.3269 L431.824 83.322 L432.646 83.3174 L433.468 83.3132 L434.29 83.3094 L435.112 83.306 L435.934 83.303 L436.756 83.3003 L437.578 83.298 L438.4 83.2962 L439.222 83.2946 L440.044 83.2935 L440.866 83.2927 L441.688 83.2923 L442.51 83.2923 L443.332 83.2926 L444.154 83.2932 L444.976 83.2941 L445.798 83.2953 L446.62 83.2969 L447.442 83.2987 L448.264 83.3007 L449.086 83.3031 L449.908 83.3056 L450.73 83.3084 L451.552 83.3113 L452.374 83.3145 L453.196 83.3178 L454.018 83.3212 L454.84 83.3248 L455.662 83.3285 L456.484 83.3323 L457.306 83.3361 L458.128 83.34 L458.95 83.344 L459.772 83.348 L460.594 83.352 L461.416 83.356 L462.238 83.36 L463.06 83.3639 L463.882 83.3678 L464.704 83.3716 L465.526 83.3754 L466.348 83.3791 L467.17 83.3826 L467.992 83.3861 L468.814 83.3894 L469.636 83.3926 L470.458 83.3957 L471.28 83.3986 L472.102 83.4014 L472.924 83.404 L473.746 83.4065 L474.568 83.4087 L475.39 83.4109 L476.212 83.4128 L477.034 83.4145 L477.856 83.4161 L478.678 83.4175 L479.5 83.4187\" style=\"fill:none; clip-path:url(#clipPath1);\"/><path d=\"M68.5 290.361 L68.5 42 L68.5 42 L479.5 42 L479.5 290.361 L479.5 290.361 L68.5 290.361\" style=\"fill:none; stroke-width:1;\"/><path d=\"M479.5 42 L68.5 42\" style=\"fill:none; stroke-width:1;\"/><path d=\"M479.5 42 L479.5 290.361\" style=\"fill:none; stroke-width:1;\"/><path d=\"M479.5 42 L479.5 42\" style=\"fill:none; stroke-width:1;\"/></g><g style=\"stroke-linecap:butt; fill:white; text-rendering:geometricPrecision; font-family:sans-serif; stroke-linejoin:bevel; shape-rendering:crispEdges; stroke:white; stroke-width:0;\"><path style=\"stroke:none;\" d=\"M315.85 66.4508 L474.3625 66.4508 L474.3625 44.4836 Z\"/><path style=\"stroke:none;\" d=\"M315.85 66.4508 L474.3625 44.4836 L315.85 44.4836 Z\"/></g><g style=\"text-rendering:geometricPrecision; shape-rendering:crispEdges; font-family:sans-serif; stroke-linecap:butt;\"><path style=\"fill:none;\" d=\"M315.85 66.4508 L474.3625 66.4508\"/><path style=\"fill:none;\" d=\"M474.3625 66.4508 L474.3625 44.4836\"/><path style=\"fill:none;\" d=\"M474.3625 44.4836 L315.85 44.4836\"/><path style=\"fill:none;\" d=\"M315.85 44.4836 L315.85 66.4508\"/><path d=\"M320.9875 55.4672 L341.5375 55.4672 L362.0875 55.4672\" style=\"fill:none; stroke-width:2;\"/></g><g transform=\"translate(367.225,46.9672)\" style=\"stroke-linecap:butt; fill:white; text-rendering:geometricPrecision; font-family:sans-serif; stroke-linejoin:bevel; stroke:white; stroke-width:0;\"><rect x=\"0\" width=\"102\" height=\"17\" y=\"0\" style=\"stroke:none;\"/><text x=\"1.0156\" y=\"11.2822\" style=\"fill:black; font-size:10px; stroke:none;\" xml:space=\"preserve\">Resposta ao degrau</text></g><g transform=\"translate(174.5,12)\" style=\"font-size:14px; stroke-linecap:butt; text-rendering:geometricPrecision; font-family:sans-serif; stroke-linejoin:bevel; stroke-width:0;\"><text x=\"0.625\" xml:space=\"preserve\" y=\"14.9951\" style=\"stroke:none;\">Resposta ao degrau unitário</text></g></g></svg>",
      "text/plain": [
       "<IPython.core.display.SVG object>"
      ]
     },
     "metadata": {},
     "output_type": "display_data"
    }
   ],
   "source": [
    "t = 0:0.05:25;\n",
    "y = csim('step',t,MF);\n",
    "plot(t,y,'k-','LineWidth',2); xgrid;\n",
    "title('Resposta ao degrau unitário');\n",
    "xlabel('Tempo (s)'); ylabel('Saída (°C)'); legend('Resposta ao degrau');"
   ]
  },
  {
   "cell_type": "markdown",
   "metadata": {},
   "source": [
    "Para obter o valor máximo da saída:"
   ]
  },
  {
   "cell_type": "code",
   "execution_count": 34,
   "metadata": {},
   "outputs": [
    {
     "name": "stdout",
     "output_type": "stream",
     "text": [
      "\u001b[4l\u001b[0m tempMax  = \n",
      "\n",
      "   1.1806502\n",
      "\n",
      "\u001b[0m"
     ]
    }
   ],
   "source": [
    "tempMax = max(y)"
   ]
  },
  {
   "cell_type": "markdown",
   "metadata": {},
   "source": [
    "E para obter o tempo em que isso ocorre:"
   ]
  },
  {
   "cell_type": "code",
   "execution_count": 35,
   "metadata": {},
   "outputs": [
    {
     "name": "stdout",
     "output_type": "stream",
     "text": [
      "\u001b[4l\u001b[0m\n",
      "\u001b[0m\u001b[4l\u001b[0m tempo98  = \n",
      "\n",
      "   2.0500000\n",
      "\n",
      "\u001b[0m"
     ]
    }
   ],
   "source": [
    "[vv,pp] = max(y);\n",
    "tempo98 = t(pp)"
   ]
  },
  {
   "cell_type": "markdown",
   "metadata": {},
   "source": [
    "Para obter o U(s):"
   ]
  },
  {
   "cell_type": "code",
   "execution_count": 36,
   "metadata": {},
   "outputs": [
    {
     "name": "stdout",
     "output_type": "stream",
     "text": [
      "\u001b[4l\u001b[0m U  = \n",
      "\n",
      "   0.05s +100.11s² +220.07s³ +140.01s⁴ +20s⁵  \n",
      "   -----------------------------------------  \n",
      "     0.02 +40.01s +25.01s² +31s³ +7s⁴ +s⁵     \n",
      "\n",
      "\u001b[0m"
     ]
    }
   ],
   "source": [
    "U = K/(1+G*K)"
   ]
  },
  {
   "cell_type": "markdown",
   "metadata": {},
   "source": [
    "Agora, vamos plotar o gráfico:"
   ]
  },
  {
   "cell_type": "code",
   "execution_count": 37,
   "metadata": {},
   "outputs": [
    {
     "name": "stdout",
     "output_type": "stream",
     "text": [
      "\u001b[4l\u001b[0m\n",
      "\u001b[0m"
     ]
    },
    {
     "data": {
      "image/svg+xml": "<svg xmlns:xlink=\"http://www.w3.org/1999/xlink\" xmlns=\"http://www.w3.org/2000/svg\" style=\"fill-opacity:1; color-rendering:auto; color-interpolation:auto; text-rendering:auto; stroke:black; stroke-linecap:square; stroke-miterlimit:10; shape-rendering:auto; stroke-opacity:1; fill:black; stroke-dasharray:none; font-weight:normal; stroke-width:1; font-family:'Dialog'; font-style:normal; stroke-linejoin:miter; font-size:12px; stroke-dashoffset:0; image-rendering:auto;\" width=\"548\" height=\"336\"><!--Generated by Scilab with Batik SVG Generator--><defs id=\"genericDefs\"/><g><defs id=\"defs1\"><clipPath clipPathUnits=\"userSpaceOnUse\" id=\"clipPath1\"><path d=\"M68.4959 41.9975 L479.5041 41.9975 L479.5041 294.0025 L68.4959 294.0025 L68.4959 41.9975 Z\"/></clipPath><font horiz-adv-x=\"60.0\" id=\"font1\"><font-face ascent=\"92.822266\" descent=\"23.583984\" units-per-em=\"100\" style=\"font-style:normal; font-family:sans-serif; font-weight:normal;\"/><missing-glyph horiz-adv-x=\"60.0\" d=\"M4.9844 -17.6719 L4.9844 70.5156 L54.9844 70.5156 L54.9844 -17.6719 L4.9844 -17.6719 ZM10.5938 -12.1094 L49.4219 -12.1094 L49.4219 64.8906 L10.5938 64.8906 L10.5938 -12.1094 Z\"/><glyph unicode=\"0\" horiz-adv-x=\"64.0\" d=\"M31.7812 66.4062 Q24.1719 66.4062 20.3281 58.9062 Q16.5 51.4219 16.5 36.375 Q16.5 21.3906 20.3281 13.8906 Q24.1719 6.3906 31.7812 6.3906 Q39.4531 6.3906 43.2812 13.8906 Q47.125 21.3906 47.125 36.375 Q47.125 51.4219 43.2812 58.9062 Q39.4531 66.4062 31.7812 66.4062 ZM31.7812 74.2188 Q44.0469 74.2188 50.5156 64.5156 Q56.9844 54.8281 56.9844 36.375 Q56.9844 17.9688 50.5156 8.2656 Q44.0469 -1.4219 31.7812 -1.4219 Q19.5312 -1.4219 13.0625 8.2656 Q6.5938 17.9688 6.5938 36.375 Q6.5938 54.8281 13.0625 64.5156 Q19.5312 74.2188 31.7812 74.2188 Z\"/><glyph unicode=\"2\" horiz-adv-x=\"64.0\" d=\"M19.1875 8.2969 L53.6094 8.2969 L53.6094 0 L7.3281 0 L7.3281 8.2969 Q12.9375 14.1094 22.625 23.8906 Q32.3281 33.6875 34.8125 36.5312 Q39.5469 41.8438 41.4219 45.5312 Q43.3125 49.2188 43.3125 52.7812 Q43.3125 58.5938 39.2344 62.25 Q35.1562 65.9219 28.6094 65.9219 Q23.9688 65.9219 18.8125 64.3125 Q13.6719 62.7031 7.8125 59.4219 L7.8125 69.3906 Q13.7656 71.7812 18.9375 73 Q24.125 74.2188 28.4219 74.2188 Q39.75 74.2188 46.4844 68.5469 Q53.2188 62.8906 53.2188 53.4219 Q53.2188 48.9219 51.5312 44.8906 Q49.8594 40.875 45.4062 35.4062 Q44.1875 33.9844 37.6406 27.2188 Q31.1094 20.4531 19.1875 8.2969 Z\"/><glyph unicode=\"1\" horiz-adv-x=\"64.0\" d=\"M12.4062 8.2969 L28.5156 8.2969 L28.5156 63.9219 L10.9844 60.4062 L10.9844 69.3906 L28.4219 72.9062 L38.2812 72.9062 L38.2812 8.2969 L54.3906 8.2969 L54.3906 0 L12.4062 0 L12.4062 8.2969 Z\"/><glyph unicode=\"4\" horiz-adv-x=\"64.0\" d=\"M37.7969 64.3125 L12.8906 25.3906 L37.7969 25.3906 L37.7969 64.3125 ZM35.2031 72.9062 L47.6094 72.9062 L47.6094 25.3906 L58.0156 25.3906 L58.0156 17.1875 L47.6094 17.1875 L47.6094 0 L37.7969 0 L37.7969 17.1875 L4.8906 17.1875 L4.8906 26.7031 L35.2031 72.9062 Z\"/><glyph unicode=\"6\" horiz-adv-x=\"64.0\" d=\"M33.0156 40.375 Q26.375 40.375 22.4844 35.8281 Q18.6094 31.2969 18.6094 23.3906 Q18.6094 15.5312 22.4844 10.9531 Q26.375 6.3906 33.0156 6.3906 Q39.6562 6.3906 43.5312 10.9531 Q47.4062 15.5312 47.4062 23.3906 Q47.4062 31.2969 43.5312 35.8281 Q39.6562 40.375 33.0156 40.375 ZM52.5938 71.2969 L52.5938 62.3125 Q48.875 64.0625 45.0938 64.9844 Q41.3125 65.9219 37.5938 65.9219 Q27.8281 65.9219 22.6719 59.3281 Q17.5312 52.7344 16.7969 39.4062 Q19.6719 43.6562 24.0156 45.9219 Q28.375 48.1875 33.5938 48.1875 Q44.5781 48.1875 50.9531 41.5156 Q57.3281 34.8594 57.3281 23.3906 Q57.3281 12.1562 50.6875 5.3594 Q44.0469 -1.4219 33.0156 -1.4219 Q20.3594 -1.4219 13.6719 8.2656 Q6.9844 17.9688 6.9844 36.375 Q6.9844 53.6562 15.1875 63.9375 Q23.3906 74.2188 37.2031 74.2188 Q40.9219 74.2188 44.7031 73.4844 Q48.4844 72.75 52.5938 71.2969 Z\"/><glyph unicode=\"8\" horiz-adv-x=\"64.0\" d=\"M31.7812 34.625 Q24.75 34.625 20.7188 30.8594 Q16.7031 27.0938 16.7031 20.5156 Q16.7031 13.9219 20.7188 10.1562 Q24.75 6.3906 31.7812 6.3906 Q38.8125 6.3906 42.8594 10.1719 Q46.9219 13.9688 46.9219 20.5156 Q46.9219 27.0938 42.8906 30.8594 Q38.875 34.625 31.7812 34.625 ZM21.9219 38.8125 Q15.5781 40.375 12.0312 44.7188 Q8.5 49.0781 8.5 55.3281 Q8.5 64.0625 14.7188 69.1406 Q20.9531 74.2188 31.7812 74.2188 Q42.6719 74.2188 48.875 69.1406 Q55.0781 64.0625 55.0781 55.3281 Q55.0781 49.0781 51.5312 44.7188 Q48 40.375 41.7031 38.8125 Q48.8281 37.1562 52.7969 32.3125 Q56.7812 27.4844 56.7812 20.5156 Q56.7812 9.9062 50.3125 4.2344 Q43.8438 -1.4219 31.7812 -1.4219 Q19.7344 -1.4219 13.25 4.2344 Q6.7812 9.9062 6.7812 20.5156 Q6.7812 27.4844 10.7812 32.3125 Q14.7969 37.1562 21.9219 38.8125 ZM18.3125 54.3906 Q18.3125 48.7344 21.8438 45.5625 Q25.3906 42.3906 31.7812 42.3906 Q38.1406 42.3906 41.7188 45.5625 Q45.3125 48.7344 45.3125 54.3906 Q45.3125 60.0625 41.7188 63.2344 Q38.1406 66.4062 31.7812 66.4062 Q25.3906 66.4062 21.8438 63.2344 Q18.3125 60.0625 18.3125 54.3906 Z\"/><glyph unicode=\"5\" horiz-adv-x=\"64.0\" d=\"M10.7969 72.9062 L49.5156 72.9062 L49.5156 64.5938 L19.8281 64.5938 L19.8281 46.7344 Q21.9688 47.4688 24.1094 47.8281 Q26.2656 48.1875 28.4219 48.1875 Q40.625 48.1875 47.75 41.5 Q54.8906 34.8125 54.8906 23.3906 Q54.8906 11.625 47.5625 5.0938 Q40.2344 -1.4219 26.9062 -1.4219 Q22.3125 -1.4219 17.5469 -0.6406 Q12.7969 0.1406 7.7188 1.7031 L7.7188 11.625 Q12.1094 9.2344 16.7969 8.0625 Q21.4844 6.8906 26.7031 6.8906 Q35.1562 6.8906 40.0781 11.3281 Q45.0156 15.7656 45.0156 23.3906 Q45.0156 31 40.0781 35.4375 Q35.1562 39.8906 26.7031 39.8906 Q22.75 39.8906 18.8125 39.0156 Q14.8906 38.1406 10.7969 36.2812 L10.7969 72.9062 Z\"/></font></defs><g style=\"fill:white; text-rendering:optimizeLegibility; stroke:white;\"><rect x=\"0\" width=\"548\" height=\"336\" y=\"0\" style=\"stroke:none;\"/></g><g style=\"stroke-linecap:butt; fill:white; text-rendering:geometricPrecision; stroke-linejoin:bevel; shape-rendering:crispEdges; stroke:white; stroke-width:0;\"><path style=\"stroke:none;\" d=\"M479.5 42 L479.5 294 L68.5 42 Z\"/><path style=\"stroke:none;\" d=\"M479.5 294 L68.5 294 L68.5 42 Z\"/><path style=\"stroke:none;\" d=\"M479.5 42 L479.5 294 L479.5 294 Z\"/><path style=\"stroke:none;\" d=\"M68.5 42 L68.5 294 L68.5 294 Z\"/><path style=\"stroke:none;\" d=\"M479.5 42 L479.5 294 L68.5 42 Z\"/><path style=\"stroke:none;\" d=\"M479.5 294 L68.5 294 L68.5 42 Z\"/><path style=\"stroke:none;\" d=\"M479.5 42 L479.5 42 L479.5 294 Z\"/><path style=\"stroke:none;\" d=\"M68.5 42 L68.5 42 L68.5 294 Z\"/><path style=\"stroke:none;\" d=\"M479.5 42 L68.5 42 L479.5 42 Z\"/><path style=\"stroke:none;\" d=\"M68.5 42 L68.5 42 L479.5 42 Z\"/><path style=\"stroke:none;\" d=\"M479.5 294 L68.5 294 L479.5 294 Z\"/><path style=\"stroke:none;\" d=\"M68.5 294 L68.5 294 L479.5 294 Z\"/></g><g transform=\"translate(64.5,303)\" style=\"font-size:10px; stroke-linecap:butt; text-rendering:geometricPrecision; font-family:sans-serif; stroke-linejoin:bevel; stroke-width:0;\"><text x=\"-0.6562\" xml:space=\"preserve\" y=\"9.2822\" style=\"stroke:none;\">0</text></g><g transform=\"translate(390.8,303)\" style=\"font-size:10px; stroke-linecap:butt; text-rendering:geometricPrecision; font-family:sans-serif; stroke-linejoin:bevel; stroke-width:0;\"><text x=\"-0.7344\" xml:space=\"preserve\" y=\"9.2822\" style=\"stroke:none;\">20</text></g><g transform=\"translate(226.4,303)\" style=\"font-size:10px; stroke-linecap:butt; text-rendering:geometricPrecision; font-family:sans-serif; stroke-linejoin:bevel; stroke-width:0;\"><text x=\"-1.0938\" xml:space=\"preserve\" y=\"9.2822\" style=\"stroke:none;\">10</text></g><g transform=\"translate(97.88,303)\" style=\"font-size:10px; stroke-linecap:butt; text-rendering:geometricPrecision; font-family:sans-serif; stroke-linejoin:bevel; stroke-width:0;\"><text x=\"-0.7344\" xml:space=\"preserve\" y=\"9.2822\" style=\"stroke:none;\">2</text></g><g transform=\"translate(130.26,303)\" style=\"font-size:10px; stroke-linecap:butt; text-rendering:geometricPrecision; font-family:sans-serif; stroke-linejoin:bevel; stroke-width:0;\"><text x=\"-0.4844\" xml:space=\"preserve\" y=\"9.2822\" style=\"stroke:none;\">4</text></g><g transform=\"translate(163.14,303)\" style=\"font-size:10px; stroke-linecap:butt; text-rendering:geometricPrecision; font-family:sans-serif; stroke-linejoin:bevel; stroke-width:0;\"><text x=\"-0.7031\" xml:space=\"preserve\" y=\"9.2822\" style=\"stroke:none;\">6</text></g><g transform=\"translate(196.52,303)\" style=\"font-size:10px; stroke-linecap:butt; text-rendering:geometricPrecision; font-family:sans-serif; stroke-linejoin:bevel; stroke-width:0;\"><text x=\"-0.6719\" xml:space=\"preserve\" y=\"9.2822\" style=\"stroke:none;\">8</text></g><g transform=\"translate(259.28,303)\" style=\"font-size:10px; stroke-linecap:butt; text-rendering:geometricPrecision; font-family:sans-serif; stroke-linejoin:bevel; stroke-width:0;\"><text x=\"-1.0938\" xml:space=\"preserve\" y=\"9.2822\" style=\"stroke:none;\">12</text></g><g transform=\"translate(292.16,303)\" style=\"font-size:10px; stroke-linecap:butt; text-rendering:geometricPrecision; font-family:sans-serif; stroke-linejoin:bevel; stroke-width:0;\"><text x=\"-1.0938\" xml:space=\"preserve\" y=\"9.2822\" style=\"stroke:none;\">14</text></g><g transform=\"translate(325.04,303)\" style=\"font-size:10px; stroke-linecap:butt; text-rendering:geometricPrecision; font-family:sans-serif; stroke-linejoin:bevel; stroke-width:0;\"><text x=\"-1.0938\" xml:space=\"preserve\" y=\"9.2822\" style=\"stroke:none;\">16</text></g><g transform=\"translate(357.92,303)\" style=\"font-size:10px; stroke-linecap:butt; text-rendering:geometricPrecision; font-family:sans-serif; stroke-linejoin:bevel; stroke-width:0;\"><text x=\"-1.0938\" xml:space=\"preserve\" y=\"9.2822\" style=\"stroke:none;\">18</text></g><g transform=\"translate(423.68,303)\" style=\"font-size:10px; stroke-linecap:butt; text-rendering:geometricPrecision; font-family:sans-serif; stroke-linejoin:bevel; stroke-width:0;\"><text x=\"-0.7344\" xml:space=\"preserve\" y=\"9.2822\" style=\"stroke:none;\">22</text></g><g transform=\"translate(456.06,303)\" style=\"font-size:10px; stroke-linecap:butt; text-rendering:geometricPrecision; font-family:sans-serif; stroke-linejoin:bevel; stroke-width:0;\"><text x=\"-0.7344\" xml:space=\"preserve\" y=\"9.2822\" style=\"stroke:none;\">24</text></g><g style=\"text-rendering:geometricPrecision; font-size:10px; shape-rendering:crispEdges; font-family:sans-serif; stroke-linecap:butt;\"><path style=\"fill:none;\" d=\"M68.5 294 L68.5 300\"/><path style=\"fill:none;\" d=\"M101.38 294 L101.38 300\"/><path style=\"fill:none;\" d=\"M134.26 294 L134.26 300\"/><path style=\"fill:none;\" d=\"M167.14 294 L167.14 300\"/><path style=\"fill:none;\" d=\"M200.02 294 L200.02 300\"/><path style=\"fill:none;\" d=\"M232.9 294 L232.9 300\"/><path style=\"fill:none;\" d=\"M265.78 294 L265.78 300\"/><path style=\"fill:none;\" d=\"M298.66 294 L298.66 300\"/><path style=\"fill:none;\" d=\"M331.54 294 L331.54 300\"/><path style=\"fill:none;\" d=\"M364.42 294 L364.42 300\"/><path style=\"fill:none;\" d=\"M397.3 294 L397.3 300\"/><path style=\"fill:none;\" d=\"M430.18 294 L430.18 300\"/><path style=\"fill:none;\" d=\"M463.06 294 L463.06 300\"/><path style=\"fill:none;\" d=\"M68.5 294 L68.5 297\"/><path style=\"fill:none;\" d=\"M84.94 294 L84.94 297\"/><path style=\"fill:none;\" d=\"M101.38 294 L101.38 297\"/><path style=\"fill:none;\" d=\"M117.82 294 L117.82 297\"/><path style=\"fill:none;\" d=\"M134.26 294 L134.26 297\"/><path style=\"fill:none;\" d=\"M150.7 294 L150.7 297\"/><path style=\"fill:none;\" d=\"M167.14 294 L167.14 297\"/><path style=\"fill:none;\" d=\"M183.58 294 L183.58 297\"/><path style=\"fill:none;\" d=\"M200.02 294 L200.02 297\"/><path style=\"fill:none;\" d=\"M216.46 294 L216.46 297\"/><path style=\"fill:none;\" d=\"M232.9 294 L232.9 297\"/><path style=\"fill:none;\" d=\"M249.34 294 L249.34 297\"/><path style=\"fill:none;\" d=\"M265.78 294 L265.78 297\"/><path style=\"fill:none;\" d=\"M282.22 294 L282.22 297\"/><path style=\"fill:none;\" d=\"M298.66 294 L298.66 297\"/><path style=\"fill:none;\" d=\"M315.1 294 L315.1 297\"/><path style=\"fill:none;\" d=\"M331.54 294 L331.54 297\"/><path style=\"fill:none;\" d=\"M347.98 294 L347.98 297\"/><path style=\"fill:none;\" d=\"M364.42 294 L364.42 297\"/><path style=\"fill:none;\" d=\"M380.86 294 L380.86 297\"/><path style=\"fill:none;\" d=\"M397.3 294 L397.3 297\"/><path style=\"fill:none;\" d=\"M413.74 294 L413.74 297\"/><path style=\"fill:none;\" d=\"M430.18 294 L430.18 297\"/><path style=\"fill:none;\" d=\"M446.62 294 L446.62 297\"/><path style=\"fill:none;\" d=\"M463.06 294 L463.06 297\"/><path style=\"fill:none;\" d=\"M479.5 294 L479.5 297\"/><path style=\"fill:none;\" d=\"M479.5 294 L68.5 294\"/><text x=\"-0.6562\" y=\"9.2822\" transform=\"translate(51.5,245.5)\" style=\"stroke-linejoin:bevel; shape-rendering:auto; stroke:none; stroke-width:0;\" xml:space=\"preserve\">0</text></g><g transform=\"translate(46.5,35.5)\" style=\"font-size:10px; stroke-linecap:butt; text-rendering:geometricPrecision; font-family:sans-serif; stroke-linejoin:bevel; stroke-width:0;\"><text x=\"-0.7344\" xml:space=\"preserve\" y=\"9.2822\" style=\"stroke:none;\">20</text></g><g transform=\"translate(46.5,140.5)\" style=\"font-size:10px; stroke-linecap:butt; text-rendering:geometricPrecision; font-family:sans-serif; stroke-linejoin:bevel; stroke-width:0;\"><text x=\"-1.0938\" xml:space=\"preserve\" y=\"9.2822\" style=\"stroke:none;\">10</text></g><g transform=\"translate(52.5,193)\" style=\"font-size:10px; stroke-linecap:butt; text-rendering:geometricPrecision; font-family:sans-serif; stroke-linejoin:bevel; stroke-width:0;\"><text x=\"-0.7656\" xml:space=\"preserve\" y=\"9.2822\" style=\"stroke:none;\">5</text></g><g transform=\"translate(46.5,88)\" style=\"font-size:10px; stroke-linecap:butt; text-rendering:geometricPrecision; font-family:sans-serif; stroke-linejoin:bevel; stroke-width:0;\"><text x=\"-1.0938\" xml:space=\"preserve\" y=\"9.2822\" style=\"stroke:none;\">15</text></g><g style=\"text-rendering:geometricPrecision; font-size:10px; shape-rendering:crispEdges; font-family:sans-serif; stroke-linecap:butt;\"><path style=\"fill:none;\" d=\"M68.5 252 L62.5 252\"/><path style=\"fill:none;\" d=\"M68.5 199.5 L62.5 199.5\"/><path style=\"fill:none;\" d=\"M68.5 147 L62.5 147\"/><path style=\"fill:none;\" d=\"M68.5 94.5 L62.5 94.5\"/><path style=\"fill:none;\" d=\"M68.5 42 L62.5 42\"/><path style=\"fill:none;\" d=\"M68.5 294 L65.5 294\"/><path style=\"fill:none;\" d=\"M68.5 283.5 L65.5 283.5\"/><path style=\"fill:none;\" d=\"M68.5 273 L65.5 273\"/><path style=\"fill:none;\" d=\"M68.5 262.5 L65.5 262.5\"/><path style=\"fill:none;\" d=\"M68.5 252 L65.5 252\"/><path style=\"fill:none;\" d=\"M68.5 241.5 L65.5 241.5\"/><path style=\"fill:none;\" d=\"M68.5 231 L65.5 231\"/><path style=\"fill:none;\" d=\"M68.5 220.5 L65.5 220.5\"/><path style=\"fill:none;\" d=\"M68.5 210 L65.5 210\"/><path style=\"fill:none;\" d=\"M68.5 199.5 L65.5 199.5\"/><path style=\"fill:none;\" d=\"M68.5 189 L65.5 189\"/><path style=\"fill:none;\" d=\"M68.5 178.5 L65.5 178.5\"/><path style=\"fill:none;\" d=\"M68.5 168 L65.5 168\"/><path style=\"fill:none;\" d=\"M68.5 157.5 L65.5 157.5\"/><path style=\"fill:none;\" d=\"M68.5 147 L65.5 147\"/><path style=\"fill:none;\" d=\"M68.5 136.5 L65.5 136.5\"/><path style=\"fill:none;\" d=\"M68.5 126 L65.5 126\"/><path style=\"fill:none;\" d=\"M68.5 115.5 L65.5 115.5\"/><path style=\"fill:none;\" d=\"M68.5 105 L65.5 105\"/><path style=\"fill:none;\" d=\"M68.5 94.5 L65.5 94.5\"/><path style=\"fill:none;\" d=\"M68.5 84 L65.5 84\"/><path style=\"fill:none;\" d=\"M68.5 73.5 L65.5 73.5\"/><path style=\"fill:none;\" d=\"M68.5 63 L65.5 63\"/><path style=\"fill:none;\" d=\"M68.5 52.5 L65.5 52.5\"/><path style=\"fill:none;\" d=\"M68.5 42 L65.5 42\"/><path style=\"fill:none;\" d=\"M68.5 42 L68.5 294\"/><path d=\"M68.5 42 L69.322 46.7347 L70.144 59.0378 L70.966 76.3514 L71.788 96.5485 L72.61 117.9303 L73.432 139.2003 L74.254 159.4243 L75.076 177.9814 L75.898 194.5107 L76.72 208.8595 L77.542 221.0336 L78.364 231.1528 L79.186 239.4123 L80.008 246.0512 L80.83 251.3264 L81.652 255.4933 L82.474 258.7917 L83.296 261.4367 L84.118 263.6131 L84.94 265.4733 L85.762 267.1375 L86.584 268.6959 L87.406 270.2113 L88.228 271.7234 L89.05 273.2526 L89.872 274.8039 L90.694 276.371 L91.516 277.9395 L92.338 279.49 L93.16 281.0003 L93.982 282.448 L94.804 283.8109 L95.626 285.0692 L96.448 286.2054 L97.27 287.2052 L98.092 288.0574 L98.914 288.7539 L99.736 289.2894 L100.558 289.6615 L101.38 289.87 L102.202 289.9169 L103.024 289.8058 L103.846 289.5415 L104.668 289.1302 L105.49 288.5786 L106.312 287.8941 L107.134 287.0847 L107.956 286.1584 L108.778 285.1234 L109.6 283.988 L110.422 282.7605 L111.244 281.4492 L112.066 280.0621 L112.888 278.6074 L113.71 277.0929 L114.532 275.5264 L115.354 273.9156 L116.176 272.268 L116.998 270.5909 L117.82 268.8917 L118.642 267.1774 L119.464 265.4548 L120.286 263.7308 L121.108 262.0119 L121.93 260.3044 L122.752 258.6144 L123.574 256.9479 L124.396 255.3104 L125.218 253.7075 L126.04 252.1441 L126.862 250.6252 L127.684 249.1552 L128.506 247.7383 L129.328 246.3786 L130.15 245.0794 L130.972 243.8441 L131.794 242.6756 L132.616 241.5764 L133.438 240.5488 L134.26 239.5946 L135.082 238.7154 L135.904 237.9125 L136.726 237.1867 L137.548 236.5385 L138.37 235.9683 L139.192 235.476 L140.014 235.0612 L140.836 234.7234 L141.658 234.4614 L142.48 234.2743 L143.302 234.1606 L144.124 234.1185 L144.946 234.1462 L145.768 234.2415 L146.59 234.4023 L147.412 234.6259 L148.234 234.9096 L149.056 235.2507 L149.878 235.6463 L150.7 236.0931 L151.522 236.5881 L152.344 237.1279 L153.166 237.7093 L153.988 238.3287 L154.81 238.9827 L155.632 239.6677 L156.454 240.3804 L157.276 241.117 L158.098 241.8743 L158.92 242.6485 L159.742 243.4363 L160.564 244.2343 L161.386 245.039 L162.208 245.8474 L163.03 246.656 L163.852 247.4619 L164.674 248.2619 L165.496 249.0533 L166.318 249.8332 L167.14 250.5989 L167.962 251.348 L168.784 252.078 L169.606 252.7867 L170.428 253.472 L171.25 254.1319 L172.072 254.7647 L172.894 255.3686 L173.716 255.9422 L174.538 256.4843 L175.36 256.9935 L176.182 257.4689 L177.004 257.9096 L177.826 258.3151 L178.648 258.6846 L179.47 259.0179 L180.292 259.3146 L181.114 259.5748 L181.936 259.7984 L182.758 259.9857 L183.58 260.137 L184.402 260.2527 L185.224 260.3335 L186.046 260.38 L186.868 260.393 L187.69 260.3734 L188.512 260.3223 L189.334 260.2408 L190.156 260.13 L190.978 259.9912 L191.8 259.8258 L192.622 259.6352 L193.444 259.4207 L194.266 259.184 L195.088 258.9265 L195.91 258.6499 L196.732 258.3557 L197.554 258.0457 L198.376 257.7213 L199.198 257.3844 L200.02 257.0366 L200.842 256.6794 L201.664 256.3146 L202.486 255.9437 L203.308 255.5684 L204.13 255.1902 L204.952 254.8106 L205.774 254.4312 L206.596 254.0534 L207.418 253.6786 L208.24 253.3082 L209.062 252.9434 L209.884 252.5855 L210.706 252.2356 L211.528 251.8949 L212.35 251.5644 L213.172 251.2451 L213.994 250.9379 L214.816 250.6436 L215.638 250.363 L216.46 250.0967 L217.282 249.8454 L218.104 249.6096 L218.926 249.3897 L219.748 249.1862 L220.57 248.9993 L221.392 248.8293 L222.214 248.6763 L223.036 248.5405 L223.858 248.4219 L224.68 248.3204 L225.502 248.236 L226.324 248.1684 L227.146 248.1174 L227.968 248.0828 L228.79 248.0642 L229.612 248.0613 L230.434 248.0735 L231.256 248.1004 L232.078 248.1415 L232.9 248.1962 L233.722 248.264 L234.544 248.3441 L235.366 248.4359 L236.188 248.5387 L237.01 248.6519 L237.832 248.7746 L238.654 248.9062 L239.476 249.0459 L240.298 249.1928 L241.12 249.3463 L241.942 249.5055 L242.764 249.6698 L243.586 249.8382 L244.408 250.0101 L245.23 250.1846 L246.052 250.3611 L246.874 250.5388 L247.696 250.717 L248.518 250.895 L249.34 251.0721 L250.162 251.2476 L250.984 251.421 L251.806 251.5916 L252.628 251.7589 L253.45 251.9223 L254.272 252.0813 L255.094 252.2354 L255.916 252.3841 L256.738 252.5271 L257.56 252.664 L258.382 252.7943 L259.204 252.9179 L260.026 253.0344 L260.848 253.1436 L261.67 253.2452 L262.492 253.3392 L263.314 253.4253 L264.136 253.5035 L264.958 253.5736 L265.78 253.6357 L266.602 253.6898 L267.424 253.7358 L268.246 253.7738 L269.068 253.8039 L269.89 253.8263 L270.712 253.841 L271.534 253.8482 L272.356 253.8481 L273.178 253.841 L274 253.827 L274.822 253.8063 L275.644 253.7794 L276.466 253.7464 L277.288 253.7076 L278.11 253.6635 L278.932 253.6142 L279.754 253.5601 L280.576 253.5016 L281.398 253.4391 L282.22 253.3728 L283.042 253.3032 L283.864 253.2306 L284.686 253.1553 L285.508 253.0778 L286.33 252.9984 L287.152 252.9174 L287.974 252.8353 L288.796 252.7523 L289.618 252.6688 L290.44 252.5852 L291.262 252.5017 L292.084 252.4187 L292.906 252.3365 L293.728 252.2554 L294.55 252.1756 L295.372 252.0974 L296.194 252.0211 L297.016 251.947 L297.838 251.8751 L298.66 251.8058 L299.482 251.7393 L300.304 251.6757 L301.126 251.6151 L301.948 251.5578 L302.77 251.5038 L303.592 251.4532 L304.414 251.4063 L305.236 251.3629 L306.058 251.3232 L306.88 251.2873 L307.702 251.2552 L308.524 251.2268 L309.346 251.2022 L310.168 251.1814 L310.99 251.1643 L311.812 251.1509 L312.634 251.1411 L313.456 251.1349 L314.278 251.1322 L315.1 251.133 L315.922 251.137 L316.744 251.1442 L317.566 251.1545 L318.388 251.1677 L319.21 251.1838 L320.032 251.2025 L320.854 251.2237 L321.676 251.2473 L322.498 251.2731 L323.32 251.301 L324.142 251.3307 L324.964 251.3622 L325.786 251.3951 L326.608 251.4295 L327.43 251.465 L328.252 251.5016 L329.074 251.5391 L329.896 251.5772 L330.718 251.6158 L331.54 251.6548 L332.362 251.694 L333.184 251.7333 L334.006 251.7725 L334.828 251.8114 L335.65 251.8499 L336.472 251.8878 L337.294 251.9251 L338.116 251.9616 L338.938 251.9973 L339.76 252.0318 L340.582 252.0653 L341.404 252.0976 L342.226 252.1286 L343.048 252.1581 L343.87 252.1862 L344.692 252.2128 L345.514 252.2379 L346.336 252.2612 L347.158 252.283 L347.98 252.303 L348.802 252.3212 L349.624 252.3377 L350.446 252.3525 L351.268 252.3654 L352.09 252.3766 L352.912 252.386 L353.734 252.3937 L354.556 252.3996 L355.378 252.4039 L356.2 252.4064 L357.022 252.4073 L357.844 252.4067 L358.666 252.4045 L359.488 252.4008 L360.31 252.3957 L361.132 252.3892 L361.954 252.3814 L362.776 252.3724 L363.598 252.3622 L364.42 252.3509 L365.242 252.3386 L366.064 252.3253 L366.886 252.3112 L367.708 252.2963 L368.53 252.2807 L369.352 252.2644 L370.174 252.2476 L370.996 252.2304 L371.818 252.2127 L372.64 252.1948 L373.462 252.1766 L374.284 252.1583 L375.106 252.1399 L375.928 252.1214 L376.75 252.1031 L377.572 252.0849 L378.394 252.0668 L379.216 252.0491 L380.038 252.0316 L380.86 252.0146 L381.682 251.998 L382.504 251.9818 L383.326 251.9662 L384.148 251.9512 L384.97 251.9368 L385.792 251.923 L386.614 251.91 L387.436 251.8976 L388.258 251.8861 L389.08 251.8752 L389.902 251.8652 L390.724 251.856 L391.546 251.8476 L392.368 251.84 L393.19 251.8333 L394.012 251.8273 L394.834 251.8223 L395.656 251.818 L396.478 251.8146 L397.3 251.812 L398.122 251.8101 L398.944 251.8091 L399.766 251.8088 L400.588 251.8093 L401.41 251.8104 L402.232 251.8123 L403.054 251.8148 L403.876 251.818 L404.698 251.8218 L405.52 251.8261 L406.342 251.831 L407.164 251.8364 L407.986 251.8423 L408.808 251.8486 L409.63 251.8553 L410.452 251.8624 L411.274 251.8698 L412.096 251.8775 L412.918 251.8854 L413.74 251.8935 L414.562 251.9019 L415.384 251.9103 L416.206 251.9189 L417.028 251.9275 L417.85 251.9361 L418.672 251.9448 L419.494 251.9534 L420.316 251.9619 L421.138 251.9703 L421.96 251.9786 L422.782 251.9868 L423.604 251.9948 L424.426 252.0025 L425.248 252.01 L426.07 252.0173 L426.892 252.0243 L427.714 252.031 L428.536 252.0374 L429.358 252.0435 L430.18 252.0492 L431.002 252.0545 L431.824 252.0595 L432.646 252.0642 L433.468 252.0684 L434.29 252.0723 L435.112 252.0758 L435.934 252.0789 L436.756 252.0816 L437.578 252.0839 L438.4 252.0858 L439.222 252.0873 L440.044 252.0885 L440.866 252.0892 L441.688 252.0897 L442.51 252.0897 L443.332 252.0894 L444.154 252.0888 L444.976 252.0879 L445.798 252.0866 L446.62 252.0851 L447.442 252.0833 L448.264 252.0812 L449.086 252.0788 L449.908 252.0762 L450.73 252.0734 L451.552 252.0704 L452.374 252.0672 L453.196 252.0639 L454.018 252.0604 L454.84 252.0568 L455.662 252.053 L456.484 252.0492 L457.306 252.0453 L458.128 252.0413 L458.95 252.0373 L459.772 252.0332 L460.594 252.0292 L461.416 252.0251 L462.238 252.0211 L463.06 252.0171 L463.882 252.0131 L464.704 252.0092 L465.526 252.0054 L466.348 252.0017 L467.17 251.9981 L467.992 251.9946 L468.814 251.9912 L469.636 251.9879 L470.458 251.9848 L471.28 251.9819 L472.102 251.979 L472.924 251.9764 L473.746 251.9739 L474.568 251.9716 L475.39 251.9695 L476.212 251.9675 L477.034 251.9657 L477.856 251.9641 L478.678 251.9627 L479.5 251.9615\" style=\"fill:none; stroke-width:2; clip-path:url(#clipPath1);\"/><path style=\"fill:none;\" d=\"M68.5 294 L68.5 42 L68.5 42 L479.5 42 L479.5 294 L479.5 294 L68.5 294\"/><path style=\"fill:none;\" d=\"M479.5 42 L68.5 42\"/><path style=\"fill:none;\" d=\"M479.5 42 L479.5 294\"/><path style=\"fill:none;\" d=\"M479.5 42 L479.5 42\"/></g></g></svg>",
      "text/plain": [
       "<IPython.core.display.SVG object>"
      ]
     },
     "metadata": {},
     "output_type": "display_data"
    }
   ],
   "source": [
    "plot(t,csim('step',t,U),'k-','LineWidth',2);"
   ]
  },
  {
   "cell_type": "markdown",
   "metadata": {},
   "source": [
    "E a resposta ao pulso:"
   ]
  },
  {
   "cell_type": "code",
   "execution_count": 38,
   "metadata": {},
   "outputs": [
    {
     "name": "stdout",
     "output_type": "stream",
     "text": [
      "\u001b[4l\u001b[0m\n",
      "\u001b[0m"
     ]
    },
    {
     "data": {
      "image/svg+xml": "<svg xmlns:xlink=\"http://www.w3.org/1999/xlink\" xmlns=\"http://www.w3.org/2000/svg\" style=\"fill-opacity:1; color-rendering:auto; color-interpolation:auto; text-rendering:auto; stroke:black; stroke-linecap:square; stroke-miterlimit:10; shape-rendering:auto; stroke-opacity:1; fill:black; stroke-dasharray:none; font-weight:normal; stroke-width:1; font-family:'Dialog'; font-style:normal; stroke-linejoin:miter; font-size:12px; stroke-dashoffset:0; image-rendering:auto;\" width=\"548\" height=\"336\"><!--Generated by Scilab with Batik SVG Generator--><defs id=\"genericDefs\"/><g><defs id=\"defs1\"><clipPath clipPathUnits=\"userSpaceOnUse\" id=\"clipPath1\"><path d=\"M68.4959 41.9975 L479.5041 41.9975 L479.5041 294.0025 L68.4959 294.0025 L68.4959 41.9975 Z\"/></clipPath><font horiz-adv-x=\"60.0\" id=\"font1\"><font-face ascent=\"92.822266\" descent=\"23.583984\" units-per-em=\"100\" style=\"font-style:normal; font-family:sans-serif; font-weight:normal;\"/><missing-glyph horiz-adv-x=\"60.0\" d=\"M4.9844 -17.6719 L4.9844 70.5156 L54.9844 70.5156 L54.9844 -17.6719 L4.9844 -17.6719 ZM10.5938 -12.1094 L49.4219 -12.1094 L49.4219 64.8906 L10.5938 64.8906 L10.5938 -12.1094 Z\"/><glyph unicode=\"0\" horiz-adv-x=\"64.0\" d=\"M31.7812 66.4062 Q24.1719 66.4062 20.3281 58.9062 Q16.5 51.4219 16.5 36.375 Q16.5 21.3906 20.3281 13.8906 Q24.1719 6.3906 31.7812 6.3906 Q39.4531 6.3906 43.2812 13.8906 Q47.125 21.3906 47.125 36.375 Q47.125 51.4219 43.2812 58.9062 Q39.4531 66.4062 31.7812 66.4062 ZM31.7812 74.2188 Q44.0469 74.2188 50.5156 64.5156 Q56.9844 54.8281 56.9844 36.375 Q56.9844 17.9688 50.5156 8.2656 Q44.0469 -1.4219 31.7812 -1.4219 Q19.5312 -1.4219 13.0625 8.2656 Q6.5938 17.9688 6.5938 36.375 Q6.5938 54.8281 13.0625 64.5156 Q19.5312 74.2188 31.7812 74.2188 Z\"/><glyph unicode=\"2\" horiz-adv-x=\"64.0\" d=\"M19.1875 8.2969 L53.6094 8.2969 L53.6094 0 L7.3281 0 L7.3281 8.2969 Q12.9375 14.1094 22.625 23.8906 Q32.3281 33.6875 34.8125 36.5312 Q39.5469 41.8438 41.4219 45.5312 Q43.3125 49.2188 43.3125 52.7812 Q43.3125 58.5938 39.2344 62.25 Q35.1562 65.9219 28.6094 65.9219 Q23.9688 65.9219 18.8125 64.3125 Q13.6719 62.7031 7.8125 59.4219 L7.8125 69.3906 Q13.7656 71.7812 18.9375 73 Q24.125 74.2188 28.4219 74.2188 Q39.75 74.2188 46.4844 68.5469 Q53.2188 62.8906 53.2188 53.4219 Q53.2188 48.9219 51.5312 44.8906 Q49.8594 40.875 45.4062 35.4062 Q44.1875 33.9844 37.6406 27.2188 Q31.1094 20.4531 19.1875 8.2969 Z\"/><glyph unicode=\"1\" horiz-adv-x=\"64.0\" d=\"M12.4062 8.2969 L28.5156 8.2969 L28.5156 63.9219 L10.9844 60.4062 L10.9844 69.3906 L28.4219 72.9062 L38.2812 72.9062 L38.2812 8.2969 L54.3906 8.2969 L54.3906 0 L12.4062 0 L12.4062 8.2969 Z\"/><glyph unicode=\"4\" horiz-adv-x=\"64.0\" d=\"M37.7969 64.3125 L12.8906 25.3906 L37.7969 25.3906 L37.7969 64.3125 ZM35.2031 72.9062 L47.6094 72.9062 L47.6094 25.3906 L58.0156 25.3906 L58.0156 17.1875 L47.6094 17.1875 L47.6094 0 L37.7969 0 L37.7969 17.1875 L4.8906 17.1875 L4.8906 26.7031 L35.2031 72.9062 Z\"/><glyph unicode=\"6\" horiz-adv-x=\"64.0\" d=\"M33.0156 40.375 Q26.375 40.375 22.4844 35.8281 Q18.6094 31.2969 18.6094 23.3906 Q18.6094 15.5312 22.4844 10.9531 Q26.375 6.3906 33.0156 6.3906 Q39.6562 6.3906 43.5312 10.9531 Q47.4062 15.5312 47.4062 23.3906 Q47.4062 31.2969 43.5312 35.8281 Q39.6562 40.375 33.0156 40.375 ZM52.5938 71.2969 L52.5938 62.3125 Q48.875 64.0625 45.0938 64.9844 Q41.3125 65.9219 37.5938 65.9219 Q27.8281 65.9219 22.6719 59.3281 Q17.5312 52.7344 16.7969 39.4062 Q19.6719 43.6562 24.0156 45.9219 Q28.375 48.1875 33.5938 48.1875 Q44.5781 48.1875 50.9531 41.5156 Q57.3281 34.8594 57.3281 23.3906 Q57.3281 12.1562 50.6875 5.3594 Q44.0469 -1.4219 33.0156 -1.4219 Q20.3594 -1.4219 13.6719 8.2656 Q6.9844 17.9688 6.9844 36.375 Q6.9844 53.6562 15.1875 63.9375 Q23.3906 74.2188 37.2031 74.2188 Q40.9219 74.2188 44.7031 73.4844 Q48.4844 72.75 52.5938 71.2969 Z\"/><glyph unicode=\"8\" horiz-adv-x=\"64.0\" d=\"M31.7812 34.625 Q24.75 34.625 20.7188 30.8594 Q16.7031 27.0938 16.7031 20.5156 Q16.7031 13.9219 20.7188 10.1562 Q24.75 6.3906 31.7812 6.3906 Q38.8125 6.3906 42.8594 10.1719 Q46.9219 13.9688 46.9219 20.5156 Q46.9219 27.0938 42.8906 30.8594 Q38.875 34.625 31.7812 34.625 ZM21.9219 38.8125 Q15.5781 40.375 12.0312 44.7188 Q8.5 49.0781 8.5 55.3281 Q8.5 64.0625 14.7188 69.1406 Q20.9531 74.2188 31.7812 74.2188 Q42.6719 74.2188 48.875 69.1406 Q55.0781 64.0625 55.0781 55.3281 Q55.0781 49.0781 51.5312 44.7188 Q48 40.375 41.7031 38.8125 Q48.8281 37.1562 52.7969 32.3125 Q56.7812 27.4844 56.7812 20.5156 Q56.7812 9.9062 50.3125 4.2344 Q43.8438 -1.4219 31.7812 -1.4219 Q19.7344 -1.4219 13.25 4.2344 Q6.7812 9.9062 6.7812 20.5156 Q6.7812 27.4844 10.7812 32.3125 Q14.7969 37.1562 21.9219 38.8125 ZM18.3125 54.3906 Q18.3125 48.7344 21.8438 45.5625 Q25.3906 42.3906 31.7812 42.3906 Q38.1406 42.3906 41.7188 45.5625 Q45.3125 48.7344 45.3125 54.3906 Q45.3125 60.0625 41.7188 63.2344 Q38.1406 66.4062 31.7812 66.4062 Q25.3906 66.4062 21.8438 63.2344 Q18.3125 60.0625 18.3125 54.3906 Z\"/><glyph unicode=\"5\" horiz-adv-x=\"64.0\" d=\"M10.7969 72.9062 L49.5156 72.9062 L49.5156 64.5938 L19.8281 64.5938 L19.8281 46.7344 Q21.9688 47.4688 24.1094 47.8281 Q26.2656 48.1875 28.4219 48.1875 Q40.625 48.1875 47.75 41.5 Q54.8906 34.8125 54.8906 23.3906 Q54.8906 11.625 47.5625 5.0938 Q40.2344 -1.4219 26.9062 -1.4219 Q22.3125 -1.4219 17.5469 -0.6406 Q12.7969 0.1406 7.7188 1.7031 L7.7188 11.625 Q12.1094 9.2344 16.7969 8.0625 Q21.4844 6.8906 26.7031 6.8906 Q35.1562 6.8906 40.0781 11.3281 Q45.0156 15.7656 45.0156 23.3906 Q45.0156 31 40.0781 35.4375 Q35.1562 39.8906 26.7031 39.8906 Q22.75 39.8906 18.8125 39.0156 Q14.8906 38.1406 10.7969 36.2812 L10.7969 72.9062 Z\"/><glyph unicode=\".\" horiz-adv-x=\"32.0\" d=\"M10.6875 12.4062 L21 12.4062 L21 0 L10.6875 0 L10.6875 12.4062 Z\"/></font></defs><g style=\"fill:white; text-rendering:optimizeLegibility; stroke:white;\"><rect x=\"0\" width=\"548\" height=\"336\" y=\"0\" style=\"stroke:none;\"/></g><g style=\"stroke-linecap:butt; fill:white; text-rendering:geometricPrecision; stroke-linejoin:bevel; shape-rendering:crispEdges; stroke:white; stroke-width:0;\"><path style=\"stroke:none;\" d=\"M479.5 42 L479.5 294 L68.5 42 Z\"/><path style=\"stroke:none;\" d=\"M479.5 294 L68.5 294 L68.5 42 Z\"/><path style=\"stroke:none;\" d=\"M479.5 42 L479.5 294 L479.5 294 Z\"/><path style=\"stroke:none;\" d=\"M68.5 42 L68.5 294 L68.5 294 Z\"/><path style=\"stroke:none;\" d=\"M479.5 42 L479.5 294 L68.5 42 Z\"/><path style=\"stroke:none;\" d=\"M479.5 294 L68.5 294 L68.5 42 Z\"/><path style=\"stroke:none;\" d=\"M479.5 42 L479.5 42 L479.5 294 Z\"/><path style=\"stroke:none;\" d=\"M68.5 42 L68.5 42 L68.5 294 Z\"/><path style=\"stroke:none;\" d=\"M479.5 42 L68.5 42 L479.5 42 Z\"/><path style=\"stroke:none;\" d=\"M68.5 42 L68.5 42 L479.5 42 Z\"/><path style=\"stroke:none;\" d=\"M479.5 294 L68.5 294 L479.5 294 Z\"/><path style=\"stroke:none;\" d=\"M68.5 294 L68.5 294 L479.5 294 Z\"/></g><g transform=\"translate(64.5,303)\" style=\"font-size:10px; stroke-linecap:butt; text-rendering:geometricPrecision; font-family:sans-serif; stroke-linejoin:bevel; stroke-width:0;\"><text x=\"-0.6562\" xml:space=\"preserve\" y=\"9.2822\" style=\"stroke:none;\">0</text></g><g transform=\"translate(390.8,303)\" style=\"font-size:10px; stroke-linecap:butt; text-rendering:geometricPrecision; font-family:sans-serif; stroke-linejoin:bevel; stroke-width:0;\"><text x=\"-0.7344\" xml:space=\"preserve\" y=\"9.2822\" style=\"stroke:none;\">20</text></g><g transform=\"translate(226.4,303)\" style=\"font-size:10px; stroke-linecap:butt; text-rendering:geometricPrecision; font-family:sans-serif; stroke-linejoin:bevel; stroke-width:0;\"><text x=\"-1.0938\" xml:space=\"preserve\" y=\"9.2822\" style=\"stroke:none;\">10</text></g><g transform=\"translate(97.88,303)\" style=\"font-size:10px; stroke-linecap:butt; text-rendering:geometricPrecision; font-family:sans-serif; stroke-linejoin:bevel; stroke-width:0;\"><text x=\"-0.7344\" xml:space=\"preserve\" y=\"9.2822\" style=\"stroke:none;\">2</text></g><g transform=\"translate(130.26,303)\" style=\"font-size:10px; stroke-linecap:butt; text-rendering:geometricPrecision; font-family:sans-serif; stroke-linejoin:bevel; stroke-width:0;\"><text x=\"-0.4844\" xml:space=\"preserve\" y=\"9.2822\" style=\"stroke:none;\">4</text></g><g transform=\"translate(163.14,303)\" style=\"font-size:10px; stroke-linecap:butt; text-rendering:geometricPrecision; font-family:sans-serif; stroke-linejoin:bevel; stroke-width:0;\"><text x=\"-0.7031\" xml:space=\"preserve\" y=\"9.2822\" style=\"stroke:none;\">6</text></g><g transform=\"translate(196.52,303)\" style=\"font-size:10px; stroke-linecap:butt; text-rendering:geometricPrecision; font-family:sans-serif; stroke-linejoin:bevel; stroke-width:0;\"><text x=\"-0.6719\" xml:space=\"preserve\" y=\"9.2822\" style=\"stroke:none;\">8</text></g><g transform=\"translate(259.28,303)\" style=\"font-size:10px; stroke-linecap:butt; text-rendering:geometricPrecision; font-family:sans-serif; stroke-linejoin:bevel; stroke-width:0;\"><text x=\"-1.0938\" xml:space=\"preserve\" y=\"9.2822\" style=\"stroke:none;\">12</text></g><g transform=\"translate(292.16,303)\" style=\"font-size:10px; stroke-linecap:butt; text-rendering:geometricPrecision; font-family:sans-serif; stroke-linejoin:bevel; stroke-width:0;\"><text x=\"-1.0938\" xml:space=\"preserve\" y=\"9.2822\" style=\"stroke:none;\">14</text></g><g transform=\"translate(325.04,303)\" style=\"font-size:10px; stroke-linecap:butt; text-rendering:geometricPrecision; font-family:sans-serif; stroke-linejoin:bevel; stroke-width:0;\"><text x=\"-1.0938\" xml:space=\"preserve\" y=\"9.2822\" style=\"stroke:none;\">16</text></g><g transform=\"translate(357.92,303)\" style=\"font-size:10px; stroke-linecap:butt; text-rendering:geometricPrecision; font-family:sans-serif; stroke-linejoin:bevel; stroke-width:0;\"><text x=\"-1.0938\" xml:space=\"preserve\" y=\"9.2822\" style=\"stroke:none;\">18</text></g><g transform=\"translate(423.68,303)\" style=\"font-size:10px; stroke-linecap:butt; text-rendering:geometricPrecision; font-family:sans-serif; stroke-linejoin:bevel; stroke-width:0;\"><text x=\"-0.7344\" xml:space=\"preserve\" y=\"9.2822\" style=\"stroke:none;\">22</text></g><g transform=\"translate(456.06,303)\" style=\"font-size:10px; stroke-linecap:butt; text-rendering:geometricPrecision; font-family:sans-serif; stroke-linejoin:bevel; stroke-width:0;\"><text x=\"-0.7344\" xml:space=\"preserve\" y=\"9.2822\" style=\"stroke:none;\">24</text></g><g style=\"text-rendering:geometricPrecision; font-size:10px; shape-rendering:crispEdges; font-family:sans-serif; stroke-linecap:butt;\"><path style=\"fill:none;\" d=\"M68.5 294 L68.5 300\"/><path style=\"fill:none;\" d=\"M101.38 294 L101.38 300\"/><path style=\"fill:none;\" d=\"M134.26 294 L134.26 300\"/><path style=\"fill:none;\" d=\"M167.14 294 L167.14 300\"/><path style=\"fill:none;\" d=\"M200.02 294 L200.02 300\"/><path style=\"fill:none;\" d=\"M232.9 294 L232.9 300\"/><path style=\"fill:none;\" d=\"M265.78 294 L265.78 300\"/><path style=\"fill:none;\" d=\"M298.66 294 L298.66 300\"/><path style=\"fill:none;\" d=\"M331.54 294 L331.54 300\"/><path style=\"fill:none;\" d=\"M364.42 294 L364.42 300\"/><path style=\"fill:none;\" d=\"M397.3 294 L397.3 300\"/><path style=\"fill:none;\" d=\"M430.18 294 L430.18 300\"/><path style=\"fill:none;\" d=\"M463.06 294 L463.06 300\"/><path style=\"fill:none;\" d=\"M68.5 294 L68.5 297\"/><path style=\"fill:none;\" d=\"M84.94 294 L84.94 297\"/><path style=\"fill:none;\" d=\"M101.38 294 L101.38 297\"/><path style=\"fill:none;\" d=\"M117.82 294 L117.82 297\"/><path style=\"fill:none;\" d=\"M134.26 294 L134.26 297\"/><path style=\"fill:none;\" d=\"M150.7 294 L150.7 297\"/><path style=\"fill:none;\" d=\"M167.14 294 L167.14 297\"/><path style=\"fill:none;\" d=\"M183.58 294 L183.58 297\"/><path style=\"fill:none;\" d=\"M200.02 294 L200.02 297\"/><path style=\"fill:none;\" d=\"M216.46 294 L216.46 297\"/><path style=\"fill:none;\" d=\"M232.9 294 L232.9 297\"/><path style=\"fill:none;\" d=\"M249.34 294 L249.34 297\"/><path style=\"fill:none;\" d=\"M265.78 294 L265.78 297\"/><path style=\"fill:none;\" d=\"M282.22 294 L282.22 297\"/><path style=\"fill:none;\" d=\"M298.66 294 L298.66 297\"/><path style=\"fill:none;\" d=\"M315.1 294 L315.1 297\"/><path style=\"fill:none;\" d=\"M331.54 294 L331.54 297\"/><path style=\"fill:none;\" d=\"M347.98 294 L347.98 297\"/><path style=\"fill:none;\" d=\"M364.42 294 L364.42 297\"/><path style=\"fill:none;\" d=\"M380.86 294 L380.86 297\"/><path style=\"fill:none;\" d=\"M397.3 294 L397.3 297\"/><path style=\"fill:none;\" d=\"M413.74 294 L413.74 297\"/><path style=\"fill:none;\" d=\"M430.18 294 L430.18 297\"/><path style=\"fill:none;\" d=\"M446.62 294 L446.62 297\"/><path style=\"fill:none;\" d=\"M463.06 294 L463.06 297\"/><path style=\"fill:none;\" d=\"M479.5 294 L479.5 297\"/><path style=\"fill:none;\" d=\"M479.5 294 L68.5 294\"/><text x=\"-0.6562\" y=\"9.2822\" transform=\"translate(51.5,266.5)\" style=\"stroke-linejoin:bevel; shape-rendering:auto; stroke:none; stroke-width:0;\" xml:space=\"preserve\">0</text></g><g transform=\"translate(52.5,56.5)\" style=\"font-size:10px; stroke-linecap:butt; text-rendering:geometricPrecision; font-family:sans-serif; stroke-linejoin:bevel; stroke-width:0;\"><text x=\"-0.7344\" xml:space=\"preserve\" y=\"9.2822\" style=\"stroke:none;\">2</text></g><g transform=\"translate(52.5,161.5)\" style=\"font-size:10px; stroke-linecap:butt; text-rendering:geometricPrecision; font-family:sans-serif; stroke-linejoin:bevel; stroke-width:0;\"><text x=\"-1.0938\" xml:space=\"preserve\" y=\"9.2822\" style=\"stroke:none;\">1</text></g><g transform=\"translate(43.5,214)\" style=\"font-size:10px; stroke-linecap:butt; text-rendering:geometricPrecision; font-family:sans-serif; stroke-linejoin:bevel; stroke-width:0;\"><text x=\"-0.6562\" xml:space=\"preserve\" y=\"9.2822\" style=\"stroke:none;\">0.5</text></g><g transform=\"translate(43.5,109)\" style=\"font-size:10px; stroke-linecap:butt; text-rendering:geometricPrecision; font-family:sans-serif; stroke-linejoin:bevel; stroke-width:0;\"><text x=\"-1.0938\" xml:space=\"preserve\" y=\"9.2822\" style=\"stroke:none;\">1.5</text></g><g style=\"text-rendering:geometricPrecision; font-size:10px; shape-rendering:crispEdges; font-family:sans-serif; stroke-linecap:butt;\"><path style=\"fill:none;\" d=\"M68.5 273 L62.5 273\"/><path style=\"fill:none;\" d=\"M68.5 220.5 L62.5 220.5\"/><path style=\"fill:none;\" d=\"M68.5 168 L62.5 168\"/><path style=\"fill:none;\" d=\"M68.5 115.5 L62.5 115.5\"/><path style=\"fill:none;\" d=\"M68.5 63 L62.5 63\"/><path style=\"fill:none;\" d=\"M68.5 294 L65.5 294\"/><path style=\"fill:none;\" d=\"M68.5 283.5 L65.5 283.5\"/><path style=\"fill:none;\" d=\"M68.5 273 L65.5 273\"/><path style=\"fill:none;\" d=\"M68.5 262.5 L65.5 262.5\"/><path style=\"fill:none;\" d=\"M68.5 252 L65.5 252\"/><path style=\"fill:none;\" d=\"M68.5 241.5 L65.5 241.5\"/><path style=\"fill:none;\" d=\"M68.5 231 L65.5 231\"/><path style=\"fill:none;\" d=\"M68.5 220.5 L65.5 220.5\"/><path style=\"fill:none;\" d=\"M68.5 210 L65.5 210\"/><path style=\"fill:none;\" d=\"M68.5 199.5 L65.5 199.5\"/><path style=\"fill:none;\" d=\"M68.5 189 L65.5 189\"/><path style=\"fill:none;\" d=\"M68.5 178.5 L65.5 178.5\"/><path style=\"fill:none;\" d=\"M68.5 168 L65.5 168\"/><path style=\"fill:none;\" d=\"M68.5 157.5 L65.5 157.5\"/><path style=\"fill:none;\" d=\"M68.5 147 L65.5 147\"/><path style=\"fill:none;\" d=\"M68.5 136.5 L65.5 136.5\"/><path style=\"fill:none;\" d=\"M68.5 126 L65.5 126\"/><path style=\"fill:none;\" d=\"M68.5 115.5 L65.5 115.5\"/><path style=\"fill:none;\" d=\"M68.5 105 L65.5 105\"/><path style=\"fill:none;\" d=\"M68.5 94.5 L65.5 94.5\"/><path style=\"fill:none;\" d=\"M68.5 84 L65.5 84\"/><path style=\"fill:none;\" d=\"M68.5 73.5 L65.5 73.5\"/><path style=\"fill:none;\" d=\"M68.5 63 L65.5 63\"/><path style=\"fill:none;\" d=\"M68.5 52.5 L65.5 52.5\"/><path style=\"fill:none;\" d=\"M68.5 42 L65.5 42\"/><path style=\"fill:none;\" d=\"M68.5 42 L68.5 294\"/><path d=\"M68.5 273 L69.322 183.1459 L70.144 120.961 L70.966 82.2194 L71.788 62.582 L72.61 57.8643 L73.432 64.2228 L74.254 78.271 L75.076 97.1388 L75.898 118.488 L76.72 140.4931 L77.542 161.8006 L78.364 181.4729 L79.186 198.9252 L80.008 213.8605 L80.83 226.206 L81.652 236.0557 L82.474 243.619 L83.296 249.1769 L84.118 253.047 L84.94 255.5556 L85.762 257.017 L86.584 257.7193 L87.406 257.9154 L88.228 257.8185 L89.05 257.6009 L89.872 257.3956 L90.694 257.2991 L91.516 257.3763 L92.338 257.6646 L93.16 258.1796 L93.982 258.9197 L94.804 259.8706 L95.626 261.0091 L96.448 262.3068 L97.27 263.7326 L98.092 265.2549 L98.914 266.8431 L99.736 268.4692 L100.558 270.1078 L101.38 271.7368 L102.202 273.3379 L103.024 274.8958 L103.846 276.3983 L104.668 277.8361 L105.49 279.2022 L106.312 280.4917 L107.134 281.7013 L107.956 282.829 L108.778 283.874 L109.6 284.836 L110.422 285.7153 L111.244 286.5128 L112.066 287.2292 L112.888 287.866 L113.71 288.4241 L114.532 288.905 L115.354 289.31 L116.176 289.6405 L116.998 289.8979 L117.82 290.0837 L118.642 290.1996 L119.464 290.2472 L120.286 290.2284 L121.108 290.1451 L121.93 289.9995 L122.752 289.7937 L123.574 289.5302 L124.396 289.2115 L125.218 288.8403 L126.04 288.4194 L126.862 287.9517 L127.684 287.4403 L128.506 286.8883 L129.328 286.299 L130.15 285.6757 L130.972 285.0216 L131.794 284.3402 L132.616 283.6349 L133.438 282.909 L134.26 282.1659 L135.082 281.4089 L135.904 280.6415 L136.726 279.8668 L137.548 279.088 L138.37 278.3082 L139.192 277.5305 L140.014 276.7578 L140.836 275.993 L141.658 275.2386 L142.48 274.4974 L143.302 273.7718 L144.124 273.0641 L144.946 272.3765 L145.768 271.7111 L146.59 271.0698 L147.412 270.4544 L148.234 269.8665 L149.056 269.3075 L149.878 268.7787 L150.7 268.2814 L151.522 267.8165 L152.344 267.3848 L153.166 266.9871 L153.988 266.6239 L154.81 266.2956 L155.632 266.0025 L156.454 265.7446 L157.276 265.522 L158.098 265.3344 L158.92 265.1817 L159.742 265.0633 L160.564 264.9788 L161.386 264.9274 L162.208 264.9085 L163.03 264.9211 L163.852 264.9644 L164.674 265.0372 L165.496 265.1385 L166.318 265.267 L167.14 265.4214 L167.962 265.6005 L168.784 265.8028 L169.606 266.0268 L170.428 266.2712 L171.25 266.5343 L172.072 266.8146 L172.894 267.1106 L173.716 267.4207 L174.538 267.7432 L175.36 268.0765 L176.182 268.4192 L177.004 268.7696 L177.826 269.1261 L178.648 269.4872 L179.47 269.8514 L180.292 270.2172 L181.114 270.5831 L181.936 270.9477 L182.758 271.3097 L183.58 271.6678 L184.402 272.0207 L185.224 272.3672 L186.046 272.7061 L186.868 273.0364 L187.69 273.3571 L188.512 273.6671 L189.334 273.9657 L190.156 274.252 L190.978 274.5252 L191.8 274.7848 L192.622 275.03 L193.444 275.2603 L194.266 275.4754 L195.088 275.6748 L195.91 275.8582 L196.732 276.0254 L197.554 276.1761 L198.376 276.3104 L199.198 276.428 L200.02 276.5292 L200.842 276.6139 L201.664 276.6823 L202.486 276.7346 L203.308 276.7711 L204.13 276.7921 L204.952 276.7979 L205.774 276.789 L206.596 276.7658 L207.418 276.7289 L208.24 276.6787 L209.062 276.6158 L209.884 276.541 L210.706 276.4547 L211.528 276.3576 L212.35 276.2504 L213.172 276.1339 L213.994 276.0087 L214.816 275.8755 L215.638 275.7352 L216.46 275.5884 L217.282 275.436 L218.104 275.2785 L218.926 275.1169 L219.748 274.9518 L220.57 274.784 L221.392 274.6141 L222.214 274.443 L223.036 274.2712 L223.858 274.0996 L224.68 273.9286 L225.502 273.759 L226.324 273.5914 L227.146 273.4263 L227.968 273.2644 L228.79 273.1061 L229.612 272.9519 L230.434 272.8024 L231.256 272.6579 L232.078 272.5189 L232.9 272.3858 L233.722 272.2588 L234.544 272.1383 L235.366 272.0246 L236.188 271.9179 L237.01 271.8185 L237.832 271.7264 L238.654 271.6419 L239.476 271.565 L240.298 271.4958 L241.12 271.4344 L241.942 271.3807 L242.764 271.3348 L243.586 271.2966 L244.408 271.2661 L245.23 271.243 L246.052 271.2274 L246.874 271.219 L247.696 271.2177 L248.518 271.2233 L249.34 271.2355 L250.162 271.2541 L250.984 271.2789 L251.806 271.3095 L252.628 271.3458 L253.45 271.3874 L254.272 271.4339 L255.094 271.4851 L255.916 271.5407 L256.738 271.6003 L257.56 271.6635 L258.382 271.7299 L259.204 271.7994 L260.026 271.8715 L260.848 271.9458 L261.67 272.022 L262.492 272.0998 L263.314 272.1788 L264.136 272.2587 L264.958 272.3391 L265.78 272.4197 L266.602 272.5002 L267.424 272.5804 L268.246 272.6598 L269.068 272.7383 L269.89 272.8155 L270.712 272.8912 L271.534 272.9651 L272.356 273.037 L273.178 273.1068 L274 273.174 L274.822 273.2387 L275.644 273.3007 L276.466 273.3596 L277.288 273.4156 L278.11 273.4683 L278.932 273.5176 L279.754 273.5636 L280.576 273.6061 L281.398 273.6451 L282.22 273.6805 L283.042 273.7122 L283.864 273.7403 L284.686 273.7647 L285.508 273.7855 L286.33 273.8027 L287.152 273.8163 L287.974 273.8264 L288.796 273.8331 L289.618 273.8363 L290.44 273.8363 L291.262 273.833 L292.084 273.8267 L292.906 273.8174 L293.728 273.8051 L294.55 273.7902 L295.372 273.7727 L296.194 273.7527 L297.016 273.7303 L297.838 273.7059 L298.66 273.6794 L299.482 273.6511 L300.304 273.6211 L301.126 273.5896 L301.948 273.5567 L302.77 273.5227 L303.592 273.4876 L304.414 273.4517 L305.236 273.415 L306.058 273.3778 L306.88 273.3403 L307.702 273.3025 L308.524 273.2647 L309.346 273.2269 L310.168 273.1893 L310.99 273.1521 L311.812 273.1154 L312.634 273.0793 L313.456 273.044 L314.278 273.0095 L315.1 272.9759 L315.922 272.9434 L316.744 272.912 L317.566 272.8819 L318.388 272.8531 L319.21 272.8257 L320.032 272.7998 L320.854 272.7754 L321.676 272.7525 L322.498 272.7313 L323.32 272.7116 L324.142 272.6937 L324.964 272.6775 L325.786 272.6629 L326.608 272.6501 L327.43 272.6389 L328.252 272.6295 L329.074 272.6218 L329.896 272.6158 L330.718 272.6113 L331.54 272.6086 L332.362 272.6073 L333.184 272.6077 L334.006 272.6095 L334.828 272.6128 L335.65 272.6174 L336.472 272.6234 L337.294 272.6307 L338.116 272.6392 L338.938 272.6488 L339.76 272.6595 L340.582 272.6711 L341.404 272.6837 L342.226 272.6972 L343.048 272.7114 L343.87 272.7263 L344.692 272.7419 L345.514 272.758 L346.336 272.7745 L347.158 272.7915 L347.98 272.8087 L348.802 272.8262 L349.624 272.8439 L350.446 272.8616 L351.268 272.8794 L352.09 272.8971 L352.912 272.9147 L353.734 272.9321 L354.556 272.9493 L355.378 272.9662 L356.2 272.9827 L357.022 272.9988 L357.844 273.0145 L358.666 273.0296 L359.488 273.0442 L360.31 273.0582 L361.132 273.0716 L361.954 273.0843 L362.776 273.0964 L363.598 273.1077 L364.42 273.1183 L365.242 273.1281 L366.064 273.1371 L366.886 273.1454 L367.708 273.1529 L368.53 273.1595 L369.352 273.1654 L370.174 273.1704 L370.996 273.1747 L371.818 273.1782 L372.64 273.1808 L373.462 273.1828 L374.284 273.1839 L375.106 273.1843 L375.928 273.184 L376.75 273.183 L377.572 273.1814 L378.394 273.179 L379.216 273.1761 L380.038 273.1726 L380.86 273.1685 L381.682 273.1639 L382.504 273.1588 L383.326 273.1532 L384.148 273.1472 L384.97 273.1408 L385.792 273.1341 L386.614 273.127 L387.436 273.1196 L388.258 273.112 L389.08 273.1042 L389.902 273.0963 L390.724 273.0881 L391.546 273.0799 L392.368 273.0716 L393.19 273.0633 L394.012 273.0549 L394.834 273.0466 L395.656 273.0384 L396.478 273.0302 L397.3 273.0222 L398.122 273.0143 L398.944 273.0066 L399.766 272.9991 L400.588 272.9918 L401.41 272.9847 L402.232 272.9779 L403.054 272.9714 L403.876 272.9651 L404.698 272.9593 L405.52 272.9537 L406.342 272.9484 L407.164 272.9435 L407.986 272.939 L408.808 272.9348 L409.63 272.931 L410.452 272.9276 L411.274 272.9245 L412.096 272.9219 L412.918 272.9196 L413.74 272.9177 L414.562 272.9161 L415.384 272.9149 L416.206 272.9141 L417.028 272.9136 L417.85 272.9135 L418.672 272.9137 L419.494 272.9142 L420.316 272.9151 L421.138 272.9162 L421.96 272.9177 L422.782 272.9194 L423.604 272.9214 L424.426 272.9236 L425.248 272.926 L426.07 272.9286 L426.892 272.9315 L427.714 272.9345 L428.536 272.9377 L429.358 272.9411 L430.18 272.9446 L431.002 272.9482 L431.824 272.9518 L432.646 272.9556 L433.468 272.9594 L434.29 272.9633 L435.112 272.9672 L435.934 272.9711 L436.756 272.975 L437.578 272.9789 L438.4 272.9828 L439.222 272.9866 L440.044 272.9904 L440.866 272.994 L441.688 272.9977 L442.51 273.0012 L443.332 273.0046 L444.154 273.0078 L444.976 273.011 L445.798 273.014 L446.62 273.0169 L447.442 273.0197 L448.264 273.0223 L449.086 273.0247 L449.908 273.0269 L450.73 273.0291 L451.552 273.031 L452.374 273.0327 L453.196 273.0343 L454.018 273.0357 L454.84 273.0369 L455.662 273.038 L456.484 273.0388 L457.306 273.0395 L458.128 273.04 L458.95 273.0404 L459.772 273.0406 L460.594 273.0406 L461.416 273.0405 L462.238 273.0402 L463.06 273.0398 L463.882 273.0392 L464.704 273.0385 L465.526 273.0377 L466.348 273.0367 L467.17 273.0357 L467.992 273.0345 L468.814 273.0332 L469.636 273.0319 L470.458 273.0304 L471.28 273.0289 L472.102 273.0273 L472.924 273.0257 L473.746 273.024 L474.568 273.0222 L475.39 273.0205 L476.212 273.0187 L477.034 273.0168 L477.856 273.015 L478.678 273.0132 L479.5 273.0114\" style=\"fill:none; stroke-width:2; clip-path:url(#clipPath1);\"/><path style=\"fill:none;\" d=\"M68.5 294 L68.5 42 L68.5 42 L479.5 42 L479.5 294 L479.5 294 L68.5 294\"/><path style=\"fill:none;\" d=\"M479.5 42 L68.5 42\"/><path style=\"fill:none;\" d=\"M479.5 42 L479.5 294\"/><path style=\"fill:none;\" d=\"M479.5 42 L479.5 42\"/></g></g></svg>",
      "text/plain": [
       "<IPython.core.display.SVG object>"
      ]
     },
     "metadata": {},
     "output_type": "display_data"
    }
   ],
   "source": [
    "plot(t,csim('impulse',t,MF),'k-','LineWidth',2);"
   ]
  },
  {
   "cell_type": "code",
   "execution_count": 39,
   "metadata": {},
   "outputs": [
    {
     "name": "stdout",
     "output_type": "stream",
     "text": [
      "\u001b[4l\u001b[0m\n",
      "\u001b[0m"
     ]
    },
    {
     "data": {
      "image/svg+xml": "<svg xmlns:xlink=\"http://www.w3.org/1999/xlink\" xmlns=\"http://www.w3.org/2000/svg\" style=\"fill-opacity:1; color-rendering:auto; color-interpolation:auto; text-rendering:auto; stroke:black; stroke-linecap:square; stroke-miterlimit:10; shape-rendering:auto; stroke-opacity:1; fill:black; stroke-dasharray:none; font-weight:normal; stroke-width:1; font-family:'Dialog'; font-style:normal; stroke-linejoin:miter; font-size:12px; stroke-dashoffset:0; image-rendering:auto;\" width=\"548\" height=\"336\"><!--Generated by Scilab with Batik SVG Generator--><defs id=\"genericDefs\"/><g><defs id=\"defs1\"><clipPath clipPathUnits=\"userSpaceOnUse\" id=\"clipPath1\"><path d=\"M68.4959 41.9975 L479.5041 41.9975 L479.5041 294.0025 L68.4959 294.0025 L68.4959 41.9975 Z\"/></clipPath><font horiz-adv-x=\"60.0\" id=\"font1\"><font-face ascent=\"92.822266\" descent=\"23.583984\" units-per-em=\"100\" style=\"font-style:normal; font-family:sans-serif; font-weight:normal;\"/><missing-glyph horiz-adv-x=\"60.0\" d=\"M4.9844 -17.6719 L4.9844 70.5156 L54.9844 70.5156 L54.9844 -17.6719 L4.9844 -17.6719 ZM10.5938 -12.1094 L49.4219 -12.1094 L49.4219 64.8906 L10.5938 64.8906 L10.5938 -12.1094 Z\"/><glyph unicode=\"0\" horiz-adv-x=\"64.0\" d=\"M31.7812 66.4062 Q24.1719 66.4062 20.3281 58.9062 Q16.5 51.4219 16.5 36.375 Q16.5 21.3906 20.3281 13.8906 Q24.1719 6.3906 31.7812 6.3906 Q39.4531 6.3906 43.2812 13.8906 Q47.125 21.3906 47.125 36.375 Q47.125 51.4219 43.2812 58.9062 Q39.4531 66.4062 31.7812 66.4062 ZM31.7812 74.2188 Q44.0469 74.2188 50.5156 64.5156 Q56.9844 54.8281 56.9844 36.375 Q56.9844 17.9688 50.5156 8.2656 Q44.0469 -1.4219 31.7812 -1.4219 Q19.5312 -1.4219 13.0625 8.2656 Q6.5938 17.9688 6.5938 36.375 Q6.5938 54.8281 13.0625 64.5156 Q19.5312 74.2188 31.7812 74.2188 Z\"/><glyph unicode=\"2\" horiz-adv-x=\"64.0\" d=\"M19.1875 8.2969 L53.6094 8.2969 L53.6094 0 L7.3281 0 L7.3281 8.2969 Q12.9375 14.1094 22.625 23.8906 Q32.3281 33.6875 34.8125 36.5312 Q39.5469 41.8438 41.4219 45.5312 Q43.3125 49.2188 43.3125 52.7812 Q43.3125 58.5938 39.2344 62.25 Q35.1562 65.9219 28.6094 65.9219 Q23.9688 65.9219 18.8125 64.3125 Q13.6719 62.7031 7.8125 59.4219 L7.8125 69.3906 Q13.7656 71.7812 18.9375 73 Q24.125 74.2188 28.4219 74.2188 Q39.75 74.2188 46.4844 68.5469 Q53.2188 62.8906 53.2188 53.4219 Q53.2188 48.9219 51.5312 44.8906 Q49.8594 40.875 45.4062 35.4062 Q44.1875 33.9844 37.6406 27.2188 Q31.1094 20.4531 19.1875 8.2969 Z\"/><glyph unicode=\"1\" horiz-adv-x=\"64.0\" d=\"M12.4062 8.2969 L28.5156 8.2969 L28.5156 63.9219 L10.9844 60.4062 L10.9844 69.3906 L28.4219 72.9062 L38.2812 72.9062 L38.2812 8.2969 L54.3906 8.2969 L54.3906 0 L12.4062 0 L12.4062 8.2969 Z\"/><glyph unicode=\"4\" horiz-adv-x=\"64.0\" d=\"M37.7969 64.3125 L12.8906 25.3906 L37.7969 25.3906 L37.7969 64.3125 ZM35.2031 72.9062 L47.6094 72.9062 L47.6094 25.3906 L58.0156 25.3906 L58.0156 17.1875 L47.6094 17.1875 L47.6094 0 L37.7969 0 L37.7969 17.1875 L4.8906 17.1875 L4.8906 26.7031 L35.2031 72.9062 Z\"/><glyph unicode=\"6\" horiz-adv-x=\"64.0\" d=\"M33.0156 40.375 Q26.375 40.375 22.4844 35.8281 Q18.6094 31.2969 18.6094 23.3906 Q18.6094 15.5312 22.4844 10.9531 Q26.375 6.3906 33.0156 6.3906 Q39.6562 6.3906 43.5312 10.9531 Q47.4062 15.5312 47.4062 23.3906 Q47.4062 31.2969 43.5312 35.8281 Q39.6562 40.375 33.0156 40.375 ZM52.5938 71.2969 L52.5938 62.3125 Q48.875 64.0625 45.0938 64.9844 Q41.3125 65.9219 37.5938 65.9219 Q27.8281 65.9219 22.6719 59.3281 Q17.5312 52.7344 16.7969 39.4062 Q19.6719 43.6562 24.0156 45.9219 Q28.375 48.1875 33.5938 48.1875 Q44.5781 48.1875 50.9531 41.5156 Q57.3281 34.8594 57.3281 23.3906 Q57.3281 12.1562 50.6875 5.3594 Q44.0469 -1.4219 33.0156 -1.4219 Q20.3594 -1.4219 13.6719 8.2656 Q6.9844 17.9688 6.9844 36.375 Q6.9844 53.6562 15.1875 63.9375 Q23.3906 74.2188 37.2031 74.2188 Q40.9219 74.2188 44.7031 73.4844 Q48.4844 72.75 52.5938 71.2969 Z\"/><glyph unicode=\"8\" horiz-adv-x=\"64.0\" d=\"M31.7812 34.625 Q24.75 34.625 20.7188 30.8594 Q16.7031 27.0938 16.7031 20.5156 Q16.7031 13.9219 20.7188 10.1562 Q24.75 6.3906 31.7812 6.3906 Q38.8125 6.3906 42.8594 10.1719 Q46.9219 13.9688 46.9219 20.5156 Q46.9219 27.0938 42.8906 30.8594 Q38.875 34.625 31.7812 34.625 ZM21.9219 38.8125 Q15.5781 40.375 12.0312 44.7188 Q8.5 49.0781 8.5 55.3281 Q8.5 64.0625 14.7188 69.1406 Q20.9531 74.2188 31.7812 74.2188 Q42.6719 74.2188 48.875 69.1406 Q55.0781 64.0625 55.0781 55.3281 Q55.0781 49.0781 51.5312 44.7188 Q48 40.375 41.7031 38.8125 Q48.8281 37.1562 52.7969 32.3125 Q56.7812 27.4844 56.7812 20.5156 Q56.7812 9.9062 50.3125 4.2344 Q43.8438 -1.4219 31.7812 -1.4219 Q19.7344 -1.4219 13.25 4.2344 Q6.7812 9.9062 6.7812 20.5156 Q6.7812 27.4844 10.7812 32.3125 Q14.7969 37.1562 21.9219 38.8125 ZM18.3125 54.3906 Q18.3125 48.7344 21.8438 45.5625 Q25.3906 42.3906 31.7812 42.3906 Q38.1406 42.3906 41.7188 45.5625 Q45.3125 48.7344 45.3125 54.3906 Q45.3125 60.0625 41.7188 63.2344 Q38.1406 66.4062 31.7812 66.4062 Q25.3906 66.4062 21.8438 63.2344 Q18.3125 60.0625 18.3125 54.3906 Z\"/><glyph unicode=\"-\" horiz-adv-x=\"36.0\" d=\"M4.8906 31.3906 L31.2031 31.3906 L31.2031 23.3906 L4.8906 23.3906 L4.8906 31.3906 Z\"/><glyph unicode=\"5\" horiz-adv-x=\"64.0\" d=\"M10.7969 72.9062 L49.5156 72.9062 L49.5156 64.5938 L19.8281 64.5938 L19.8281 46.7344 Q21.9688 47.4688 24.1094 47.8281 Q26.2656 48.1875 28.4219 48.1875 Q40.625 48.1875 47.75 41.5 Q54.8906 34.8125 54.8906 23.3906 Q54.8906 11.625 47.5625 5.0938 Q40.2344 -1.4219 26.9062 -1.4219 Q22.3125 -1.4219 17.5469 -0.6406 Q12.7969 0.1406 7.7188 1.7031 L7.7188 11.625 Q12.1094 9.2344 16.7969 8.0625 Q21.4844 6.8906 26.7031 6.8906 Q35.1562 6.8906 40.0781 11.3281 Q45.0156 15.7656 45.0156 23.3906 Q45.0156 31 40.0781 35.4375 Q35.1562 39.8906 26.7031 39.8906 Q22.75 39.8906 18.8125 39.0156 Q14.8906 38.1406 10.7969 36.2812 L10.7969 72.9062 Z\"/></font></defs><g style=\"fill:white; text-rendering:optimizeLegibility; stroke:white;\"><rect x=\"0\" width=\"548\" height=\"336\" y=\"0\" style=\"stroke:none;\"/></g><g style=\"stroke-linecap:butt; fill:white; text-rendering:geometricPrecision; stroke-linejoin:bevel; shape-rendering:crispEdges; stroke:white; stroke-width:0;\"><path style=\"stroke:none;\" d=\"M479.5 42 L479.5 294 L68.5 42 Z\"/><path style=\"stroke:none;\" d=\"M479.5 294 L68.5 294 L68.5 42 Z\"/><path style=\"stroke:none;\" d=\"M479.5 42 L479.5 294 L479.5 294 Z\"/><path style=\"stroke:none;\" d=\"M68.5 42 L68.5 294 L68.5 294 Z\"/><path style=\"stroke:none;\" d=\"M479.5 42 L479.5 294 L68.5 42 Z\"/><path style=\"stroke:none;\" d=\"M479.5 294 L68.5 294 L68.5 42 Z\"/><path style=\"stroke:none;\" d=\"M479.5 42 L479.5 42 L479.5 294 Z\"/><path style=\"stroke:none;\" d=\"M68.5 42 L68.5 42 L68.5 294 Z\"/><path style=\"stroke:none;\" d=\"M479.5 42 L68.5 42 L479.5 42 Z\"/><path style=\"stroke:none;\" d=\"M68.5 42 L68.5 42 L479.5 42 Z\"/><path style=\"stroke:none;\" d=\"M479.5 294 L68.5 294 L479.5 294 Z\"/><path style=\"stroke:none;\" d=\"M68.5 294 L68.5 294 L479.5 294 Z\"/></g><g transform=\"translate(64.5,303)\" style=\"font-size:10px; stroke-linecap:butt; text-rendering:geometricPrecision; font-family:sans-serif; stroke-linejoin:bevel; stroke-width:0;\"><text x=\"-0.6562\" xml:space=\"preserve\" y=\"9.2822\" style=\"stroke:none;\">0</text></g><g transform=\"translate(390.8,303)\" style=\"font-size:10px; stroke-linecap:butt; text-rendering:geometricPrecision; font-family:sans-serif; stroke-linejoin:bevel; stroke-width:0;\"><text x=\"-0.7344\" xml:space=\"preserve\" y=\"9.2822\" style=\"stroke:none;\">20</text></g><g transform=\"translate(226.4,303)\" style=\"font-size:10px; stroke-linecap:butt; text-rendering:geometricPrecision; font-family:sans-serif; stroke-linejoin:bevel; stroke-width:0;\"><text x=\"-1.0938\" xml:space=\"preserve\" y=\"9.2822\" style=\"stroke:none;\">10</text></g><g transform=\"translate(97.88,303)\" style=\"font-size:10px; stroke-linecap:butt; text-rendering:geometricPrecision; font-family:sans-serif; stroke-linejoin:bevel; stroke-width:0;\"><text x=\"-0.7344\" xml:space=\"preserve\" y=\"9.2822\" style=\"stroke:none;\">2</text></g><g transform=\"translate(130.26,303)\" style=\"font-size:10px; stroke-linecap:butt; text-rendering:geometricPrecision; font-family:sans-serif; stroke-linejoin:bevel; stroke-width:0;\"><text x=\"-0.4844\" xml:space=\"preserve\" y=\"9.2822\" style=\"stroke:none;\">4</text></g><g transform=\"translate(163.14,303)\" style=\"font-size:10px; stroke-linecap:butt; text-rendering:geometricPrecision; font-family:sans-serif; stroke-linejoin:bevel; stroke-width:0;\"><text x=\"-0.7031\" xml:space=\"preserve\" y=\"9.2822\" style=\"stroke:none;\">6</text></g><g transform=\"translate(196.52,303)\" style=\"font-size:10px; stroke-linecap:butt; text-rendering:geometricPrecision; font-family:sans-serif; stroke-linejoin:bevel; stroke-width:0;\"><text x=\"-0.6719\" xml:space=\"preserve\" y=\"9.2822\" style=\"stroke:none;\">8</text></g><g transform=\"translate(259.28,303)\" style=\"font-size:10px; stroke-linecap:butt; text-rendering:geometricPrecision; font-family:sans-serif; stroke-linejoin:bevel; stroke-width:0;\"><text x=\"-1.0938\" xml:space=\"preserve\" y=\"9.2822\" style=\"stroke:none;\">12</text></g><g transform=\"translate(292.16,303)\" style=\"font-size:10px; stroke-linecap:butt; text-rendering:geometricPrecision; font-family:sans-serif; stroke-linejoin:bevel; stroke-width:0;\"><text x=\"-1.0938\" xml:space=\"preserve\" y=\"9.2822\" style=\"stroke:none;\">14</text></g><g transform=\"translate(325.04,303)\" style=\"font-size:10px; stroke-linecap:butt; text-rendering:geometricPrecision; font-family:sans-serif; stroke-linejoin:bevel; stroke-width:0;\"><text x=\"-1.0938\" xml:space=\"preserve\" y=\"9.2822\" style=\"stroke:none;\">16</text></g><g transform=\"translate(357.92,303)\" style=\"font-size:10px; stroke-linecap:butt; text-rendering:geometricPrecision; font-family:sans-serif; stroke-linejoin:bevel; stroke-width:0;\"><text x=\"-1.0938\" xml:space=\"preserve\" y=\"9.2822\" style=\"stroke:none;\">18</text></g><g transform=\"translate(423.68,303)\" style=\"font-size:10px; stroke-linecap:butt; text-rendering:geometricPrecision; font-family:sans-serif; stroke-linejoin:bevel; stroke-width:0;\"><text x=\"-0.7344\" xml:space=\"preserve\" y=\"9.2822\" style=\"stroke:none;\">22</text></g><g transform=\"translate(456.06,303)\" style=\"font-size:10px; stroke-linecap:butt; text-rendering:geometricPrecision; font-family:sans-serif; stroke-linejoin:bevel; stroke-width:0;\"><text x=\"-0.7344\" xml:space=\"preserve\" y=\"9.2822\" style=\"stroke:none;\">24</text></g><g style=\"text-rendering:geometricPrecision; font-size:10px; shape-rendering:crispEdges; font-family:sans-serif; stroke-linecap:butt;\"><path style=\"fill:none;\" d=\"M68.5 294 L68.5 300\"/><path style=\"fill:none;\" d=\"M101.38 294 L101.38 300\"/><path style=\"fill:none;\" d=\"M134.26 294 L134.26 300\"/><path style=\"fill:none;\" d=\"M167.14 294 L167.14 300\"/><path style=\"fill:none;\" d=\"M200.02 294 L200.02 300\"/><path style=\"fill:none;\" d=\"M232.9 294 L232.9 300\"/><path style=\"fill:none;\" d=\"M265.78 294 L265.78 300\"/><path style=\"fill:none;\" d=\"M298.66 294 L298.66 300\"/><path style=\"fill:none;\" d=\"M331.54 294 L331.54 300\"/><path style=\"fill:none;\" d=\"M364.42 294 L364.42 300\"/><path style=\"fill:none;\" d=\"M397.3 294 L397.3 300\"/><path style=\"fill:none;\" d=\"M430.18 294 L430.18 300\"/><path style=\"fill:none;\" d=\"M463.06 294 L463.06 300\"/><path style=\"fill:none;\" d=\"M68.5 294 L68.5 297\"/><path style=\"fill:none;\" d=\"M84.94 294 L84.94 297\"/><path style=\"fill:none;\" d=\"M101.38 294 L101.38 297\"/><path style=\"fill:none;\" d=\"M117.82 294 L117.82 297\"/><path style=\"fill:none;\" d=\"M134.26 294 L134.26 297\"/><path style=\"fill:none;\" d=\"M150.7 294 L150.7 297\"/><path style=\"fill:none;\" d=\"M167.14 294 L167.14 297\"/><path style=\"fill:none;\" d=\"M183.58 294 L183.58 297\"/><path style=\"fill:none;\" d=\"M200.02 294 L200.02 297\"/><path style=\"fill:none;\" d=\"M216.46 294 L216.46 297\"/><path style=\"fill:none;\" d=\"M232.9 294 L232.9 297\"/><path style=\"fill:none;\" d=\"M249.34 294 L249.34 297\"/><path style=\"fill:none;\" d=\"M265.78 294 L265.78 297\"/><path style=\"fill:none;\" d=\"M282.22 294 L282.22 297\"/><path style=\"fill:none;\" d=\"M298.66 294 L298.66 297\"/><path style=\"fill:none;\" d=\"M315.1 294 L315.1 297\"/><path style=\"fill:none;\" d=\"M331.54 294 L331.54 297\"/><path style=\"fill:none;\" d=\"M347.98 294 L347.98 297\"/><path style=\"fill:none;\" d=\"M364.42 294 L364.42 297\"/><path style=\"fill:none;\" d=\"M380.86 294 L380.86 297\"/><path style=\"fill:none;\" d=\"M397.3 294 L397.3 297\"/><path style=\"fill:none;\" d=\"M413.74 294 L413.74 297\"/><path style=\"fill:none;\" d=\"M430.18 294 L430.18 297\"/><path style=\"fill:none;\" d=\"M446.62 294 L446.62 297\"/><path style=\"fill:none;\" d=\"M463.06 294 L463.06 297\"/><path style=\"fill:none;\" d=\"M479.5 294 L479.5 297\"/><path style=\"fill:none;\" d=\"M479.5 294 L68.5 294\"/><text x=\"-0.6562\" y=\"9.2822\" transform=\"translate(51.5,161.5)\" style=\"stroke-linejoin:bevel; shape-rendering:auto; stroke:none; stroke-width:0;\" xml:space=\"preserve\">0</text></g><g transform=\"translate(41.5,262.3)\" style=\"font-size:10px; stroke-linecap:butt; text-rendering:geometricPrecision; font-family:sans-serif; stroke-linejoin:bevel; stroke-width:0;\"><text x=\"-0.4844\" xml:space=\"preserve\" y=\"9.2822\" style=\"stroke:none;\">-20</text></g><g transform=\"translate(46.5,60.7)\" style=\"font-size:10px; stroke-linecap:butt; text-rendering:geometricPrecision; font-family:sans-serif; stroke-linejoin:bevel; stroke-width:0;\"><text x=\"-0.7344\" xml:space=\"preserve\" y=\"9.2822\" style=\"stroke:none;\">20</text></g><g transform=\"translate(41.5,211.9)\" style=\"font-size:10px; stroke-linecap:butt; text-rendering:geometricPrecision; font-family:sans-serif; stroke-linejoin:bevel; stroke-width:0;\"><text x=\"-0.4844\" xml:space=\"preserve\" y=\"9.2822\" style=\"stroke:none;\">-10</text></g><g transform=\"translate(46.5,111.1)\" style=\"font-size:10px; stroke-linecap:butt; text-rendering:geometricPrecision; font-family:sans-serif; stroke-linejoin:bevel; stroke-width:0;\"><text x=\"-1.0938\" xml:space=\"preserve\" y=\"9.2822\" style=\"stroke:none;\">10</text></g><g transform=\"translate(42.5,287.5)\" style=\"font-size:10px; stroke-linecap:butt; text-rendering:geometricPrecision; font-family:sans-serif; stroke-linejoin:bevel; stroke-width:0;\"><text x=\"-0.4844\" xml:space=\"preserve\" y=\"9.2822\" style=\"stroke:none;\">-25</text></g><g transform=\"translate(42.5,237.1)\" style=\"font-size:10px; stroke-linecap:butt; text-rendering:geometricPrecision; font-family:sans-serif; stroke-linejoin:bevel; stroke-width:0;\"><text x=\"-0.4844\" xml:space=\"preserve\" y=\"9.2822\" style=\"stroke:none;\">-15</text></g><g transform=\"translate(48.5,186.7)\" style=\"font-size:10px; stroke-linecap:butt; text-rendering:geometricPrecision; font-family:sans-serif; stroke-linejoin:bevel; stroke-width:0;\"><text x=\"-0.4844\" xml:space=\"preserve\" y=\"9.2822\" style=\"stroke:none;\">-5</text></g><g transform=\"translate(52.5,136.3)\" style=\"font-size:10px; stroke-linecap:butt; text-rendering:geometricPrecision; font-family:sans-serif; stroke-linejoin:bevel; stroke-width:0;\"><text x=\"-0.7656\" xml:space=\"preserve\" y=\"9.2822\" style=\"stroke:none;\">5</text></g><g transform=\"translate(46.5,85.9)\" style=\"font-size:10px; stroke-linecap:butt; text-rendering:geometricPrecision; font-family:sans-serif; stroke-linejoin:bevel; stroke-width:0;\"><text x=\"-1.0938\" xml:space=\"preserve\" y=\"9.2822\" style=\"stroke:none;\">15</text></g><g transform=\"translate(46.5,35.5)\" style=\"font-size:10px; stroke-linecap:butt; text-rendering:geometricPrecision; font-family:sans-serif; stroke-linejoin:bevel; stroke-width:0;\"><text x=\"-0.7344\" xml:space=\"preserve\" y=\"9.2822\" style=\"stroke:none;\">25</text></g><g style=\"text-rendering:geometricPrecision; font-size:10px; shape-rendering:crispEdges; font-family:sans-serif; stroke-linecap:butt;\"><path style=\"fill:none;\" d=\"M68.5 294 L62.5 294\"/><path style=\"fill:none;\" d=\"M68.5 268.8 L62.5 268.8\"/><path style=\"fill:none;\" d=\"M68.5 243.6 L62.5 243.6\"/><path style=\"fill:none;\" d=\"M68.5 218.4 L62.5 218.4\"/><path style=\"fill:none;\" d=\"M68.5 193.2 L62.5 193.2\"/><path style=\"fill:none;\" d=\"M68.5 168 L62.5 168\"/><path style=\"fill:none;\" d=\"M68.5 142.8 L62.5 142.8\"/><path style=\"fill:none;\" d=\"M68.5 117.6 L62.5 117.6\"/><path style=\"fill:none;\" d=\"M68.5 92.4 L62.5 92.4\"/><path style=\"fill:none;\" d=\"M68.5 67.2 L62.5 67.2\"/><path style=\"fill:none;\" d=\"M68.5 42 L62.5 42\"/><path style=\"fill:none;\" d=\"M68.5 42 L68.5 294\"/><path d=\"M68.5 67.1496 L69.322 153.4106 L70.144 213.1111 L70.966 250.3072 L71.788 269.164 L72.61 273.6981 L73.432 267.599 L74.254 254.1177 L75.076 236.0089 L75.898 215.5177 L76.72 194.3963 L77.542 173.944 L78.364 155.0611 L79.186 138.3088 L80.008 123.9725 L80.83 112.1221 L81.652 102.6673 L82.474 95.4074 L83.296 90.0724 L84.118 86.3576 L84.94 83.9498 L85.762 82.5473 L86.584 81.8735 L87.406 81.6856 L88.228 81.779 L89.05 81.9883 L89.872 82.1857 L90.694 82.2787 L91.516 82.205 L92.338 81.9286 L93.16 81.4345 L93.982 80.7244 L94.804 79.8119 L95.626 78.7192 L96.448 77.4737 L97.27 76.1051 L98.092 74.644 L98.914 73.1194 L99.736 71.5585 L100.558 69.9856 L101.38 68.4217 L102.202 66.8847 L103.024 65.3891 L103.846 63.9466 L104.668 62.5663 L105.49 61.2547 L106.312 60.0166 L107.134 58.8552 L107.956 57.7723 L108.778 56.7689 L109.6 55.8451 L110.422 55.0007 L111.244 54.2348 L112.066 53.5466 L112.888 52.9351 L113.71 52.3989 L114.532 51.9368 L115.354 51.5476 L116.176 51.23 L116.998 50.9825 L117.82 50.8037 L118.642 50.692 L119.464 50.6459 L120.286 50.6635 L121.108 50.7431 L121.93 50.8825 L122.752 51.0796 L123.574 51.3322 L124.396 51.6378 L125.218 51.9937 L126.04 52.3974 L126.862 52.8461 L127.684 53.3366 L128.506 53.8662 L129.328 54.4316 L130.15 55.0297 L130.972 55.6573 L131.794 56.3112 L132.616 56.988 L133.438 57.6847 L134.26 58.3978 L135.082 59.1242 L135.904 59.8608 L136.726 60.6043 L137.548 61.3518 L138.37 62.1003 L139.192 62.8467 L140.014 63.5884 L140.836 64.3226 L141.658 65.0467 L142.48 65.7583 L143.302 66.4548 L144.124 67.1342 L144.946 67.7943 L145.768 68.4331 L146.59 69.0488 L147.412 69.6396 L148.234 70.2041 L149.056 70.7408 L149.878 71.2485 L150.7 71.726 L151.522 72.1725 L152.344 72.587 L153.166 72.9689 L153.988 73.3178 L154.81 73.6331 L155.632 73.9147 L156.454 74.1624 L157.276 74.3763 L158.098 74.5565 L158.92 74.7033 L159.742 74.8172 L160.564 74.8985 L161.386 74.948 L162.208 74.9664 L163.03 74.9544 L163.852 74.9131 L164.674 74.8434 L165.496 74.7463 L166.318 74.6232 L167.14 74.4751 L167.962 74.3034 L168.784 74.1094 L169.606 73.8944 L170.428 73.66 L171.25 73.4076 L172.072 73.1386 L172.894 72.8546 L173.716 72.5571 L174.538 72.2476 L175.36 71.9277 L176.182 71.5989 L177.004 71.2626 L177.826 70.9205 L178.648 70.5739 L179.47 70.2244 L180.292 69.8733 L181.114 69.5221 L181.936 69.1721 L182.758 68.8246 L183.58 68.4809 L184.402 68.1421 L185.224 67.8095 L186.046 67.4841 L186.868 67.1671 L187.69 66.8592 L188.512 66.5615 L189.334 66.2749 L190.156 66 L190.978 65.7377 L191.8 65.4885 L192.622 65.2531 L193.444 65.0318 L194.266 64.8253 L195.088 64.6338 L195.91 64.4577 L196.732 64.2972 L197.554 64.1524 L198.376 64.0234 L199.198 63.9104 L200.02 63.8132 L200.842 63.7318 L201.664 63.6661 L202.486 63.6158 L203.308 63.5806 L204.13 63.5604 L204.952 63.5547 L205.774 63.5632 L206.596 63.5853 L207.418 63.6207 L208.24 63.6688 L209.062 63.729 L209.884 63.8008 L210.706 63.8836 L211.528 63.9767 L212.35 64.0795 L213.172 64.1913 L213.994 64.3114 L214.816 64.4392 L215.638 64.5738 L216.46 64.7146 L217.282 64.861 L218.104 65.012 L218.926 65.1672 L219.748 65.3256 L220.57 65.4867 L221.392 65.6497 L222.214 65.8139 L223.036 65.9788 L223.858 66.1436 L224.68 66.3077 L225.502 66.4704 L226.324 66.6313 L227.146 66.7898 L227.968 66.9453 L228.79 67.0972 L229.612 67.2452 L230.434 67.3888 L231.256 67.5275 L232.078 67.6609 L232.9 67.7887 L233.722 67.9107 L234.544 68.0263 L235.366 68.1355 L236.188 68.2379 L237.01 68.3335 L237.832 68.4219 L238.654 68.5031 L239.476 68.5769 L240.298 68.6434 L241.12 68.7024 L241.942 68.7539 L242.764 68.798 L243.586 68.8347 L244.408 68.8641 L245.23 68.8863 L246.052 68.9013 L246.874 68.9094 L247.696 68.9107 L248.518 68.9054 L249.34 68.8937 L250.162 68.8759 L250.984 68.8521 L251.806 68.8227 L252.628 68.788 L253.45 68.7481 L254.272 68.7035 L255.094 68.6543 L255.916 68.601 L256.738 68.5439 L257.56 68.4832 L258.382 68.4194 L259.204 68.3528 L260.026 68.2836 L260.848 68.2123 L261.67 68.1391 L262.492 68.0645 L263.314 67.9887 L264.136 67.912 L264.958 67.8349 L265.78 67.7575 L266.602 67.6802 L267.424 67.6032 L268.246 67.527 L269.068 67.4517 L269.89 67.3776 L270.712 67.3049 L271.534 67.234 L272.356 67.1649 L273.178 67.098 L274 67.0334 L274.822 66.9712 L275.644 66.9118 L276.466 66.8552 L277.288 66.8015 L278.11 66.7509 L278.932 66.7034 L279.754 66.6593 L280.576 66.6185 L281.398 66.5811 L282.22 66.5471 L283.042 66.5166 L283.864 66.4896 L284.686 66.4662 L285.508 66.4462 L286.33 66.4296 L287.152 66.4165 L287.974 66.4068 L288.796 66.4004 L289.618 66.3973 L290.44 66.3973 L291.262 66.4004 L292.084 66.4065 L292.906 66.4154 L293.728 66.4271 L294.55 66.4415 L295.372 66.4583 L296.194 66.4774 L297.016 66.4989 L297.838 66.5223 L298.66 66.5477 L299.482 66.5749 L300.304 66.6037 L301.126 66.6339 L301.948 66.6654 L302.77 66.6981 L303.592 66.7318 L304.414 66.7663 L305.236 66.8014 L306.058 66.8371 L306.88 66.8731 L307.702 66.9094 L308.524 66.9457 L309.346 66.982 L310.168 67.018 L310.99 67.0537 L311.812 67.089 L312.634 67.1236 L313.456 67.1576 L314.278 67.1907 L315.1 67.2229 L315.922 67.2542 L316.744 67.2842 L317.566 67.3131 L318.388 67.3408 L319.21 67.3671 L320.032 67.392 L320.854 67.4155 L321.676 67.4374 L322.498 67.4578 L323.32 67.4767 L324.142 67.4939 L324.964 67.5095 L325.786 67.5235 L326.608 67.5358 L327.43 67.5465 L328.252 67.5555 L329.074 67.563 L329.896 67.5688 L330.718 67.573 L331.54 67.5757 L332.362 67.5769 L333.184 67.5766 L334.006 67.5748 L334.828 67.5717 L335.65 67.5672 L336.472 67.5615 L337.294 67.5545 L338.116 67.5464 L338.938 67.5372 L339.76 67.5269 L340.582 67.5157 L341.404 67.5036 L342.226 67.4907 L343.048 67.4771 L343.87 67.4628 L344.692 67.4478 L345.514 67.4324 L346.336 67.4165 L347.158 67.4003 L347.98 67.3837 L348.802 67.3669 L349.624 67.35 L350.446 67.3329 L351.268 67.3159 L352.09 67.2989 L352.912 67.282 L353.734 67.2653 L354.556 67.2488 L355.378 67.2326 L356.2 67.2167 L357.022 67.2012 L357.844 67.1862 L358.666 67.1717 L359.488 67.1577 L360.31 67.1442 L361.132 67.1314 L361.954 67.1191 L362.776 67.1076 L363.598 67.0967 L364.42 67.0866 L365.242 67.0771 L366.064 67.0684 L366.886 67.0605 L367.708 67.0533 L368.53 67.0469 L369.352 67.0413 L370.174 67.0364 L370.996 67.0324 L371.818 67.029 L372.64 67.0264 L373.462 67.0246 L374.284 67.0235 L375.106 67.0231 L375.928 67.0234 L376.75 67.0243 L377.572 67.0259 L378.394 67.0281 L379.216 67.0309 L380.038 67.0343 L380.86 67.0383 L381.682 67.0427 L382.504 67.0476 L383.326 67.0529 L384.148 67.0587 L384.97 67.0648 L385.792 67.0713 L386.614 67.0781 L387.436 67.0851 L388.258 67.0924 L389.08 67.0999 L389.902 67.1076 L390.724 67.1154 L391.546 67.1233 L392.368 67.1312 L393.19 67.1392 L394.012 67.1472 L394.834 67.1552 L395.656 67.1631 L396.478 67.171 L397.3 67.1787 L398.122 67.1862 L398.944 67.1936 L399.766 67.2009 L400.588 67.2079 L401.41 67.2147 L402.232 67.2212 L403.054 67.2274 L403.876 67.2334 L404.698 67.2391 L405.52 67.2444 L406.342 67.2495 L407.164 67.2542 L407.986 67.2585 L408.808 67.2625 L409.63 67.2662 L410.452 67.2695 L411.274 67.2724 L412.096 67.275 L412.918 67.2772 L413.74 67.279 L414.562 67.2805 L415.384 67.2817 L416.206 67.2825 L417.028 67.2829 L417.85 67.283 L418.672 67.2828 L419.494 67.2823 L420.316 67.2815 L421.138 67.2804 L421.96 67.279 L422.782 67.2774 L423.604 67.2755 L424.426 67.2734 L425.248 67.271 L426.07 67.2685 L426.892 67.2658 L427.714 67.2628 L428.536 67.2598 L429.358 67.2566 L430.18 67.2532 L431.002 67.2498 L431.824 67.2462 L432.646 67.2426 L433.468 67.239 L434.29 67.2353 L435.112 67.2315 L435.934 67.2278 L436.756 67.224 L437.578 67.2203 L438.4 67.2166 L439.222 67.2129 L440.044 67.2093 L440.866 67.2057 L441.688 67.2023 L442.51 67.1989 L443.332 67.1956 L444.154 67.1925 L444.976 67.1895 L445.798 67.1865 L446.62 67.1838 L447.442 67.1811 L448.264 67.1786 L449.086 67.1763 L449.908 67.1741 L450.73 67.1721 L451.552 67.1703 L452.374 67.1686 L453.196 67.1671 L454.018 67.1657 L454.84 67.1646 L455.662 67.1636 L456.484 67.1628 L457.306 67.1621 L458.128 67.1616 L458.95 67.1612 L459.772 67.1611 L460.594 67.161 L461.416 67.1612 L462.238 67.1614 L463.06 67.1618 L463.882 67.1624 L464.704 67.163 L465.526 67.1638 L466.348 67.1648 L467.17 67.1658 L467.992 67.1669 L468.814 67.1681 L469.636 67.1694 L470.458 67.1708 L471.28 67.1722 L472.102 67.1738 L472.924 67.1753 L473.746 67.177 L474.568 67.1786 L475.39 67.1803 L476.212 67.1821 L477.034 67.1838 L477.856 67.1856 L478.678 67.1873 L479.5 67.1891\" style=\"fill:none; stroke-width:2; clip-path:url(#clipPath1);\"/><path style=\"fill:none;\" d=\"M68.5 294 L68.5 42 L68.5 42 L479.5 42 L479.5 294 L479.5 294 L68.5 294\"/><path style=\"fill:none;\" d=\"M479.5 42 L68.5 42\"/><path style=\"fill:none;\" d=\"M479.5 42 L479.5 294\"/><path style=\"fill:none;\" d=\"M479.5 42 L479.5 42\"/></g></g></svg>",
      "text/plain": [
       "<IPython.core.display.SVG object>"
      ]
     },
     "metadata": {},
     "output_type": "display_data"
    }
   ],
   "source": [
    "plot(t,csim('impulse',t,U),'k-','LineWidth',2);"
   ]
  },
  {
   "cell_type": "markdown",
   "metadata": {},
   "source": [
    "### Problema 5"
   ]
  },
  {
   "cell_type": "markdown",
   "metadata": {},
   "source": [
    "Calcular a saı́da do sistema em malha-fechada para as entradas r(t) = sen(πt) e r(t) uma onda quadrada de amplitude unitária e perı́odo igual a quatro; "
   ]
  },
  {
   "cell_type": "markdown",
   "metadata": {},
   "source": [
    "Podemos usar o `csim`, para seno:"
   ]
  },
  {
   "cell_type": "code",
   "execution_count": 40,
   "metadata": {},
   "outputs": [
    {
     "name": "stdout",
     "output_type": "stream",
     "text": [
      "\u001b[4l\u001b[0m\n",
      "\u001b[0m\u001b[4l\u001b[0m\n",
      "\u001b[0m\u001b[4l\u001b[0m\n",
      "\u001b[0m"
     ]
    },
    {
     "data": {
      "image/svg+xml": "<svg xmlns:xlink=\"http://www.w3.org/1999/xlink\" xmlns=\"http://www.w3.org/2000/svg\" style=\"fill-opacity:1; color-rendering:auto; color-interpolation:auto; text-rendering:auto; stroke:black; stroke-linecap:square; stroke-miterlimit:10; shape-rendering:auto; stroke-opacity:1; fill:black; stroke-dasharray:none; font-weight:normal; stroke-width:1; font-family:'Dialog'; font-style:normal; stroke-linejoin:miter; font-size:12px; stroke-dashoffset:0; image-rendering:auto;\" width=\"548\" height=\"336\"><!--Generated by Scilab with Batik SVG Generator--><defs id=\"genericDefs\"/><g><defs id=\"defs1\"><clipPath clipPathUnits=\"userSpaceOnUse\" id=\"clipPath1\"><path d=\"M68.4959 41.9975 L479.5041 41.9975 L479.5041 294.0025 L68.4959 294.0025 L68.4959 41.9975 Z\"/></clipPath><font horiz-adv-x=\"60.0\" id=\"font1\"><font-face ascent=\"92.822266\" descent=\"23.583984\" units-per-em=\"100\" style=\"font-style:normal; font-family:sans-serif; font-weight:normal;\"/><missing-glyph horiz-adv-x=\"60.0\" d=\"M4.9844 -17.6719 L4.9844 70.5156 L54.9844 70.5156 L54.9844 -17.6719 L4.9844 -17.6719 ZM10.5938 -12.1094 L49.4219 -12.1094 L49.4219 64.8906 L10.5938 64.8906 L10.5938 -12.1094 Z\"/><glyph unicode=\"0\" horiz-adv-x=\"64.0\" d=\"M31.7812 66.4062 Q24.1719 66.4062 20.3281 58.9062 Q16.5 51.4219 16.5 36.375 Q16.5 21.3906 20.3281 13.8906 Q24.1719 6.3906 31.7812 6.3906 Q39.4531 6.3906 43.2812 13.8906 Q47.125 21.3906 47.125 36.375 Q47.125 51.4219 43.2812 58.9062 Q39.4531 66.4062 31.7812 66.4062 ZM31.7812 74.2188 Q44.0469 74.2188 50.5156 64.5156 Q56.9844 54.8281 56.9844 36.375 Q56.9844 17.9688 50.5156 8.2656 Q44.0469 -1.4219 31.7812 -1.4219 Q19.5312 -1.4219 13.0625 8.2656 Q6.5938 17.9688 6.5938 36.375 Q6.5938 54.8281 13.0625 64.5156 Q19.5312 74.2188 31.7812 74.2188 Z\"/><glyph unicode=\"2\" horiz-adv-x=\"64.0\" d=\"M19.1875 8.2969 L53.6094 8.2969 L53.6094 0 L7.3281 0 L7.3281 8.2969 Q12.9375 14.1094 22.625 23.8906 Q32.3281 33.6875 34.8125 36.5312 Q39.5469 41.8438 41.4219 45.5312 Q43.3125 49.2188 43.3125 52.7812 Q43.3125 58.5938 39.2344 62.25 Q35.1562 65.9219 28.6094 65.9219 Q23.9688 65.9219 18.8125 64.3125 Q13.6719 62.7031 7.8125 59.4219 L7.8125 69.3906 Q13.7656 71.7812 18.9375 73 Q24.125 74.2188 28.4219 74.2188 Q39.75 74.2188 46.4844 68.5469 Q53.2188 62.8906 53.2188 53.4219 Q53.2188 48.9219 51.5312 44.8906 Q49.8594 40.875 45.4062 35.4062 Q44.1875 33.9844 37.6406 27.2188 Q31.1094 20.4531 19.1875 8.2969 Z\"/><glyph unicode=\"1\" horiz-adv-x=\"64.0\" d=\"M12.4062 8.2969 L28.5156 8.2969 L28.5156 63.9219 L10.9844 60.4062 L10.9844 69.3906 L28.4219 72.9062 L38.2812 72.9062 L38.2812 8.2969 L54.3906 8.2969 L54.3906 0 L12.4062 0 L12.4062 8.2969 Z\"/><glyph unicode=\"4\" horiz-adv-x=\"64.0\" d=\"M37.7969 64.3125 L12.8906 25.3906 L37.7969 25.3906 L37.7969 64.3125 ZM35.2031 72.9062 L47.6094 72.9062 L47.6094 25.3906 L58.0156 25.3906 L58.0156 17.1875 L47.6094 17.1875 L47.6094 0 L37.7969 0 L37.7969 17.1875 L4.8906 17.1875 L4.8906 26.7031 L35.2031 72.9062 Z\"/><glyph unicode=\"6\" horiz-adv-x=\"64.0\" d=\"M33.0156 40.375 Q26.375 40.375 22.4844 35.8281 Q18.6094 31.2969 18.6094 23.3906 Q18.6094 15.5312 22.4844 10.9531 Q26.375 6.3906 33.0156 6.3906 Q39.6562 6.3906 43.5312 10.9531 Q47.4062 15.5312 47.4062 23.3906 Q47.4062 31.2969 43.5312 35.8281 Q39.6562 40.375 33.0156 40.375 ZM52.5938 71.2969 L52.5938 62.3125 Q48.875 64.0625 45.0938 64.9844 Q41.3125 65.9219 37.5938 65.9219 Q27.8281 65.9219 22.6719 59.3281 Q17.5312 52.7344 16.7969 39.4062 Q19.6719 43.6562 24.0156 45.9219 Q28.375 48.1875 33.5938 48.1875 Q44.5781 48.1875 50.9531 41.5156 Q57.3281 34.8594 57.3281 23.3906 Q57.3281 12.1562 50.6875 5.3594 Q44.0469 -1.4219 33.0156 -1.4219 Q20.3594 -1.4219 13.6719 8.2656 Q6.9844 17.9688 6.9844 36.375 Q6.9844 53.6562 15.1875 63.9375 Q23.3906 74.2188 37.2031 74.2188 Q40.9219 74.2188 44.7031 73.4844 Q48.4844 72.75 52.5938 71.2969 Z\"/><glyph unicode=\"8\" horiz-adv-x=\"64.0\" d=\"M31.7812 34.625 Q24.75 34.625 20.7188 30.8594 Q16.7031 27.0938 16.7031 20.5156 Q16.7031 13.9219 20.7188 10.1562 Q24.75 6.3906 31.7812 6.3906 Q38.8125 6.3906 42.8594 10.1719 Q46.9219 13.9688 46.9219 20.5156 Q46.9219 27.0938 42.8906 30.8594 Q38.875 34.625 31.7812 34.625 ZM21.9219 38.8125 Q15.5781 40.375 12.0312 44.7188 Q8.5 49.0781 8.5 55.3281 Q8.5 64.0625 14.7188 69.1406 Q20.9531 74.2188 31.7812 74.2188 Q42.6719 74.2188 48.875 69.1406 Q55.0781 64.0625 55.0781 55.3281 Q55.0781 49.0781 51.5312 44.7188 Q48 40.375 41.7031 38.8125 Q48.8281 37.1562 52.7969 32.3125 Q56.7812 27.4844 56.7812 20.5156 Q56.7812 9.9062 50.3125 4.2344 Q43.8438 -1.4219 31.7812 -1.4219 Q19.7344 -1.4219 13.25 4.2344 Q6.7812 9.9062 6.7812 20.5156 Q6.7812 27.4844 10.7812 32.3125 Q14.7969 37.1562 21.9219 38.8125 ZM18.3125 54.3906 Q18.3125 48.7344 21.8438 45.5625 Q25.3906 42.3906 31.7812 42.3906 Q38.1406 42.3906 41.7188 45.5625 Q45.3125 48.7344 45.3125 54.3906 Q45.3125 60.0625 41.7188 63.2344 Q38.1406 66.4062 31.7812 66.4062 Q25.3906 66.4062 21.8438 63.2344 Q18.3125 60.0625 18.3125 54.3906 Z\"/><glyph unicode=\"-\" horiz-adv-x=\"36.0\" d=\"M4.8906 31.3906 L31.2031 31.3906 L31.2031 23.3906 L4.8906 23.3906 L4.8906 31.3906 Z\"/><glyph unicode=\".\" horiz-adv-x=\"32.0\" d=\"M10.6875 12.4062 L21 12.4062 L21 0 L10.6875 0 L10.6875 12.4062 Z\"/></font></defs><g style=\"fill:white; text-rendering:optimizeLegibility; stroke:white;\"><rect x=\"0\" width=\"548\" height=\"336\" y=\"0\" style=\"stroke:none;\"/></g><g style=\"stroke-linecap:butt; fill:white; text-rendering:geometricPrecision; stroke-linejoin:bevel; shape-rendering:crispEdges; stroke:white; stroke-width:0;\"><path style=\"stroke:none;\" d=\"M479.5 42 L479.5 294 L68.5 42 Z\"/><path style=\"stroke:none;\" d=\"M479.5 294 L68.5 294 L68.5 42 Z\"/><path style=\"stroke:none;\" d=\"M479.5 42 L479.5 294 L479.5 294 Z\"/><path style=\"stroke:none;\" d=\"M68.5 42 L68.5 294 L68.5 294 Z\"/><path style=\"stroke:none;\" d=\"M479.5 42 L479.5 294 L68.5 42 Z\"/><path style=\"stroke:none;\" d=\"M479.5 294 L68.5 294 L68.5 42 Z\"/><path style=\"stroke:none;\" d=\"M479.5 42 L479.5 42 L479.5 294 Z\"/><path style=\"stroke:none;\" d=\"M68.5 42 L68.5 42 L68.5 294 Z\"/><path style=\"stroke:none;\" d=\"M479.5 42 L68.5 42 L479.5 42 Z\"/><path style=\"stroke:none;\" d=\"M68.5 42 L68.5 42 L479.5 42 Z\"/><path style=\"stroke:none;\" d=\"M479.5 294 L68.5 294 L479.5 294 Z\"/><path style=\"stroke:none;\" d=\"M68.5 294 L68.5 294 L479.5 294 Z\"/></g><g transform=\"translate(64.5,303)\" style=\"font-size:10px; stroke-linecap:butt; text-rendering:geometricPrecision; font-family:sans-serif; stroke-linejoin:bevel; stroke-width:0;\"><text x=\"-0.6562\" xml:space=\"preserve\" y=\"9.2822\" style=\"stroke:none;\">0</text></g><g transform=\"translate(390.8,303)\" style=\"font-size:10px; stroke-linecap:butt; text-rendering:geometricPrecision; font-family:sans-serif; stroke-linejoin:bevel; stroke-width:0;\"><text x=\"-0.7344\" xml:space=\"preserve\" y=\"9.2822\" style=\"stroke:none;\">20</text></g><g transform=\"translate(226.4,303)\" style=\"font-size:10px; stroke-linecap:butt; text-rendering:geometricPrecision; font-family:sans-serif; stroke-linejoin:bevel; stroke-width:0;\"><text x=\"-1.0938\" xml:space=\"preserve\" y=\"9.2822\" style=\"stroke:none;\">10</text></g><g transform=\"translate(97.88,303)\" style=\"font-size:10px; stroke-linecap:butt; text-rendering:geometricPrecision; font-family:sans-serif; stroke-linejoin:bevel; stroke-width:0;\"><text x=\"-0.7344\" xml:space=\"preserve\" y=\"9.2822\" style=\"stroke:none;\">2</text></g><g transform=\"translate(130.26,303)\" style=\"font-size:10px; stroke-linecap:butt; text-rendering:geometricPrecision; font-family:sans-serif; stroke-linejoin:bevel; stroke-width:0;\"><text x=\"-0.4844\" xml:space=\"preserve\" y=\"9.2822\" style=\"stroke:none;\">4</text></g><g transform=\"translate(163.14,303)\" style=\"font-size:10px; stroke-linecap:butt; text-rendering:geometricPrecision; font-family:sans-serif; stroke-linejoin:bevel; stroke-width:0;\"><text x=\"-0.7031\" xml:space=\"preserve\" y=\"9.2822\" style=\"stroke:none;\">6</text></g><g transform=\"translate(196.52,303)\" style=\"font-size:10px; stroke-linecap:butt; text-rendering:geometricPrecision; font-family:sans-serif; stroke-linejoin:bevel; stroke-width:0;\"><text x=\"-0.6719\" xml:space=\"preserve\" y=\"9.2822\" style=\"stroke:none;\">8</text></g><g transform=\"translate(259.28,303)\" style=\"font-size:10px; stroke-linecap:butt; text-rendering:geometricPrecision; font-family:sans-serif; stroke-linejoin:bevel; stroke-width:0;\"><text x=\"-1.0938\" xml:space=\"preserve\" y=\"9.2822\" style=\"stroke:none;\">12</text></g><g transform=\"translate(292.16,303)\" style=\"font-size:10px; stroke-linecap:butt; text-rendering:geometricPrecision; font-family:sans-serif; stroke-linejoin:bevel; stroke-width:0;\"><text x=\"-1.0938\" xml:space=\"preserve\" y=\"9.2822\" style=\"stroke:none;\">14</text></g><g transform=\"translate(325.04,303)\" style=\"font-size:10px; stroke-linecap:butt; text-rendering:geometricPrecision; font-family:sans-serif; stroke-linejoin:bevel; stroke-width:0;\"><text x=\"-1.0938\" xml:space=\"preserve\" y=\"9.2822\" style=\"stroke:none;\">16</text></g><g transform=\"translate(357.92,303)\" style=\"font-size:10px; stroke-linecap:butt; text-rendering:geometricPrecision; font-family:sans-serif; stroke-linejoin:bevel; stroke-width:0;\"><text x=\"-1.0938\" xml:space=\"preserve\" y=\"9.2822\" style=\"stroke:none;\">18</text></g><g transform=\"translate(423.68,303)\" style=\"font-size:10px; stroke-linecap:butt; text-rendering:geometricPrecision; font-family:sans-serif; stroke-linejoin:bevel; stroke-width:0;\"><text x=\"-0.7344\" xml:space=\"preserve\" y=\"9.2822\" style=\"stroke:none;\">22</text></g><g transform=\"translate(456.06,303)\" style=\"font-size:10px; stroke-linecap:butt; text-rendering:geometricPrecision; font-family:sans-serif; stroke-linejoin:bevel; stroke-width:0;\"><text x=\"-0.7344\" xml:space=\"preserve\" y=\"9.2822\" style=\"stroke:none;\">24</text></g><g style=\"text-rendering:geometricPrecision; font-size:10px; shape-rendering:crispEdges; font-family:sans-serif; stroke-linecap:butt;\"><path style=\"fill:none;\" d=\"M68.5 294 L68.5 300\"/><path style=\"fill:none;\" d=\"M101.38 294 L101.38 300\"/><path style=\"fill:none;\" d=\"M134.26 294 L134.26 300\"/><path style=\"fill:none;\" d=\"M167.14 294 L167.14 300\"/><path style=\"fill:none;\" d=\"M200.02 294 L200.02 300\"/><path style=\"fill:none;\" d=\"M232.9 294 L232.9 300\"/><path style=\"fill:none;\" d=\"M265.78 294 L265.78 300\"/><path style=\"fill:none;\" d=\"M298.66 294 L298.66 300\"/><path style=\"fill:none;\" d=\"M331.54 294 L331.54 300\"/><path style=\"fill:none;\" d=\"M364.42 294 L364.42 300\"/><path style=\"fill:none;\" d=\"M397.3 294 L397.3 300\"/><path style=\"fill:none;\" d=\"M430.18 294 L430.18 300\"/><path style=\"fill:none;\" d=\"M463.06 294 L463.06 300\"/><path style=\"fill:none;\" d=\"M68.5 294 L68.5 297\"/><path style=\"fill:none;\" d=\"M84.94 294 L84.94 297\"/><path style=\"fill:none;\" d=\"M101.38 294 L101.38 297\"/><path style=\"fill:none;\" d=\"M117.82 294 L117.82 297\"/><path style=\"fill:none;\" d=\"M134.26 294 L134.26 297\"/><path style=\"fill:none;\" d=\"M150.7 294 L150.7 297\"/><path style=\"fill:none;\" d=\"M167.14 294 L167.14 297\"/><path style=\"fill:none;\" d=\"M183.58 294 L183.58 297\"/><path style=\"fill:none;\" d=\"M200.02 294 L200.02 297\"/><path style=\"fill:none;\" d=\"M216.46 294 L216.46 297\"/><path style=\"fill:none;\" d=\"M232.9 294 L232.9 297\"/><path style=\"fill:none;\" d=\"M249.34 294 L249.34 297\"/><path style=\"fill:none;\" d=\"M265.78 294 L265.78 297\"/><path style=\"fill:none;\" d=\"M282.22 294 L282.22 297\"/><path style=\"fill:none;\" d=\"M298.66 294 L298.66 297\"/><path style=\"fill:none;\" d=\"M315.1 294 L315.1 297\"/><path style=\"fill:none;\" d=\"M331.54 294 L331.54 297\"/><path style=\"fill:none;\" d=\"M347.98 294 L347.98 297\"/><path style=\"fill:none;\" d=\"M364.42 294 L364.42 297\"/><path style=\"fill:none;\" d=\"M380.86 294 L380.86 297\"/><path style=\"fill:none;\" d=\"M397.3 294 L397.3 297\"/><path style=\"fill:none;\" d=\"M413.74 294 L413.74 297\"/><path style=\"fill:none;\" d=\"M430.18 294 L430.18 297\"/><path style=\"fill:none;\" d=\"M446.62 294 L446.62 297\"/><path style=\"fill:none;\" d=\"M463.06 294 L463.06 297\"/><path style=\"fill:none;\" d=\"M479.5 294 L479.5 297\"/><path style=\"fill:none;\" d=\"M479.5 294 L68.5 294\"/><text x=\"-0.6562\" y=\"9.2822\" transform=\"translate(51.5,161.5)\" style=\"stroke-linejoin:bevel; shape-rendering:auto; stroke:none; stroke-width:0;\" xml:space=\"preserve\">0</text></g><g transform=\"translate(48.5,287.5)\" style=\"font-size:10px; stroke-linecap:butt; text-rendering:geometricPrecision; font-family:sans-serif; stroke-linejoin:bevel; stroke-width:0;\"><text x=\"-0.4844\" xml:space=\"preserve\" y=\"9.2822\" style=\"stroke:none;\">-1</text></g><g transform=\"translate(52.5,35.5)\" style=\"font-size:10px; stroke-linecap:butt; text-rendering:geometricPrecision; font-family:sans-serif; stroke-linejoin:bevel; stroke-width:0;\"><text x=\"-1.0938\" xml:space=\"preserve\" y=\"9.2822\" style=\"stroke:none;\">1</text></g><g transform=\"translate(38.5,262.3)\" style=\"font-size:10px; stroke-linecap:butt; text-rendering:geometricPrecision; font-family:sans-serif; stroke-linejoin:bevel; stroke-width:0;\"><text x=\"-0.4844\" xml:space=\"preserve\" y=\"9.2822\" style=\"stroke:none;\">-0.8</text></g><g transform=\"translate(38.5,237.1)\" style=\"font-size:10px; stroke-linecap:butt; text-rendering:geometricPrecision; font-family:sans-serif; stroke-linejoin:bevel; stroke-width:0;\"><text x=\"-0.4844\" xml:space=\"preserve\" y=\"9.2822\" style=\"stroke:none;\">-0.6</text></g><g transform=\"translate(38.5,211.9)\" style=\"font-size:10px; stroke-linecap:butt; text-rendering:geometricPrecision; font-family:sans-serif; stroke-linejoin:bevel; stroke-width:0;\"><text x=\"-0.4844\" xml:space=\"preserve\" y=\"9.2822\" style=\"stroke:none;\">-0.4</text></g><g transform=\"translate(39.5,186.7)\" style=\"font-size:10px; stroke-linecap:butt; text-rendering:geometricPrecision; font-family:sans-serif; stroke-linejoin:bevel; stroke-width:0;\"><text x=\"-0.4844\" xml:space=\"preserve\" y=\"9.2822\" style=\"stroke:none;\">-0.2</text></g><g transform=\"translate(43.5,136.3)\" style=\"font-size:10px; stroke-linecap:butt; text-rendering:geometricPrecision; font-family:sans-serif; stroke-linejoin:bevel; stroke-width:0;\"><text x=\"-0.6562\" xml:space=\"preserve\" y=\"9.2822\" style=\"stroke:none;\">0.2</text></g><g transform=\"translate(42.5,111.1)\" style=\"font-size:10px; stroke-linecap:butt; text-rendering:geometricPrecision; font-family:sans-serif; stroke-linejoin:bevel; stroke-width:0;\"><text x=\"-0.6562\" xml:space=\"preserve\" y=\"9.2822\" style=\"stroke:none;\">0.4</text></g><g transform=\"translate(42.5,85.9)\" style=\"font-size:10px; stroke-linecap:butt; text-rendering:geometricPrecision; font-family:sans-serif; stroke-linejoin:bevel; stroke-width:0;\"><text x=\"-0.6562\" xml:space=\"preserve\" y=\"9.2822\" style=\"stroke:none;\">0.6</text></g><g transform=\"translate(42.5,60.7)\" style=\"font-size:10px; stroke-linecap:butt; text-rendering:geometricPrecision; font-family:sans-serif; stroke-linejoin:bevel; stroke-width:0;\"><text x=\"-0.6562\" xml:space=\"preserve\" y=\"9.2822\" style=\"stroke:none;\">0.8</text></g><g style=\"text-rendering:geometricPrecision; font-size:10px; shape-rendering:crispEdges; font-family:sans-serif; stroke-linecap:butt;\"><path style=\"fill:none;\" d=\"M68.5 294 L62.5 294\"/><path style=\"fill:none;\" d=\"M68.5 268.8 L62.5 268.8\"/><path style=\"fill:none;\" d=\"M68.5 243.6 L62.5 243.6\"/><path style=\"fill:none;\" d=\"M68.5 218.4 L62.5 218.4\"/><path style=\"fill:none;\" d=\"M68.5 193.2 L62.5 193.2\"/><path style=\"fill:none;\" d=\"M68.5 168 L62.5 168\"/><path style=\"fill:none;\" d=\"M68.5 142.8 L62.5 142.8\"/><path style=\"fill:none;\" d=\"M68.5 117.6 L62.5 117.6\"/><path style=\"fill:none;\" d=\"M68.5 92.4 L62.5 92.4\"/><path style=\"fill:none;\" d=\"M68.5 67.2 L62.5 67.2\"/><path style=\"fill:none;\" d=\"M68.5 42 L62.5 42\"/><path style=\"fill:none;\" d=\"M68.5 294 L65.5 294\"/><path style=\"fill:none;\" d=\"M68.5 281.4 L65.5 281.4\"/><path style=\"fill:none;\" d=\"M68.5 268.8 L65.5 268.8\"/><path style=\"fill:none;\" d=\"M68.5 256.2 L65.5 256.2\"/><path style=\"fill:none;\" d=\"M68.5 243.6 L65.5 243.6\"/><path style=\"fill:none;\" d=\"M68.5 231 L65.5 231\"/><path style=\"fill:none;\" d=\"M68.5 218.4 L65.5 218.4\"/><path style=\"fill:none;\" d=\"M68.5 205.8 L65.5 205.8\"/><path style=\"fill:none;\" d=\"M68.5 193.2 L65.5 193.2\"/><path style=\"fill:none;\" d=\"M68.5 180.6 L65.5 180.6\"/><path style=\"fill:none;\" d=\"M68.5 168 L65.5 168\"/><path style=\"fill:none;\" d=\"M68.5 155.4 L65.5 155.4\"/><path style=\"fill:none;\" d=\"M68.5 142.8 L65.5 142.8\"/><path style=\"fill:none;\" d=\"M68.5 130.2 L65.5 130.2\"/><path style=\"fill:none;\" d=\"M68.5 117.6 L65.5 117.6\"/><path style=\"fill:none;\" d=\"M68.5 105 L65.5 105\"/><path style=\"fill:none;\" d=\"M68.5 92.4 L65.5 92.4\"/><path style=\"fill:none;\" d=\"M68.5 79.8 L65.5 79.8\"/><path style=\"fill:none;\" d=\"M68.5 67.2 L65.5 67.2\"/><path style=\"fill:none;\" d=\"M68.5 54.6 L65.5 54.6\"/><path style=\"fill:none;\" d=\"M68.5 42 L65.5 42\"/><path style=\"fill:none;\" d=\"M68.5 42 L68.5 294\"/><path d=\"M68.5 168 L69.322 167.8478 L70.144 166.8776 L70.966 164.5264 L71.788 160.4849 L72.61 154.6651 L73.432 147.1631 L74.254 138.2205 L75.076 128.1872 L75.898 117.4855 L76.72 106.5779 L77.542 95.9384 L78.364 86.0283 L79.186 77.2758 L80.008 70.0599 L80.83 64.6986 L81.652 61.4397 L82.474 60.4561 L83.296 61.8433 L84.118 65.6194 L84.94 71.7282 L85.762 80.043 L86.584 90.3729 L87.406 102.4705 L88.228 116.0398 L89.05 130.7459 L89.872 146.2248 L90.694 162.0936 L91.516 177.9605 L92.338 193.4357 L93.16 208.1408 L93.982 221.7186 L94.804 233.8417 L95.626 244.2205 L96.448 252.61 L97.27 258.8159 L98.092 262.6986 L98.914 264.177 L99.736 263.2294 L100.558 259.8944 L101.38 254.2695 L102.202 246.5085 L103.024 236.8174 L103.846 225.4497 L104.668 212.6991 L105.49 198.8933 L106.312 184.3849 L107.134 169.5434 L107.956 154.7454 L108.778 140.366 L109.6 126.769 L110.422 114.2983 L111.244 103.2692 L112.066 93.9608 L112.888 86.6089 L113.71 81.4007 L114.532 78.4695 L115.354 77.892 L116.176 79.6864 L116.998 83.8115 L117.82 90.1681 L118.642 98.6015 L119.464 108.9051 L120.286 120.8256 L121.108 134.0694 L121.93 148.3095 L122.752 163.194 L123.574 178.3545 L124.396 193.415 L125.218 208.0019 L126.04 221.7525 L126.862 234.3242 L127.684 245.403 L128.506 254.7115 L129.328 262.0151 L130.15 267.1286 L130.972 269.9202 L131.794 270.3149 L132.616 268.2968 L133.438 263.9088 L134.26 257.2522 L135.082 248.4839 L135.904 237.8128 L136.726 225.4944 L137.548 211.8247 L138.37 197.1331 L139.192 181.7739 L140.014 166.1181 L140.836 150.5439 L141.658 135.4277 L142.48 121.1345 L143.302 108.0093 L144.124 96.3686 L144.946 86.4923 L145.768 78.6171 L146.59 72.9308 L147.412 69.5673 L148.234 68.6037 L149.056 70.0581 L149.878 73.8896 L150.7 79.9988 L151.522 88.2306 L152.344 98.3779 L153.166 110.1869 L153.988 123.3631 L154.81 137.5785 L155.632 152.4801 L156.454 167.6982 L157.276 182.8557 L158.098 197.5772 L158.92 211.4985 L159.742 224.2754 L160.564 235.5921 L161.386 245.1692 L162.208 252.7704 L163.03 258.2083 L163.852 261.3493 L164.674 262.1162 L165.496 260.491 L166.318 256.5146 L167.14 250.2861 L167.962 241.9603 L168.784 231.7439 L169.606 219.8904 L170.428 206.6938 L171.25 192.4812 L172.072 177.6052 L172.894 162.4346 L173.716 147.3458 L174.538 132.7132 L175.36 118.9002 L176.182 106.2499 L177.004 95.0771 L177.826 85.6603 L178.648 78.2346 L179.47 72.9862 L180.292 70.0478 L181.114 69.4952 L181.936 71.3455 L182.758 75.5564 L183.58 82.0277 L184.402 90.6035 L185.224 101.0758 L186.046 113.19 L186.868 126.6511 L187.69 141.1307 L188.512 156.2752 L189.334 171.7147 L190.156 187.0718 L190.978 201.971 L191.8 216.048 L192.622 228.9587 L193.444 240.3874 L194.266 250.0549 L195.088 257.7252 L195.91 263.2112 L196.732 266.3796 L197.554 267.154 L198.376 265.5166 L199.198 261.5092 L200.02 255.2313 L200.842 246.8387 L201.664 236.5387 L202.486 224.5857 L203.308 211.2743 L204.13 196.9327 L204.952 181.9144 L205.774 166.589 L206.596 151.3339 L207.418 136.5246 L208.24 122.5252 L209.062 109.6801 L209.884 98.305 L210.706 88.6792 L211.528 81.039 L212.35 75.5716 L213.172 72.4105 L213.994 71.6326 L214.816 73.2558 L215.638 77.2389 L216.46 83.4825 L217.282 91.8316 L218.104 102.0789 L218.926 113.9709 L219.748 127.2131 L220.57 141.4779 L221.392 156.4126 L222.214 171.6477 L223.036 186.8065 L223.858 201.5142 L224.68 215.407 L225.502 228.1411 L226.324 239.4016 L227.146 248.9094 L227.968 256.429 L228.79 261.7737 L229.612 264.8103 L230.434 265.4627 L231.256 263.7133 L232.078 259.6041 L232.9 253.2346 L233.722 244.7607 L234.544 234.3897 L235.366 222.3759 L236.188 209.0141 L237.01 194.6322 L237.832 179.5834 L238.654 164.2374 L239.476 148.9714 L240.298 134.1604 L241.12 120.1686 L241.942 107.3399 L242.764 95.9896 L243.586 86.3968 L244.408 78.7974 L245.23 73.3782 L246.052 70.2724 L246.874 69.5563 L247.696 71.2476 L248.518 75.3045 L249.34 81.6271 L250.162 90.0601 L250.984 100.3957 L251.806 112.3799 L252.628 125.7178 L253.45 140.0812 L254.272 155.117 L255.094 170.4553 L255.916 185.7189 L256.738 200.5326 L257.56 214.532 L258.382 227.3732 L259.204 238.7404 L260.026 248.3545 L260.848 255.9795 L261.67 261.4282 L262.492 264.5672 L263.314 265.3199 L264.136 263.6686 L264.958 259.6547 L265.78 253.3777 L266.602 244.993 L267.424 234.7078 L268.246 222.7761 L269.068 209.4924 L269.89 195.1845 L270.712 180.2056 L271.534 164.9251 L272.356 149.72 L273.178 134.9653 L274 121.0251 L274.822 108.2432 L275.644 96.9349 L276.466 87.3793 L277.288 79.8122 L278.11 74.4206 L278.932 71.3375 L279.754 70.6394 L280.576 72.344 L281.398 76.4096 L282.22 82.7365 L283.042 91.1693 L283.864 101.5006 L284.686 113.4763 L285.508 126.8017 L286.33 141.1489 L287.152 156.1648 L287.974 171.4798 L288.796 186.7169 L289.618 201.5009 L290.44 215.4678 L291.262 228.2738 L292.084 239.6035 L292.906 249.1777 L293.728 256.7609 L294.55 262.1659 L295.372 265.2597 L296.194 265.9659 L297.016 264.2669 L297.838 260.2044 L298.66 253.8781 L299.482 245.4436 L300.304 235.1082 L301.126 223.1263 L301.948 209.7925 L302.77 195.4349 L303.592 180.4066 L304.414 165.0774 L305.236 149.8244 L306.058 135.0229 L306.88 121.0369 L307.702 108.2105 L308.524 96.8591 L309.346 87.262 L310.168 79.655 L310.99 74.2251 L311.812 71.1058 L312.634 70.3733 L313.456 72.0455 L314.278 76.0808 L315.1 82.3796 L315.922 90.7864 L316.744 101.094 L317.566 113.0481 L318.388 126.3543 L319.21 140.6845 L320.032 155.6857 L320.854 170.9882 L321.676 186.215 L322.498 200.991 L323.32 214.9522 L324.142 227.7545 L324.964 239.0826 L325.786 248.6573 L326.608 256.2429 L327.43 261.6523 L328.252 264.7524 L329.074 265.4666 L329.896 263.7772 L330.718 259.726 L331.54 253.4124 L332.362 244.9921 L333.184 234.6723 L334.006 222.7071 L334.828 209.3912 L335.65 195.0524 L336.472 180.044 L337.294 164.7354 L338.116 149.5038 L338.938 134.7242 L339.76 120.7607 L340.582 107.9572 L341.404 96.629 L342.226 87.0553 L343.048 79.4718 L343.87 74.0655 L344.692 70.9696 L345.514 70.2605 L346.336 71.9558 L347.158 76.014 L347.98 82.3351 L348.802 90.7638 L349.624 101.0927 L350.446 113.0676 L351.268 126.3939 L352.09 140.7434 L352.912 155.7632 L353.734 171.0835 L354.556 186.3272 L355.378 201.1191 L356.2 215.0952 L357.022 227.9116 L357.844 239.2527 L358.666 248.8394 L359.488 256.4359 L360.31 261.8553 L361.132 264.9641 L361.954 265.686 L362.776 264.0034 L363.598 259.9578 L364.42 253.6488 L365.242 245.232 L366.064 234.9147 L366.886 222.9511 L367.708 209.6357 L368.53 195.2965 L369.352 180.2867 L370.174 164.9759 L370.996 149.7412 L371.818 134.9577 L372.64 120.9895 L373.462 108.1806 L374.284 96.8463 L375.106 87.2657 L375.928 79.6749 L376.75 74.2606 L377.572 71.1563 L378.394 70.4382 L379.216 72.1241 L380.038 76.1725 L380.86 82.4836 L381.682 90.9019 L382.504 101.2202 L383.326 113.1843 L384.148 126.4996 L384.97 140.8382 L385.792 155.8469 L386.614 171.1561 L387.436 186.3888 L388.258 201.1698 L389.08 215.1351 L389.902 227.9408 L390.724 239.2715 L391.546 248.848 L392.368 256.4345 L393.19 261.8441 L394.012 264.9436 L394.834 265.6566 L395.656 263.9653 L396.478 259.9114 L397.3 253.5946 L398.122 245.1705 L398.944 234.8462 L399.766 222.8761 L400.588 209.5547 L401.41 195.21 L402.232 180.1951 L403.054 164.8798 L403.876 149.6411 L404.698 134.854 L405.52 120.8828 L406.342 108.0713 L407.164 96.7349 L407.986 87.1529 L408.808 79.5609 L409.63 74.146 L410.452 71.0415 L411.274 70.3237 L412.096 72.0104 L412.918 76.0598 L413.74 82.3724 L414.562 90.7927 L415.384 101.1133 L416.206 113.08 L417.028 126.3983 L417.85 140.7401 L418.672 155.7523 L419.494 171.0653 L420.316 186.3021 L421.138 201.0873 L421.96 215.0571 L422.782 227.8674 L423.604 239.2028 L424.426 248.7842 L425.248 256.3757 L426.07 261.7904 L426.892 264.895 L427.714 265.6131 L428.536 263.9271 L429.358 259.8784 L430.18 253.5667 L431.002 245.1477 L431.824 234.8285 L432.646 222.8633 L433.468 209.5468 L434.29 195.2069 L435.112 180.1967 L435.934 164.8859 L436.756 149.6515 L437.578 134.8687 L438.4 120.9015 L439.222 108.0938 L440.044 96.7611 L440.866 87.1824 L441.688 79.5937 L442.51 74.1818 L443.332 71.0801 L444.154 70.3648 L444.976 72.0538 L445.798 76.1054 L446.62 82.4198 L447.442 90.8417 L448.264 101.1636 L449.086 113.1315 L449.908 126.4507 L450.73 140.7932 L451.552 155.8059 L452.374 171.1192 L453.196 186.3559 L454.018 201.141 L454.84 215.1104 L455.662 227.9201 L456.484 239.2547 L457.306 248.8352 L458.128 256.4256 L458.95 261.8391 L459.772 264.9423 L460.594 265.6588 L461.416 263.9711 L462.238 259.9206 L463.06 253.6071 L463.882 245.186 L464.704 234.8647 L465.526 222.8974 L466.348 209.5786 L467.17 195.2364 L467.992 180.2239 L468.814 164.9107 L469.636 149.6739 L470.458 134.8886 L471.28 120.9189 L472.102 108.1088 L472.924 96.7737 L473.746 87.1926 L474.568 79.6015 L475.39 74.1873 L476.212 71.0833 L477.034 70.3658 L477.856 72.0526 L478.678 76.1021 L479.5 82.4145\" style=\"fill:none; clip-path:url(#clipPath1); stroke:blue;\"/><path style=\"fill:none;\" d=\"M68.5 294 L68.5 42 L68.5 42 L479.5 42 L479.5 294 L479.5 294 L68.5 294\"/><path style=\"fill:none;\" d=\"M479.5 42 L68.5 42\"/><path style=\"fill:none;\" d=\"M479.5 42 L479.5 294\"/><path style=\"fill:none;\" d=\"M479.5 42 L479.5 42\"/></g></g></svg>",
      "text/plain": [
       "<IPython.core.display.SVG object>"
      ]
     },
     "metadata": {},
     "output_type": "display_data"
    }
   ],
   "source": [
    "r=sin(%pi*t);\n",
    "y=csim(r,t,MF);\n",
    "plot(t,y);"
   ]
  },
  {
   "cell_type": "markdown",
   "metadata": {},
   "source": [
    "Para onda quadrada:"
   ]
  },
  {
   "cell_type": "code",
   "execution_count": 41,
   "metadata": {},
   "outputs": [
    {
     "name": "stdout",
     "output_type": "stream",
     "text": [
      "\u001b[4l\u001b[0m\n",
      "\u001b[0m\u001b[4l\u001b[0m\n",
      "\u001b[0m\u001b[4l\u001b[0m\n",
      "\u001b[0m"
     ]
    },
    {
     "data": {
      "image/svg+xml": "<svg xmlns:xlink=\"http://www.w3.org/1999/xlink\" xmlns=\"http://www.w3.org/2000/svg\" style=\"fill-opacity:1; color-rendering:auto; color-interpolation:auto; text-rendering:auto; stroke:black; stroke-linecap:square; stroke-miterlimit:10; shape-rendering:auto; stroke-opacity:1; fill:black; stroke-dasharray:none; font-weight:normal; stroke-width:1; font-family:'Dialog'; font-style:normal; stroke-linejoin:miter; font-size:12px; stroke-dashoffset:0; image-rendering:auto;\" width=\"548\" height=\"336\"><!--Generated by Scilab with Batik SVG Generator--><defs id=\"genericDefs\"/><g><defs id=\"defs1\"><clipPath clipPathUnits=\"userSpaceOnUse\" id=\"clipPath1\"><path d=\"M68.4959 41.9975 L479.5041 41.9975 L479.5041 294.0025 L68.4959 294.0025 L68.4959 41.9975 Z\"/></clipPath><font horiz-adv-x=\"60.0\" id=\"font1\"><font-face ascent=\"92.822266\" descent=\"23.583984\" units-per-em=\"100\" style=\"font-style:normal; font-family:sans-serif; font-weight:normal;\"/><missing-glyph horiz-adv-x=\"60.0\" d=\"M4.9844 -17.6719 L4.9844 70.5156 L54.9844 70.5156 L54.9844 -17.6719 L4.9844 -17.6719 ZM10.5938 -12.1094 L49.4219 -12.1094 L49.4219 64.8906 L10.5938 64.8906 L10.5938 -12.1094 Z\"/><glyph unicode=\"0\" horiz-adv-x=\"64.0\" d=\"M31.7812 66.4062 Q24.1719 66.4062 20.3281 58.9062 Q16.5 51.4219 16.5 36.375 Q16.5 21.3906 20.3281 13.8906 Q24.1719 6.3906 31.7812 6.3906 Q39.4531 6.3906 43.2812 13.8906 Q47.125 21.3906 47.125 36.375 Q47.125 51.4219 43.2812 58.9062 Q39.4531 66.4062 31.7812 66.4062 ZM31.7812 74.2188 Q44.0469 74.2188 50.5156 64.5156 Q56.9844 54.8281 56.9844 36.375 Q56.9844 17.9688 50.5156 8.2656 Q44.0469 -1.4219 31.7812 -1.4219 Q19.5312 -1.4219 13.0625 8.2656 Q6.5938 17.9688 6.5938 36.375 Q6.5938 54.8281 13.0625 64.5156 Q19.5312 74.2188 31.7812 74.2188 Z\"/><glyph unicode=\"2\" horiz-adv-x=\"64.0\" d=\"M19.1875 8.2969 L53.6094 8.2969 L53.6094 0 L7.3281 0 L7.3281 8.2969 Q12.9375 14.1094 22.625 23.8906 Q32.3281 33.6875 34.8125 36.5312 Q39.5469 41.8438 41.4219 45.5312 Q43.3125 49.2188 43.3125 52.7812 Q43.3125 58.5938 39.2344 62.25 Q35.1562 65.9219 28.6094 65.9219 Q23.9688 65.9219 18.8125 64.3125 Q13.6719 62.7031 7.8125 59.4219 L7.8125 69.3906 Q13.7656 71.7812 18.9375 73 Q24.125 74.2188 28.4219 74.2188 Q39.75 74.2188 46.4844 68.5469 Q53.2188 62.8906 53.2188 53.4219 Q53.2188 48.9219 51.5312 44.8906 Q49.8594 40.875 45.4062 35.4062 Q44.1875 33.9844 37.6406 27.2188 Q31.1094 20.4531 19.1875 8.2969 Z\"/><glyph unicode=\"1\" horiz-adv-x=\"64.0\" d=\"M12.4062 8.2969 L28.5156 8.2969 L28.5156 63.9219 L10.9844 60.4062 L10.9844 69.3906 L28.4219 72.9062 L38.2812 72.9062 L38.2812 8.2969 L54.3906 8.2969 L54.3906 0 L12.4062 0 L12.4062 8.2969 Z\"/><glyph unicode=\"4\" horiz-adv-x=\"64.0\" d=\"M37.7969 64.3125 L12.8906 25.3906 L37.7969 25.3906 L37.7969 64.3125 ZM35.2031 72.9062 L47.6094 72.9062 L47.6094 25.3906 L58.0156 25.3906 L58.0156 17.1875 L47.6094 17.1875 L47.6094 0 L37.7969 0 L37.7969 17.1875 L4.8906 17.1875 L4.8906 26.7031 L35.2031 72.9062 Z\"/><glyph unicode=\"6\" horiz-adv-x=\"64.0\" d=\"M33.0156 40.375 Q26.375 40.375 22.4844 35.8281 Q18.6094 31.2969 18.6094 23.3906 Q18.6094 15.5312 22.4844 10.9531 Q26.375 6.3906 33.0156 6.3906 Q39.6562 6.3906 43.5312 10.9531 Q47.4062 15.5312 47.4062 23.3906 Q47.4062 31.2969 43.5312 35.8281 Q39.6562 40.375 33.0156 40.375 ZM52.5938 71.2969 L52.5938 62.3125 Q48.875 64.0625 45.0938 64.9844 Q41.3125 65.9219 37.5938 65.9219 Q27.8281 65.9219 22.6719 59.3281 Q17.5312 52.7344 16.7969 39.4062 Q19.6719 43.6562 24.0156 45.9219 Q28.375 48.1875 33.5938 48.1875 Q44.5781 48.1875 50.9531 41.5156 Q57.3281 34.8594 57.3281 23.3906 Q57.3281 12.1562 50.6875 5.3594 Q44.0469 -1.4219 33.0156 -1.4219 Q20.3594 -1.4219 13.6719 8.2656 Q6.9844 17.9688 6.9844 36.375 Q6.9844 53.6562 15.1875 63.9375 Q23.3906 74.2188 37.2031 74.2188 Q40.9219 74.2188 44.7031 73.4844 Q48.4844 72.75 52.5938 71.2969 Z\"/><glyph unicode=\"8\" horiz-adv-x=\"64.0\" d=\"M31.7812 34.625 Q24.75 34.625 20.7188 30.8594 Q16.7031 27.0938 16.7031 20.5156 Q16.7031 13.9219 20.7188 10.1562 Q24.75 6.3906 31.7812 6.3906 Q38.8125 6.3906 42.8594 10.1719 Q46.9219 13.9688 46.9219 20.5156 Q46.9219 27.0938 42.8906 30.8594 Q38.875 34.625 31.7812 34.625 ZM21.9219 38.8125 Q15.5781 40.375 12.0312 44.7188 Q8.5 49.0781 8.5 55.3281 Q8.5 64.0625 14.7188 69.1406 Q20.9531 74.2188 31.7812 74.2188 Q42.6719 74.2188 48.875 69.1406 Q55.0781 64.0625 55.0781 55.3281 Q55.0781 49.0781 51.5312 44.7188 Q48 40.375 41.7031 38.8125 Q48.8281 37.1562 52.7969 32.3125 Q56.7812 27.4844 56.7812 20.5156 Q56.7812 9.9062 50.3125 4.2344 Q43.8438 -1.4219 31.7812 -1.4219 Q19.7344 -1.4219 13.25 4.2344 Q6.7812 9.9062 6.7812 20.5156 Q6.7812 27.4844 10.7812 32.3125 Q14.7969 37.1562 21.9219 38.8125 ZM18.3125 54.3906 Q18.3125 48.7344 21.8438 45.5625 Q25.3906 42.3906 31.7812 42.3906 Q38.1406 42.3906 41.7188 45.5625 Q45.3125 48.7344 45.3125 54.3906 Q45.3125 60.0625 41.7188 63.2344 Q38.1406 66.4062 31.7812 66.4062 Q25.3906 66.4062 21.8438 63.2344 Q18.3125 60.0625 18.3125 54.3906 Z\"/><glyph unicode=\"-\" horiz-adv-x=\"36.0\" d=\"M4.8906 31.3906 L31.2031 31.3906 L31.2031 23.3906 L4.8906 23.3906 L4.8906 31.3906 Z\"/><glyph unicode=\"5\" horiz-adv-x=\"64.0\" d=\"M10.7969 72.9062 L49.5156 72.9062 L49.5156 64.5938 L19.8281 64.5938 L19.8281 46.7344 Q21.9688 47.4688 24.1094 47.8281 Q26.2656 48.1875 28.4219 48.1875 Q40.625 48.1875 47.75 41.5 Q54.8906 34.8125 54.8906 23.3906 Q54.8906 11.625 47.5625 5.0938 Q40.2344 -1.4219 26.9062 -1.4219 Q22.3125 -1.4219 17.5469 -0.6406 Q12.7969 0.1406 7.7188 1.7031 L7.7188 11.625 Q12.1094 9.2344 16.7969 8.0625 Q21.4844 6.8906 26.7031 6.8906 Q35.1562 6.8906 40.0781 11.3281 Q45.0156 15.7656 45.0156 23.3906 Q45.0156 31 40.0781 35.4375 Q35.1562 39.8906 26.7031 39.8906 Q22.75 39.8906 18.8125 39.0156 Q14.8906 38.1406 10.7969 36.2812 L10.7969 72.9062 Z\"/><glyph unicode=\".\" horiz-adv-x=\"32.0\" d=\"M10.6875 12.4062 L21 12.4062 L21 0 L10.6875 0 L10.6875 12.4062 Z\"/></font></defs><g style=\"fill:white; text-rendering:optimizeLegibility; stroke:white;\"><rect x=\"0\" width=\"548\" height=\"336\" y=\"0\" style=\"stroke:none;\"/></g><g style=\"stroke-linecap:butt; fill:white; text-rendering:geometricPrecision; stroke-linejoin:bevel; shape-rendering:crispEdges; stroke:white; stroke-width:0;\"><path style=\"stroke:none;\" d=\"M479.5 42 L479.5 294 L68.5 42 Z\"/><path style=\"stroke:none;\" d=\"M479.5 294 L68.5 294 L68.5 42 Z\"/><path style=\"stroke:none;\" d=\"M479.5 42 L479.5 294 L479.5 294 Z\"/><path style=\"stroke:none;\" d=\"M68.5 42 L68.5 294 L68.5 294 Z\"/><path style=\"stroke:none;\" d=\"M479.5 42 L479.5 294 L68.5 42 Z\"/><path style=\"stroke:none;\" d=\"M479.5 294 L68.5 294 L68.5 42 Z\"/><path style=\"stroke:none;\" d=\"M479.5 42 L479.5 42 L479.5 294 Z\"/><path style=\"stroke:none;\" d=\"M68.5 42 L68.5 42 L68.5 294 Z\"/><path style=\"stroke:none;\" d=\"M479.5 42 L68.5 42 L479.5 42 Z\"/><path style=\"stroke:none;\" d=\"M68.5 42 L68.5 42 L479.5 42 Z\"/><path style=\"stroke:none;\" d=\"M479.5 294 L68.5 294 L479.5 294 Z\"/><path style=\"stroke:none;\" d=\"M68.5 294 L68.5 294 L479.5 294 Z\"/></g><g transform=\"translate(64.5,303)\" style=\"font-size:10px; stroke-linecap:butt; text-rendering:geometricPrecision; font-family:sans-serif; stroke-linejoin:bevel; stroke-width:0;\"><text x=\"-0.6562\" xml:space=\"preserve\" y=\"9.2822\" style=\"stroke:none;\">0</text></g><g transform=\"translate(390.8,303)\" style=\"font-size:10px; stroke-linecap:butt; text-rendering:geometricPrecision; font-family:sans-serif; stroke-linejoin:bevel; stroke-width:0;\"><text x=\"-0.7344\" xml:space=\"preserve\" y=\"9.2822\" style=\"stroke:none;\">20</text></g><g transform=\"translate(226.4,303)\" style=\"font-size:10px; stroke-linecap:butt; text-rendering:geometricPrecision; font-family:sans-serif; stroke-linejoin:bevel; stroke-width:0;\"><text x=\"-1.0938\" xml:space=\"preserve\" y=\"9.2822\" style=\"stroke:none;\">10</text></g><g transform=\"translate(97.88,303)\" style=\"font-size:10px; stroke-linecap:butt; text-rendering:geometricPrecision; font-family:sans-serif; stroke-linejoin:bevel; stroke-width:0;\"><text x=\"-0.7344\" xml:space=\"preserve\" y=\"9.2822\" style=\"stroke:none;\">2</text></g><g transform=\"translate(130.26,303)\" style=\"font-size:10px; stroke-linecap:butt; text-rendering:geometricPrecision; font-family:sans-serif; stroke-linejoin:bevel; stroke-width:0;\"><text x=\"-0.4844\" xml:space=\"preserve\" y=\"9.2822\" style=\"stroke:none;\">4</text></g><g transform=\"translate(163.14,303)\" style=\"font-size:10px; stroke-linecap:butt; text-rendering:geometricPrecision; font-family:sans-serif; stroke-linejoin:bevel; stroke-width:0;\"><text x=\"-0.7031\" xml:space=\"preserve\" y=\"9.2822\" style=\"stroke:none;\">6</text></g><g transform=\"translate(196.52,303)\" style=\"font-size:10px; stroke-linecap:butt; text-rendering:geometricPrecision; font-family:sans-serif; stroke-linejoin:bevel; stroke-width:0;\"><text x=\"-0.6719\" xml:space=\"preserve\" y=\"9.2822\" style=\"stroke:none;\">8</text></g><g transform=\"translate(259.28,303)\" style=\"font-size:10px; stroke-linecap:butt; text-rendering:geometricPrecision; font-family:sans-serif; stroke-linejoin:bevel; stroke-width:0;\"><text x=\"-1.0938\" xml:space=\"preserve\" y=\"9.2822\" style=\"stroke:none;\">12</text></g><g transform=\"translate(292.16,303)\" style=\"font-size:10px; stroke-linecap:butt; text-rendering:geometricPrecision; font-family:sans-serif; stroke-linejoin:bevel; stroke-width:0;\"><text x=\"-1.0938\" xml:space=\"preserve\" y=\"9.2822\" style=\"stroke:none;\">14</text></g><g transform=\"translate(325.04,303)\" style=\"font-size:10px; stroke-linecap:butt; text-rendering:geometricPrecision; font-family:sans-serif; stroke-linejoin:bevel; stroke-width:0;\"><text x=\"-1.0938\" xml:space=\"preserve\" y=\"9.2822\" style=\"stroke:none;\">16</text></g><g transform=\"translate(357.92,303)\" style=\"font-size:10px; stroke-linecap:butt; text-rendering:geometricPrecision; font-family:sans-serif; stroke-linejoin:bevel; stroke-width:0;\"><text x=\"-1.0938\" xml:space=\"preserve\" y=\"9.2822\" style=\"stroke:none;\">18</text></g><g transform=\"translate(423.68,303)\" style=\"font-size:10px; stroke-linecap:butt; text-rendering:geometricPrecision; font-family:sans-serif; stroke-linejoin:bevel; stroke-width:0;\"><text x=\"-0.7344\" xml:space=\"preserve\" y=\"9.2822\" style=\"stroke:none;\">22</text></g><g transform=\"translate(456.06,303)\" style=\"font-size:10px; stroke-linecap:butt; text-rendering:geometricPrecision; font-family:sans-serif; stroke-linejoin:bevel; stroke-width:0;\"><text x=\"-0.7344\" xml:space=\"preserve\" y=\"9.2822\" style=\"stroke:none;\">24</text></g><g style=\"text-rendering:geometricPrecision; font-size:10px; shape-rendering:crispEdges; font-family:sans-serif; stroke-linecap:butt;\"><path style=\"fill:none;\" d=\"M68.5 294 L68.5 300\"/><path style=\"fill:none;\" d=\"M101.38 294 L101.38 300\"/><path style=\"fill:none;\" d=\"M134.26 294 L134.26 300\"/><path style=\"fill:none;\" d=\"M167.14 294 L167.14 300\"/><path style=\"fill:none;\" d=\"M200.02 294 L200.02 300\"/><path style=\"fill:none;\" d=\"M232.9 294 L232.9 300\"/><path style=\"fill:none;\" d=\"M265.78 294 L265.78 300\"/><path style=\"fill:none;\" d=\"M298.66 294 L298.66 300\"/><path style=\"fill:none;\" d=\"M331.54 294 L331.54 300\"/><path style=\"fill:none;\" d=\"M364.42 294 L364.42 300\"/><path style=\"fill:none;\" d=\"M397.3 294 L397.3 300\"/><path style=\"fill:none;\" d=\"M430.18 294 L430.18 300\"/><path style=\"fill:none;\" d=\"M463.06 294 L463.06 300\"/><path style=\"fill:none;\" d=\"M68.5 294 L68.5 297\"/><path style=\"fill:none;\" d=\"M84.94 294 L84.94 297\"/><path style=\"fill:none;\" d=\"M101.38 294 L101.38 297\"/><path style=\"fill:none;\" d=\"M117.82 294 L117.82 297\"/><path style=\"fill:none;\" d=\"M134.26 294 L134.26 297\"/><path style=\"fill:none;\" d=\"M150.7 294 L150.7 297\"/><path style=\"fill:none;\" d=\"M167.14 294 L167.14 297\"/><path style=\"fill:none;\" d=\"M183.58 294 L183.58 297\"/><path style=\"fill:none;\" d=\"M200.02 294 L200.02 297\"/><path style=\"fill:none;\" d=\"M216.46 294 L216.46 297\"/><path style=\"fill:none;\" d=\"M232.9 294 L232.9 297\"/><path style=\"fill:none;\" d=\"M249.34 294 L249.34 297\"/><path style=\"fill:none;\" d=\"M265.78 294 L265.78 297\"/><path style=\"fill:none;\" d=\"M282.22 294 L282.22 297\"/><path style=\"fill:none;\" d=\"M298.66 294 L298.66 297\"/><path style=\"fill:none;\" d=\"M315.1 294 L315.1 297\"/><path style=\"fill:none;\" d=\"M331.54 294 L331.54 297\"/><path style=\"fill:none;\" d=\"M347.98 294 L347.98 297\"/><path style=\"fill:none;\" d=\"M364.42 294 L364.42 297\"/><path style=\"fill:none;\" d=\"M380.86 294 L380.86 297\"/><path style=\"fill:none;\" d=\"M397.3 294 L397.3 297\"/><path style=\"fill:none;\" d=\"M413.74 294 L413.74 297\"/><path style=\"fill:none;\" d=\"M430.18 294 L430.18 297\"/><path style=\"fill:none;\" d=\"M446.62 294 L446.62 297\"/><path style=\"fill:none;\" d=\"M463.06 294 L463.06 297\"/><path style=\"fill:none;\" d=\"M479.5 294 L479.5 297\"/><path style=\"fill:none;\" d=\"M479.5 294 L68.5 294\"/><text x=\"-0.6562\" y=\"9.2822\" transform=\"translate(51.5,161.5)\" style=\"stroke-linejoin:bevel; shape-rendering:auto; stroke:none; stroke-width:0;\" xml:space=\"preserve\">0</text></g><g transform=\"translate(48.5,245.5)\" style=\"font-size:10px; stroke-linecap:butt; text-rendering:geometricPrecision; font-family:sans-serif; stroke-linejoin:bevel; stroke-width:0;\"><text x=\"-0.4844\" xml:space=\"preserve\" y=\"9.2822\" style=\"stroke:none;\">-1</text></g><g transform=\"translate(52.5,77.5)\" style=\"font-size:10px; stroke-linecap:butt; text-rendering:geometricPrecision; font-family:sans-serif; stroke-linejoin:bevel; stroke-width:0;\"><text x=\"-1.0938\" xml:space=\"preserve\" y=\"9.2822\" style=\"stroke:none;\">1</text></g><g transform=\"translate(39.5,287.5)\" style=\"font-size:10px; stroke-linecap:butt; text-rendering:geometricPrecision; font-family:sans-serif; stroke-linejoin:bevel; stroke-width:0;\"><text x=\"-0.4844\" xml:space=\"preserve\" y=\"9.2822\" style=\"stroke:none;\">-1.5</text></g><g transform=\"translate(39.5,203.5)\" style=\"font-size:10px; stroke-linecap:butt; text-rendering:geometricPrecision; font-family:sans-serif; stroke-linejoin:bevel; stroke-width:0;\"><text x=\"-0.4844\" xml:space=\"preserve\" y=\"9.2822\" style=\"stroke:none;\">-0.5</text></g><g transform=\"translate(43.5,119.5)\" style=\"font-size:10px; stroke-linecap:butt; text-rendering:geometricPrecision; font-family:sans-serif; stroke-linejoin:bevel; stroke-width:0;\"><text x=\"-0.6562\" xml:space=\"preserve\" y=\"9.2822\" style=\"stroke:none;\">0.5</text></g><g transform=\"translate(43.5,35.5)\" style=\"font-size:10px; stroke-linecap:butt; text-rendering:geometricPrecision; font-family:sans-serif; stroke-linejoin:bevel; stroke-width:0;\"><text x=\"-1.0938\" xml:space=\"preserve\" y=\"9.2822\" style=\"stroke:none;\">1.5</text></g><g style=\"text-rendering:geometricPrecision; font-size:10px; shape-rendering:crispEdges; font-family:sans-serif; stroke-linecap:butt;\"><path style=\"fill:none;\" d=\"M68.5 294 L62.5 294\"/><path style=\"fill:none;\" d=\"M68.5 252 L62.5 252\"/><path style=\"fill:none;\" d=\"M68.5 210 L62.5 210\"/><path style=\"fill:none;\" d=\"M68.5 168 L62.5 168\"/><path style=\"fill:none;\" d=\"M68.5 126 L62.5 126\"/><path style=\"fill:none;\" d=\"M68.5 84 L62.5 84\"/><path style=\"fill:none;\" d=\"M68.5 42 L62.5 42\"/><path style=\"fill:none;\" d=\"M68.5 294 L65.5 294\"/><path style=\"fill:none;\" d=\"M68.5 285.6 L65.5 285.6\"/><path style=\"fill:none;\" d=\"M68.5 277.2 L65.5 277.2\"/><path style=\"fill:none;\" d=\"M68.5 268.8 L65.5 268.8\"/><path style=\"fill:none;\" d=\"M68.5 260.4 L65.5 260.4\"/><path style=\"fill:none;\" d=\"M68.5 252 L65.5 252\"/><path style=\"fill:none;\" d=\"M68.5 243.6 L65.5 243.6\"/><path style=\"fill:none;\" d=\"M68.5 235.2 L65.5 235.2\"/><path style=\"fill:none;\" d=\"M68.5 226.8 L65.5 226.8\"/><path style=\"fill:none;\" d=\"M68.5 218.4 L65.5 218.4\"/><path style=\"fill:none;\" d=\"M68.5 210 L65.5 210\"/><path style=\"fill:none;\" d=\"M68.5 201.6 L65.5 201.6\"/><path style=\"fill:none;\" d=\"M68.5 193.2 L65.5 193.2\"/><path style=\"fill:none;\" d=\"M68.5 184.8 L65.5 184.8\"/><path style=\"fill:none;\" d=\"M68.5 176.4 L65.5 176.4\"/><path style=\"fill:none;\" d=\"M68.5 168 L65.5 168\"/><path style=\"fill:none;\" d=\"M68.5 159.6 L65.5 159.6\"/><path style=\"fill:none;\" d=\"M68.5 151.2 L65.5 151.2\"/><path style=\"fill:none;\" d=\"M68.5 142.8 L65.5 142.8\"/><path style=\"fill:none;\" d=\"M68.5 134.4 L65.5 134.4\"/><path style=\"fill:none;\" d=\"M68.5 126 L65.5 126\"/><path style=\"fill:none;\" d=\"M68.5 117.6 L65.5 117.6\"/><path style=\"fill:none;\" d=\"M68.5 109.2 L65.5 109.2\"/><path style=\"fill:none;\" d=\"M68.5 100.8 L65.5 100.8\"/><path style=\"fill:none;\" d=\"M68.5 92.4 L65.5 92.4\"/><path style=\"fill:none;\" d=\"M68.5 84 L65.5 84\"/><path style=\"fill:none;\" d=\"M68.5 75.6 L65.5 75.6\"/><path style=\"fill:none;\" d=\"M68.5 67.2 L65.5 67.2\"/><path style=\"fill:none;\" d=\"M68.5 58.8 L65.5 58.8\"/><path style=\"fill:none;\" d=\"M68.5 50.4 L65.5 50.4\"/><path style=\"fill:none;\" d=\"M68.5 42 L65.5 42\"/><path style=\"fill:none;\" d=\"M68.5 42 L68.5 294\"/><path d=\"M68.5 168 L69.322 166.104 L70.144 161.1808 L70.966 154.2535 L71.788 146.173 L72.61 137.6189 L73.432 129.1096 L74.254 121.019 L75.076 113.5953 L75.898 106.9829 L76.72 101.2429 L77.542 96.3729 L78.364 92.325 L79.186 89.021 L80.008 86.3653 L80.83 84.2552 L81.652 82.5885 L82.474 81.2692 L83.296 80.2113 L84.118 79.3408 L84.94 78.5969 L85.762 77.9313 L86.584 77.3081 L87.406 76.7021 L88.228 76.0975 L89.05 75.486 L89.872 74.8657 L90.694 74.2391 L91.516 73.612 L92.338 72.9921 L93.16 72.3882 L93.982 71.8094 L94.804 71.2646 L95.626 70.7616 L96.448 70.3074 L97.27 69.9078 L98.092 69.5673 L98.914 69.2891 L99.736 69.0753 L100.558 68.9268 L101.38 70.1411 L102.202 77.1265 L103.024 89.1781 L103.846 104.4193 L104.668 121.3184 L105.49 138.6765 L106.312 155.6017 L107.134 171.4722 L107.956 185.8956 L108.778 198.6667 L109.6 209.7265 L110.422 219.1248 L111.244 226.9867 L112.066 233.4847 L112.888 238.8153 L113.71 243.1816 L114.532 246.7792 L115.354 249.7876 L116.176 252.364 L116.998 254.6403 L117.82 256.7227 L118.642 258.6923 L119.464 260.6073 L120.286 262.5057 L121.108 264.4087 L121.93 266.3236 L122.752 268.2473 L123.574 270.1689 L124.396 272.0724 L125.218 273.9389 L126.04 275.7484 L126.862 277.481 L127.684 279.118 L128.506 280.6429 L129.328 282.0414 L130.15 283.3018 L130.972 284.415 L131.794 285.3746 L132.616 286.1765 L133.438 286.8189 L134.26 286.0044 L135.082 279.3254 L135.904 267.4884 L136.726 252.372 L137.548 235.5106 L138.37 218.1057 L139.192 201.0526 L140.014 184.9764 L140.836 170.2731 L141.658 157.1516 L142.48 145.6746 L143.302 135.7962 L144.124 127.3953 L144.946 120.3034 L145.768 114.3279 L146.59 109.2698 L147.412 104.9375 L148.234 101.1556 L149.056 97.7712 L149.878 94.6561 L150.7 91.7085 L151.522 88.8511 L152.344 86.0299 L153.166 83.2107 L153.988 80.3763 L154.81 77.5231 L155.632 74.6582 L156.454 71.7961 L157.276 68.9563 L158.098 66.1611 L158.92 63.4339 L159.742 60.7979 L160.564 58.2745 L161.386 55.8835 L162.208 53.6418 L163.03 51.5637 L163.852 49.6606 L164.674 47.9412 L165.496 46.4116 L166.318 45.0756 L167.14 45.2322 L167.962 51.2904 L168.784 62.5452 L169.606 77.119 L170.428 93.4783 L171.25 110.4226 L172.072 127.0569 L172.894 142.7566 L173.716 157.126 L174.538 169.9561 L175.36 181.1843 L176.182 190.8559 L177.004 199.092 L177.826 206.0603 L178.648 211.9527 L179.47 216.9673 L180.292 221.2949 L181.114 225.1095 L181.936 228.5632 L182.758 231.7825 L183.58 234.8681 L184.402 237.8955 L185.224 240.9175 L186.046 243.9663 L186.868 247.0576 L187.69 250.193 L188.512 253.3638 L189.334 256.5536 L190.156 259.7411 L190.978 262.9019 L191.8 266.0107 L192.622 269.0427 L193.444 271.9741 L194.266 274.7834 L195.088 277.4519 L195.91 279.9633 L196.732 282.3044 L197.554 284.4647 L198.376 286.4362 L199.198 288.2136 L200.02 288.4959 L200.842 282.8728 L201.664 272.0476 L202.486 257.8965 L203.308 241.9514 L204.13 225.4117 L204.952 209.1708 L205.774 193.8524 L206.596 179.851 L207.418 167.3745 L208.24 156.4847 L209.062 147.1353 L209.884 139.2046 L210.706 132.524 L211.528 126.9011 L212.35 122.1373 L213.172 118.0415 L213.994 114.4391 L214.816 111.1779 L215.638 108.1313 L216.46 105.1984 L217.282 102.3036 L218.104 99.3944 L218.926 96.4386 L219.748 93.4207 L220.57 90.3395 L221.392 87.2038 L222.214 84.0307 L223.036 80.8418 L223.858 77.6621 L224.68 74.5173 L225.502 71.4332 L226.324 68.434 L227.146 65.5418 L227.968 62.7763 L228.79 60.1544 L229.612 57.6903 L230.434 55.3952 L231.256 53.2779 L232.078 51.3448 L232.9 50.8975 L233.722 56.3473 L234.544 66.992 L235.366 80.9561 L236.188 96.7086 L237.01 113.0511 L237.832 129.0909 L238.654 144.2054 L239.476 158.0009 L240.298 170.2703 L241.12 180.9526 L241.942 190.0951 L242.764 197.8201 L243.586 204.2969 L244.408 209.7188 L245.23 214.2849 L246.052 218.1872 L246.874 221.6008 L247.696 224.6783 L248.518 227.5472 L249.34 230.3088 L250.162 233.039 L250.984 235.7908 L251.806 238.597 L252.628 241.4732 L253.45 244.4212 L254.272 247.432 L255.094 250.4893 L255.916 253.5712 L256.738 256.6532 L257.56 259.7094 L258.382 262.7144 L259.204 265.644 L260.026 268.4758 L260.848 271.1902 L261.67 273.7703 L262.492 276.2019 L263.314 278.4734 L264.136 280.5759 L264.958 282.503 L265.78 282.9526 L266.602 277.5133 L267.424 266.8871 L268.246 252.949 L269.068 237.2298 L269.89 220.9276 L270.712 204.9346 L271.534 189.8731 L272.356 176.1366 L273.178 163.9315 L274 153.3186 L274.822 144.2502 L275.644 136.6034 L276.466 130.2086 L277.288 124.8722 L278.11 120.3944 L278.932 116.583 L279.754 113.2624 L280.576 110.2795 L281.398 107.5065 L282.22 104.8417 L283.042 102.2088 L283.864 99.5543 L284.686 96.8452 L285.508 94.0654 L286.33 91.2129 L287.152 88.296 L287.974 85.3312 L288.796 82.3397 L289.618 79.3458 L290.44 76.3752 L291.262 73.4531 L292.084 70.6034 L292.906 67.8481 L293.728 65.2068 L294.55 62.6962 L295.372 60.3303 L296.194 58.1206 L297.016 56.0758 L297.838 54.2023 L298.66 53.8019 L299.482 59.2863 L300.304 69.9531 L301.126 83.9275 L301.948 99.6785 L302.77 116.0082 L303.592 132.0242 L304.414 147.1044 L305.236 160.8554 L306.058 173.0706 L306.88 183.6897 L307.702 192.7601 L308.524 200.405 L309.346 206.7941 L310.168 212.1211 L310.99 216.586 L311.812 220.3811 L312.634 223.6822 L313.456 226.6425 L314.278 229.39 L315.1 232.0265 L315.922 234.6288 L316.744 237.2502 L317.566 239.9242 L318.388 242.6669 L319.21 245.4806 L320.032 248.357 L320.854 251.2802 L321.676 254.2288 L322.498 257.1788 L323.32 260.1049 L324.142 262.9819 L324.964 265.7861 L325.786 268.4957 L326.608 271.0913 L327.43 273.5564 L328.252 275.8771 L329.074 278.0421 L329.896 280.043 L330.718 281.8733 L331.54 282.2314 L332.362 276.7059 L333.184 265.9991 L334.006 251.9862 L334.828 236.198 L335.65 219.8327 L336.472 203.7827 L337.294 188.6703 L338.116 174.8888 L338.938 162.6449 L339.76 151.9992 L340.582 142.904 L341.404 135.2364 L342.226 128.8266 L343.048 123.4809 L343.87 118.9994 L344.692 115.1898 L345.514 111.8763 L346.336 108.9056 L347.158 106.1497 L347.98 103.5067 L348.802 100.9001 L349.624 98.2762 L350.446 95.6016 L351.268 92.8602 L352.09 90.0496 L352.912 87.1779 L353.734 84.2611 L354.556 81.3204 L355.378 78.3799 L356.2 75.4647 L357.022 72.5999 L357.844 69.8092 L358.666 67.1143 L359.488 64.5343 L360.31 62.0859 L361.132 59.7829 L361.954 57.6362 L362.776 55.6544 L363.598 53.8438 L364.42 53.5059 L365.242 59.0521 L366.064 69.7798 L366.886 83.814 L367.708 99.6236 L368.53 116.0103 L369.352 132.0818 L370.174 147.2155 L370.996 161.0181 L371.818 173.2829 L372.64 183.9492 L373.462 193.0646 L374.284 200.7519 L375.106 207.1809 L375.928 212.5453 L376.75 217.0447 L377.572 220.8716 L378.394 224.2017 L379.216 227.1882 L380.038 229.9591 L380.86 232.6161 L381.682 235.236 L382.504 237.8723 L383.326 240.5583 L384.148 243.3102 L384.97 246.1304 L385.792 249.0106 L386.614 251.9349 L387.436 254.8822 L388.258 257.8284 L389.08 260.7483 L389.902 263.6168 L390.724 266.4103 L391.546 269.1072 L392.368 271.6881 L393.19 274.1366 L394.012 276.4389 L394.834 278.584 L395.656 280.5634 L396.478 282.3708 L397.3 282.7048 L398.122 277.1541 L398.944 266.4211 L399.766 252.381 L400.588 236.565 L401.41 220.1713 L402.232 204.0924 L403.054 188.9507 L403.876 175.1398 L404.698 162.8663 L405.52 152.1909 L406.342 143.0662 L407.164 135.3694 L407.986 128.9307 L408.808 123.5565 L409.63 119.047 L410.452 115.2101 L411.274 111.8699 L412.096 108.8734 L412.918 106.0925 L413.74 103.4255 L414.562 100.7959 L415.384 98.15 L416.206 95.4546 L417.028 92.6935 L417.85 89.8643 L418.672 86.9754 L419.494 84.0427 L420.316 81.0873 L421.138 78.1334 L421.96 75.2062 L422.782 72.3307 L423.604 69.5307 L424.426 66.8277 L425.248 64.2411 L426.07 61.7873 L426.892 59.4802 L427.714 57.3307 L428.536 55.3474 L429.358 53.5365 L430.18 51.9021 L431.002 51.744 L431.824 57.4718 L432.646 68.3818 L433.468 82.5976 L434.29 98.5875 L435.112 115.1521 L435.934 131.3985 L436.756 146.7038 L437.578 160.6739 L438.4 173.1018 L439.222 183.9264 L440.044 193.195 L440.866 201.0302 L441.688 207.6013 L442.51 213.1018 L443.332 217.7312 L444.154 221.6817 L444.976 225.1285 L445.798 228.225 L446.62 231.0987 L447.442 233.8513 L448.264 236.5593 L449.086 239.2762 L449.908 242.0352 L450.73 244.8524 L451.552 247.7302 L452.374 250.6603 L453.196 253.6268 L454.018 256.6086 L454.84 259.5817 L455.662 262.521 L456.484 265.4016 L457.306 268.2 L458.128 270.8947 L458.95 273.4668 L459.772 275.8998 L460.594 278.1803 L461.416 280.2976 L462.238 282.2433 L463.06 282.7143 L463.882 277.2977 L464.704 266.6948 L465.526 252.7798 L466.348 237.083 L467.17 220.8022 L467.992 204.8294 L468.814 189.7868 L469.636 176.0679 L470.458 163.8792 L471.28 153.2814 L472.102 144.2271 L472.924 136.5936 L473.746 130.2111 L474.568 124.8863 L475.39 120.4194 L476.212 116.6184 L477.034 113.3077 L477.856 110.3341 L478.678 107.5701 L479.5 104.9138\" style=\"fill:none; clip-path:url(#clipPath1); stroke:blue;\"/><path style=\"fill:none;\" d=\"M68.5 294 L68.5 42 L68.5 42 L479.5 42 L479.5 294 L479.5 294 L68.5 294\"/><path style=\"fill:none;\" d=\"M479.5 42 L68.5 42\"/><path style=\"fill:none;\" d=\"M479.5 42 L479.5 294\"/><path style=\"fill:none;\" d=\"M479.5 42 L479.5 42\"/></g></g></svg>",
      "text/plain": [
       "<IPython.core.display.SVG object>"
      ]
     },
     "metadata": {},
     "output_type": "display_data"
    }
   ],
   "source": [
    "r=squarewave(2*%pi*t/4,50);\n",
    "y=csim(r,t,MF);\n",
    "plot(t,y);"
   ]
  },
  {
   "cell_type": "markdown",
   "metadata": {},
   "source": [
    "### Problema 6"
   ]
  },
  {
   "cell_type": "markdown",
   "metadata": {},
   "source": [
    "Analisar a controlabilidade e a observabilidade da planta a ser controlada (G(s)) e obter a forma de Jordan associada à matriz dinâmica (planta);"
   ]
  },
  {
   "cell_type": "markdown",
   "metadata": {},
   "source": [
    "Função `contr`:"
   ]
  },
  {
   "cell_type": "code",
   "execution_count": 42,
   "metadata": {},
   "outputs": [
    {
     "name": "stdout",
     "output_type": "stream",
     "text": [
      "\u001b[4l\u001b[0m n  = \n",
      "\n",
      "   4.\n",
      "\n",
      "\u001b[0m\u001b[4l\u001b[0m\n",
      "\u001b[0m\u001b[4l\u001b[0m\n",
      "\u001b[0m\u001b[4l\u001b[0m ans  =\n",
      "\n",
      "   0.         -0.9847319   5.9083916  -32.496154\n",
      "  -1.7514389   10.588244  -58.275148   300.37177\n",
      "  -0.574427    0.082061    12.309149  -84.276641\n",
      "   0.7762059  -12.120753   73.441016  -384.34132\n",
      "\n",
      "\u001b[0m\u001b[4l\u001b[0m ans  =\n",
      "\n",
      "   0.         -0.9847319   5.9083916  -32.496154\n",
      "  -1.7514389   10.588244  -58.275148   300.37177\n",
      "  -0.574427    0.082061    12.309149  -84.276641\n",
      "   0.7762059  -12.120753   73.441016  -384.34132\n",
      "\n",
      "\u001b[0m"
     ]
    }
   ],
   "source": [
    "n = contr(ssG(2), ssG(3)) // Para obter o rank\n",
    "\n",
    "// Para obter a matriz de controlabilidade\n",
    "cont_mat(ssG(2), ssG(3))\n",
    "cont_mat(ssG)"
   ]
  },
  {
   "cell_type": "markdown",
   "metadata": {},
   "source": [
    "Função `obsv_mat`:"
   ]
  },
  {
   "cell_type": "code",
   "execution_count": 43,
   "metadata": {},
   "outputs": [
    {
     "name": "stdout",
     "output_type": "stream",
     "text": [
      "\u001b[4l\u001b[0m O  = \n",
      "\n",
      "  -1.0155048  -1.388D-17   0.          6.939D-18\n",
      "  -0.0461593  -0.5709591   8.153D-18   2.125D-17\n",
      "   0.2154101   3.1297019   0.9026709  -2.854D-16\n",
      "  -1.4001657  -17.647488  -5.4160256  -1.3135792\n",
      "\n",
      "\u001b[0m\u001b[4l\u001b[0m O  = \n",
      "\n",
      "  -1.0155048  -1.388D-17   0.          6.939D-18\n",
      "  -0.0461593  -0.5709591   8.153D-18   2.125D-17\n",
      "   0.2154101   3.1297019   0.9026709  -2.854D-16\n",
      "  -1.4001657  -17.647488  -5.4160256  -1.3135792\n",
      "\n",
      "\u001b[0m\u001b[4l\u001b[0m ans  =\n",
      "\n",
      "   4.\n",
      "\n",
      "\u001b[0m"
     ]
    }
   ],
   "source": [
    "O = obsv_mat(ssG)\n",
    "O = obsv_mat(ssG(2), ssG(4))\n",
    "rank(O)"
   ]
  },
  {
   "cell_type": "markdown",
   "metadata": {},
   "source": [
    "### Problema 7"
   ]
  },
  {
   "cell_type": "markdown",
   "metadata": {},
   "source": [
    "Com $G_d(s) =\\frac{1}{s^2 +s+1}$ , obter a resposta em frequência entre a saı́da y e a perturbaçaõ w;"
   ]
  },
  {
   "cell_type": "markdown",
   "metadata": {},
   "source": [
    "![figura1](figura1.png)"
   ]
  },
  {
   "cell_type": "code",
   "execution_count": 44,
   "metadata": {},
   "outputs": [
    {
     "name": "stdout",
     "output_type": "stream",
     "text": [
      "\u001b[4l\u001b[0m\n",
      "\u001b[0m\u001b[4l\u001b[0m Gw  = \n",
      "\n",
      "                     5s² +11s³ +7s⁴ +s⁵                    \n",
      "   ------------------------------------------------------  \n",
      "   0.02 +40.03s +65.04s² +96.02s³ +63.01s⁴ +39s⁵ +8s⁶ +s⁷  \n",
      "\n",
      "\u001b[0m"
     ]
    }
   ],
   "source": [
    "Gd = syslin('c',1/(s^2+s+1));\n",
    "Gw = Gd/(1+H*G*K)"
   ]
  },
  {
   "cell_type": "code",
   "execution_count": 45,
   "metadata": {},
   "outputs": [
    {
     "name": "stdout",
     "output_type": "stream",
     "text": [
      "\u001b[4l\u001b[0m\n",
      "\u001b[0m"
     ]
    },
    {
     "data": {
      "image/svg+xml": "<svg xmlns:xlink=\"http://www.w3.org/1999/xlink\" xmlns=\"http://www.w3.org/2000/svg\" style=\"fill-opacity:1; color-rendering:auto; color-interpolation:auto; text-rendering:auto; stroke:black; stroke-linecap:square; stroke-miterlimit:10; shape-rendering:auto; stroke-opacity:1; fill:black; stroke-dasharray:none; font-weight:normal; stroke-width:1; font-family:'Dialog'; font-style:normal; stroke-linejoin:miter; font-size:12px; stroke-dashoffset:0; image-rendering:auto;\" width=\"548\" height=\"336\"><!--Generated by Scilab with Batik SVG Generator--><defs id=\"genericDefs\"/><g><defs id=\"defs1\"><font horiz-adv-x=\"60.0\" id=\"font1\"><font-face ascent=\"92.822266\" descent=\"23.583984\" units-per-em=\"100\" style=\"font-style:normal; font-family:sans-serif; font-weight:normal;\"/><missing-glyph horiz-adv-x=\"60.0\" d=\"M4.9844 -17.6719 L4.9844 70.5156 L54.9844 70.5156 L54.9844 -17.6719 L4.9844 -17.6719 ZM10.5938 -12.1094 L49.4219 -12.1094 L49.4219 64.8906 L10.5938 64.8906 L10.5938 -12.1094 Z\"/><glyph unicode=\"0\" horiz-adv-x=\"64.0\" d=\"M31.7812 66.4062 Q24.1719 66.4062 20.3281 58.9062 Q16.5 51.4219 16.5 36.375 Q16.5 21.3906 20.3281 13.8906 Q24.1719 6.3906 31.7812 6.3906 Q39.4531 6.3906 43.2812 13.8906 Q47.125 21.3906 47.125 36.375 Q47.125 51.4219 43.2812 58.9062 Q39.4531 66.4062 31.7812 66.4062 ZM31.7812 74.2188 Q44.0469 74.2188 50.5156 64.5156 Q56.9844 54.8281 56.9844 36.375 Q56.9844 17.9688 50.5156 8.2656 Q44.0469 -1.4219 31.7812 -1.4219 Q19.5312 -1.4219 13.0625 8.2656 Q6.5938 17.9688 6.5938 36.375 Q6.5938 54.8281 13.0625 64.5156 Q19.5312 74.2188 31.7812 74.2188 Z\"/><glyph unicode=\"1\" horiz-adv-x=\"64.0\" d=\"M12.4062 8.2969 L28.5156 8.2969 L28.5156 63.9219 L10.9844 60.4062 L10.9844 69.3906 L28.4219 72.9062 L38.2812 72.9062 L38.2812 8.2969 L54.3906 8.2969 L54.3906 0 L12.4062 0 L12.4062 8.2969 Z\"/><glyph unicode=\"3\" horiz-adv-x=\"64.0\" d=\"M40.5781 39.3125 Q47.6562 37.7969 51.625 33 Q55.6094 28.2188 55.6094 21.1875 Q55.6094 10.4062 48.1875 4.4844 Q40.7656 -1.4219 27.0938 -1.4219 Q22.5156 -1.4219 17.6562 -0.5156 Q12.7969 0.3906 7.625 2.2031 L7.625 11.7188 Q11.7188 9.3281 16.5938 8.1094 Q21.4844 6.8906 26.8125 6.8906 Q36.0781 6.8906 40.9375 10.5469 Q45.7969 14.2031 45.7969 21.1875 Q45.7969 27.6406 41.2812 31.2656 Q36.7656 34.9062 28.7188 34.9062 L20.2188 34.9062 L20.2188 43.0156 L29.1094 43.0156 Q36.375 43.0156 40.2344 45.9219 Q44.0938 48.8281 44.0938 54.2969 Q44.0938 59.9062 40.1094 62.9062 Q36.1406 65.9219 28.7188 65.9219 Q24.6562 65.9219 20.0156 65.0312 Q15.375 64.1562 9.8125 62.3125 L9.8125 71.0938 Q15.4375 72.6562 20.3438 73.4375 Q25.25 74.2188 29.5938 74.2188 Q40.8281 74.2188 47.3594 69.1094 Q53.9062 64.0156 53.9062 55.3281 Q53.9062 49.2656 50.4375 45.0938 Q46.9688 40.9219 40.5781 39.3125 Z\"/><glyph unicode=\"-\" horiz-adv-x=\"36.0\" d=\"M4.8906 31.3906 L31.2031 31.3906 L31.2031 23.3906 L4.8906 23.3906 L4.8906 31.3906 Z\"/><glyph unicode=\"2\" horiz-adv-x=\"64.0\" d=\"M19.1875 8.2969 L53.6094 8.2969 L53.6094 0 L7.3281 0 L7.3281 8.2969 Q12.9375 14.1094 22.625 23.8906 Q32.3281 33.6875 34.8125 36.5312 Q39.5469 41.8438 41.4219 45.5312 Q43.3125 49.2188 43.3125 52.7812 Q43.3125 58.5938 39.2344 62.25 Q35.1562 65.9219 28.6094 65.9219 Q23.9688 65.9219 18.8125 64.3125 Q13.6719 62.7031 7.8125 59.4219 L7.8125 69.3906 Q13.7656 71.7812 18.9375 73 Q24.125 74.2188 28.4219 74.2188 Q39.75 74.2188 46.4844 68.5469 Q53.2188 62.8906 53.2188 53.4219 Q53.2188 48.9219 51.5312 44.8906 Q49.8594 40.875 45.4062 35.4062 Q44.1875 33.9844 37.6406 27.2188 Q31.1094 20.4531 19.1875 8.2969 Z\"/><glyph unicode=\"5\" horiz-adv-x=\"64.0\" d=\"M10.7969 72.9062 L49.5156 72.9062 L49.5156 64.5938 L19.8281 64.5938 L19.8281 46.7344 Q21.9688 47.4688 24.1094 47.8281 Q26.2656 48.1875 28.4219 48.1875 Q40.625 48.1875 47.75 41.5 Q54.8906 34.8125 54.8906 23.3906 Q54.8906 11.625 47.5625 5.0938 Q40.2344 -1.4219 26.9062 -1.4219 Q22.3125 -1.4219 17.5469 -0.6406 Q12.7969 0.1406 7.7188 1.7031 L7.7188 11.625 Q12.1094 9.2344 16.7969 8.0625 Q21.4844 6.8906 26.7031 6.8906 Q35.1562 6.8906 40.0781 11.3281 Q45.0156 15.7656 45.0156 23.3906 Q45.0156 31 40.0781 35.4375 Q35.1562 39.8906 26.7031 39.8906 Q22.75 39.8906 18.8125 39.0156 Q14.8906 38.1406 10.7969 36.2812 L10.7969 72.9062 Z\"/><glyph unicode=\")\" horiz-adv-x=\"39.0\" d=\"M8.0156 75.875 L15.8281 75.875 Q23.1406 64.3594 26.7812 53.3125 Q30.4219 42.2812 30.4219 31.3906 Q30.4219 20.4531 26.7812 9.375 Q23.1406 -1.7031 15.8281 -13.1875 L8.0156 -13.1875 Q14.5 -2 17.7031 9.0625 Q20.9062 20.125 20.9062 31.3906 Q20.9062 42.6719 17.7031 53.6562 Q14.5 64.6562 8.0156 75.875 Z\"/><glyph unicode=\"z\" horiz-adv-x=\"52.0\" d=\"M5.5156 54.6875 L48.1875 54.6875 L48.1875 46.4844 L14.4062 7.1719 L48.1875 7.1719 L48.1875 0 L4.2969 0 L4.2969 8.2031 L38.0938 47.5156 L5.5156 47.5156 L5.5156 54.6875 Z\"/><glyph unicode=\"H\" horiz-adv-x=\"75.0\" d=\"M9.8125 72.9062 L19.6719 72.9062 L19.6719 43.0156 L55.5156 43.0156 L55.5156 72.9062 L65.375 72.9062 L65.375 0 L55.5156 0 L55.5156 34.7188 L19.6719 34.7188 L19.6719 0 L9.8125 0 L9.8125 72.9062 Z\"/><glyph unicode=\"(\" horiz-adv-x=\"39.0\" d=\"M31 75.875 Q24.4688 64.6562 21.2812 53.6562 Q18.1094 42.6719 18.1094 31.3906 Q18.1094 20.125 21.3125 9.0625 Q24.5156 -2 31 -13.1875 L23.1875 -13.1875 Q15.875 -1.7031 12.2344 9.375 Q8.5938 20.4531 8.5938 31.3906 Q8.5938 42.2812 12.2031 53.3125 Q15.8281 64.3594 23.1875 75.875 L31 75.875 Z\"/><glyph unicode=\" \" horiz-adv-x=\"32.0\" d=\"\"/><glyph unicode=\"a\" horiz-adv-x=\"61.0\" d=\"M34.2812 27.4844 Q23.3906 27.4844 19.1875 25 Q14.9844 22.5156 14.9844 16.5 Q14.9844 11.7188 18.1406 8.9062 Q21.2969 6.1094 26.7031 6.1094 Q34.1875 6.1094 38.7031 11.4062 Q43.2188 16.7031 43.2188 25.4844 L43.2188 27.4844 L34.2812 27.4844 ZM52.2031 31.2031 L52.2031 0 L43.2188 0 L43.2188 8.2969 Q40.1406 3.3281 35.5469 0.9531 Q30.9531 -1.4219 24.3125 -1.4219 Q15.9219 -1.4219 10.9531 3.2969 Q6 8.0156 6 15.9219 Q6 25.1406 12.1719 29.8281 Q18.3594 34.5156 30.6094 34.5156 L43.2188 34.5156 L43.2188 35.4062 Q43.2188 41.6094 39.1406 45 Q35.0625 48.3906 27.6875 48.3906 Q23 48.3906 18.5469 47.2656 Q14.1094 46.1406 10.0156 43.8906 L10.0156 52.2031 Q14.9375 54.1094 19.5781 55.0469 Q24.2188 56 28.6094 56 Q40.4844 56 46.3438 49.8438 Q52.2031 43.7031 52.2031 31.2031 Z\"/><glyph unicode=\"i\" horiz-adv-x=\"28.0\" d=\"M9.4219 54.6875 L18.4062 54.6875 L18.4062 0 L9.4219 0 L9.4219 54.6875 ZM9.4219 75.9844 L18.4062 75.9844 L18.4062 64.5938 L9.4219 64.5938 L9.4219 75.9844 Z\"/><glyph unicode=\"c\" horiz-adv-x=\"55.0\" d=\"M48.7812 52.5938 L48.7812 44.1875 Q44.9688 46.2969 41.1406 47.3438 Q37.3125 48.3906 33.4062 48.3906 Q24.6562 48.3906 19.8125 42.8438 Q14.9844 37.3125 14.9844 27.2969 Q14.9844 17.2812 19.8125 11.7344 Q24.6562 6.2031 33.4062 6.2031 Q37.3125 6.2031 41.1406 7.25 Q44.9688 8.2969 48.7812 10.4062 L48.7812 2.0938 Q45.0156 0.3438 40.9844 -0.5312 Q36.9688 -1.4219 32.4219 -1.4219 Q20.0625 -1.4219 12.7812 6.3438 Q5.5156 14.1094 5.5156 27.2969 Q5.5156 40.6719 12.8594 48.3281 Q20.2188 56 33.0156 56 Q37.1562 56 41.1094 55.1406 Q45.0625 54.2969 48.7812 52.5938 Z\"/><glyph unicode=\"n\" horiz-adv-x=\"63.0\" d=\"M54.8906 33.0156 L54.8906 0 L45.9062 0 L45.9062 32.7188 Q45.9062 40.4844 42.875 44.3281 Q39.8438 48.1875 33.7969 48.1875 Q26.5156 48.1875 22.3125 43.5469 Q18.1094 38.9219 18.1094 30.9062 L18.1094 0 L9.0781 0 L9.0781 54.6875 L18.1094 54.6875 L18.1094 46.1875 Q21.3438 51.125 25.7031 53.5625 Q30.0781 56 35.7969 56 Q45.2188 56 50.0469 50.1719 Q54.8906 44.3438 54.8906 33.0156 Z\"/><glyph unicode=\"ê\" horiz-adv-x=\"62.0\" d=\"M56.2031 29.5938 L56.2031 25.2031 L14.8906 25.2031 Q15.4844 15.9219 20.4844 11.0625 Q25.4844 6.2031 34.4219 6.2031 Q39.5938 6.2031 44.4531 7.4688 Q49.3125 8.7344 54.1094 11.2812 L54.1094 2.7812 Q49.2656 0.7344 44.1875 -0.3438 Q39.1094 -1.4219 33.8906 -1.4219 Q20.7969 -1.4219 13.1562 6.1875 Q5.5156 13.8125 5.5156 26.8125 Q5.5156 40.2344 12.7656 48.1094 Q20.0156 56 32.3281 56 Q43.3594 56 49.7812 48.8906 Q56.2031 41.7969 56.2031 29.5938 ZM47.2188 32.2344 Q47.125 39.5938 43.0938 43.9844 Q39.0625 48.3906 32.4219 48.3906 Q24.9062 48.3906 20.3906 44.1406 Q15.875 39.8906 15.1875 32.1719 L47.2188 32.2344 ZM28.1719 79.9844 L35.3906 79.9844 L47.3594 61.625 L40.5781 61.625 L31.7812 73.5781 L23 61.625 L16.2031 61.625 L28.1719 79.9844 Z\"/><glyph unicode=\"u\" horiz-adv-x=\"63.0\" d=\"M8.5 21.5781 L8.5 54.6875 L17.4844 54.6875 L17.4844 21.9219 Q17.4844 14.1562 20.5 10.2656 Q23.5312 6.3906 29.5938 6.3906 Q36.8594 6.3906 41.0781 11.0312 Q45.3125 15.6719 45.3125 23.6875 L45.3125 54.6875 L54.2969 54.6875 L54.2969 0 L45.3125 0 L45.3125 8.4062 Q42.0469 3.4219 37.7188 1 Q33.4062 -1.4219 27.6875 -1.4219 Q18.2656 -1.4219 13.375 4.4375 Q8.5 10.2969 8.5 21.5781 ZM31.1094 56 L31.1094 56 Z\"/><glyph unicode=\"q\" horiz-adv-x=\"63.0\" d=\"M14.7969 27.2969 Q14.7969 17.3906 18.875 11.75 Q22.9531 6.1094 30.0781 6.1094 Q37.2031 6.1094 41.2969 11.75 Q45.4062 17.3906 45.4062 27.2969 Q45.4062 37.2031 41.2969 42.8438 Q37.2031 48.4844 30.0781 48.4844 Q22.9531 48.4844 18.875 42.8438 Q14.7969 37.2031 14.7969 27.2969 ZM45.4062 8.2031 Q42.5781 3.3281 38.25 0.9531 Q33.9375 -1.4219 27.875 -1.4219 Q17.9688 -1.4219 11.7344 6.4844 Q5.5156 14.4062 5.5156 27.2969 Q5.5156 40.1875 11.7344 48.0938 Q17.9688 56 27.875 56 Q33.9375 56 38.25 53.625 Q42.5781 51.2656 45.4062 46.3906 L45.4062 54.6875 L54.3906 54.6875 L54.3906 -20.7969 L45.4062 -20.7969 L45.4062 8.2031 Z\"/><glyph unicode=\"e\" horiz-adv-x=\"62.0\" d=\"M56.2031 29.5938 L56.2031 25.2031 L14.8906 25.2031 Q15.4844 15.9219 20.4844 11.0625 Q25.4844 6.2031 34.4219 6.2031 Q39.5938 6.2031 44.4531 7.4688 Q49.3125 8.7344 54.1094 11.2812 L54.1094 2.7812 Q49.2656 0.7344 44.1875 -0.3438 Q39.1094 -1.4219 33.8906 -1.4219 Q20.7969 -1.4219 13.1562 6.1875 Q5.5156 13.8125 5.5156 26.8125 Q5.5156 40.2344 12.7656 48.1094 Q20.0156 56 32.3281 56 Q43.3594 56 49.7812 48.8906 Q56.2031 41.7969 56.2031 29.5938 ZM47.2188 32.2344 Q47.125 39.5938 43.0938 43.9844 Q39.0625 48.3906 32.4219 48.3906 Q24.9062 48.3906 20.3906 44.1406 Q15.875 39.8906 15.1875 32.1719 L47.2188 32.2344 Z\"/><glyph unicode=\"r\" horiz-adv-x=\"41.0\" d=\"M41.1094 46.2969 Q39.5938 47.1719 37.8125 47.5781 Q36.0312 48 33.8906 48 Q26.2656 48 22.1875 43.0469 Q18.1094 38.0938 18.1094 28.8125 L18.1094 0 L9.0781 0 L9.0781 54.6875 L18.1094 54.6875 L18.1094 46.1875 Q20.9531 51.1719 25.4844 53.5781 Q30.0312 56 36.5312 56 Q37.4531 56 38.5781 55.875 Q39.7031 55.7656 41.0625 55.5156 L41.1094 46.2969 Z\"/><glyph unicode=\"F\" horiz-adv-x=\"58.0\" d=\"M9.8125 72.9062 L51.7031 72.9062 L51.7031 64.5938 L19.6719 64.5938 L19.6719 43.1094 L48.5781 43.1094 L48.5781 34.8125 L19.6719 34.8125 L19.6719 0 L9.8125 0 L9.8125 72.9062 Z\"/><glyph unicode=\"B\" horiz-adv-x=\"69.0\" d=\"M19.6719 34.8125 L19.6719 8.1094 L35.5 8.1094 Q43.4531 8.1094 47.2812 11.4062 Q51.125 14.7031 51.125 21.4844 Q51.125 28.3281 47.2812 31.5625 Q43.4531 34.8125 35.5 34.8125 L19.6719 34.8125 ZM19.6719 64.7969 L19.6719 42.8281 L34.2812 42.8281 Q41.5 42.8281 45.0312 45.5312 Q48.5781 48.25 48.5781 53.8125 Q48.5781 59.3281 45.0312 62.0625 Q41.5 64.7969 34.2812 64.7969 L19.6719 64.7969 ZM9.8125 72.9062 L35.0156 72.9062 Q46.2969 72.9062 52.3906 68.2188 Q58.5 63.5312 58.5 54.8906 Q58.5 48.1875 55.375 44.2344 Q52.25 40.2812 46.1875 39.3125 Q53.4688 37.75 57.5 32.7812 Q61.5312 27.8281 61.5312 20.4062 Q61.5312 10.6406 54.8906 5.3125 Q48.25 0 35.9844 0 L9.8125 0 L9.8125 72.9062 Z\"/><glyph unicode=\"d\" horiz-adv-x=\"63.0\" d=\"M45.4062 46.3906 L45.4062 75.9844 L54.3906 75.9844 L54.3906 0 L45.4062 0 L45.4062 8.2031 Q42.5781 3.3281 38.25 0.9531 Q33.9375 -1.4219 27.875 -1.4219 Q17.9688 -1.4219 11.7344 6.4844 Q5.5156 14.4062 5.5156 27.2969 Q5.5156 40.1875 11.7344 48.0938 Q17.9688 56 27.875 56 Q33.9375 56 38.25 53.625 Q42.5781 51.2656 45.4062 46.3906 ZM14.7969 27.2969 Q14.7969 17.3906 18.875 11.75 Q22.9531 6.1094 30.0781 6.1094 Q37.2031 6.1094 41.2969 11.75 Q45.4062 17.3906 45.4062 27.2969 Q45.4062 37.2031 41.2969 42.8438 Q37.2031 48.4844 30.0781 48.4844 Q22.9531 48.4844 18.875 42.8438 Q14.7969 37.2031 14.7969 27.2969 Z\"/><glyph unicode=\"t\" horiz-adv-x=\"39.0\" d=\"M18.3125 70.2188 L18.3125 54.6875 L36.8125 54.6875 L36.8125 47.7031 L18.3125 47.7031 L18.3125 18.0156 Q18.3125 11.3281 20.1406 9.4219 Q21.9688 7.5156 27.5938 7.5156 L36.8125 7.5156 L36.8125 0 L27.5938 0 Q17.1875 0 13.2344 3.875 Q9.2812 7.7656 9.2812 18.0156 L9.2812 47.7031 L2.6875 47.7031 L2.6875 54.6875 L9.2812 54.6875 L9.2812 70.2188 L18.3125 70.2188 Z\"/><glyph unicode=\"g\" horiz-adv-x=\"63.0\" d=\"M45.4062 27.9844 Q45.4062 37.75 41.375 43.1094 Q37.3594 48.4844 30.0781 48.4844 Q22.8594 48.4844 18.8281 43.1094 Q14.7969 37.75 14.7969 27.9844 Q14.7969 18.2656 18.8281 12.8906 Q22.8594 7.5156 30.0781 7.5156 Q37.3594 7.5156 41.375 12.8906 Q45.4062 18.2656 45.4062 27.9844 ZM54.3906 6.7812 Q54.3906 -7.1719 48.1875 -13.9844 Q42 -20.7969 29.2031 -20.7969 Q24.4688 -20.7969 20.2656 -20.0938 Q16.0625 -19.3906 12.1094 -17.9219 L12.1094 -9.1875 Q16.0625 -11.3281 19.9219 -12.3438 Q23.7812 -13.375 27.7812 -13.375 Q36.625 -13.375 41.0156 -8.7656 Q45.4062 -4.1562 45.4062 5.1719 L45.4062 9.625 Q42.625 4.7812 38.2812 2.3906 Q33.9375 0 27.875 0 Q17.8281 0 11.6719 7.6562 Q5.5156 15.3281 5.5156 27.9844 Q5.5156 40.6719 11.6719 48.3281 Q17.8281 56 27.875 56 Q33.9375 56 38.2812 53.6094 Q42.625 51.2188 45.4062 46.3906 L45.4062 54.6875 L54.3906 54.6875 L54.3906 6.7812 Z\"/><glyph unicode=\"M\" horiz-adv-x=\"86.0\" d=\"M9.8125 72.9062 L24.5156 72.9062 L43.1094 23.2969 L61.8125 72.9062 L76.5156 72.9062 L76.5156 0 L66.8906 0 L66.8906 64.0156 L48.0938 14.0156 L38.1875 14.0156 L19.3906 64.0156 L19.3906 0 L9.8125 0 L9.8125 72.9062 Z\"/><glyph unicode=\"s\" horiz-adv-x=\"52.0\" d=\"M44.2812 53.0781 L44.2812 44.5781 Q40.4844 46.5312 36.375 47.5 Q32.2812 48.4844 27.875 48.4844 Q21.1875 48.4844 17.8438 46.4375 Q14.5 44.3906 14.5 40.2812 Q14.5 37.1562 16.8906 35.375 Q19.2812 33.5938 26.5156 31.9844 L29.5938 31.2969 Q39.1562 29.25 43.1875 25.5156 Q47.2188 21.7812 47.2188 15.0938 Q47.2188 7.4688 41.1875 3.0156 Q35.1562 -1.4219 24.6094 -1.4219 Q20.2188 -1.4219 15.4531 -0.5625 Q10.6875 0.2969 5.4219 2 L5.4219 11.2812 Q10.4062 8.6875 15.2344 7.3906 Q20.0625 6.1094 24.8125 6.1094 Q31.1562 6.1094 34.5625 8.2812 Q37.9844 10.4531 37.9844 14.4062 Q37.9844 18.0625 35.5156 20.0156 Q33.0625 21.9688 24.7031 23.7812 L21.5781 24.5156 Q13.2344 26.2656 9.5156 29.9062 Q5.8125 33.5469 5.8125 39.8906 Q5.8125 47.6094 11.2812 51.7969 Q16.75 56 26.8125 56 Q31.7812 56 36.1719 55.2656 Q40.5781 54.5469 44.2812 53.0781 Z\"/></font></defs><g style=\"fill:white; text-rendering:optimizeLegibility; stroke:white;\"><rect x=\"0\" width=\"548\" height=\"336\" y=\"0\" style=\"stroke:none;\"/></g><g style=\"stroke-linecap:butt; fill:white; text-rendering:geometricPrecision; stroke-linejoin:bevel; shape-rendering:crispEdges; stroke:white; stroke-width:0;\"><path style=\"stroke:none;\" d=\"M479.5 21 L479.5 122.1823 L68.5 21 Z\"/><path style=\"stroke:none;\" d=\"M479.5 122.1823 L68.5 122.1823 L68.5 21 Z\"/><path style=\"stroke:none;\" d=\"M479.5 21 L479.5 122.1823 L479.5 122.1823 Z\"/><path style=\"stroke:none;\" d=\"M68.5 21 L68.5 122.1823 L68.5 122.1823 Z\"/><path style=\"stroke:none;\" d=\"M479.5 21 L479.5 122.1823 L68.5 21 Z\"/><path style=\"stroke:none;\" d=\"M479.5 122.1823 L68.5 122.1823 L68.5 21 Z\"/><path style=\"stroke:none;\" d=\"M479.5 21 L479.5 21 L479.5 122.1823 Z\"/><path style=\"stroke:none;\" d=\"M68.5 21 L68.5 21 L68.5 122.1823 Z\"/><path style=\"stroke:none;\" d=\"M479.5 21 L68.5 21 L479.5 21 Z\"/><path style=\"stroke:none;\" d=\"M68.5 21 L68.5 21 L479.5 21 Z\"/><path style=\"stroke:none;\" d=\"M479.5 122.1823 L68.5 122.1823 L479.5 122.1823 Z\"/><path style=\"stroke:none;\" d=\"M68.5 122.1823 L68.5 122.1823 L479.5 122.1823 Z\"/></g><g style=\"fill:rgb(211,211,211); text-rendering:geometricPrecision; stroke-dasharray:2,2; shape-rendering:crispEdges; stroke-linecap:butt; stroke:rgb(211,211,211);\"><path style=\"fill:none;\" d=\"M68.5 122.1823 L68.5 21\"/><path style=\"fill:none;\" d=\"M68.5 122.1823 L68.5 122.1823\"/><path style=\"fill:none;\" d=\"M89.1206 122.1823 L89.1206 21\"/><path style=\"fill:none;\" d=\"M89.1206 122.1823 L89.1206 122.1823\"/><path style=\"fill:none;\" d=\"M101.1828 122.1823 L101.1828 21\"/><path style=\"fill:none;\" d=\"M101.1828 122.1823 L101.1828 122.1823\"/><path style=\"fill:none;\" d=\"M109.7411 122.1823 L109.7411 21\"/><path style=\"fill:none;\" d=\"M109.7411 122.1823 L109.7411 122.1823\"/><path style=\"fill:none;\" d=\"M116.3794 122.1823 L116.3794 21\"/><path style=\"fill:none;\" d=\"M116.3794 122.1823 L116.3794 122.1823\"/><path style=\"fill:none;\" d=\"M121.8034 122.1823 L121.8034 21\"/><path style=\"fill:none;\" d=\"M121.8034 122.1823 L121.8034 122.1823\"/><path style=\"fill:none;\" d=\"M126.3892 122.1823 L126.3892 21\"/><path style=\"fill:none;\" d=\"M126.3892 122.1823 L126.3892 122.1823\"/><path style=\"fill:none;\" d=\"M130.3617 122.1823 L130.3617 21\"/><path style=\"fill:none;\" d=\"M130.3617 122.1823 L130.3617 122.1823\"/><path style=\"fill:none;\" d=\"M133.8656 122.1823 L133.8656 21\"/><path style=\"fill:none;\" d=\"M133.8656 122.1823 L133.8656 122.1823\"/><path style=\"fill:none;\" d=\"M137 122.1823 L137 21\"/><path style=\"fill:none;\" d=\"M137 122.1823 L137 122.1823\"/><path style=\"fill:none;\" d=\"M157.6206 122.1823 L157.6206 21\"/><path style=\"fill:none;\" d=\"M157.6206 122.1823 L157.6206 122.1823\"/><path style=\"fill:none;\" d=\"M169.6828 122.1823 L169.6828 21\"/><path style=\"fill:none;\" d=\"M169.6828 122.1823 L169.6828 122.1823\"/><path style=\"fill:none;\" d=\"M178.2411 122.1823 L178.2411 21\"/><path style=\"fill:none;\" d=\"M178.2411 122.1823 L178.2411 122.1823\"/><path style=\"fill:none;\" d=\"M184.8794 122.1823 L184.8794 21\"/><path style=\"fill:none;\" d=\"M184.8794 122.1823 L184.8794 122.1823\"/><path style=\"fill:none;\" d=\"M190.3034 122.1823 L190.3034 21\"/><path style=\"fill:none;\" d=\"M190.3034 122.1823 L190.3034 122.1823\"/><path style=\"fill:none;\" d=\"M194.8892 122.1823 L194.8892 21\"/><path style=\"fill:none;\" d=\"M194.8892 122.1823 L194.8892 122.1823\"/><path style=\"fill:none;\" d=\"M198.8617 122.1823 L198.8617 21\"/><path style=\"fill:none;\" d=\"M198.8617 122.1823 L198.8617 122.1823\"/><path style=\"fill:none;\" d=\"M202.3656 122.1823 L202.3656 21\"/><path style=\"fill:none;\" d=\"M202.3656 122.1823 L202.3656 122.1823\"/><path style=\"fill:none;\" d=\"M205.5 122.1823 L205.5 21\"/><path style=\"fill:none;\" d=\"M205.5 122.1823 L205.5 122.1823\"/><path style=\"fill:none;\" d=\"M226.1206 122.1823 L226.1206 21\"/><path style=\"fill:none;\" d=\"M226.1206 122.1823 L226.1206 122.1823\"/><path style=\"fill:none;\" d=\"M238.1828 122.1823 L238.1828 21\"/><path style=\"fill:none;\" d=\"M238.1828 122.1823 L238.1828 122.1823\"/><path style=\"fill:none;\" d=\"M246.7411 122.1823 L246.7411 21\"/><path style=\"fill:none;\" d=\"M246.7411 122.1823 L246.7411 122.1823\"/><path style=\"fill:none;\" d=\"M253.3794 122.1823 L253.3794 21\"/><path style=\"fill:none;\" d=\"M253.3794 122.1823 L253.3794 122.1823\"/><path style=\"fill:none;\" d=\"M258.8034 122.1823 L258.8034 21\"/><path style=\"fill:none;\" d=\"M258.8034 122.1823 L258.8034 122.1823\"/><path style=\"fill:none;\" d=\"M263.3892 122.1823 L263.3892 21\"/><path style=\"fill:none;\" d=\"M263.3892 122.1823 L263.3892 122.1823\"/><path style=\"fill:none;\" d=\"M267.3617 122.1823 L267.3617 21\"/><path style=\"fill:none;\" d=\"M267.3617 122.1823 L267.3617 122.1823\"/><path style=\"fill:none;\" d=\"M270.8656 122.1823 L270.8656 21\"/><path style=\"fill:none;\" d=\"M270.8656 122.1823 L270.8656 122.1823\"/><path style=\"fill:none;\" d=\"M274 122.1823 L274 21\"/><path style=\"fill:none;\" d=\"M274 122.1823 L274 122.1823\"/><path style=\"fill:none;\" d=\"M294.6205 122.1823 L294.6205 21\"/><path style=\"fill:none;\" d=\"M294.6205 122.1823 L294.6205 122.1823\"/><path style=\"fill:none;\" d=\"M306.6828 122.1823 L306.6828 21\"/><path style=\"fill:none;\" d=\"M306.6828 122.1823 L306.6828 122.1823\"/><path style=\"fill:none;\" d=\"M315.2411 122.1823 L315.2411 21\"/><path style=\"fill:none;\" d=\"M315.2411 122.1823 L315.2411 122.1823\"/><path style=\"fill:none;\" d=\"M321.8795 122.1823 L321.8795 21\"/><path style=\"fill:none;\" d=\"M321.8795 122.1823 L321.8795 122.1823\"/><path style=\"fill:none;\" d=\"M327.3033 122.1823 L327.3033 21\"/><path style=\"fill:none;\" d=\"M327.3033 122.1823 L327.3033 122.1823\"/><path style=\"fill:none;\" d=\"M331.8892 122.1823 L331.8892 21\"/><path style=\"fill:none;\" d=\"M331.8892 122.1823 L331.8892 122.1823\"/><path style=\"fill:none;\" d=\"M335.8617 122.1823 L335.8617 21\"/><path style=\"fill:none;\" d=\"M335.8617 122.1823 L335.8617 122.1823\"/><path style=\"fill:none;\" d=\"M339.3656 122.1823 L339.3656 21\"/><path style=\"fill:none;\" d=\"M339.3656 122.1823 L339.3656 122.1823\"/><path style=\"fill:none;\" d=\"M342.5 122.1823 L342.5 21\"/><path style=\"fill:none;\" d=\"M342.5 122.1823 L342.5 122.1823\"/><path style=\"fill:none;\" d=\"M363.1205 122.1823 L363.1205 21\"/><path style=\"fill:none;\" d=\"M363.1205 122.1823 L363.1205 122.1823\"/><path style=\"fill:none;\" d=\"M375.1828 122.1823 L375.1828 21\"/><path style=\"fill:none;\" d=\"M375.1828 122.1823 L375.1828 122.1823\"/><path style=\"fill:none;\" d=\"M383.7411 122.1823 L383.7411 21\"/><path style=\"fill:none;\" d=\"M383.7411 122.1823 L383.7411 122.1823\"/><path style=\"fill:none;\" d=\"M390.3795 122.1823 L390.3795 21\"/><path style=\"fill:none;\" d=\"M390.3795 122.1823 L390.3795 122.1823\"/><path style=\"fill:none;\" d=\"M395.8034 122.1823 L395.8034 21\"/><path style=\"fill:none;\" d=\"M395.8034 122.1823 L395.8034 122.1823\"/><path style=\"fill:none;\" d=\"M400.3892 122.1823 L400.3892 21\"/><path style=\"fill:none;\" d=\"M400.3892 122.1823 L400.3892 122.1823\"/><path style=\"fill:none;\" d=\"M404.3617 122.1823 L404.3617 21\"/><path style=\"fill:none;\" d=\"M404.3617 122.1823 L404.3617 122.1823\"/><path style=\"fill:none;\" d=\"M407.8656 122.1823 L407.8656 21\"/><path style=\"fill:none;\" d=\"M407.8656 122.1823 L407.8656 122.1823\"/><path style=\"fill:none;\" d=\"M411 122.1823 L411 21\"/><path style=\"fill:none;\" d=\"M411 122.1823 L411 122.1823\"/><path style=\"fill:none;\" d=\"M431.6205 122.1823 L431.6205 21\"/><path style=\"fill:none;\" d=\"M431.6205 122.1823 L431.6205 122.1823\"/><path style=\"fill:none;\" d=\"M443.6828 122.1823 L443.6828 21\"/><path style=\"fill:none;\" d=\"M443.6828 122.1823 L443.6828 122.1823\"/><path style=\"fill:none;\" d=\"M452.2411 122.1823 L452.2411 21\"/><path style=\"fill:none;\" d=\"M452.2411 122.1823 L452.2411 122.1823\"/><path style=\"fill:none;\" d=\"M458.8795 122.1823 L458.8795 21\"/><path style=\"fill:none;\" d=\"M458.8795 122.1823 L458.8795 122.1823\"/><path style=\"fill:none;\" d=\"M464.3034 122.1823 L464.3034 21\"/><path style=\"fill:none;\" d=\"M464.3034 122.1823 L464.3034 122.1823\"/><path style=\"fill:none;\" d=\"M468.8892 122.1823 L468.8892 21\"/><path style=\"fill:none;\" d=\"M468.8892 122.1823 L468.8892 122.1823\"/><path style=\"fill:none;\" d=\"M472.8617 122.1823 L472.8617 21\"/><path style=\"fill:none;\" d=\"M472.8617 122.1823 L472.8617 122.1823\"/><path style=\"fill:none;\" d=\"M476.3656 122.1823 L476.3656 21\"/><path style=\"fill:none;\" d=\"M476.3656 122.1823 L476.3656 122.1823\"/><path style=\"fill:none;\" d=\"M479.5 122.1823 L479.5 21\"/><path style=\"fill:none;\" d=\"M479.5 122.1823 L479.5 122.1823\"/><path style=\"fill:none;\" d=\"M68.5 115.8584 L479.5 115.8584\"/><path style=\"fill:none;\" d=\"M68.5 115.8584 L68.5 115.8584\"/><path style=\"fill:none;\" d=\"M68.5 84.239 L479.5 84.239\"/><path style=\"fill:none;\" d=\"M68.5 84.239 L68.5 84.239\"/><path style=\"fill:none;\" d=\"M68.5 52.6195 L479.5 52.6195\"/><path style=\"fill:none;\" d=\"M68.5 52.6195 L68.5 52.6195\"/><path style=\"fill:none;\" d=\"M68.5 21 L479.5 21\"/><path style=\"fill:none;\" d=\"M68.5 21 L68.5 21\"/></g><g style=\"stroke-linecap:butt; fill:white; text-rendering:geometricPrecision; stroke-linejoin:bevel; shape-rendering:crispEdges; stroke:white; stroke-width:0;\"><path style=\"stroke:none;\" d=\"M479.5 189 L479.5 289.8718 L68.5 189 Z\"/><path style=\"stroke:none;\" d=\"M479.5 289.8718 L68.5 289.8718 L68.5 189 Z\"/><path style=\"stroke:none;\" d=\"M479.5 189 L479.5 289.8718 L479.5 289.8718 Z\"/><path style=\"stroke:none;\" d=\"M68.5 189 L68.5 289.8718 L68.5 289.8718 Z\"/></g><g transform=\"translate(57,131.1823)\" style=\"font-size:10px; stroke-linecap:butt; text-rendering:geometricPrecision; font-family:sans-serif; stroke-linejoin:bevel; stroke-width:0;\"><text x=\"-1.0938\" xml:space=\"preserve\" y=\"15.2822\" style=\"stroke:none;\">10</text><text x=\"12.5781\" xml:space=\"preserve\" y=\"8.1655\" style=\"font-size:8.8px; stroke:none;\">-3</text></g><g transform=\"translate(125.5,131.1823)\" style=\"font-size:10px; stroke-linecap:butt; text-rendering:geometricPrecision; font-family:sans-serif; stroke-linejoin:bevel; stroke-width:0;\"><text x=\"-1.0938\" xml:space=\"preserve\" y=\"15.2822\" style=\"stroke:none;\">10</text><text x=\"12.5781\" xml:space=\"preserve\" y=\"8.1655\" style=\"font-size:8.8px; stroke:none;\">-2</text></g><g transform=\"translate(194,131.1823)\" style=\"font-size:10px; stroke-linecap:butt; text-rendering:geometricPrecision; font-family:sans-serif; stroke-linejoin:bevel; stroke-width:0;\"><text x=\"-1.0938\" xml:space=\"preserve\" y=\"15.2822\" style=\"stroke:none;\">10</text><text x=\"12.5781\" xml:space=\"preserve\" y=\"8.1655\" style=\"font-size:8.8px; stroke:none;\">-1</text></g><g transform=\"translate(264,131.1823)\" style=\"font-size:10px; stroke-linecap:butt; text-rendering:geometricPrecision; font-family:sans-serif; stroke-linejoin:bevel; stroke-width:0;\"><text x=\"-1.0938\" xml:space=\"preserve\" y=\"15.2822\" style=\"stroke:none;\">10</text><text x=\"12.4219\" xml:space=\"preserve\" y=\"8.1655\" style=\"font-size:8.8px; stroke:none;\">0</text></g><g transform=\"translate(333,131.1823)\" style=\"font-size:10px; stroke-linecap:butt; text-rendering:geometricPrecision; font-family:sans-serif; stroke-linejoin:bevel; stroke-width:0;\"><text x=\"-1.0938\" xml:space=\"preserve\" y=\"15.2822\" style=\"stroke:none;\">10</text><text x=\"12.0312\" xml:space=\"preserve\" y=\"8.1655\" style=\"font-size:8.8px; stroke:none;\">1</text></g><g transform=\"translate(401,131.1823)\" style=\"font-size:10px; stroke-linecap:butt; text-rendering:geometricPrecision; font-family:sans-serif; stroke-linejoin:bevel; stroke-width:0;\"><text x=\"-1.0938\" xml:space=\"preserve\" y=\"15.2822\" style=\"stroke:none;\">10</text><text x=\"12.3594\" xml:space=\"preserve\" y=\"8.1655\" style=\"font-size:8.8px; stroke:none;\">2</text></g><g transform=\"translate(469.5,131.1823)\" style=\"font-size:10px; stroke-linecap:butt; text-rendering:geometricPrecision; font-family:sans-serif; stroke-linejoin:bevel; stroke-width:0;\"><text x=\"-1.0938\" xml:space=\"preserve\" y=\"15.2822\" style=\"stroke:none;\">10</text><text x=\"12.3281\" xml:space=\"preserve\" y=\"8.1655\" style=\"font-size:8.8px; stroke:none;\">3</text></g><g style=\"text-rendering:geometricPrecision; font-size:8.8px; shape-rendering:crispEdges; font-family:sans-serif; stroke-linecap:butt;\"><path style=\"fill:none;\" d=\"M68.5 122.1823 L68.5 128.1823\"/><path style=\"fill:none;\" d=\"M137 122.1823 L137 128.1823\"/><path style=\"fill:none;\" d=\"M205.5 122.1823 L205.5 128.1823\"/><path style=\"fill:none;\" d=\"M274 122.1823 L274 128.1823\"/><path style=\"fill:none;\" d=\"M342.5 122.1823 L342.5 128.1823\"/><path style=\"fill:none;\" d=\"M411 122.1823 L411 128.1823\"/><path style=\"fill:none;\" d=\"M479.5 122.1823 L479.5 128.1823\"/><path style=\"fill:none;\" d=\"M68.5 122.1823 L68.5 125.1823\"/><path style=\"fill:none;\" d=\"M89.1206 122.1823 L89.1206 125.1823\"/><path style=\"fill:none;\" d=\"M101.1828 122.1823 L101.1828 125.1823\"/><path style=\"fill:none;\" d=\"M109.7411 122.1823 L109.7411 125.1823\"/><path style=\"fill:none;\" d=\"M116.3794 122.1823 L116.3794 125.1823\"/><path style=\"fill:none;\" d=\"M121.8034 122.1823 L121.8034 125.1823\"/><path style=\"fill:none;\" d=\"M126.3892 122.1823 L126.3892 125.1823\"/><path style=\"fill:none;\" d=\"M130.3617 122.1823 L130.3617 125.1823\"/><path style=\"fill:none;\" d=\"M133.8656 122.1823 L133.8656 125.1823\"/><path style=\"fill:none;\" d=\"M137 122.1823 L137 125.1823\"/><path style=\"fill:none;\" d=\"M157.6206 122.1823 L157.6206 125.1823\"/><path style=\"fill:none;\" d=\"M169.6828 122.1823 L169.6828 125.1823\"/><path style=\"fill:none;\" d=\"M178.2411 122.1823 L178.2411 125.1823\"/><path style=\"fill:none;\" d=\"M184.8794 122.1823 L184.8794 125.1823\"/><path style=\"fill:none;\" d=\"M190.3034 122.1823 L190.3034 125.1823\"/><path style=\"fill:none;\" d=\"M194.8892 122.1823 L194.8892 125.1823\"/><path style=\"fill:none;\" d=\"M198.8617 122.1823 L198.8617 125.1823\"/><path style=\"fill:none;\" d=\"M202.3656 122.1823 L202.3656 125.1823\"/><path style=\"fill:none;\" d=\"M205.5 122.1823 L205.5 125.1823\"/><path style=\"fill:none;\" d=\"M226.1206 122.1823 L226.1206 125.1823\"/><path style=\"fill:none;\" d=\"M238.1828 122.1823 L238.1828 125.1823\"/><path style=\"fill:none;\" d=\"M246.7411 122.1823 L246.7411 125.1823\"/><path style=\"fill:none;\" d=\"M253.3794 122.1823 L253.3794 125.1823\"/><path style=\"fill:none;\" d=\"M258.8034 122.1823 L258.8034 125.1823\"/><path style=\"fill:none;\" d=\"M263.3892 122.1823 L263.3892 125.1823\"/><path style=\"fill:none;\" d=\"M267.3617 122.1823 L267.3617 125.1823\"/><path style=\"fill:none;\" d=\"M270.8656 122.1823 L270.8656 125.1823\"/><path style=\"fill:none;\" d=\"M274 122.1823 L274 125.1823\"/><path style=\"fill:none;\" d=\"M294.6205 122.1823 L294.6205 125.1823\"/><path style=\"fill:none;\" d=\"M306.6828 122.1823 L306.6828 125.1823\"/><path style=\"fill:none;\" d=\"M315.2411 122.1823 L315.2411 125.1823\"/><path style=\"fill:none;\" d=\"M321.8795 122.1823 L321.8795 125.1823\"/><path style=\"fill:none;\" d=\"M327.3034 122.1823 L327.3034 125.1823\"/><path style=\"fill:none;\" d=\"M331.8892 122.1823 L331.8892 125.1823\"/><path style=\"fill:none;\" d=\"M335.8617 122.1823 L335.8617 125.1823\"/><path style=\"fill:none;\" d=\"M339.3656 122.1823 L339.3656 125.1823\"/><path style=\"fill:none;\" d=\"M342.5 122.1823 L342.5 125.1823\"/><path style=\"fill:none;\" d=\"M363.1205 122.1823 L363.1205 125.1823\"/><path style=\"fill:none;\" d=\"M375.1828 122.1823 L375.1828 125.1823\"/><path style=\"fill:none;\" d=\"M383.7411 122.1823 L383.7411 125.1823\"/><path style=\"fill:none;\" d=\"M390.3795 122.1823 L390.3795 125.1823\"/><path style=\"fill:none;\" d=\"M395.8034 122.1823 L395.8034 125.1823\"/><path style=\"fill:none;\" d=\"M400.3892 122.1823 L400.3892 125.1823\"/><path style=\"fill:none;\" d=\"M404.3617 122.1823 L404.3617 125.1823\"/><path style=\"fill:none;\" d=\"M407.8656 122.1823 L407.8656 125.1823\"/><path style=\"fill:none;\" d=\"M411 122.1823 L411 125.1823\"/><path style=\"fill:none;\" d=\"M431.6205 122.1823 L431.6205 125.1823\"/><path style=\"fill:none;\" d=\"M443.6828 122.1823 L443.6828 125.1823\"/><path style=\"fill:none;\" d=\"M452.2411 122.1823 L452.2411 125.1823\"/><path style=\"fill:none;\" d=\"M458.8795 122.1823 L458.8795 125.1823\"/><path style=\"fill:none;\" d=\"M464.3034 122.1823 L464.3034 125.1823\"/><path style=\"fill:none;\" d=\"M468.8892 122.1823 L468.8892 125.1823\"/><path style=\"fill:none;\" d=\"M472.8617 122.1823 L472.8617 125.1823\"/><path style=\"fill:none;\" d=\"M476.3656 122.1823 L476.3656 125.1823\"/><path style=\"fill:none;\" d=\"M479.5 122.1823 L479.5 125.1823\"/><path style=\"fill:none;\" d=\"M479.5 122.1823 L68.5 122.1823\"/></g><g transform=\"translate(51.5,14.5)\" style=\"font-size:10px; stroke-linecap:butt; text-rendering:geometricPrecision; font-family:sans-serif; stroke-linejoin:bevel; stroke-width:0;\"><text x=\"-0.6562\" xml:space=\"preserve\" y=\"9.2822\" style=\"stroke:none;\">0</text></g><g transform=\"translate(35.5,77.739)\" style=\"font-size:10px; stroke-linecap:butt; text-rendering:geometricPrecision; font-family:sans-serif; stroke-linejoin:bevel; stroke-width:0;\"><text x=\"-0.4844\" xml:space=\"preserve\" y=\"9.2822\" style=\"stroke:none;\">-100</text></g><g transform=\"translate(35.5,109.3584)\" style=\"font-size:10px; stroke-linecap:butt; text-rendering:geometricPrecision; font-family:sans-serif; stroke-linejoin:bevel; stroke-width:0;\"><text x=\"-0.4844\" xml:space=\"preserve\" y=\"9.2822\" style=\"stroke:none;\">-150</text></g><g transform=\"translate(41.5,46.1195)\" style=\"font-size:10px; stroke-linecap:butt; text-rendering:geometricPrecision; font-family:sans-serif; stroke-linejoin:bevel; stroke-width:0;\"><text x=\"-0.4844\" xml:space=\"preserve\" y=\"9.2822\" style=\"stroke:none;\">-50</text></g><g style=\"text-rendering:geometricPrecision; font-size:10px; shape-rendering:crispEdges; font-family:sans-serif; stroke-linecap:butt;\"><path style=\"fill:none;\" d=\"M68.5 115.8584 L62.5 115.8584\"/><path style=\"fill:none;\" d=\"M68.5 84.239 L62.5 84.239\"/><path style=\"fill:none;\" d=\"M68.5 52.6195 L62.5 52.6195\"/><path style=\"fill:none;\" d=\"M68.5 21 L62.5 21\"/><path style=\"fill:none;\" d=\"M68.5 115.8584 L65.5 115.8584\"/><path style=\"fill:none;\" d=\"M68.5 100.0487 L65.5 100.0487\"/><path style=\"fill:none;\" d=\"M68.5 84.239 L65.5 84.239\"/><path style=\"fill:none;\" d=\"M68.5 68.4292 L65.5 68.4292\"/><path style=\"fill:none;\" d=\"M68.5 52.6195 L65.5 52.6195\"/><path style=\"fill:none;\" d=\"M68.5 36.8098 L65.5 36.8098\"/><path style=\"fill:none;\" d=\"M68.5 21 L65.5 21\"/><path style=\"fill:none;\" d=\"M68.5 21 L68.5 122.1823\"/></g><g transform=\"translate(223,153.1823)\" style=\"text-rendering:geometricPrecision; stroke-width:0; font-family:sans-serif; stroke-linecap:butt; stroke-linejoin:bevel;\"><text x=\"0.8281\" xml:space=\"preserve\" y=\"13.1387\" style=\"stroke:none;\">Frequência (Hz)</text></g><g transform=\"translate(32.5,71.5912) rotate(270) translate(-50,-19)\" style=\"text-rendering:geometricPrecision; stroke-width:0; font-family:sans-serif; stroke-linecap:butt; stroke-linejoin:bevel;\"><text x=\"0.8281\" xml:space=\"preserve\" y=\"13.1387\" style=\"stroke:none;\">Magnitude (dB)</text></g><g style=\"stroke-linecap:butt; fill:white; text-rendering:geometricPrecision; font-family:sans-serif; stroke-linejoin:bevel; shape-rendering:crispEdges; stroke:white; stroke-width:0;\"><path style=\"stroke:none;\" d=\"M479.5 189 L479.5 289.8718 L68.5 189 Z\"/><path style=\"stroke:none;\" d=\"M479.5 289.8718 L68.5 289.8718 L68.5 189 Z\"/><path style=\"stroke:none;\" d=\"M479.5 189 L479.5 189 L479.5 289.8718 Z\"/><path style=\"stroke:none;\" d=\"M68.5 189 L68.5 189 L68.5 289.8718 Z\"/><path style=\"stroke:none;\" d=\"M479.5 189 L68.5 189 L479.5 189 Z\"/><path style=\"stroke:none;\" d=\"M68.5 189 L68.5 189 L479.5 189 Z\"/><path style=\"stroke:none;\" d=\"M479.5 289.8718 L68.5 289.8718 L479.5 289.8718 Z\"/><path style=\"stroke:none;\" d=\"M68.5 289.8718 L68.5 289.8718 L479.5 289.8718 Z\"/></g><g style=\"stroke-linecap:butt; fill:rgb(211,211,211); text-rendering:geometricPrecision; font-family:sans-serif; shape-rendering:crispEdges; stroke-dasharray:2,2; stroke:rgb(211,211,211);\"><path style=\"fill:none;\" d=\"M68.5 289.8718 L68.5 189\"/><path style=\"fill:none;\" d=\"M68.5 289.8718 L68.5 289.8718\"/><path style=\"fill:none;\" d=\"M89.1206 289.8718 L89.1206 189\"/><path style=\"fill:none;\" d=\"M89.1206 289.8718 L89.1206 289.8718\"/><path style=\"fill:none;\" d=\"M101.1828 289.8718 L101.1828 189\"/><path style=\"fill:none;\" d=\"M101.1828 289.8718 L101.1828 289.8718\"/><path style=\"fill:none;\" d=\"M109.7411 289.8718 L109.7411 189\"/><path style=\"fill:none;\" d=\"M109.7411 289.8718 L109.7411 289.8718\"/><path style=\"fill:none;\" d=\"M116.3794 289.8718 L116.3794 189\"/><path style=\"fill:none;\" d=\"M116.3794 289.8718 L116.3794 289.8718\"/><path style=\"fill:none;\" d=\"M121.8034 289.8718 L121.8034 189\"/><path style=\"fill:none;\" d=\"M121.8034 289.8718 L121.8034 289.8718\"/><path style=\"fill:none;\" d=\"M126.3892 289.8718 L126.3892 189\"/><path style=\"fill:none;\" d=\"M126.3892 289.8718 L126.3892 289.8718\"/><path style=\"fill:none;\" d=\"M130.3617 289.8718 L130.3617 189\"/><path style=\"fill:none;\" d=\"M130.3617 289.8718 L130.3617 289.8718\"/><path style=\"fill:none;\" d=\"M133.8656 289.8718 L133.8656 189\"/><path style=\"fill:none;\" d=\"M133.8656 289.8718 L133.8656 289.8718\"/><path style=\"fill:none;\" d=\"M137 289.8718 L137 189\"/><path style=\"fill:none;\" d=\"M137 289.8718 L137 289.8718\"/><path style=\"fill:none;\" d=\"M157.6206 289.8718 L157.6206 189\"/><path style=\"fill:none;\" d=\"M157.6206 289.8718 L157.6206 289.8718\"/><path style=\"fill:none;\" d=\"M169.6828 289.8718 L169.6828 189\"/><path style=\"fill:none;\" d=\"M169.6828 289.8718 L169.6828 289.8718\"/><path style=\"fill:none;\" d=\"M178.2411 289.8718 L178.2411 189\"/><path style=\"fill:none;\" d=\"M178.2411 289.8718 L178.2411 289.8718\"/><path style=\"fill:none;\" d=\"M184.8794 289.8718 L184.8794 189\"/><path style=\"fill:none;\" d=\"M184.8794 289.8718 L184.8794 289.8718\"/><path style=\"fill:none;\" d=\"M190.3034 289.8718 L190.3034 189\"/><path style=\"fill:none;\" d=\"M190.3034 289.8718 L190.3034 289.8718\"/><path style=\"fill:none;\" d=\"M194.8892 289.8718 L194.8892 189\"/><path style=\"fill:none;\" d=\"M194.8892 289.8718 L194.8892 289.8718\"/><path style=\"fill:none;\" d=\"M198.8617 289.8718 L198.8617 189\"/><path style=\"fill:none;\" d=\"M198.8617 289.8718 L198.8617 289.8718\"/><path style=\"fill:none;\" d=\"M202.3656 289.8718 L202.3656 189\"/><path style=\"fill:none;\" d=\"M202.3656 289.8718 L202.3656 289.8718\"/><path style=\"fill:none;\" d=\"M205.5 289.8718 L205.5 189\"/><path style=\"fill:none;\" d=\"M205.5 289.8718 L205.5 289.8718\"/><path style=\"fill:none;\" d=\"M226.1206 289.8718 L226.1206 189\"/><path style=\"fill:none;\" d=\"M226.1206 289.8718 L226.1206 289.8718\"/><path style=\"fill:none;\" d=\"M238.1828 289.8718 L238.1828 189\"/><path style=\"fill:none;\" d=\"M238.1828 289.8718 L238.1828 289.8718\"/><path style=\"fill:none;\" d=\"M246.7411 289.8718 L246.7411 189\"/><path style=\"fill:none;\" d=\"M246.7411 289.8718 L246.7411 289.8718\"/><path style=\"fill:none;\" d=\"M253.3794 289.8718 L253.3794 189\"/><path style=\"fill:none;\" d=\"M253.3794 289.8718 L253.3794 289.8718\"/><path style=\"fill:none;\" d=\"M258.8034 289.8718 L258.8034 189\"/><path style=\"fill:none;\" d=\"M258.8034 289.8718 L258.8034 289.8718\"/><path style=\"fill:none;\" d=\"M263.3892 289.8718 L263.3892 189\"/><path style=\"fill:none;\" d=\"M263.3892 289.8718 L263.3892 289.8718\"/><path style=\"fill:none;\" d=\"M267.3617 289.8718 L267.3617 189\"/><path style=\"fill:none;\" d=\"M267.3617 289.8718 L267.3617 289.8718\"/><path style=\"fill:none;\" d=\"M270.8656 289.8718 L270.8656 189\"/><path style=\"fill:none;\" d=\"M270.8656 289.8718 L270.8656 289.8718\"/><path style=\"fill:none;\" d=\"M274 289.8718 L274 189\"/><path style=\"fill:none;\" d=\"M274 289.8718 L274 289.8718\"/><path style=\"fill:none;\" d=\"M294.6205 289.8718 L294.6205 189\"/><path style=\"fill:none;\" d=\"M294.6205 289.8718 L294.6205 289.8718\"/><path style=\"fill:none;\" d=\"M306.6828 289.8718 L306.6828 189\"/><path style=\"fill:none;\" d=\"M306.6828 289.8718 L306.6828 289.8718\"/><path style=\"fill:none;\" d=\"M315.2411 289.8718 L315.2411 189\"/><path style=\"fill:none;\" d=\"M315.2411 289.8718 L315.2411 289.8718\"/><path style=\"fill:none;\" d=\"M321.8795 289.8718 L321.8795 189\"/><path style=\"fill:none;\" d=\"M321.8795 289.8718 L321.8795 289.8718\"/><path style=\"fill:none;\" d=\"M327.3033 289.8718 L327.3033 189\"/><path style=\"fill:none;\" d=\"M327.3033 289.8718 L327.3033 289.8718\"/><path style=\"fill:none;\" d=\"M331.8892 289.8718 L331.8892 189\"/><path style=\"fill:none;\" d=\"M331.8892 289.8718 L331.8892 289.8718\"/><path style=\"fill:none;\" d=\"M335.8617 289.8718 L335.8617 189\"/><path style=\"fill:none;\" d=\"M335.8617 289.8718 L335.8617 289.8718\"/><path style=\"fill:none;\" d=\"M339.3656 289.8718 L339.3656 189\"/><path style=\"fill:none;\" d=\"M339.3656 289.8718 L339.3656 289.8718\"/><path style=\"fill:none;\" d=\"M342.5 289.8718 L342.5 189\"/><path style=\"fill:none;\" d=\"M342.5 289.8718 L342.5 289.8718\"/><path style=\"fill:none;\" d=\"M363.1205 289.8718 L363.1205 189\"/><path style=\"fill:none;\" d=\"M363.1205 289.8718 L363.1205 289.8718\"/><path style=\"fill:none;\" d=\"M375.1828 289.8718 L375.1828 189\"/><path style=\"fill:none;\" d=\"M375.1828 289.8718 L375.1828 289.8718\"/><path style=\"fill:none;\" d=\"M383.7411 289.8718 L383.7411 189\"/><path style=\"fill:none;\" d=\"M383.7411 289.8718 L383.7411 289.8718\"/><path style=\"fill:none;\" d=\"M390.3795 289.8718 L390.3795 189\"/><path style=\"fill:none;\" d=\"M390.3795 289.8718 L390.3795 289.8718\"/><path style=\"fill:none;\" d=\"M395.8034 289.8718 L395.8034 189\"/><path style=\"fill:none;\" d=\"M395.8034 289.8718 L395.8034 289.8718\"/><path style=\"fill:none;\" d=\"M400.3892 289.8718 L400.3892 189\"/><path style=\"fill:none;\" d=\"M400.3892 289.8718 L400.3892 289.8718\"/><path style=\"fill:none;\" d=\"M404.3617 289.8718 L404.3617 189\"/><path style=\"fill:none;\" d=\"M404.3617 289.8718 L404.3617 289.8718\"/><path style=\"fill:none;\" d=\"M407.8656 289.8718 L407.8656 189\"/><path style=\"fill:none;\" d=\"M407.8656 289.8718 L407.8656 289.8718\"/><path style=\"fill:none;\" d=\"M411 289.8718 L411 189\"/><path style=\"fill:none;\" d=\"M411 289.8718 L411 289.8718\"/><path style=\"fill:none;\" d=\"M431.6205 289.8718 L431.6205 189\"/><path style=\"fill:none;\" d=\"M431.6205 289.8718 L431.6205 289.8718\"/><path style=\"fill:none;\" d=\"M443.6828 289.8718 L443.6828 189\"/><path style=\"fill:none;\" d=\"M443.6828 289.8718 L443.6828 289.8718\"/><path style=\"fill:none;\" d=\"M452.2411 289.8718 L452.2411 189\"/><path style=\"fill:none;\" d=\"M452.2411 289.8718 L452.2411 289.8718\"/><path style=\"fill:none;\" d=\"M458.8795 289.8718 L458.8795 189\"/><path style=\"fill:none;\" d=\"M458.8795 289.8718 L458.8795 289.8718\"/><path style=\"fill:none;\" d=\"M464.3034 289.8718 L464.3034 189\"/><path style=\"fill:none;\" d=\"M464.3034 289.8718 L464.3034 289.8718\"/><path style=\"fill:none;\" d=\"M468.8892 289.8718 L468.8892 189\"/><path style=\"fill:none;\" d=\"M468.8892 289.8718 L468.8892 289.8718\"/><path style=\"fill:none;\" d=\"M472.8617 289.8718 L472.8617 189\"/><path style=\"fill:none;\" d=\"M472.8617 289.8718 L472.8617 289.8718\"/><path style=\"fill:none;\" d=\"M476.3656 289.8718 L476.3656 189\"/><path style=\"fill:none;\" d=\"M476.3656 289.8718 L476.3656 289.8718\"/><path style=\"fill:none;\" d=\"M479.5 289.8718 L479.5 189\"/><path style=\"fill:none;\" d=\"M479.5 289.8718 L479.5 289.8718\"/><path style=\"fill:none;\" d=\"M68.5 289.8718 L479.5 289.8718\"/><path style=\"fill:none;\" d=\"M68.5 289.8718 L68.5 289.8718\"/><path style=\"fill:none;\" d=\"M68.5 256.2479 L479.5 256.2479\"/><path style=\"fill:none;\" d=\"M68.5 256.2479 L68.5 256.2479\"/><path style=\"fill:none;\" d=\"M68.5 222.6239 L479.5 222.6239\"/><path style=\"fill:none;\" d=\"M68.5 222.6239 L68.5 222.6239\"/><path style=\"fill:none;\" d=\"M68.5 189 L479.5 189\"/><path style=\"fill:none;\" d=\"M68.5 189 L68.5 189\"/></g><g transform=\"translate(57,298.8718)\" style=\"font-size:10px; stroke-linecap:butt; text-rendering:geometricPrecision; font-family:sans-serif; stroke-linejoin:bevel; stroke-width:0;\"><text x=\"-1.0938\" xml:space=\"preserve\" y=\"15.2822\" style=\"stroke:none;\">10</text><text x=\"12.5781\" xml:space=\"preserve\" y=\"8.1655\" style=\"font-size:8.8px; stroke:none;\">-3</text></g><g transform=\"translate(125.5,298.8718)\" style=\"font-size:10px; stroke-linecap:butt; text-rendering:geometricPrecision; font-family:sans-serif; stroke-linejoin:bevel; stroke-width:0;\"><text x=\"-1.0938\" xml:space=\"preserve\" y=\"15.2822\" style=\"stroke:none;\">10</text><text x=\"12.5781\" xml:space=\"preserve\" y=\"8.1655\" style=\"font-size:8.8px; stroke:none;\">-2</text></g><g transform=\"translate(194,298.8718)\" style=\"font-size:10px; stroke-linecap:butt; text-rendering:geometricPrecision; font-family:sans-serif; stroke-linejoin:bevel; stroke-width:0;\"><text x=\"-1.0938\" xml:space=\"preserve\" y=\"15.2822\" style=\"stroke:none;\">10</text><text x=\"12.5781\" xml:space=\"preserve\" y=\"8.1655\" style=\"font-size:8.8px; stroke:none;\">-1</text></g><g transform=\"translate(264,298.8718)\" style=\"font-size:10px; stroke-linecap:butt; text-rendering:geometricPrecision; font-family:sans-serif; stroke-linejoin:bevel; stroke-width:0;\"><text x=\"-1.0938\" xml:space=\"preserve\" y=\"15.2822\" style=\"stroke:none;\">10</text><text x=\"12.4219\" xml:space=\"preserve\" y=\"8.1655\" style=\"font-size:8.8px; stroke:none;\">0</text></g><g transform=\"translate(333,298.8718)\" style=\"font-size:10px; stroke-linecap:butt; text-rendering:geometricPrecision; font-family:sans-serif; stroke-linejoin:bevel; stroke-width:0;\"><text x=\"-1.0938\" xml:space=\"preserve\" y=\"15.2822\" style=\"stroke:none;\">10</text><text x=\"12.0312\" xml:space=\"preserve\" y=\"8.1655\" style=\"font-size:8.8px; stroke:none;\">1</text></g><g transform=\"translate(401,298.8718)\" style=\"font-size:10px; stroke-linecap:butt; text-rendering:geometricPrecision; font-family:sans-serif; stroke-linejoin:bevel; stroke-width:0;\"><text x=\"-1.0938\" xml:space=\"preserve\" y=\"15.2822\" style=\"stroke:none;\">10</text><text x=\"12.3594\" xml:space=\"preserve\" y=\"8.1655\" style=\"font-size:8.8px; stroke:none;\">2</text></g><g transform=\"translate(469.5,298.8718)\" style=\"font-size:10px; stroke-linecap:butt; text-rendering:geometricPrecision; font-family:sans-serif; stroke-linejoin:bevel; stroke-width:0;\"><text x=\"-1.0938\" xml:space=\"preserve\" y=\"15.2822\" style=\"stroke:none;\">10</text><text x=\"12.3281\" xml:space=\"preserve\" y=\"8.1655\" style=\"font-size:8.8px; stroke:none;\">3</text></g><g style=\"text-rendering:geometricPrecision; font-size:8.8px; shape-rendering:crispEdges; font-family:sans-serif; stroke-linecap:butt;\"><path style=\"fill:none;\" d=\"M68.5 289.8718 L68.5 295.8718\"/><path style=\"fill:none;\" d=\"M137 289.8718 L137 295.8718\"/><path style=\"fill:none;\" d=\"M205.5 289.8718 L205.5 295.8718\"/><path style=\"fill:none;\" d=\"M274 289.8718 L274 295.8718\"/><path style=\"fill:none;\" d=\"M342.5 289.8718 L342.5 295.8718\"/><path style=\"fill:none;\" d=\"M411 289.8718 L411 295.8718\"/><path style=\"fill:none;\" d=\"M479.5 289.8718 L479.5 295.8718\"/><path style=\"fill:none;\" d=\"M68.5 289.8718 L68.5 292.8718\"/><path style=\"fill:none;\" d=\"M89.1206 289.8718 L89.1206 292.8718\"/><path style=\"fill:none;\" d=\"M101.1828 289.8718 L101.1828 292.8718\"/><path style=\"fill:none;\" d=\"M109.7411 289.8718 L109.7411 292.8718\"/><path style=\"fill:none;\" d=\"M116.3794 289.8718 L116.3794 292.8718\"/><path style=\"fill:none;\" d=\"M121.8034 289.8718 L121.8034 292.8718\"/><path style=\"fill:none;\" d=\"M126.3892 289.8718 L126.3892 292.8718\"/><path style=\"fill:none;\" d=\"M130.3617 289.8718 L130.3617 292.8718\"/><path style=\"fill:none;\" d=\"M133.8656 289.8718 L133.8656 292.8718\"/><path style=\"fill:none;\" d=\"M137 289.8718 L137 292.8718\"/><path style=\"fill:none;\" d=\"M157.6206 289.8718 L157.6206 292.8718\"/><path style=\"fill:none;\" d=\"M169.6828 289.8718 L169.6828 292.8718\"/><path style=\"fill:none;\" d=\"M178.2411 289.8718 L178.2411 292.8718\"/><path style=\"fill:none;\" d=\"M184.8794 289.8718 L184.8794 292.8718\"/><path style=\"fill:none;\" d=\"M190.3034 289.8718 L190.3034 292.8718\"/><path style=\"fill:none;\" d=\"M194.8892 289.8718 L194.8892 292.8718\"/><path style=\"fill:none;\" d=\"M198.8617 289.8718 L198.8617 292.8718\"/><path style=\"fill:none;\" d=\"M202.3656 289.8718 L202.3656 292.8718\"/><path style=\"fill:none;\" d=\"M205.5 289.8718 L205.5 292.8718\"/><path style=\"fill:none;\" d=\"M226.1206 289.8718 L226.1206 292.8718\"/><path style=\"fill:none;\" d=\"M238.1828 289.8718 L238.1828 292.8718\"/><path style=\"fill:none;\" d=\"M246.7411 289.8718 L246.7411 292.8718\"/><path style=\"fill:none;\" d=\"M253.3794 289.8718 L253.3794 292.8718\"/><path style=\"fill:none;\" d=\"M258.8034 289.8718 L258.8034 292.8718\"/><path style=\"fill:none;\" d=\"M263.3892 289.8718 L263.3892 292.8718\"/><path style=\"fill:none;\" d=\"M267.3617 289.8718 L267.3617 292.8718\"/><path style=\"fill:none;\" d=\"M270.8656 289.8718 L270.8656 292.8718\"/><path style=\"fill:none;\" d=\"M274 289.8718 L274 292.8718\"/><path style=\"fill:none;\" d=\"M294.6205 289.8718 L294.6205 292.8718\"/><path style=\"fill:none;\" d=\"M306.6828 289.8718 L306.6828 292.8718\"/><path style=\"fill:none;\" d=\"M315.2411 289.8718 L315.2411 292.8718\"/><path style=\"fill:none;\" d=\"M321.8795 289.8718 L321.8795 292.8718\"/><path style=\"fill:none;\" d=\"M327.3034 289.8718 L327.3034 292.8718\"/><path style=\"fill:none;\" d=\"M331.8892 289.8718 L331.8892 292.8718\"/><path style=\"fill:none;\" d=\"M335.8617 289.8718 L335.8617 292.8718\"/><path style=\"fill:none;\" d=\"M339.3656 289.8718 L339.3656 292.8718\"/><path style=\"fill:none;\" d=\"M342.5 289.8718 L342.5 292.8718\"/><path style=\"fill:none;\" d=\"M363.1205 289.8718 L363.1205 292.8718\"/><path style=\"fill:none;\" d=\"M375.1828 289.8718 L375.1828 292.8718\"/><path style=\"fill:none;\" d=\"M383.7411 289.8718 L383.7411 292.8718\"/><path style=\"fill:none;\" d=\"M390.3795 289.8718 L390.3795 292.8718\"/><path style=\"fill:none;\" d=\"M395.8034 289.8718 L395.8034 292.8718\"/><path style=\"fill:none;\" d=\"M400.3892 289.8718 L400.3892 292.8718\"/><path style=\"fill:none;\" d=\"M404.3617 289.8718 L404.3617 292.8718\"/><path style=\"fill:none;\" d=\"M407.8656 289.8718 L407.8656 292.8718\"/><path style=\"fill:none;\" d=\"M411 289.8718 L411 292.8718\"/><path style=\"fill:none;\" d=\"M431.6205 289.8718 L431.6205 292.8718\"/><path style=\"fill:none;\" d=\"M443.6828 289.8718 L443.6828 292.8718\"/><path style=\"fill:none;\" d=\"M452.2411 289.8718 L452.2411 292.8718\"/><path style=\"fill:none;\" d=\"M458.8795 289.8718 L458.8795 292.8718\"/><path style=\"fill:none;\" d=\"M464.3034 289.8718 L464.3034 292.8718\"/><path style=\"fill:none;\" d=\"M468.8892 289.8718 L468.8892 292.8718\"/><path style=\"fill:none;\" d=\"M472.8617 289.8718 L472.8617 292.8718\"/><path style=\"fill:none;\" d=\"M476.3656 289.8718 L476.3656 292.8718\"/><path style=\"fill:none;\" d=\"M479.5 289.8718 L479.5 292.8718\"/><path style=\"fill:none;\" d=\"M479.5 289.8718 L68.5 289.8718\"/></g><g transform=\"translate(51.5,216.1239)\" style=\"font-size:10px; stroke-linecap:butt; text-rendering:geometricPrecision; font-family:sans-serif; stroke-linejoin:bevel; stroke-width:0;\"><text x=\"-0.6562\" xml:space=\"preserve\" y=\"9.2822\" style=\"stroke:none;\">0</text></g><g transform=\"translate(35.5,283.3718)\" style=\"font-size:10px; stroke-linecap:butt; text-rendering:geometricPrecision; font-family:sans-serif; stroke-linejoin:bevel; stroke-width:0;\"><text x=\"-0.4844\" xml:space=\"preserve\" y=\"9.2822\" style=\"stroke:none;\">-200</text></g><g transform=\"translate(35.5,249.7479)\" style=\"font-size:10px; stroke-linecap:butt; text-rendering:geometricPrecision; font-family:sans-serif; stroke-linejoin:bevel; stroke-width:0;\"><text x=\"-0.4844\" xml:space=\"preserve\" y=\"9.2822\" style=\"stroke:none;\">-100</text></g><g transform=\"translate(40.5,182.5)\" style=\"font-size:10px; stroke-linecap:butt; text-rendering:geometricPrecision; font-family:sans-serif; stroke-linejoin:bevel; stroke-width:0;\"><text x=\"-1.0938\" xml:space=\"preserve\" y=\"9.2822\" style=\"stroke:none;\">100</text></g><g style=\"text-rendering:geometricPrecision; font-size:10px; shape-rendering:crispEdges; font-family:sans-serif; stroke-linecap:butt;\"><path style=\"fill:none;\" d=\"M68.5 289.8718 L62.5 289.8718\"/><path style=\"fill:none;\" d=\"M68.5 256.2479 L62.5 256.2479\"/><path style=\"fill:none;\" d=\"M68.5 222.6239 L62.5 222.6239\"/><path style=\"fill:none;\" d=\"M68.5 189 L62.5 189\"/><path style=\"fill:none;\" d=\"M68.5 289.8718 L65.5 289.8718\"/><path style=\"fill:none;\" d=\"M68.5 273.0598 L65.5 273.0598\"/><path style=\"fill:none;\" d=\"M68.5 256.2479 L65.5 256.2479\"/><path style=\"fill:none;\" d=\"M68.5 239.4359 L65.5 239.4359\"/><path style=\"fill:none;\" d=\"M68.5 222.6239 L65.5 222.6239\"/><path style=\"fill:none;\" d=\"M68.5 205.812 L65.5 205.812\"/><path style=\"fill:none;\" d=\"M68.5 189 L65.5 189\"/><path style=\"fill:none;\" d=\"M68.5 189 L68.5 289.8718\"/></g><g transform=\"translate(223,320.8718)\" style=\"text-rendering:geometricPrecision; stroke-width:0; font-family:sans-serif; stroke-linecap:butt; stroke-linejoin:bevel;\"><text x=\"0.8281\" xml:space=\"preserve\" y=\"13.1387\" style=\"stroke:none;\">Frequência (Hz)</text></g><g transform=\"translate(32.5,239.4359) rotate(270) translate(-38.5,-19)\" style=\"text-rendering:geometricPrecision; stroke-width:0; font-family:sans-serif; stroke-linecap:butt; stroke-linejoin:bevel;\"><text x=\"0.8281\" xml:space=\"preserve\" y=\"13.1387\" style=\"stroke:none;\">Fase (grau)</text></g></g></svg>",
      "text/plain": [
       "<IPython.core.display.SVG object>"
      ]
     },
     "metadata": {},
     "output_type": "display_data"
    }
   ],
   "source": [
    "bode(Gw)"
   ]
  },
  {
   "cell_type": "markdown",
   "metadata": {},
   "source": [
    "### Problema 8"
   ]
  },
  {
   "cell_type": "markdown",
   "metadata": {},
   "source": [
    "O controlador K(s) é substituı́do pelo controlador digital $K(z)$ com o segurador de ordem zero (ZOH), conforme a Fig. 02. Obter o modelo discreto para a planta e ZOH (visto pelo controlador) e, em seguida, calcular a função de transferência discreta de malha-fechada. Calcular a resposta ao degrau unitário e analisar a estabilidade do sistema resultante de malha-fechada. O perı́odo de amostragem é $T_s=0.01s$ e $K(z) = \\frac{0.473z - 0.4728}{z-1}$"
   ]
  },
  {
   "cell_type": "markdown",
   "metadata": {},
   "source": [
    "![figura2](figura2.png)"
   ]
  },
  {
   "cell_type": "code",
   "execution_count": 46,
   "metadata": {},
   "outputs": [
    {
     "name": "stdout",
     "output_type": "stream",
     "text": [
      "\u001b[4l\u001b[0m\n",
      "\u001b[0m\u001b[4l\u001b[0m Gdiscreto  = \n",
      "\n",
      "      0.000048 +0.000049z     \n",
      "   -------------------------  \n",
      "   0.9417475 -1.9414757z +z²  \n",
      "\n",
      "\u001b[0m\u001b[4l\u001b[0m\n",
      "\u001b[0m\u001b[4l\u001b[0m\u001b[0m\u001b[4l\u001b[0m\u001b[0m\u001b[4l\u001b[0m\n",
      "\u001b[0m"
     ]
    }
   ],
   "source": [
    "Ts=0.01;\n",
    "Gdiscreto=ss2tf(dscr(G, Ts))\n",
    "\n",
    "/*\n",
    "Note to MATLAB user: Obviously, the dscr command in Scilab is not quite convenient to use compared to c2d in MATLAB. First, it does not accept data directly in transfer function form. Second, c2d allows you to select discretization method such as ZOH, FOH, TUSTIN, etc. dscr, on the other hand, simply uses ZOH method. In case you want the TUSTIN method, there is another Scilab command cls2dls, which uses the same syntax as dscr. See Scilab help for more detail. \n",
    "*/"
   ]
  },
  {
   "cell_type": "markdown",
   "metadata": {},
   "source": [
    "Calcular o Kd:"
   ]
  },
  {
   "cell_type": "code",
   "execution_count": 47,
   "metadata": {},
   "outputs": [
    {
     "name": "stdout",
     "output_type": "stream",
     "text": [
      "\u001b[4l\u001b[0m\n",
      "\u001b[0m\u001b[4l\u001b[0m Kd  = \n",
      "\n",
      "   -0.4728 +0.473z  \n",
      "   ---------------  \n",
      "        -1 +z       \n",
      "\n",
      "\u001b[0m"
     ]
    }
   ],
   "source": [
    "z = poly(0,'z');\n",
    "Kd = syslin('d',(0.473*z -0.4728)/(z - 1))"
   ]
  },
  {
   "cell_type": "markdown",
   "metadata": {},
   "source": [
    "Agora fazemos a realimentação:"
   ]
  },
  {
   "cell_type": "code",
   "execution_count": 48,
   "metadata": {},
   "outputs": [
    {
     "name": "stdout",
     "output_type": "stream",
     "text": [
      "\u001b[4l\u001b[0m MFd  = \n",
      "\n",
      "     -0.0002271 -0.0000045z +0.0002318z²    \n",
      "   ---------------------------------------  \n",
      "   -0.9417475 +2.8832232z -2.9414757z² +z³  \n",
      "\n",
      "\u001b[0m"
     ]
    }
   ],
   "source": [
    "MFd = (Kd*Gdiscreto)/.1"
   ]
  },
  {
   "cell_type": "markdown",
   "metadata": {},
   "source": [
    "Obter resposta ao degrau:"
   ]
  },
  {
   "cell_type": "code",
   "execution_count": 49,
   "metadata": {},
   "outputs": [
    {
     "name": "stdout",
     "output_type": "stream",
     "text": [
      "\u001b[4l\u001b[0m\n",
      "\u001b[0m\u001b[4l\u001b[0m\n",
      "\u001b[0m\u001b[4l\u001b[0m\n",
      "\u001b[0m"
     ]
    },
    {
     "data": {
      "image/svg+xml": "<svg xmlns:xlink=\"http://www.w3.org/1999/xlink\" xmlns=\"http://www.w3.org/2000/svg\" style=\"fill-opacity:1; color-rendering:auto; color-interpolation:auto; text-rendering:auto; stroke:black; stroke-linecap:square; stroke-miterlimit:10; shape-rendering:auto; stroke-opacity:1; fill:black; stroke-dasharray:none; font-weight:normal; stroke-width:1; font-family:'Dialog'; font-style:normal; stroke-linejoin:miter; font-size:12px; stroke-dashoffset:0; image-rendering:auto;\" width=\"548\" height=\"336\"><!--Generated by Scilab with Batik SVG Generator--><defs id=\"genericDefs\"/><g><defs id=\"defs1\"><clipPath clipPathUnits=\"userSpaceOnUse\" id=\"clipPath1\"><path d=\"M68.4959 41.9975 L479.5041 41.9975 L479.5041 294.0025 L68.4959 294.0025 L68.4959 41.9975 Z\"/></clipPath><font horiz-adv-x=\"60.0\" id=\"font1\"><font-face ascent=\"92.822266\" descent=\"23.583984\" units-per-em=\"100\" style=\"font-style:normal; font-family:sans-serif; font-weight:normal;\"/><missing-glyph horiz-adv-x=\"60.0\" d=\"M4.9844 -17.6719 L4.9844 70.5156 L54.9844 70.5156 L54.9844 -17.6719 L4.9844 -17.6719 ZM10.5938 -12.1094 L49.4219 -12.1094 L49.4219 64.8906 L10.5938 64.8906 L10.5938 -12.1094 Z\"/><glyph unicode=\"0\" horiz-adv-x=\"64.0\" d=\"M31.7812 66.4062 Q24.1719 66.4062 20.3281 58.9062 Q16.5 51.4219 16.5 36.375 Q16.5 21.3906 20.3281 13.8906 Q24.1719 6.3906 31.7812 6.3906 Q39.4531 6.3906 43.2812 13.8906 Q47.125 21.3906 47.125 36.375 Q47.125 51.4219 43.2812 58.9062 Q39.4531 66.4062 31.7812 66.4062 ZM31.7812 74.2188 Q44.0469 74.2188 50.5156 64.5156 Q56.9844 54.8281 56.9844 36.375 Q56.9844 17.9688 50.5156 8.2656 Q44.0469 -1.4219 31.7812 -1.4219 Q19.5312 -1.4219 13.0625 8.2656 Q6.5938 17.9688 6.5938 36.375 Q6.5938 54.8281 13.0625 64.5156 Q19.5312 74.2188 31.7812 74.2188 Z\"/><glyph unicode=\"2\" horiz-adv-x=\"64.0\" d=\"M19.1875 8.2969 L53.6094 8.2969 L53.6094 0 L7.3281 0 L7.3281 8.2969 Q12.9375 14.1094 22.625 23.8906 Q32.3281 33.6875 34.8125 36.5312 Q39.5469 41.8438 41.4219 45.5312 Q43.3125 49.2188 43.3125 52.7812 Q43.3125 58.5938 39.2344 62.25 Q35.1562 65.9219 28.6094 65.9219 Q23.9688 65.9219 18.8125 64.3125 Q13.6719 62.7031 7.8125 59.4219 L7.8125 69.3906 Q13.7656 71.7812 18.9375 73 Q24.125 74.2188 28.4219 74.2188 Q39.75 74.2188 46.4844 68.5469 Q53.2188 62.8906 53.2188 53.4219 Q53.2188 48.9219 51.5312 44.8906 Q49.8594 40.875 45.4062 35.4062 Q44.1875 33.9844 37.6406 27.2188 Q31.1094 20.4531 19.1875 8.2969 Z\"/><glyph unicode=\"4\" horiz-adv-x=\"64.0\" d=\"M37.7969 64.3125 L12.8906 25.3906 L37.7969 25.3906 L37.7969 64.3125 ZM35.2031 72.9062 L47.6094 72.9062 L47.6094 25.3906 L58.0156 25.3906 L58.0156 17.1875 L47.6094 17.1875 L47.6094 0 L37.7969 0 L37.7969 17.1875 L4.8906 17.1875 L4.8906 26.7031 L35.2031 72.9062 Z\"/><glyph unicode=\"6\" horiz-adv-x=\"64.0\" d=\"M33.0156 40.375 Q26.375 40.375 22.4844 35.8281 Q18.6094 31.2969 18.6094 23.3906 Q18.6094 15.5312 22.4844 10.9531 Q26.375 6.3906 33.0156 6.3906 Q39.6562 6.3906 43.5312 10.9531 Q47.4062 15.5312 47.4062 23.3906 Q47.4062 31.2969 43.5312 35.8281 Q39.6562 40.375 33.0156 40.375 ZM52.5938 71.2969 L52.5938 62.3125 Q48.875 64.0625 45.0938 64.9844 Q41.3125 65.9219 37.5938 65.9219 Q27.8281 65.9219 22.6719 59.3281 Q17.5312 52.7344 16.7969 39.4062 Q19.6719 43.6562 24.0156 45.9219 Q28.375 48.1875 33.5938 48.1875 Q44.5781 48.1875 50.9531 41.5156 Q57.3281 34.8594 57.3281 23.3906 Q57.3281 12.1562 50.6875 5.3594 Q44.0469 -1.4219 33.0156 -1.4219 Q20.3594 -1.4219 13.6719 8.2656 Q6.9844 17.9688 6.9844 36.375 Q6.9844 53.6562 15.1875 63.9375 Q23.3906 74.2188 37.2031 74.2188 Q40.9219 74.2188 44.7031 73.4844 Q48.4844 72.75 52.5938 71.2969 Z\"/><glyph unicode=\"8\" horiz-adv-x=\"64.0\" d=\"M31.7812 34.625 Q24.75 34.625 20.7188 30.8594 Q16.7031 27.0938 16.7031 20.5156 Q16.7031 13.9219 20.7188 10.1562 Q24.75 6.3906 31.7812 6.3906 Q38.8125 6.3906 42.8594 10.1719 Q46.9219 13.9688 46.9219 20.5156 Q46.9219 27.0938 42.8906 30.8594 Q38.875 34.625 31.7812 34.625 ZM21.9219 38.8125 Q15.5781 40.375 12.0312 44.7188 Q8.5 49.0781 8.5 55.3281 Q8.5 64.0625 14.7188 69.1406 Q20.9531 74.2188 31.7812 74.2188 Q42.6719 74.2188 48.875 69.1406 Q55.0781 64.0625 55.0781 55.3281 Q55.0781 49.0781 51.5312 44.7188 Q48 40.375 41.7031 38.8125 Q48.8281 37.1562 52.7969 32.3125 Q56.7812 27.4844 56.7812 20.5156 Q56.7812 9.9062 50.3125 4.2344 Q43.8438 -1.4219 31.7812 -1.4219 Q19.7344 -1.4219 13.25 4.2344 Q6.7812 9.9062 6.7812 20.5156 Q6.7812 27.4844 10.7812 32.3125 Q14.7969 37.1562 21.9219 38.8125 ZM18.3125 54.3906 Q18.3125 48.7344 21.8438 45.5625 Q25.3906 42.3906 31.7812 42.3906 Q38.1406 42.3906 41.7188 45.5625 Q45.3125 48.7344 45.3125 54.3906 Q45.3125 60.0625 41.7188 63.2344 Q38.1406 66.4062 31.7812 66.4062 Q25.3906 66.4062 21.8438 63.2344 Q18.3125 60.0625 18.3125 54.3906 Z\"/><glyph unicode=\"1\" horiz-adv-x=\"64.0\" d=\"M12.4062 8.2969 L28.5156 8.2969 L28.5156 63.9219 L10.9844 60.4062 L10.9844 69.3906 L28.4219 72.9062 L38.2812 72.9062 L38.2812 8.2969 L54.3906 8.2969 L54.3906 0 L12.4062 0 L12.4062 8.2969 Z\"/><glyph unicode=\"3\" horiz-adv-x=\"64.0\" d=\"M40.5781 39.3125 Q47.6562 37.7969 51.625 33 Q55.6094 28.2188 55.6094 21.1875 Q55.6094 10.4062 48.1875 4.4844 Q40.7656 -1.4219 27.0938 -1.4219 Q22.5156 -1.4219 17.6562 -0.5156 Q12.7969 0.3906 7.625 2.2031 L7.625 11.7188 Q11.7188 9.3281 16.5938 8.1094 Q21.4844 6.8906 26.8125 6.8906 Q36.0781 6.8906 40.9375 10.5469 Q45.7969 14.2031 45.7969 21.1875 Q45.7969 27.6406 41.2812 31.2656 Q36.7656 34.9062 28.7188 34.9062 L20.2188 34.9062 L20.2188 43.0156 L29.1094 43.0156 Q36.375 43.0156 40.2344 45.9219 Q44.0938 48.8281 44.0938 54.2969 Q44.0938 59.9062 40.1094 62.9062 Q36.1406 65.9219 28.7188 65.9219 Q24.6562 65.9219 20.0156 65.0312 Q15.375 64.1562 9.8125 62.3125 L9.8125 71.0938 Q15.4375 72.6562 20.3438 73.4375 Q25.25 74.2188 29.5938 74.2188 Q40.8281 74.2188 47.3594 69.1094 Q53.9062 64.0156 53.9062 55.3281 Q53.9062 49.2656 50.4375 45.0938 Q46.9688 40.9219 40.5781 39.3125 Z\"/><glyph unicode=\"5\" horiz-adv-x=\"64.0\" d=\"M10.7969 72.9062 L49.5156 72.9062 L49.5156 64.5938 L19.8281 64.5938 L19.8281 46.7344 Q21.9688 47.4688 24.1094 47.8281 Q26.2656 48.1875 28.4219 48.1875 Q40.625 48.1875 47.75 41.5 Q54.8906 34.8125 54.8906 23.3906 Q54.8906 11.625 47.5625 5.0938 Q40.2344 -1.4219 26.9062 -1.4219 Q22.3125 -1.4219 17.5469 -0.6406 Q12.7969 0.1406 7.7188 1.7031 L7.7188 11.625 Q12.1094 9.2344 16.7969 8.0625 Q21.4844 6.8906 26.7031 6.8906 Q35.1562 6.8906 40.0781 11.3281 Q45.0156 15.7656 45.0156 23.3906 Q45.0156 31 40.0781 35.4375 Q35.1562 39.8906 26.7031 39.8906 Q22.75 39.8906 18.8125 39.0156 Q14.8906 38.1406 10.7969 36.2812 L10.7969 72.9062 Z\"/><glyph unicode=\"7\" horiz-adv-x=\"64.0\" d=\"M8.2031 72.9062 L55.0781 72.9062 L55.0781 68.7031 L28.6094 0 L18.3125 0 L43.2188 64.5938 L8.2031 64.5938 L8.2031 72.9062 Z\"/><glyph unicode=\".\" horiz-adv-x=\"32.0\" d=\"M10.6875 12.4062 L21 12.4062 L21 0 L10.6875 0 L10.6875 12.4062 Z\"/></font></defs><g style=\"fill:white; text-rendering:optimizeLegibility; stroke:white;\"><rect x=\"0\" width=\"548\" height=\"336\" y=\"0\" style=\"stroke:none;\"/></g><g style=\"stroke-linecap:butt; fill:white; text-rendering:geometricPrecision; stroke-linejoin:bevel; shape-rendering:crispEdges; stroke:white; stroke-width:0;\"><path style=\"stroke:none;\" d=\"M479.5 42 L479.5 294 L68.5 42 Z\"/><path style=\"stroke:none;\" d=\"M479.5 294 L68.5 294 L68.5 42 Z\"/><path style=\"stroke:none;\" d=\"M479.5 42 L479.5 294 L479.5 294 Z\"/><path style=\"stroke:none;\" d=\"M68.5 42 L68.5 294 L68.5 294 Z\"/><path style=\"stroke:none;\" d=\"M479.5 42 L479.5 294 L68.5 42 Z\"/><path style=\"stroke:none;\" d=\"M479.5 294 L68.5 294 L68.5 42 Z\"/><path style=\"stroke:none;\" d=\"M479.5 42 L479.5 42 L479.5 294 Z\"/><path style=\"stroke:none;\" d=\"M68.5 42 L68.5 42 L68.5 294 Z\"/><path style=\"stroke:none;\" d=\"M479.5 42 L68.5 42 L479.5 42 Z\"/><path style=\"stroke:none;\" d=\"M68.5 42 L68.5 42 L479.5 42 Z\"/><path style=\"stroke:none;\" d=\"M479.5 294 L68.5 294 L479.5 294 Z\"/><path style=\"stroke:none;\" d=\"M68.5 294 L68.5 294 L479.5 294 Z\"/></g><g transform=\"translate(64.5,303)\" style=\"font-size:10px; stroke-linecap:butt; text-rendering:geometricPrecision; font-family:sans-serif; stroke-linejoin:bevel; stroke-width:0;\"><text x=\"-0.6562\" xml:space=\"preserve\" y=\"9.2822\" style=\"stroke:none;\">0</text></g><g transform=\"translate(161.75,303)\" style=\"font-size:10px; stroke-linecap:butt; text-rendering:geometricPrecision; font-family:sans-serif; stroke-linejoin:bevel; stroke-width:0;\"><text x=\"-0.7344\" xml:space=\"preserve\" y=\"9.2822\" style=\"stroke:none;\">200</text></g><g transform=\"translate(264,303)\" style=\"font-size:10px; stroke-linecap:butt; text-rendering:geometricPrecision; font-family:sans-serif; stroke-linejoin:bevel; stroke-width:0;\"><text x=\"-0.4844\" xml:space=\"preserve\" y=\"9.2822\" style=\"stroke:none;\">400</text></g><g transform=\"translate(367.25,303)\" style=\"font-size:10px; stroke-linecap:butt; text-rendering:geometricPrecision; font-family:sans-serif; stroke-linejoin:bevel; stroke-width:0;\"><text x=\"-0.7031\" xml:space=\"preserve\" y=\"9.2822\" style=\"stroke:none;\">600</text></g><g transform=\"translate(469.5,303)\" style=\"font-size:10px; stroke-linecap:butt; text-rendering:geometricPrecision; font-family:sans-serif; stroke-linejoin:bevel; stroke-width:0;\"><text x=\"-0.6719\" xml:space=\"preserve\" y=\"9.2822\" style=\"stroke:none;\">800</text></g><g transform=\"translate(110.375,303)\" style=\"font-size:10px; stroke-linecap:butt; text-rendering:geometricPrecision; font-family:sans-serif; stroke-linejoin:bevel; stroke-width:0;\"><text x=\"-1.0938\" xml:space=\"preserve\" y=\"9.2822\" style=\"stroke:none;\">100</text></g><g transform=\"translate(213.125,303)\" style=\"font-size:10px; stroke-linecap:butt; text-rendering:geometricPrecision; font-family:sans-serif; stroke-linejoin:bevel; stroke-width:0;\"><text x=\"-0.7656\" xml:space=\"preserve\" y=\"9.2822\" style=\"stroke:none;\">300</text></g><g transform=\"translate(315.875,303)\" style=\"font-size:10px; stroke-linecap:butt; text-rendering:geometricPrecision; font-family:sans-serif; stroke-linejoin:bevel; stroke-width:0;\"><text x=\"-0.7656\" xml:space=\"preserve\" y=\"9.2822\" style=\"stroke:none;\">500</text></g><g transform=\"translate(418.625,303)\" style=\"font-size:10px; stroke-linecap:butt; text-rendering:geometricPrecision; font-family:sans-serif; stroke-linejoin:bevel; stroke-width:0;\"><text x=\"-0.8281\" xml:space=\"preserve\" y=\"9.2822\" style=\"stroke:none;\">700</text></g><g style=\"text-rendering:geometricPrecision; font-size:10px; shape-rendering:crispEdges; font-family:sans-serif; stroke-linecap:butt;\"><path style=\"fill:none;\" d=\"M68.5 294 L68.5 300\"/><path style=\"fill:none;\" d=\"M119.875 294 L119.875 300\"/><path style=\"fill:none;\" d=\"M171.25 294 L171.25 300\"/><path style=\"fill:none;\" d=\"M222.625 294 L222.625 300\"/><path style=\"fill:none;\" d=\"M274 294 L274 300\"/><path style=\"fill:none;\" d=\"M325.375 294 L325.375 300\"/><path style=\"fill:none;\" d=\"M376.75 294 L376.75 300\"/><path style=\"fill:none;\" d=\"M428.125 294 L428.125 300\"/><path style=\"fill:none;\" d=\"M479.5 294 L479.5 300\"/><path style=\"fill:none;\" d=\"M68.5 294 L68.5 297\"/><path style=\"fill:none;\" d=\"M94.1875 294 L94.1875 297\"/><path style=\"fill:none;\" d=\"M119.875 294 L119.875 297\"/><path style=\"fill:none;\" d=\"M145.5625 294 L145.5625 297\"/><path style=\"fill:none;\" d=\"M171.25 294 L171.25 297\"/><path style=\"fill:none;\" d=\"M196.9375 294 L196.9375 297\"/><path style=\"fill:none;\" d=\"M222.625 294 L222.625 297\"/><path style=\"fill:none;\" d=\"M248.3125 294 L248.3125 297\"/><path style=\"fill:none;\" d=\"M274 294 L274 297\"/><path style=\"fill:none;\" d=\"M299.6875 294 L299.6875 297\"/><path style=\"fill:none;\" d=\"M325.375 294 L325.375 297\"/><path style=\"fill:none;\" d=\"M351.0625 294 L351.0625 297\"/><path style=\"fill:none;\" d=\"M376.75 294 L376.75 297\"/><path style=\"fill:none;\" d=\"M402.4375 294 L402.4375 297\"/><path style=\"fill:none;\" d=\"M428.125 294 L428.125 297\"/><path style=\"fill:none;\" d=\"M453.8125 294 L453.8125 297\"/><path style=\"fill:none;\" d=\"M479.5 294 L479.5 297\"/><path style=\"fill:none;\" d=\"M479.5 294 L68.5 294\"/><text x=\"-0.6562\" y=\"9.2822\" transform=\"translate(51.5,287.5)\" style=\"stroke-linejoin:bevel; shape-rendering:auto; stroke:none; stroke-width:0;\" xml:space=\"preserve\">0</text></g><g transform=\"translate(52.5,58.4091)\" style=\"font-size:10px; stroke-linecap:butt; text-rendering:geometricPrecision; font-family:sans-serif; stroke-linejoin:bevel; stroke-width:0;\"><text x=\"-0.7344\" xml:space=\"preserve\" y=\"9.2822\" style=\"stroke:none;\">2</text></g><g transform=\"translate(52.5,172.9545)\" style=\"font-size:10px; stroke-linecap:butt; text-rendering:geometricPrecision; font-family:sans-serif; stroke-linejoin:bevel; stroke-width:0;\"><text x=\"-1.0938\" xml:space=\"preserve\" y=\"9.2822\" style=\"stroke:none;\">1</text></g><g transform=\"translate(43.5,230.2273)\" style=\"font-size:10px; stroke-linecap:butt; text-rendering:geometricPrecision; font-family:sans-serif; stroke-linejoin:bevel; stroke-width:0;\"><text x=\"-0.6562\" xml:space=\"preserve\" y=\"9.2822\" style=\"stroke:none;\">0.5</text></g><g transform=\"translate(43.5,115.6818)\" style=\"font-size:10px; stroke-linecap:butt; text-rendering:geometricPrecision; font-family:sans-serif; stroke-linejoin:bevel; stroke-width:0;\"><text x=\"-1.0938\" xml:space=\"preserve\" y=\"9.2822\" style=\"stroke:none;\">1.5</text></g><g style=\"text-rendering:geometricPrecision; font-size:10px; shape-rendering:crispEdges; font-family:sans-serif; stroke-linecap:butt;\"><path style=\"fill:none;\" d=\"M68.5 294 L62.5 294\"/><path style=\"fill:none;\" d=\"M68.5 236.7273 L62.5 236.7273\"/><path style=\"fill:none;\" d=\"M68.5 179.4545 L62.5 179.4545\"/><path style=\"fill:none;\" d=\"M68.5 122.1818 L62.5 122.1818\"/><path style=\"fill:none;\" d=\"M68.5 64.9091 L62.5 64.9091\"/><path style=\"fill:none;\" d=\"M68.5 294 L65.5 294\"/><path style=\"fill:none;\" d=\"M68.5 282.5455 L65.5 282.5455\"/><path style=\"fill:none;\" d=\"M68.5 271.0909 L65.5 271.0909\"/><path style=\"fill:none;\" d=\"M68.5 259.6364 L65.5 259.6364\"/><path style=\"fill:none;\" d=\"M68.5 248.1818 L65.5 248.1818\"/><path style=\"fill:none;\" d=\"M68.5 236.7273 L65.5 236.7273\"/><path style=\"fill:none;\" d=\"M68.5 225.2727 L65.5 225.2727\"/><path style=\"fill:none;\" d=\"M68.5 213.8182 L65.5 213.8182\"/><path style=\"fill:none;\" d=\"M68.5 202.3636 L65.5 202.3636\"/><path style=\"fill:none;\" d=\"M68.5 190.9091 L65.5 190.9091\"/><path style=\"fill:none;\" d=\"M68.5 179.4545 L65.5 179.4545\"/><path style=\"fill:none;\" d=\"M68.5 168 L65.5 168\"/><path style=\"fill:none;\" d=\"M68.5 156.5455 L65.5 156.5455\"/><path style=\"fill:none;\" d=\"M68.5 145.0909 L65.5 145.0909\"/><path style=\"fill:none;\" d=\"M68.5 133.6364 L65.5 133.6364\"/><path style=\"fill:none;\" d=\"M68.5 122.1818 L65.5 122.1818\"/><path style=\"fill:none;\" d=\"M68.5 110.7273 L65.5 110.7273\"/><path style=\"fill:none;\" d=\"M68.5 99.2727 L65.5 99.2727\"/><path style=\"fill:none;\" d=\"M68.5 87.8182 L65.5 87.8182\"/><path style=\"fill:none;\" d=\"M68.5 76.3636 L65.5 76.3636\"/><path style=\"fill:none;\" d=\"M68.5 64.9091 L65.5 64.9091\"/><path style=\"fill:none;\" d=\"M68.5 53.4546 L65.5 53.4546\"/><path style=\"fill:none;\" d=\"M68.5 42 L65.5 42\"/><path style=\"fill:none;\" d=\"M68.5 42 L68.5 294\"/><path d=\"M69.0137 294 L69.5275 293.9734 L70.0413 293.8958 L70.555 293.7702 L71.0687 293.5992 L71.5825 293.3857 L72.0962 293.1321 L72.61 292.8408 L73.1237 292.5141 L73.6375 292.154 L74.1512 291.7626 L74.665 291.3419 L75.1788 290.8936 L75.6925 290.4193 L76.2063 289.9208 L76.72 289.3996 L77.2338 288.8571 L77.7475 288.2946 L78.2613 287.7136 L78.775 287.1151 L79.2887 286.5003 L79.8025 285.8704 L80.3163 285.2263 L80.83 284.5691 L81.3438 283.8996 L81.8575 283.2188 L82.3712 282.5274 L82.885 281.8263 L83.3988 281.1161 L83.9125 280.3976 L84.4262 279.6714 L84.94 278.9383 L85.4537 278.1986 L85.9675 277.453 L86.4812 276.7021 L86.995 275.9462 L87.5087 275.186 L88.0225 274.4218 L88.5363 273.654 L89.05 272.883 L89.5638 272.1093 L90.0775 271.3331 L90.5913 270.5548 L91.105 269.7747 L91.6188 268.9931 L92.1325 268.2103 L92.6462 267.4265 L93.16 266.642 L93.6738 265.857 L94.1875 265.0717 L94.7012 264.2864 L95.215 263.5012 L95.7288 262.7164 L96.2425 261.932 L96.7562 261.1483 L97.27 260.3654 L97.7837 259.5834 L98.2975 258.8025 L98.8112 258.0228 L99.325 257.2445 L99.8387 256.4676 L100.3525 255.6922 L100.8663 254.9185 L101.38 254.1466 L101.8938 253.3764 L102.4075 252.6082 L102.9213 251.8419 L103.435 251.0777 L103.9488 250.3156 L104.4625 249.5557 L104.9762 248.7981 L105.49 248.0427 L106.0038 247.2896 L106.5175 246.539 L107.0312 245.7907 L107.545 245.045 L108.0587 244.3017 L108.5725 243.561 L109.0863 242.8228 L109.6 242.0873 L110.1137 241.3543 L110.6275 240.6241 L111.1412 239.8964 L111.655 239.1715 L112.1687 238.4493 L112.6825 237.7298 L113.1962 237.0131 L113.71 236.2991 L114.2238 235.5878 L114.7375 234.8794 L115.2513 234.1737 L115.765 233.4708 L116.2788 232.7707 L116.7925 232.0734 L117.3063 231.3789 L117.82 230.6872 L118.3337 229.9984 L118.8475 229.3123 L119.3613 228.6291 L119.875 227.9487 L120.3887 227.271 L120.9025 226.5962 L121.4163 225.9242 L121.93 225.255 L122.4437 224.5886 L122.9575 223.925 L123.4712 223.2642 L123.985 222.6061 L124.4987 221.9509 L125.0125 221.2984 L125.5262 220.6487 L126.04 220.0018 L126.5538 219.3576 L127.0675 218.7161 L127.5813 218.0774 L128.095 217.4414 L128.6087 216.8081 L129.1225 216.1776 L129.6362 215.5497 L130.15 214.9246 L130.6638 214.3021 L131.1775 213.6823 L131.6913 213.0652 L132.205 212.4507 L132.7188 211.8389 L133.2325 211.2297 L133.7462 210.6232 L134.26 210.0192 L134.7737 209.4179 L135.2875 208.8191 L135.8013 208.223 L136.315 207.6294 L136.8288 207.0383 L137.3425 206.4499 L137.8562 205.8639 L138.37 205.2805 L138.8837 204.6996 L139.3975 204.1212 L139.9113 203.5454 L140.425 202.972 L140.9388 202.401 L141.4525 201.8326 L141.9662 201.2666 L142.48 200.703 L142.9938 200.1418 L143.5075 199.5831 L144.0213 199.0268 L144.535 198.4729 L145.0488 197.9213 L145.5625 197.3722 L146.0762 196.8253 L146.59 196.2809 L147.1037 195.7388 L147.6175 195.199 L148.1312 194.6615 L148.645 194.1264 L149.1588 193.5935 L149.6725 193.0629 L150.1862 192.5346 L150.7 192.0085 L151.2137 191.4847 L151.7275 190.9632 L152.2413 190.4438 L152.755 189.9267 L153.2688 189.4118 L153.7825 188.8991 L154.2962 188.3885 L154.81 187.8802 L155.3237 187.374 L155.8375 186.87 L156.3513 186.3681 L156.865 185.8683 L157.3788 185.3707 L157.8925 184.8751 L158.4062 184.3817 L158.92 183.8903 L159.4337 183.4011 L159.9475 182.9139 L160.4612 182.4287 L160.975 181.9456 L161.4888 181.4646 L162.0025 180.9855 L162.5163 180.5085 L163.03 180.0335 L163.5437 179.5605 L164.0575 179.0895 L164.5712 178.6205 L165.085 178.1534 L165.5988 177.6883 L166.1125 177.2251 L166.6263 176.7639 L167.14 176.3046 L167.6537 175.8472 L168.1675 175.3917 L168.6813 174.9381 L169.195 174.4865 L169.7088 174.0366 L170.2225 173.5887 L170.7363 173.1426 L171.25 172.6984 L171.7637 172.256 L172.2775 171.8154 L172.7912 171.3767 L173.305 170.9398 L173.8187 170.5047 L174.3325 170.0714 L174.8463 169.6398 L175.36 169.2101 L175.8737 168.7821 L176.3875 168.3559 L176.9012 167.9314 L177.415 167.5087 L177.9288 167.0877 L178.4425 166.6684 L178.9563 166.2509 L179.47 165.835 L179.9837 165.4209 L180.4975 165.0084 L181.0112 164.5976 L181.525 164.1885 L182.0388 163.7811 L182.5525 163.3753 L183.0663 162.9711 L183.58 162.5686 L184.0938 162.1678 L184.6075 161.7685 L185.1212 161.3709 L185.635 160.9748 L186.1487 160.5804 L186.6625 160.1876 L187.1763 159.7963 L187.69 159.4066 L188.2038 159.0185 L188.7175 158.6319 L189.2312 158.2469 L189.745 157.8634 L190.2587 157.4815 L190.7725 157.1011 L191.2863 156.7222 L191.8 156.3448 L192.3138 155.9689 L192.8275 155.5945 L193.3412 155.2216 L193.855 154.8502 L194.3688 154.4803 L194.8825 154.1118 L195.3963 153.7448 L195.91 153.3792 L196.4238 153.015 L196.9375 152.6524 L197.4512 152.2911 L197.965 151.9312 L198.4787 151.5728 L198.9925 151.2158 L199.5062 150.8602 L200.02 150.5059 L200.5338 150.1531 L201.0475 149.8016 L201.5612 149.4515 L202.075 149.1028 L202.5887 148.7554 L203.1025 148.4094 L203.6163 148.0647 L204.13 147.7213 L204.6438 147.3793 L205.1575 147.0386 L205.6712 146.6992 L206.185 146.3612 L206.6987 146.0244 L207.2125 145.6889 L207.7263 145.3548 L208.24 145.0219 L208.7538 144.6902 L209.2675 144.3599 L209.7812 144.0308 L210.295 143.703 L210.8087 143.3764 L211.3225 143.0511 L211.8362 142.727 L212.35 142.4041 L212.8638 142.0825 L213.3775 141.7621 L213.8913 141.4429 L214.405 141.1249 L214.9187 140.8081 L215.4325 140.4925 L215.9462 140.1781 L216.46 139.8648 L216.9738 139.5528 L217.4875 139.2419 L218.0013 138.9322 L218.515 138.6236 L219.0287 138.3162 L219.5425 138.0099 L220.0563 137.7048 L220.57 137.4009 L221.0838 137.098 L221.5975 136.7963 L222.1113 136.4957 L222.625 136.1962 L223.1387 135.8978 L223.6525 135.6005 L224.1662 135.3043 L224.68 135.0092 L225.1938 134.7152 L225.7075 134.4222 L226.2213 134.1304 L226.735 133.8396 L227.2487 133.5499 L227.7625 133.2612 L228.2762 132.9736 L228.79 132.687 L229.3038 132.4014 L229.8175 132.1169 L230.3313 131.8335 L230.845 131.551 L231.3587 131.2696 L231.8725 130.9892 L232.3862 130.7098 L232.9 130.4314 L233.4137 130.154 L233.9275 129.8776 L234.4413 129.6022 L234.955 129.3278 L235.4688 129.0543 L235.9825 128.7818 L236.4962 128.5103 L237.01 128.2398 L237.5238 127.9702 L238.0375 127.7016 L238.5513 127.4339 L239.065 127.1672 L239.5788 126.9014 L240.0925 126.6365 L240.6062 126.3726 L241.12 126.1096 L241.6337 125.8475 L242.1475 125.5864 L242.6613 125.3261 L243.175 125.0668 L243.6888 124.8084 L244.2025 124.5508 L244.7162 124.2942 L245.23 124.0384 L245.7437 123.7836 L246.2575 123.5296 L246.7713 123.2764 L247.285 123.0242 L247.7988 122.7728 L248.3125 122.5223 L248.8262 122.2726 L249.34 122.0238 L249.8537 121.7759 L250.3675 121.5288 L250.8813 121.2825 L251.395 121.0371 L251.9088 120.7925 L252.4225 120.5487 L252.9362 120.3057 L253.45 120.0636 L253.9637 119.8223 L254.4775 119.5818 L254.9913 119.3421 L255.505 119.1032 L256.0187 118.8651 L256.5325 118.6278 L257.0462 118.3913 L257.56 118.1556 L258.0738 117.9206 L258.5875 117.6865 L259.1013 117.4531 L259.615 117.2205 L260.1288 116.9886 L260.6425 116.7575 L261.1562 116.5272 L261.67 116.2976 L262.1837 116.0688 L262.6975 115.8407 L263.2112 115.6134 L263.725 115.3868 L264.2387 115.1609 L264.7525 114.9358 L265.2662 114.7114 L265.78 114.4877 L266.2938 114.2648 L266.8075 114.0426 L267.3213 113.8211 L267.835 113.6003 L268.3488 113.3801 L268.8625 113.1608 L269.3763 112.9421 L269.89 112.7241 L270.4037 112.5068 L270.9175 112.2901 L271.4312 112.0742 L271.945 111.8589 L272.4587 111.6444 L272.9725 111.4305 L273.4862 111.2173 L274 111.0047 L274.5138 110.7928 L275.0275 110.5816 L275.5413 110.371 L276.055 110.1611 L276.5688 109.9518 L277.0825 109.7432 L277.5963 109.5352 L278.11 109.3279 L278.6237 109.1212 L279.1375 108.9151 L279.6512 108.7097 L280.165 108.5049 L280.6787 108.3007 L281.1925 108.0972 L281.7062 107.8942 L282.22 107.6919 L282.7338 107.4902 L283.2475 107.2891 L283.7613 107.0887 L284.275 106.8888 L284.7888 106.6895 L285.3025 106.4908 L285.8163 106.2927 L286.33 106.0952 L286.8438 105.8983 L287.3575 105.702 L287.8712 105.5062 L288.385 105.3111 L288.8987 105.1165 L289.4125 104.9224 L289.9262 104.729 L290.44 104.5361 L290.9538 104.3438 L291.4675 104.1521 L291.9813 103.9609 L292.495 103.7702 L293.0088 103.5801 L293.5225 103.3906 L294.0363 103.2016 L294.55 103.0132 L295.0638 102.8253 L295.5775 102.6379 L296.0912 102.4511 L296.605 102.2648 L297.1187 102.0791 L297.6325 101.8938 L298.1462 101.7091 L298.66 101.525 L299.1737 101.3413 L299.6875 101.1582 L300.2013 100.9755 L300.715 100.7934 L301.2288 100.6118 L301.7425 100.4307 L302.2563 100.2501 L302.77 100.0701 L303.2838 99.8905 L303.7975 99.7114 L304.3112 99.5328 L304.825 99.3547 L305.3387 99.1771 L305.8525 98.9999 L306.3662 98.8233 L306.88 98.6471 L307.3937 98.4715 L307.9075 98.2962 L308.4213 98.1215 L308.935 97.9473 L309.4488 97.7735 L309.9625 97.6002 L310.4763 97.4273 L310.99 97.2549 L311.5038 97.083 L312.0175 96.9115 L312.5312 96.7405 L313.045 96.5699 L313.5587 96.3998 L314.0725 96.2302 L314.5862 96.061 L315.1 95.8922 L315.6137 95.7238 L316.1275 95.556 L316.6412 95.3885 L317.155 95.2215 L317.6688 95.0549 L318.1825 94.8888 L318.6963 94.723 L319.21 94.5577 L319.7238 94.3929 L320.2375 94.2284 L320.7513 94.0644 L321.265 93.9008 L321.7787 93.7376 L322.2925 93.5748 L322.8062 93.4124 L323.32 93.2505 L323.8337 93.0889 L324.3475 92.9278 L324.8612 92.767 L325.375 92.6067 L325.8888 92.4468 L326.4025 92.2872 L326.9163 92.1281 L327.43 91.9693 L327.9438 91.8109 L328.4575 91.653 L328.9713 91.4954 L329.485 91.3382 L329.9987 91.1814 L330.5125 91.0249 L331.0262 90.8689 L331.54 90.7132 L332.0537 90.5579 L332.5675 90.4029 L333.0812 90.2484 L333.595 90.0942 L334.1087 89.9404 L334.6225 89.7869 L335.1363 89.6338 L335.65 89.4811 L336.1638 89.3287 L336.6775 89.1767 L337.1913 89.025 L337.705 88.8737 L338.2188 88.7228 L338.7325 88.5722 L339.2462 88.422 L339.76 88.2721 L340.2737 88.1225 L340.7875 87.9733 L341.3012 87.8244 L341.815 87.6759 L342.3288 87.5277 L342.8425 87.3799 L343.3563 87.2324 L343.87 87.0852 L344.3838 86.9384 L344.8975 86.7918 L345.4113 86.6457 L345.925 86.4998 L346.4388 86.3543 L346.9525 86.2091 L347.4662 86.0642 L347.98 85.9196 L348.4937 85.7754 L349.0075 85.6314 L349.5212 85.4878 L350.035 85.3445 L350.5487 85.2016 L351.0625 85.0589 L351.5763 84.9165 L352.09 84.7745 L352.6038 84.6327 L353.1175 84.4913 L353.6313 84.3501 L354.145 84.2093 L354.6588 84.0687 L355.1725 83.9285 L355.6862 83.7886 L356.2 83.6489 L356.7137 83.5096 L357.2275 83.3705 L357.7412 83.2317 L358.255 83.0932 L358.7687 82.955 L359.2825 82.8171 L359.7962 82.6795 L360.31 82.5422 L360.8238 82.4051 L361.3375 82.2683 L361.8513 82.1319 L362.365 81.9956 L362.8788 81.8597 L363.3925 81.724 L363.9062 81.5886 L364.42 81.4535 L364.9337 81.3187 L365.4475 81.1841 L365.9612 81.0498 L366.475 80.9157 L366.9887 80.782 L367.5025 80.6485 L368.0163 80.5152 L368.53 80.3822 L369.0438 80.2495 L369.5575 80.117 L370.0713 79.9848 L370.585 79.8528 L371.0988 79.7211 L371.6125 79.5897 L372.1263 79.4585 L372.64 79.3276 L373.1537 79.1969 L373.6675 79.0664 L374.1812 78.9362 L374.695 78.8063 L375.2087 78.6766 L375.7225 78.5471 L376.2362 78.4179 L376.75 78.2889 L377.2638 78.1601 L377.7775 78.0316 L378.2913 77.9034 L378.805 77.7753 L379.3188 77.6476 L379.8325 77.52 L380.3463 77.3927 L380.86 77.2656 L381.3737 77.1387 L381.8875 77.0121 L382.4012 76.8857 L382.915 76.7595 L383.4287 76.6335 L383.9425 76.5078 L384.4563 76.3823 L384.97 76.257 L385.4838 76.1319 L385.9975 76.0071 L386.5113 75.8824 L387.025 75.758 L387.5388 75.6339 L388.0525 75.5099 L388.5663 75.3861 L389.08 75.2626 L389.5938 75.1392 L390.1075 75.0161 L390.6212 74.8932 L391.135 74.7705 L391.6487 74.648 L392.1625 74.5257 L392.6762 74.4036 L393.19 74.2817 L393.7037 74.16 L394.2175 74.0386 L394.7312 73.9173 L395.245 73.7962 L395.7588 73.6753 L396.2725 73.5547 L396.7863 73.4342 L397.3 73.3139 L397.8138 73.1938 L398.3275 73.0739 L398.8412 72.9542 L399.355 72.8347 L399.8687 72.7154 L400.3825 72.5963 L400.8962 72.4774 L401.41 72.3586 L401.9237 72.2401 L402.4375 72.1217 L402.9513 72.0035 L403.465 71.8855 L403.9788 71.7677 L404.4925 71.6501 L405.0063 71.5326 L405.52 71.4153 L406.0338 71.2983 L406.5475 71.1813 L407.0612 71.0646 L407.575 70.9481 L408.0887 70.8317 L408.6025 70.7155 L409.1162 70.5995 L409.63 70.4836 L410.1438 70.3679 L410.6575 70.2524 L411.1713 70.1371 L411.685 70.0219 L412.1988 69.9069 L412.7125 69.7921 L413.2263 69.6774 L413.74 69.563 L414.2538 69.4486 L414.7675 69.3345 L415.2812 69.2205 L415.795 69.1066 L416.3087 68.993 L416.8225 68.8795 L417.3362 68.7661 L417.85 68.6529 L418.3637 68.5399 L418.8775 68.427 L419.3912 68.3143 L419.905 68.2018 L420.4187 68.0894 L420.9325 67.9771 L421.4463 67.8651 L421.96 67.7531 L422.4738 67.6413 L422.9875 67.5297 L423.5013 67.4182 L424.015 67.3069 L424.5287 67.1957 L425.0425 67.0847 L425.5562 66.9738 L426.07 66.8631 L426.5837 66.7525 L427.0975 66.6421 L427.6112 66.5318 L428.125 66.4217 L428.6388 66.3116 L429.1525 66.2018 L429.6663 66.0921 L430.18 65.9825 L430.6938 65.8731 L431.2075 65.7638 L431.7213 65.6546 L432.235 65.5456 L432.7487 65.4367 L433.2625 65.328 L433.7762 65.2194 L434.29 65.1109 L434.8037 65.0026 L435.3175 64.8944 L435.8313 64.7864 L436.345 64.6784 L436.8588 64.5706 L437.3725 64.463 L437.8863 64.3554 L438.4 64.248 L438.9138 64.1408 L439.4275 64.0336 L439.9413 63.9266 L440.455 63.8197 L440.9688 63.713 L441.4825 63.6063 L441.9962 63.4998 L442.51 63.3935 L443.0237 63.2872 L443.5375 63.1811 L444.0512 63.0751 L444.565 62.9692 L445.0787 62.8634 L445.5925 62.7578 L446.1062 62.6523 L446.62 62.5469 L447.1338 62.4416 L447.6475 62.3365 L448.1613 62.2314 L448.675 62.1265 L449.1888 62.0217 L449.7025 61.917 L450.2162 61.8124 L450.73 61.708 L451.2437 61.6036 L451.7575 61.4994 L452.2712 61.3953 L452.785 61.2913 L453.2987 61.1874 L453.8125 61.0837 L454.3263 60.98 L454.84 60.8764 L455.3538 60.773 L455.8675 60.6697 L456.3813 60.5665 L456.895 60.4633 L457.4088 60.3603 L457.9225 60.2575 L458.4362 60.1547 L458.95 60.052 L459.4637 59.9494 L459.9775 59.8469 L460.4912 59.7446 L461.005 59.6423 L461.5188 59.5402 L462.0325 59.4381 L462.5463 59.3362 L463.06 59.2343 L463.5738 59.1326 L464.0875 59.0309 L464.6013 58.9294 L465.115 58.8279 L465.6288 58.7266 L466.1425 58.6253 L466.6562 58.5242 L467.17 58.4232 L467.6837 58.3222 L468.1975 58.2214 L468.7112 58.1206 L469.225 58.0199 L469.7387 57.9194 L470.2525 57.8189 L470.7662 57.7185 L471.28 57.6183 L471.7937 57.5181 L472.3075 57.418 L472.8213 57.318 L473.335 57.2181 L473.8488 57.1183 L474.3625 57.0185 L474.8763 56.9189 L475.39 56.8194 L475.9037 56.7199 L476.4175 56.6206 L476.9312 56.5213 L477.445 56.4221 L477.9587 56.323 L478.4725 56.224 L478.9862 56.1251 L479.5 56.0262\" style=\"fill:none; clip-path:url(#clipPath1); stroke:lime;\"/><path style=\"fill:none;\" d=\"M68.5 294 L68.5 42 L68.5 42 L479.5 42 L479.5 294 L479.5 294 L68.5 294\"/><path style=\"fill:none;\" d=\"M479.5 42 L68.5 42\"/><path style=\"fill:none;\" d=\"M479.5 42 L479.5 294\"/><path style=\"fill:none;\" d=\"M479.5 42 L479.5 42\"/></g></g></svg>",
      "text/plain": [
       "<IPython.core.display.SVG object>"
      ]
     },
     "metadata": {},
     "output_type": "display_data"
    }
   ],
   "source": [
    "u=ones(1,800);\n",
    "stprep=flts(u,tf2ss(MFd));   //Step response\n",
    "plot(stprep,'g')"
   ]
  },
  {
   "cell_type": "markdown",
   "metadata": {},
   "source": [
    "É estável?"
   ]
  },
  {
   "cell_type": "code",
   "execution_count": 50,
   "metadata": {},
   "outputs": [
    {
     "name": "stdout",
     "output_type": "stream",
     "text": [
      "\u001b[4l\u001b[0m\n",
      "\u001b[0m\u001b[4l\u001b[0m\n",
      "\u001b[0m\u001b[4l\u001b[0m polinomio  = \n",
      "\n",
      "  -0.9417475 +2.8832232x -2.9414757x² +x³\n",
      "\n",
      "\u001b[0m\u001b[4l\u001b[0m\n",
      "\u001b[0m\u001b[4l\u001b[0m r  = \n",
      "\n",
      "   1.          2.8832232\n",
      "  -2.9414757  -0.9417475\n",
      "   2.5630616   0.       \n",
      "  -0.9417475   0.       \n",
      "\n",
      "\u001b[0m\u001b[4l\u001b[0m\n",
      "\u001b[0m\u001b[4l\u001b[0m ans  =\n",
      "\n",
      "   1.\n",
      "  -1.\n",
      "   1.\n",
      "  -1.\n",
      "\n",
      "\u001b[0m"
     ]
    }
   ],
   "source": [
    "ssMFd = tf2ss(MFd);\n",
    "\n",
    "polinomio = poly(ssMFd.A,'x')\n",
    "\n",
    "r = routh_t(polinomio)\n",
    "\n",
    "sign(r(:,1))\n",
    "\n"
   ]
  }
 ],
 "metadata": {
  "kernelspec": {
   "display_name": "Scilab",
   "language": "scilab",
   "name": "scilab"
  },
  "language_info": {
   "file_extension": ".sci",
   "help_links": [
    {
     "text": "MetaKernel Magics",
     "url": "https://metakernel.readthedocs.io/en/latest/source/README.html"
    }
   ],
   "mimetype": "text/x-octave",
   "name": "octave",
   "version": "0.9.10"
  }
 },
 "nbformat": 4,
 "nbformat_minor": 5
}