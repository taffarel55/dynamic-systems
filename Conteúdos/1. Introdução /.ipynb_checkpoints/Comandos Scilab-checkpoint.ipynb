{
 "cells": [
  {
   "cell_type": "markdown",
   "id": "eae793f2-34e9-4011-a40d-45fb9eed3c45",
   "metadata": {},
   "source": [
    "# Comandos Scilab"
   ]
  },
  {
   "cell_type": "markdown",
   "id": "65e0be8e-628c-46eb-9047-3452737cca6f",
   "metadata": {},
   "source": [
    "Nesta seção, são abordados alguns problemas associados a Sistemas de Controle. Considera-se a configuração padrão do sistema realimentado da Fig. 01."
   ]
  },
  {
   "cell_type": "markdown",
   "id": "81ddbf2f-0fdf-43e0-b090-72bdd1a9810e",
   "metadata": {},
   "source": [
    "![image.png](figura1.png)"
   ]
  },
  {
   "cell_type": "markdown",
   "id": "90c9867c-2b12-4ed6-b4a6-524161d1a8aa",
   "metadata": {},
   "source": [
    "## PROBLEMAS:"
   ]
  },
  {
   "cell_type": "markdown",
   "id": "561c2b33-a56b-4ace-9188-c2234e431e29",
   "metadata": {},
   "source": [
    "Seja o sistema de controle da Fig. 01 com as funções de transferência dadas a seguir e $G_d(s) = 0$:"
   ]
  },
  {
   "cell_type": "markdown",
   "id": "e55b8702-43b0-43bf-aaa9-6ed15921b509",
   "metadata": {},
   "source": [
    "$$G(s)=\\frac{s^2 + s + 2}{s(s + 5)(s^2 + 2s + 1)}$$ $$H(s)=1$$ $$K(s)=\\frac{20s + 0.01}{s}$$"
   ]
  },
  {
   "cell_type": "markdown",
   "id": "52829722-5bea-4c97-aae0-4b59be08a0bc",
   "metadata": {},
   "source": [
    "- 1) Obter a função de transferência de malha-fechada resultante; \n",
    "- 2) Calcular uma representação no espaço de estados para a planta, O controlador e o sistema em malha-fechada; \n",
    "- 3) Analisar a estabilidade do sistema em malha-fechada utilizando a função de transferência e o modelo no espaço de estados. Encontrar o polinômio caracterı́stico do sistema resultante;\n",
    "- 4) Obter os sinais de saı́da $y(t)$ e controle $u(t)$ do sistema em malha fechada para a entrada $r(t)$ o degrau unitário e o impulso unitário. Determinar o maior pico do sinal de saı́da e o tempo que a saı́da leva para atingir 98% do regime permanente, para $r(t) = 1$; \n",
    "- 5) Calcular a saı́da do sistema em malha-fechada para as entradas $r(t) = sen(πt)$ e $r(t)$ uma onda quadrada de amplitude unitária e perı́odo igual a quatro; \n",
    "- 6) Analisar a controlabilidade e a observabilidade da planta a ser controlada $(G(s))$ e obter a forma de Jordan associada à matriz dinâmica (planta);\n",
    "- 7) Com $G_d(s) =\\frac{1}{s^2 +s+1}$ , obter a resposta em frequência entre a saı́da y e a perturbaçaõ w ; \n",
    "- 8) O controlador $K(s)$ é substituı́do pelo controlador digital $K(z)$ com o segurador de ordem zero (ZOH), conforme a Fig. 02. Obter o modelo discreto para a planta e ZOH (visto pelo controlador) e, em seguida, calcular a função de transferência discreta de malha-fechada. Calcular a resposta ao degrau unitário e analisar a estabilidade do sistema resultante de malha-fechada. O perı́odo de amostragem é $T_s = 0.01s$ e $K(z) = \\frac{0.473z − 0.4728}{z-1}$"
   ]
  },
  {
   "cell_type": "markdown",
   "id": "3ec3ff55-2cfa-48c4-91a5-e2ea80511ede",
   "metadata": {},
   "source": [
    "![image.png](figura2.png)"
   ]
  },
  {
   "cell_type": "markdown",
   "id": "de2cabe4-b637-45cf-9549-1d5ce2e9f532",
   "metadata": {},
   "source": [
    "### Problema 1"
   ]
  },
  {
   "cell_type": "markdown",
   "id": "bf82e3c9-bdeb-4bbb-8403-96a891fea6ed",
   "metadata": {},
   "source": [
    "Primeiro vamos determinar G(s):"
   ]
  },
  {
   "cell_type": "code",
   "execution_count": 44,
   "id": "f2184b00-990f-4798-a2d1-91839ef6f335",
   "metadata": {},
   "outputs": [
    {
     "name": "stdout",
     "output_type": "stream",
     "text": [
      "\u001b[4l\u001b[0m\n",
      "\u001b[0m\u001b[4l\u001b[0m\n",
      "\u001b[0m\u001b[4l\u001b[0m G  = \n",
      "\n",
      "       2 +s +s²       \n",
      "   -----------------  \n",
      "   5s +11s² +7s³ +s⁴  \n",
      "\n",
      "\u001b[0m"
     ]
    }
   ],
   "source": [
    "s=poly(0,'s');\n",
    "G = (s^2+s+2)/(s*(s+5)*(s^2+2*s+1));\n",
    "G = syslin('c',G)"
   ]
  },
  {
   "cell_type": "markdown",
   "id": "2a852341-8454-4a80-92a8-6ed130647ff6",
   "metadata": {},
   "source": [
    "Agora o H(s):"
   ]
  },
  {
   "cell_type": "code",
   "execution_count": 45,
   "id": "a32cd1c3-5036-417f-b266-729da9636ff6",
   "metadata": {},
   "outputs": [
    {
     "name": "stdout",
     "output_type": "stream",
     "text": [
      "\u001b[4l\u001b[0m H  = \n",
      "\n",
      "   1  \n",
      "   -  \n",
      "   1  \n",
      "\n",
      "\u001b[0m"
     ]
    }
   ],
   "source": [
    "H = syslin('c',[1],[1])"
   ]
  },
  {
   "cell_type": "markdown",
   "id": "379120f2-a131-40d7-aa33-6828fab94363",
   "metadata": {},
   "source": [
    "E por fim o K(s)"
   ]
  },
  {
   "cell_type": "code",
   "execution_count": 46,
   "id": "8af32159-0157-4e2b-a679-bd5ac0929784",
   "metadata": {},
   "outputs": [
    {
     "name": "stdout",
     "output_type": "stream",
     "text": [
      "\u001b[4l\u001b[0m K  = \n",
      "\n",
      "   0.01 +20s  \n",
      "   ---------  \n",
      "       s      \n",
      "\n",
      "\u001b[0m"
     ]
    }
   ],
   "source": [
    "K = syslin('c',(20*s+0.01)/(s))"
   ]
  },
  {
   "cell_type": "markdown",
   "id": "bdfa2734-87bb-4c87-9998-c4ef31c7a280",
   "metadata": {},
   "source": [
    "Vamos agora obter a função transferência equivalente em malha fechada $$\\frac{GK}{1+GK}$$"
   ]
  },
  {
   "cell_type": "code",
   "execution_count": 47,
   "id": "95586194-3e86-44f8-bcd0-5f4220224857",
   "metadata": {},
   "outputs": [
    {
     "name": "stdout",
     "output_type": "stream",
     "text": [
      "\u001b[4l\u001b[0m MF  = \n",
      "\n",
      "       0.02 +40.01s +20.01s² +20s³       \n",
      "   ------------------------------------  \n",
      "   0.02 +40.01s +25.01s² +31s³ +7s⁴ +s⁵  \n",
      "\n",
      "\u001b[0m"
     ]
    }
   ],
   "source": [
    "MF = (G*K)/.(H)"
   ]
  },
  {
   "cell_type": "markdown",
   "id": "e84b6e8b-4b82-4836-94b1-4c521f01fd81",
   "metadata": {},
   "source": [
    "Para obter o numerador e o denominador da função transferência de malha fechada:"
   ]
  },
  {
   "cell_type": "code",
   "execution_count": 48,
   "id": "5f1afbcd-ead8-40fd-b92b-ffec5a25166b",
   "metadata": {},
   "outputs": [
    {
     "name": "stdout",
     "output_type": "stream",
     "text": [
      "\u001b[4l\u001b[0m num_mf  = \n",
      "\n",
      "  0.02 +40.01s +20.01s² +20s³\n",
      "\n",
      "\u001b[0m\u001b[4l\u001b[0m den_mf  = \n",
      "\n",
      "  0.02 +40.01s +25.01s² +31s³ +7s⁴ +s⁵\n",
      "\n",
      "\u001b[0m"
     ]
    }
   ],
   "source": [
    "num_mf = MF.num\n",
    "den_mf = MF.den"
   ]
  },
  {
   "cell_type": "markdown",
   "id": "a8d7ab6b-4613-46b4-8012-d57b8f8cd6b7",
   "metadata": {},
   "source": [
    "Para se obter os coeficientes:"
   ]
  },
  {
   "cell_type": "code",
   "execution_count": 49,
   "id": "c3b69df6-6f31-41d5-9789-759e3498461c",
   "metadata": {},
   "outputs": [
    {
     "name": "stdout",
     "output_type": "stream",
     "text": [
      "\u001b[4l\u001b[0m num_mf  = \n",
      "\n",
      "   0.02   40.01   20.01   20.\n",
      "\n",
      "\u001b[0m\u001b[4l\u001b[0m den_mf  = \n",
      "\n",
      "   0.02   40.01   25.01   31.   7.   1.\n",
      "\n",
      "\u001b[0m"
     ]
    }
   ],
   "source": [
    "num_mf = coeff(num_mf)\n",
    "den_mf = coeff(den_mf)"
   ]
  },
  {
   "cell_type": "markdown",
   "id": "bafe9926-7894-4d0b-b287-31a124fa50a7",
   "metadata": {},
   "source": [
    "Uma função útil para ver polos e zeros:"
   ]
  },
  {
   "cell_type": "code",
   "execution_count": 51,
   "id": "4105281b-fdad-48f5-80c7-852c1051e459",
   "metadata": {},
   "outputs": [
    {
     "name": "stdout",
     "output_type": "stream",
     "text": [
      "\u001b[4l\u001b[0m ans  =\n",
      "\n",
      "                           (s+0.0005) (s^2+1s+2)                      \n",
      "   20 -------------------------------------------------------------- \n",
      "      (s+0.000500031) (s^2+6.41539s+25.6924) (s^2+0.584107s+1.55678) \n",
      "\n",
      "\n",
      "\u001b[0m"
     ]
    }
   ],
   "source": [
    "zpk(MF)"
   ]
  },
  {
   "cell_type": "markdown",
   "id": "ff73aa29-3b7f-4ac4-987c-d9c04e3f5719",
   "metadata": {},
   "source": [
    "### Problema 2"
   ]
  }
 ],
 "metadata": {
  "kernelspec": {
   "display_name": "Scilab",
   "language": "scilab",
   "name": "scilab"
  },
  "language_info": {
   "file_extension": ".sci",
   "help_links": [
    {
     "text": "MetaKernel Magics",
     "url": "https://metakernel.readthedocs.io/en/latest/source/README.html"
    }
   ],
   "mimetype": "text/x-octave",
   "name": "octave",
   "version": "0.9.10"
  }
 },
 "nbformat": 4,
 "nbformat_minor": 5
}
