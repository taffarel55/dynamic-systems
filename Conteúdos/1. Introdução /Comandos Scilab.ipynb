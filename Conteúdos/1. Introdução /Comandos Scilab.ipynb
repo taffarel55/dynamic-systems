{
 "cells": [
  {
   "cell_type": "markdown",
   "metadata": {},
   "source": [
    "# Comandos Scilab"
   ]
  },
  {
   "cell_type": "markdown",
   "metadata": {},
   "source": [
    "Nesta seção, são abordados alguns problemas associados a Sistemas de Controle. Considera-se a configuração padrão do sistema realimentado da Fig. 01."
   ]
  },
  {
   "cell_type": "markdown",
   "metadata": {},
   "source": [
    "![image.png](figura1.png)"
   ]
  },
  {
   "cell_type": "markdown",
   "metadata": {},
   "source": [
    "## PROBLEMAS:"
   ]
  },
  {
   "cell_type": "markdown",
   "metadata": {},
   "source": [
    "Seja o sistema de controle da Fig. 01 com as funções de transferência dadas a seguir e $G_d(s) = 0$:"
   ]
  },
  {
   "cell_type": "markdown",
   "metadata": {},
   "source": [
    "$$G(s)=\\frac{s^2 + s + 2}{s(s + 5)(s^2 + 2s + 1)}$$ $$H(s)=1$$ $$K(s)=\\frac{20s + 0.01}{s}$$"
   ]
  },
  {
   "cell_type": "markdown",
   "metadata": {},
   "source": [
    "- 1) Obter a função de transferência de malha-fechada resultante; \n",
    "- 2) Calcular uma representação no espaço de estados para a planta, O controlador e o sistema em malha-fechada; \n",
    "- 3) Analisar a estabilidade do sistema em malha-fechada utilizando a função de transferência e o modelo no espaço de estados. Encontrar o polinômio caracterı́stico do sistema resultante;\n",
    "- 4) Obter os sinais de saı́da $y(t)$ e controle $u(t)$ do sistema em malha fechada para a entrada $r(t)$ o degrau unitário e o impulso unitário. Determinar o maior pico do sinal de saı́da e o tempo que a saı́da leva para atingir 98% do regime permanente, para $r(t) = 1$; \n",
    "- 5) Calcular a saı́da do sistema em malha-fechada para as entradas $r(t) = sen(πt)$ e $r(t)$ uma onda quadrada de amplitude unitária e perı́odo igual a quatro; \n",
    "- 6) Analisar a controlabilidade e a observabilidade da planta a ser controlada $(G(s))$ e obter a forma de Jordan associada à matriz dinâmica (planta);\n",
    "- 7) Com $G_d(s) =\\frac{1}{s^2 +s+1}$ , obter a resposta em frequência entre a saı́da y e a perturbaçaõ w ; \n",
    "- 8) O controlador $K(s)$ é substituı́do pelo controlador digital $K(z)$ com o segurador de ordem zero (ZOH), conforme a Fig. 02. Obter o modelo discreto para a planta e ZOH (visto pelo controlador) e, em seguida, calcular a função de transferência discreta de malha-fechada. Calcular a resposta ao degrau unitário e analisar a estabilidade do sistema resultante de malha-fechada. O perı́odo de amostragem é $T_s = 0.01s$ e $K(z) = \\frac{0.473z − 0.4728}{z-1}$"
   ]
  },
  {
   "cell_type": "markdown",
   "metadata": {},
   "source": [
    "![image.png](figura2.png)"
   ]
  },
  {
   "cell_type": "markdown",
   "metadata": {},
   "source": [
    "### Problema 1"
   ]
  },
  {
   "cell_type": "markdown",
   "metadata": {},
   "source": [
    "Obter a função de transferência de malha-fechada resultante."
   ]
  },
  {
   "cell_type": "markdown",
   "metadata": {},
   "source": [
    "Primeiro vamos determinar G(s):"
   ]
  },
  {
   "cell_type": "code",
   "execution_count": 1,
   "metadata": {},
   "outputs": [
    {
     "name": "stdout",
     "output_type": "stream",
     "text": [
      "\u001b[4l\u001b[0m\n",
      "\u001b[0m\u001b[4l\u001b[0m\n",
      "\u001b[0m\u001b[4l\u001b[0m G  = \n",
      "\n",
      "       2 +s +s²       \n",
      "   -----------------  \n",
      "   5s +11s² +7s³ +s⁴  \n",
      "\n",
      "\u001b[0m"
     ]
    }
   ],
   "source": [
    "s=poly(0,'s');\n",
    "G = (s^2+s+2)/(s*(s+5)*(s^2+2*s+1));\n",
    "G = syslin('c',G)"
   ]
  },
  {
   "cell_type": "markdown",
   "metadata": {},
   "source": [
    "Agora o H(s):"
   ]
  },
  {
   "cell_type": "code",
   "execution_count": 2,
   "metadata": {},
   "outputs": [
    {
     "name": "stdout",
     "output_type": "stream",
     "text": [
      "\u001b[4l\u001b[0m H  = \n",
      "\n",
      "   1  \n",
      "   -  \n",
      "   1  \n",
      "\n",
      "\u001b[0m"
     ]
    }
   ],
   "source": [
    "H = syslin('c',[1],[1])"
   ]
  },
  {
   "cell_type": "markdown",
   "metadata": {},
   "source": [
    "E por fim o K(s)"
   ]
  },
  {
   "cell_type": "code",
   "execution_count": 3,
   "metadata": {},
   "outputs": [
    {
     "name": "stdout",
     "output_type": "stream",
     "text": [
      "\u001b[4l\u001b[0m K  = \n",
      "\n",
      "   0.01 +20s  \n",
      "   ---------  \n",
      "       s      \n",
      "\n",
      "\u001b[0m"
     ]
    }
   ],
   "source": [
    "K = syslin('c',(20*s+0.01)/(s))"
   ]
  },
  {
   "cell_type": "markdown",
   "metadata": {},
   "source": [
    "Vamos agora obter a função transferência equivalente em malha fechada $$\\frac{GK}{1+GK}$$"
   ]
  },
  {
   "cell_type": "code",
   "execution_count": 4,
   "metadata": {},
   "outputs": [
    {
     "name": "stdout",
     "output_type": "stream",
     "text": [
      "\u001b[4l\u001b[0m MF  = \n",
      "\n",
      "       0.02 +40.01s +20.01s² +20s³       \n",
      "   ------------------------------------  \n",
      "   0.02 +40.01s +25.01s² +31s³ +7s⁴ +s⁵  \n",
      "\n",
      "\u001b[0m"
     ]
    }
   ],
   "source": [
    "MF = (G*K)/.(H)"
   ]
  },
  {
   "cell_type": "markdown",
   "metadata": {},
   "source": [
    "Para obter o numerador e o denominador da função transferência de malha fechada:"
   ]
  },
  {
   "cell_type": "code",
   "execution_count": 5,
   "metadata": {},
   "outputs": [
    {
     "name": "stdout",
     "output_type": "stream",
     "text": [
      "\u001b[4l\u001b[0m num_mf  = \n",
      "\n",
      "  0.02 +40.01s +20.01s² +20s³\n",
      "\n",
      "\u001b[0m\u001b[4l\u001b[0m den_mf  = \n",
      "\n",
      "  0.02 +40.01s +25.01s² +31s³ +7s⁴ +s⁵\n",
      "\n",
      "\u001b[0m"
     ]
    }
   ],
   "source": [
    "num_mf = MF.num\n",
    "den_mf = MF.den"
   ]
  },
  {
   "cell_type": "markdown",
   "metadata": {},
   "source": [
    "Para se obter os coeficientes:"
   ]
  },
  {
   "cell_type": "code",
   "execution_count": 6,
   "metadata": {},
   "outputs": [
    {
     "name": "stdout",
     "output_type": "stream",
     "text": [
      "\u001b[4l\u001b[0m num_mf  = \n",
      "\n",
      "   0.02   40.01   20.01   20.\n",
      "\n",
      "\u001b[0m\u001b[4l\u001b[0m den_mf  = \n",
      "\n",
      "   0.02   40.01   25.01   31.   7.   1.\n",
      "\n",
      "\u001b[0m"
     ]
    }
   ],
   "source": [
    "num_mf = coeff(num_mf)\n",
    "den_mf = coeff(den_mf)"
   ]
  },
  {
   "cell_type": "markdown",
   "metadata": {},
   "source": [
    "Uma função útil para ver polos e zeros:"
   ]
  },
  {
   "cell_type": "code",
   "execution_count": 7,
   "metadata": {},
   "outputs": [
    {
     "name": "stdout",
     "output_type": "stream",
     "text": [
      "\u001b[4l\u001b[0m ans  =\n",
      "\n",
      "                           (s+0.0005) (s^2+1s+2)                      \n",
      "   20 -------------------------------------------------------------- \n",
      "      (s+0.000500031) (s^2+6.41539s+25.6924) (s^2+0.584107s+1.55678) \n",
      "\n",
      "\n",
      "\u001b[0m"
     ]
    }
   ],
   "source": [
    "zpk(MF)"
   ]
  },
  {
   "cell_type": "markdown",
   "metadata": {},
   "source": [
    "### Problema 2"
   ]
  },
  {
   "cell_type": "markdown",
   "metadata": {},
   "source": [
    "Calcular uma representação no espaço de estados para a planta, O controlador e o sistema em malha-fechada"
   ]
  },
  {
   "cell_type": "markdown",
   "metadata": {},
   "source": [
    "Para G(s):"
   ]
  },
  {
   "cell_type": "code",
   "execution_count": 8,
   "metadata": {},
   "outputs": [
    {
     "name": "stdout",
     "output_type": "stream",
     "text": [
      "\u001b[4l\u001b[0m ssG  = \n",
      "\n",
      "\n",
      " ssG(1)  (state-space system:)\n",
      "\n",
      "  \"lss\"  \"A\"  \"B\"  \"C\"  \"D\"  \"X0\"  \"dt\"\n",
      "\n",
      " ssG(2)= A matrix =\n",
      "\n",
      "   0.0454545   0.5622417   2.776D-17  -2.776D-17\n",
      "  -0.3809524  -5.526936   -1.580973    4.441D-16\n",
      "  -0.2411616  -0.521717   -0.5185185  -1.4552138\n",
      "   0.2305926   5.7967172   2.075027   -1.       \n",
      "\n",
      " ssG(3)= B matrix =\n",
      "\n",
      "   0.\n",
      "  -1.7514389\n",
      "  -0.5744270\n",
      "   0.7762059\n",
      "\n",
      " ssG(4)= C matrix =\n",
      "\n",
      "  -1.0155048  -1.388D-17   0.   6.939D-18\n",
      "\n",
      " ssG(5)= D matrix =\n",
      "\n",
      "   0.\n",
      "\n",
      " ssG(6)= X0 (initial state) =\n",
      "\n",
      "   0.\n",
      "   0.\n",
      "   0.\n",
      "   0.\n",
      "\n",
      " ssG(7)= Time domain =\n",
      "\n",
      "  \"c\"\n",
      "\n",
      "\u001b[0m"
     ]
    }
   ],
   "source": [
    "ssG = tf2ss(G)"
   ]
  },
  {
   "cell_type": "markdown",
   "metadata": {},
   "source": [
    "Para K(s):"
   ]
  },
  {
   "cell_type": "code",
   "execution_count": 9,
   "metadata": {},
   "outputs": [
    {
     "name": "stdout",
     "output_type": "stream",
     "text": [
      "\u001b[4l\u001b[0m ssK  = \n",
      "\n",
      "\n",
      " ssK(1)  (state-space system:)\n",
      "\n",
      "  \"lss\"  \"A\"  \"B\"  \"C\"  \"D\"  \"X0\"  \"dt\"\n",
      "\n",
      " ssK(2)= A matrix =\n",
      "\n",
      "   0.\n",
      "\n",
      " ssK(3)= B matrix =\n",
      "\n",
      "   0.1\n",
      "\n",
      " ssK(4)= C matrix =\n",
      "\n",
      "   0.1\n",
      "\n",
      " ssK(5)= D matrix =\n",
      "\n",
      "   20.\n",
      "\n",
      " ssK(6)= X0 (initial state) =\n",
      "\n",
      "   0.\n",
      "\n",
      " ssK(7)= Time domain =\n",
      "\n",
      "  \"c\"\n",
      "\n",
      "\u001b[0m"
     ]
    }
   ],
   "source": [
    "ssK = tf2ss(K)"
   ]
  },
  {
   "cell_type": "markdown",
   "metadata": {},
   "source": [
    "H(s):"
   ]
  },
  {
   "cell_type": "code",
   "execution_count": 10,
   "metadata": {},
   "outputs": [
    {
     "name": "stdout",
     "output_type": "stream",
     "text": [
      "\u001b[4l\u001b[0m ssH  = \n",
      "\n",
      "\n",
      " ssH(1)  (state-space system:)\n",
      "\n",
      "  \"lss\"  \"A\"  \"B\"  \"C\"  \"D\"  \"X0\"  \"dt\"\n",
      "\n",
      " ssH(2)= A matrix =\n",
      "\n",
      "    []\n",
      "\n",
      " ssH(3)= B matrix =\n",
      "\n",
      "    []\n",
      "\n",
      " ssH(4)= C matrix =\n",
      "\n",
      "    []\n",
      "\n",
      " ssH(5)= D matrix =\n",
      "\n",
      "   1.\n",
      "\n",
      " ssH(6)= X0 (initial state) =\n",
      "\n",
      "    []\n",
      "\n",
      " ssH(7)= Time domain =\n",
      "\n",
      "  \"c\"\n",
      "\n",
      "\u001b[0m"
     ]
    }
   ],
   "source": [
    "ssH = tf2ss(H)"
   ]
  },
  {
   "cell_type": "markdown",
   "metadata": {},
   "source": [
    "Para obter algum atributo do objeto, como por exemplo a matriz A, podemos fazer:"
   ]
  },
  {
   "cell_type": "code",
   "execution_count": 11,
   "metadata": {},
   "outputs": [
    {
     "name": "stdout",
     "output_type": "stream",
     "text": [
      "\u001b[4l\u001b[0m ans  =\n",
      "\n",
      "   0.0454545   0.5622417   2.776D-17  -2.776D-17\n",
      "  -0.3809524  -5.526936   -1.580973    4.441D-16\n",
      "  -0.2411616  -0.521717   -0.5185185  -1.4552138\n",
      "   0.2305926   5.7967172   2.075027   -1.       \n",
      "\n",
      "\u001b[0m"
     ]
    }
   ],
   "source": [
    "ssG(2)"
   ]
  },
  {
   "cell_type": "markdown",
   "metadata": {},
   "source": [
    "Vamos agora obter a representação em espaço de estados em malha fechada:"
   ]
  },
  {
   "cell_type": "code",
   "execution_count": 12,
   "metadata": {},
   "outputs": [
    {
     "name": "stdout",
     "output_type": "stream",
     "text": [
      "\u001b[4l\u001b[0m ssMF  = \n",
      "\n",
      "\n",
      " ssMF(1)  (state-space system:)\n",
      "\n",
      "  \"lss\"  \"A\"  \"B\"  \"C\"  \"D\"  \"X0\"  \"dt\"\n",
      "\n",
      " ssMF(2)= A matrix =\n",
      "\n",
      "   0.0454545   0.5622417   2.776D-17  -2.776D-17   0.       \n",
      "  -35.952844  -5.526936   -1.580973    6.872D-16  -0.1751439\n",
      "  -11.907828  -0.521717   -0.5185185  -1.4552138  -0.0574427\n",
      "   15.995408   5.7967172   2.075027   -1.          0.0776206\n",
      "   0.1015505   1.388D-18   0.         -6.939D-19   0.       \n",
      "\n",
      " ssMF(3)= B matrix =\n",
      "\n",
      "   0.\n",
      "  -35.028777\n",
      "  -11.488539\n",
      "   15.524117\n",
      "   0.1\n",
      "\n",
      " ssMF(4)= C matrix =\n",
      "\n",
      "  -1.0155048  -1.388D-17   0.   6.939D-18   0.\n",
      "\n",
      " ssMF(5)= D matrix =\n",
      "\n",
      "   0.\n",
      "\n",
      " ssMF(6)= X0 (initial state) =\n",
      "\n",
      "   0.\n",
      "   0.\n",
      "   0.\n",
      "   0.\n",
      "   0.\n",
      "\n",
      " ssMF(7)= Time domain =\n",
      "\n",
      "  \"c\"\n",
      "\n",
      "\u001b[0m"
     ]
    }
   ],
   "source": [
    "ssMF = (ssG*ssK)/.(ssH)"
   ]
  },
  {
   "cell_type": "markdown",
   "metadata": {},
   "source": [
    "E para encontrar os pólos e zeros (e já obter a função transferência):"
   ]
  },
  {
   "cell_type": "code",
   "execution_count": 13,
   "metadata": {},
   "outputs": [
    {
     "name": "stdout",
     "output_type": "stream",
     "text": [
      "\u001b[4l\u001b[0m ans  =\n",
      "\n",
      "                           (s+0.0005) (s^2+1s+2)                      \n",
      "   20 -------------------------------------------------------------- \n",
      "      (s+0.000500031) (s^2+6.41539s+25.6924) (s^2+0.584107s+1.55678) \n",
      "\n",
      "\n",
      "\u001b[0m"
     ]
    }
   ],
   "source": [
    "zpk(ssMF)"
   ]
  },
  {
   "cell_type": "markdown",
   "metadata": {},
   "source": [
    "Para só ir para função transferência:"
   ]
  },
  {
   "cell_type": "code",
   "execution_count": 14,
   "metadata": {},
   "outputs": [
    {
     "name": "stdout",
     "output_type": "stream",
     "text": [
      "\u001b[4l\u001b[0m ans  =\n",
      "\n",
      "   0.02 +40.01s +20.01s² +20s³ +8.118D-15s⁴  \n",
      "   ----------------------------------------  \n",
      "     0.02 +40.01s +25.01s² +31s³ +7s⁴ +s⁵    \n",
      "\n",
      "\u001b[0m"
     ]
    }
   ],
   "source": [
    "ss2tf(ssMF)"
   ]
  },
  {
   "cell_type": "markdown",
   "metadata": {},
   "source": [
    "Para dar uma limpada em coeficientes pequenos:"
   ]
  },
  {
   "cell_type": "code",
   "execution_count": 15,
   "metadata": {},
   "outputs": [
    {
     "name": "stdout",
     "output_type": "stream",
     "text": [
      "\u001b[4l\u001b[0m ans  =\n",
      "\n",
      "            40.000002 +19.999999s +20s²            \n",
      "   ----------------------------------------------  \n",
      "   39.997506 +24.994502s +30.9965s² +6.9995s³ +s⁴  \n",
      "\n",
      "\u001b[0m"
     ]
    }
   ],
   "source": [
    "clean(ss2tf(ssMF))"
   ]
  },
  {
   "cell_type": "markdown",
   "metadata": {},
   "source": [
    "### Problema 3"
   ]
  },
  {
   "cell_type": "markdown",
   "metadata": {},
   "source": [
    "Analisar a estabilidade do sistema em malha-fechada utilizando a função de transferência e o modelo no espaço de estados. Encontrar o polinômio caracterı́stico do sistema resultante;"
   ]
  },
  {
   "cell_type": "markdown",
   "metadata": {},
   "source": [
    "#### Análise sem Lyapunov"
   ]
  },
  {
   "cell_type": "markdown",
   "metadata": {},
   "source": [
    "Para isso, iremos olhar as raízes do denominador e ver que todos estão no semiplano esquerdo."
   ]
  },
  {
   "cell_type": "code",
   "execution_count": 16,
   "metadata": {},
   "outputs": [
    {
     "name": "stdout",
     "output_type": "stream",
     "text": [
      "\u001b[4l\u001b[0m ans  =\n",
      "\n",
      "  -3.2076964 + 3.9246816i\n",
      "  -3.2076964 - 3.9246816i\n",
      "  -0.2920536 + 1.213048i \n",
      "  -0.2920536 - 1.213048i \n",
      "  -0.0005    + 0.i       \n",
      "\n",
      "\u001b[0m"
     ]
    }
   ],
   "source": [
    "roots(MF.den)"
   ]
  },
  {
   "cell_type": "markdown",
   "metadata": {},
   "source": [
    "Para olhar os autovalores"
   ]
  },
  {
   "cell_type": "code",
   "execution_count": 17,
   "metadata": {},
   "outputs": [
    {
     "name": "stdout",
     "output_type": "stream",
     "text": [
      "\u001b[4l\u001b[0m\n",
      "\u001b[0m\u001b[4l\u001b[0m ans  =\n",
      "\n",
      "  -3.2076964 + 3.9246816i\n",
      "  -3.2076964 - 3.9246816i\n",
      "  -0.2920536 + 1.213048i \n",
      "  -0.2920536 - 1.213048i \n",
      "  -0.0005    + 0.i       \n",
      "\n",
      "\u001b[0m"
     ]
    }
   ],
   "source": [
    "Amf=ssMF(2);\n",
    "spec(Amf)"
   ]
  },
  {
   "cell_type": "markdown",
   "metadata": {},
   "source": [
    "Esta função, pode retornar autovalores e autovetores."
   ]
  },
  {
   "cell_type": "code",
   "execution_count": 18,
   "metadata": {},
   "outputs": [
    {
     "name": "stdout",
     "output_type": "stream",
     "text": [
      "\u001b[4l\u001b[0m p  = \n",
      "\n",
      "         column 1 to 3\n",
      "\n",
      "   0.0626227 + 0.0185883i   0.0626227 - 0.0185883i   0.0336133 - 0.0117489i\n",
      "  -0.4920916 + 0.3295801i  -0.4920916 - 0.3295801i   0.0051708 + 0.0795742i\n",
      "   0.1160037 + 0.3155248i   0.1160037 - 0.3155248i  -0.7202913 + 0.i       \n",
      "   0.729343  + 0.i          0.729343  + 0.i         -0.1647514 + 0.6681334i\n",
      "  -0.0005056 - 0.0012071i  -0.0005056 + 0.0012071i  -0.00157   - 0.0024359i\n",
      "\n",
      "         column 4 to 5\n",
      "\n",
      "   0.0336133 + 0.0117489i  -0.0049239 + 0.i\n",
      "   0.0051708 - 0.0795742i   0.0004025 + 0.i\n",
      "  -0.7202913 + 0.i         -0.0002134 + 0.i\n",
      "  -0.1647514 - 0.6681334i   0.0007502 + 0.i\n",
      "  -0.00157   + 0.0024359i   0.9999875 + 0.i\n",
      " v  = \n",
      "\n",
      "         column 1 to 3\n",
      "\n",
      "  -3.2076964 + 3.9246816i   0.        + 0.i          0.        + 0.i      \n",
      "   0.        + 0.i         -3.2076964 - 3.9246816i   0.        + 0.i      \n",
      "   0.        + 0.i          0.        + 0.i         -0.2920536 + 1.213048i\n",
      "   0.        + 0.i          0.        + 0.i          0.        + 0.i      \n",
      "   0.        + 0.i          0.        + 0.i          0.        + 0.i      \n",
      "\n",
      "         column 4 to 5\n",
      "\n",
      "   0.        + 0.i         0.     + 0.i\n",
      "   0.        + 0.i         0.     + 0.i\n",
      "   0.        + 0.i         0.     + 0.i\n",
      "  -0.2920536 - 1.213048i   0.     + 0.i\n",
      "   0.        + 0.i        -0.0005 + 0.i\n",
      "\n",
      "\u001b[0m"
     ]
    }
   ],
   "source": [
    "[p,v]=spec(Amf)"
   ]
  },
  {
   "cell_type": "markdown",
   "metadata": {},
   "source": [
    "Podemos gerar também uma matriz de forma aleatória, e usar com a eig:"
   ]
  },
  {
   "cell_type": "code",
   "execution_count": 19,
   "metadata": {},
   "outputs": [
    {
     "name": "stdout",
     "output_type": "stream",
     "text": [
      "\u001b[4l\u001b[0m J  = \n",
      "\n",
      "   0.2113249   0.3303271   0.8497452\n",
      "   0.7560439   0.6653811   0.685731 \n",
      "   0.0002211   0.6283918   0.8782165\n",
      "\n",
      "\u001b[0m\u001b[4l\u001b[0m p2  = \n",
      "\n",
      "  -0.1883121 + 0.4974572i  -0.1883121 - 0.4974572i   0.4654016 + 0.i\n",
      "   0.699273  + 0.i          0.699273  + 0.i          0.7013981 + 0.i\n",
      "  -0.4402642 - 0.1850934i  -0.4402642 + 0.1850934i   0.5398538 + 0.i\n",
      " v2  = \n",
      "\n",
      "   0.0300427 + 0.3563346i   0.        + 0.i          0.        + 0.i\n",
      "   0.        + 0.i          0.0300427 - 0.3563346i   0.        + 0.i\n",
      "   0.        + 0.i          0.        + 0.i          1.6948371 + 0.i\n",
      "\n",
      "\u001b[0m"
     ]
    }
   ],
   "source": [
    "J=rand(3,3)\n",
    "[p2,v2]=spec(J)"
   ]
  },
  {
   "cell_type": "markdown",
   "metadata": {},
   "source": [
    "Para encontrar o polinômio característico:"
   ]
  },
  {
   "cell_type": "code",
   "execution_count": 20,
   "metadata": {},
   "outputs": [
    {
     "name": "stdout",
     "output_type": "stream",
     "text": [
      "\u001b[4l\u001b[0m polinomio  = \n",
      "\n",
      "  0.02 +40.01x +25.01x² +31x³ +7x⁴ +x⁵\n",
      "\n",
      "\u001b[0m"
     ]
    }
   ],
   "source": [
    "polinomio = poly(Amf,'x')"
   ]
  },
  {
   "cell_type": "markdown",
   "metadata": {},
   "source": [
    "Para encontrar os polos e zeros, diretamente da função transferência:"
   ]
  },
  {
   "cell_type": "code",
   "execution_count": 21,
   "metadata": {},
   "outputs": [
    {
     "name": "stdout",
     "output_type": "stream",
     "text": [
      "\u001b[4l\u001b[0m\n",
      "\u001b[0m"
     ]
    },
    {
     "data": {
      "image/svg+xml": "<svg xmlns:xlink=\"http://www.w3.org/1999/xlink\" xmlns=\"http://www.w3.org/2000/svg\" style=\"fill-opacity:1; color-rendering:auto; color-interpolation:auto; text-rendering:auto; stroke:black; stroke-linecap:square; stroke-miterlimit:10; shape-rendering:auto; stroke-opacity:1; fill:black; stroke-dasharray:none; font-weight:normal; stroke-width:1; font-family:'Dialog'; font-style:normal; stroke-linejoin:miter; font-size:12px; stroke-dashoffset:0; image-rendering:auto;\" width=\"554\" height=\"336\"><!--Generated by Scilab with Batik SVG Generator--><defs id=\"genericDefs\"/><g><defs id=\"defs1\"><font horiz-adv-x=\"60.0\" id=\"font1\"><font-face ascent=\"92.822266\" descent=\"23.583984\" units-per-em=\"100\" style=\"font-style:normal; font-family:sans-serif; font-weight:normal;\"/><missing-glyph horiz-adv-x=\"60.0\" d=\"M4.9844 -17.6719 L4.9844 70.5156 L54.9844 70.5156 L54.9844 -17.6719 L4.9844 -17.6719 ZM10.5938 -12.1094 L49.4219 -12.1094 L49.4219 64.8906 L10.5938 64.8906 L10.5938 -12.1094 Z\"/><glyph unicode=\"0\" horiz-adv-x=\"64.0\" d=\"M31.7812 66.4062 Q24.1719 66.4062 20.3281 58.9062 Q16.5 51.4219 16.5 36.375 Q16.5 21.3906 20.3281 13.8906 Q24.1719 6.3906 31.7812 6.3906 Q39.4531 6.3906 43.2812 13.8906 Q47.125 21.3906 47.125 36.375 Q47.125 51.4219 43.2812 58.9062 Q39.4531 66.4062 31.7812 66.4062 ZM31.7812 74.2188 Q44.0469 74.2188 50.5156 64.5156 Q56.9844 54.8281 56.9844 36.375 Q56.9844 17.9688 50.5156 8.2656 Q44.0469 -1.4219 31.7812 -1.4219 Q19.5312 -1.4219 13.0625 8.2656 Q6.5938 17.9688 6.5938 36.375 Q6.5938 54.8281 13.0625 64.5156 Q19.5312 74.2188 31.7812 74.2188 Z\"/><glyph unicode=\"1\" horiz-adv-x=\"64.0\" d=\"M12.4062 8.2969 L28.5156 8.2969 L28.5156 63.9219 L10.9844 60.4062 L10.9844 69.3906 L28.4219 72.9062 L38.2812 72.9062 L38.2812 8.2969 L54.3906 8.2969 L54.3906 0 L12.4062 0 L12.4062 8.2969 Z\"/><glyph unicode=\"-\" horiz-adv-x=\"36.0\" d=\"M4.8906 31.3906 L31.2031 31.3906 L31.2031 23.3906 L4.8906 23.3906 L4.8906 31.3906 Z\"/><glyph unicode=\"8\" horiz-adv-x=\"64.0\" d=\"M31.7812 34.625 Q24.75 34.625 20.7188 30.8594 Q16.7031 27.0938 16.7031 20.5156 Q16.7031 13.9219 20.7188 10.1562 Q24.75 6.3906 31.7812 6.3906 Q38.8125 6.3906 42.8594 10.1719 Q46.9219 13.9688 46.9219 20.5156 Q46.9219 27.0938 42.8906 30.8594 Q38.875 34.625 31.7812 34.625 ZM21.9219 38.8125 Q15.5781 40.375 12.0312 44.7188 Q8.5 49.0781 8.5 55.3281 Q8.5 64.0625 14.7188 69.1406 Q20.9531 74.2188 31.7812 74.2188 Q42.6719 74.2188 48.875 69.1406 Q55.0781 64.0625 55.0781 55.3281 Q55.0781 49.0781 51.5312 44.7188 Q48 40.375 41.7031 38.8125 Q48.8281 37.1562 52.7969 32.3125 Q56.7812 27.4844 56.7812 20.5156 Q56.7812 9.9062 50.3125 4.2344 Q43.8438 -1.4219 31.7812 -1.4219 Q19.7344 -1.4219 13.25 4.2344 Q6.7812 9.9062 6.7812 20.5156 Q6.7812 27.4844 10.7812 32.3125 Q14.7969 37.1562 21.9219 38.8125 ZM18.3125 54.3906 Q18.3125 48.7344 21.8438 45.5625 Q25.3906 42.3906 31.7812 42.3906 Q38.1406 42.3906 41.7188 45.5625 Q45.3125 48.7344 45.3125 54.3906 Q45.3125 60.0625 41.7188 63.2344 Q38.1406 66.4062 31.7812 66.4062 Q25.3906 66.4062 21.8438 63.2344 Q18.3125 60.0625 18.3125 54.3906 Z\"/><glyph unicode=\"6\" horiz-adv-x=\"64.0\" d=\"M33.0156 40.375 Q26.375 40.375 22.4844 35.8281 Q18.6094 31.2969 18.6094 23.3906 Q18.6094 15.5312 22.4844 10.9531 Q26.375 6.3906 33.0156 6.3906 Q39.6562 6.3906 43.5312 10.9531 Q47.4062 15.5312 47.4062 23.3906 Q47.4062 31.2969 43.5312 35.8281 Q39.6562 40.375 33.0156 40.375 ZM52.5938 71.2969 L52.5938 62.3125 Q48.875 64.0625 45.0938 64.9844 Q41.3125 65.9219 37.5938 65.9219 Q27.8281 65.9219 22.6719 59.3281 Q17.5312 52.7344 16.7969 39.4062 Q19.6719 43.6562 24.0156 45.9219 Q28.375 48.1875 33.5938 48.1875 Q44.5781 48.1875 50.9531 41.5156 Q57.3281 34.8594 57.3281 23.3906 Q57.3281 12.1562 50.6875 5.3594 Q44.0469 -1.4219 33.0156 -1.4219 Q20.3594 -1.4219 13.6719 8.2656 Q6.9844 17.9688 6.9844 36.375 Q6.9844 53.6562 15.1875 63.9375 Q23.3906 74.2188 37.2031 74.2188 Q40.9219 74.2188 44.7031 73.4844 Q48.4844 72.75 52.5938 71.2969 Z\"/><glyph unicode=\"4\" horiz-adv-x=\"64.0\" d=\"M37.7969 64.3125 L12.8906 25.3906 L37.7969 25.3906 L37.7969 64.3125 ZM35.2031 72.9062 L47.6094 72.9062 L47.6094 25.3906 L58.0156 25.3906 L58.0156 17.1875 L47.6094 17.1875 L47.6094 0 L37.7969 0 L37.7969 17.1875 L4.8906 17.1875 L4.8906 26.7031 L35.2031 72.9062 Z\"/><glyph unicode=\"2\" horiz-adv-x=\"64.0\" d=\"M19.1875 8.2969 L53.6094 8.2969 L53.6094 0 L7.3281 0 L7.3281 8.2969 Q12.9375 14.1094 22.625 23.8906 Q32.3281 33.6875 34.8125 36.5312 Q39.5469 41.8438 41.4219 45.5312 Q43.3125 49.2188 43.3125 52.7812 Q43.3125 58.5938 39.2344 62.25 Q35.1562 65.9219 28.6094 65.9219 Q23.9688 65.9219 18.8125 64.3125 Q13.6719 62.7031 7.8125 59.4219 L7.8125 69.3906 Q13.7656 71.7812 18.9375 73 Q24.125 74.2188 28.4219 74.2188 Q39.75 74.2188 46.4844 68.5469 Q53.2188 62.8906 53.2188 53.4219 Q53.2188 48.9219 51.5312 44.8906 Q49.8594 40.875 45.4062 35.4062 Q44.1875 33.9844 37.6406 27.2188 Q31.1094 20.4531 19.1875 8.2969 Z\"/><glyph unicode=\"l\" horiz-adv-x=\"28.0\" d=\"M9.4219 75.9844 L18.4062 75.9844 L18.4062 0 L9.4219 0 L9.4219 75.9844 Z\"/><glyph unicode=\"a\" horiz-adv-x=\"61.0\" d=\"M34.2812 27.4844 Q23.3906 27.4844 19.1875 25 Q14.9844 22.5156 14.9844 16.5 Q14.9844 11.7188 18.1406 8.9062 Q21.2969 6.1094 26.7031 6.1094 Q34.1875 6.1094 38.7031 11.4062 Q43.2188 16.7031 43.2188 25.4844 L43.2188 27.4844 L34.2812 27.4844 ZM52.2031 31.2031 L52.2031 0 L43.2188 0 L43.2188 8.2969 Q40.1406 3.3281 35.5469 0.9531 Q30.9531 -1.4219 24.3125 -1.4219 Q15.9219 -1.4219 10.9531 3.2969 Q6 8.0156 6 15.9219 Q6 25.1406 12.1719 29.8281 Q18.3594 34.5156 30.6094 34.5156 L43.2188 34.5156 L43.2188 35.4062 Q43.2188 41.6094 39.1406 45 Q35.0625 48.3906 27.6875 48.3906 Q23 48.3906 18.5469 47.2656 Q14.1094 46.1406 10.0156 43.8906 L10.0156 52.2031 Q14.9375 54.1094 19.5781 55.0469 Q24.2188 56 28.6094 56 Q40.4844 56 46.3438 49.8438 Q52.2031 43.7031 52.2031 31.2031 Z\"/><glyph unicode=\"e\" horiz-adv-x=\"62.0\" d=\"M56.2031 29.5938 L56.2031 25.2031 L14.8906 25.2031 Q15.4844 15.9219 20.4844 11.0625 Q25.4844 6.2031 34.4219 6.2031 Q39.5938 6.2031 44.4531 7.4688 Q49.3125 8.7344 54.1094 11.2812 L54.1094 2.7812 Q49.2656 0.7344 44.1875 -0.3438 Q39.1094 -1.4219 33.8906 -1.4219 Q20.7969 -1.4219 13.1562 6.1875 Q5.5156 13.8125 5.5156 26.8125 Q5.5156 40.2344 12.7656 48.1094 Q20.0156 56 32.3281 56 Q43.3594 56 49.7812 48.8906 Q56.2031 41.7969 56.2031 29.5938 ZM47.2188 32.2344 Q47.125 39.5938 43.0938 43.9844 Q39.0625 48.3906 32.4219 48.3906 Q24.9062 48.3906 20.3906 44.1406 Q15.875 39.8906 15.1875 32.1719 L47.2188 32.2344 Z\"/><glyph unicode=\"r\" horiz-adv-x=\"41.0\" d=\"M41.1094 46.2969 Q39.5938 47.1719 37.8125 47.5781 Q36.0312 48 33.8906 48 Q26.2656 48 22.1875 43.0469 Q18.1094 38.0938 18.1094 28.8125 L18.1094 0 L9.0781 0 L9.0781 54.6875 L18.1094 54.6875 L18.1094 46.1875 Q20.9531 51.1719 25.4844 53.5781 Q30.0312 56 36.5312 56 Q37.4531 56 38.5781 55.875 Q39.7031 55.7656 41.0625 55.5156 L41.1094 46.2969 Z\"/><glyph unicode=\" \" horiz-adv-x=\"32.0\" d=\"\"/><glyph unicode=\"o\" horiz-adv-x=\"61.0\" d=\"M30.6094 48.3906 Q23.3906 48.3906 19.1875 42.75 Q14.9844 37.1094 14.9844 27.2969 Q14.9844 17.4844 19.1562 11.8438 Q23.3438 6.2031 30.6094 6.2031 Q37.7969 6.2031 41.9844 11.8594 Q46.1875 17.5312 46.1875 27.2969 Q46.1875 37.0156 41.9844 42.7031 Q37.7969 48.3906 30.6094 48.3906 ZM30.6094 56 Q42.3281 56 49.0156 48.375 Q55.7188 40.7656 55.7188 27.2969 Q55.7188 13.875 49.0156 6.2188 Q42.3281 -1.4219 30.6094 -1.4219 Q18.8438 -1.4219 12.1719 6.2188 Q5.5156 13.875 5.5156 27.2969 Q5.5156 40.7656 12.1719 48.375 Q18.8438 56 30.6094 56 Z\"/><glyph unicode=\"x\" horiz-adv-x=\"59.0\" d=\"M54.8906 54.6875 L35.1094 28.0781 L55.9062 0 L45.3125 0 L29.3906 21.4844 L13.4844 0 L2.875 0 L24.125 28.6094 L4.6875 54.6875 L15.2812 54.6875 L29.7812 35.2031 L44.2812 54.6875 L54.8906 54.6875 Z\"/><glyph unicode=\"i\" horiz-adv-x=\"28.0\" d=\"M9.4219 54.6875 L18.4062 54.6875 L18.4062 0 L9.4219 0 L9.4219 54.6875 ZM9.4219 75.9844 L18.4062 75.9844 L18.4062 64.5938 L9.4219 64.5938 L9.4219 75.9844 Z\"/><glyph unicode=\"E\" horiz-adv-x=\"63.0\" d=\"M9.8125 72.9062 L55.9062 72.9062 L55.9062 64.5938 L19.6719 64.5938 L19.6719 43.0156 L54.3906 43.0156 L54.3906 34.7188 L19.6719 34.7188 L19.6719 8.2969 L56.7812 8.2969 L56.7812 0 L9.8125 0 L9.8125 72.9062 Z\"/><glyph unicode=\"á\" horiz-adv-x=\"61.0\" d=\"M34.2812 27.4844 Q23.3906 27.4844 19.1875 25 Q14.9844 22.5156 14.9844 16.5 Q14.9844 11.7188 18.1406 8.9062 Q21.2969 6.1094 26.7031 6.1094 Q34.1875 6.1094 38.7031 11.4062 Q43.2188 16.7031 43.2188 25.4844 L43.2188 27.4844 L34.2812 27.4844 ZM52.2031 31.2031 L52.2031 0 L43.2188 0 L43.2188 8.2969 Q40.1406 3.3281 35.5469 0.9531 Q30.9531 -1.4219 24.3125 -1.4219 Q15.9219 -1.4219 10.9531 3.2969 Q6 8.0156 6 15.9219 Q6 25.1406 12.1719 29.8281 Q18.3594 34.5156 30.6094 34.5156 L43.2188 34.5156 L43.2188 35.4062 Q43.2188 41.6094 39.1406 45 Q35.0625 48.3906 27.6875 48.3906 Q23 48.3906 18.5469 47.2656 Q14.1094 46.1406 10.0156 43.8906 L10.0156 52.2031 Q14.9375 54.1094 19.5781 55.0469 Q24.2188 56 28.6094 56 Q40.4844 56 46.3438 49.8438 Q52.2031 43.7031 52.2031 31.2031 ZM35.7812 79.9844 L45.5 79.9844 L29.5938 61.625 L22.1094 61.625 L35.7812 79.9844 Z\"/><glyph unicode=\"n\" horiz-adv-x=\"63.0\" d=\"M54.8906 33.0156 L54.8906 0 L45.9062 0 L45.9062 32.7188 Q45.9062 40.4844 42.875 44.3281 Q39.8438 48.1875 33.7969 48.1875 Q26.5156 48.1875 22.3125 43.5469 Q18.1094 38.9219 18.1094 30.9062 L18.1094 0 L9.0781 0 L9.0781 54.6875 L18.1094 54.6875 L18.1094 46.1875 Q21.3438 51.125 25.7031 53.5625 Q30.0781 56 35.7969 56 Q45.2188 56 50.0469 50.1719 Q54.8906 44.3438 54.8906 33.0156 Z\"/><glyph unicode=\"g\" horiz-adv-x=\"63.0\" d=\"M45.4062 27.9844 Q45.4062 37.75 41.375 43.1094 Q37.3594 48.4844 30.0781 48.4844 Q22.8594 48.4844 18.8281 43.1094 Q14.7969 37.75 14.7969 27.9844 Q14.7969 18.2656 18.8281 12.8906 Q22.8594 7.5156 30.0781 7.5156 Q37.3594 7.5156 41.375 12.8906 Q45.4062 18.2656 45.4062 27.9844 ZM54.3906 6.7812 Q54.3906 -7.1719 48.1875 -13.9844 Q42 -20.7969 29.2031 -20.7969 Q24.4688 -20.7969 20.2656 -20.0938 Q16.0625 -19.3906 12.1094 -17.9219 L12.1094 -9.1875 Q16.0625 -11.3281 19.9219 -12.3438 Q23.7812 -13.375 27.7812 -13.375 Q36.625 -13.375 41.0156 -8.7656 Q45.4062 -4.1562 45.4062 5.1719 L45.4062 9.625 Q42.625 4.7812 38.2812 2.3906 Q33.9375 0 27.875 0 Q17.8281 0 11.6719 7.6562 Q5.5156 15.3281 5.5156 27.9844 Q5.5156 40.6719 11.6719 48.3281 Q17.8281 56 27.875 56 Q33.9375 56 38.2812 53.6094 Q42.625 51.2188 45.4062 46.3906 L45.4062 54.6875 L54.3906 54.6875 L54.3906 6.7812 Z\"/><glyph unicode=\"m\" horiz-adv-x=\"97.0\" d=\"M52 44.1875 Q55.375 50.25 60.0625 53.125 Q64.75 56 71.0938 56 Q79.6406 56 84.2812 50.0156 Q88.9219 44.0469 88.9219 33.0156 L88.9219 0 L79.8906 0 L79.8906 32.7188 Q79.8906 40.5781 77.0938 44.375 Q74.3125 48.1875 68.6094 48.1875 Q61.625 48.1875 57.5625 43.5469 Q53.5156 38.9219 53.5156 30.9062 L53.5156 0 L44.4844 0 L44.4844 32.7188 Q44.4844 40.625 41.7031 44.4062 Q38.9219 48.1875 33.1094 48.1875 Q26.2188 48.1875 22.1562 43.5312 Q18.1094 38.875 18.1094 30.9062 L18.1094 0 L9.0781 0 L9.0781 54.6875 L18.1094 54.6875 L18.1094 46.1875 Q21.1875 51.2188 25.4844 53.6094 Q29.7812 56 35.6875 56 Q41.6562 56 45.8281 52.9688 Q50 49.9531 52 44.1875 Z\"/><glyph unicode=\"s\" horiz-adv-x=\"52.0\" d=\"M44.2812 53.0781 L44.2812 44.5781 Q40.4844 46.5312 36.375 47.5 Q32.2812 48.4844 27.875 48.4844 Q21.1875 48.4844 17.8438 46.4375 Q14.5 44.3906 14.5 40.2812 Q14.5 37.1562 16.8906 35.375 Q19.2812 33.5938 26.5156 31.9844 L29.5938 31.2969 Q39.1562 29.25 43.1875 25.5156 Q47.2188 21.7812 47.2188 15.0938 Q47.2188 7.4688 41.1875 3.0156 Q35.1562 -1.4219 24.6094 -1.4219 Q20.2188 -1.4219 15.4531 -0.5625 Q10.6875 0.2969 5.4219 2 L5.4219 11.2812 Q10.4062 8.6875 15.2344 7.3906 Q20.0625 6.1094 24.8125 6.1094 Q31.1562 6.1094 34.5625 8.2812 Q37.9844 10.4531 37.9844 14.4062 Q37.9844 18.0625 35.5156 20.0156 Q33.0625 21.9688 24.7031 23.7812 L21.5781 24.5156 Q13.2344 26.2656 9.5156 29.9062 Q5.8125 33.5469 5.8125 39.8906 Q5.8125 47.6094 11.2812 51.7969 Q16.75 56 26.8125 56 Q31.7812 56 36.1719 55.2656 Q40.5781 54.5469 44.2812 53.0781 Z\"/><glyph unicode=\"ó\" horiz-adv-x=\"61.0\" d=\"M30.6094 48.3906 Q23.3906 48.3906 19.1875 42.75 Q14.9844 37.1094 14.9844 27.2969 Q14.9844 17.4844 19.1562 11.8438 Q23.3438 6.2031 30.6094 6.2031 Q37.7969 6.2031 41.9844 11.8594 Q46.1875 17.5312 46.1875 27.2969 Q46.1875 37.0156 41.9844 42.7031 Q37.7969 48.3906 30.6094 48.3906 ZM30.6094 56 Q42.3281 56 49.0156 48.375 Q55.7188 40.7656 55.7188 27.2969 Q55.7188 13.875 49.0156 6.2188 Q42.3281 -1.4219 30.6094 -1.4219 Q18.8438 -1.4219 12.1719 6.2188 Q5.5156 13.875 5.5156 27.2969 Q5.5156 40.7656 12.1719 48.375 Q18.8438 56 30.6094 56 ZM37.3906 79.9844 L47.1094 79.9844 L31.2031 61.625 L23.7188 61.625 L37.3906 79.9844 Z\"/><glyph unicode=\"P\" horiz-adv-x=\"60.0\" d=\"M19.6719 64.7969 L19.6719 37.4062 L32.0781 37.4062 Q38.9688 37.4062 42.7188 40.9688 Q46.4844 44.5312 46.4844 51.125 Q46.4844 57.6719 42.7188 61.2344 Q38.9688 64.7969 32.0781 64.7969 L19.6719 64.7969 ZM9.8125 72.9062 L32.0781 72.9062 Q44.3438 72.9062 50.6094 67.3594 Q56.8906 61.8125 56.8906 51.125 Q56.8906 40.3281 50.6094 34.8125 Q44.3438 29.2969 32.0781 29.2969 L19.6719 29.2969 L19.6719 0 L9.8125 0 L9.8125 72.9062 Z\"/><glyph unicode=\"Z\" horiz-adv-x=\"69.0\" d=\"M5.6094 72.9062 L62.8906 72.9062 L62.8906 65.375 L16.7969 8.2969 L64.0156 8.2969 L64.0156 0 L4.5 0 L4.5 7.5156 L50.5938 64.5938 L5.6094 64.5938 L5.6094 72.9062 Z\"/><glyph unicode=\"ã\" horiz-adv-x=\"61.0\" d=\"M34.2812 27.4844 Q23.3906 27.4844 19.1875 25 Q14.9844 22.5156 14.9844 16.5 Q14.9844 11.7188 18.1406 8.9062 Q21.2969 6.1094 26.7031 6.1094 Q34.1875 6.1094 38.7031 11.4062 Q43.2188 16.7031 43.2188 25.4844 L43.2188 27.4844 L34.2812 27.4844 ZM52.2031 31.2031 L52.2031 0 L43.2188 0 L43.2188 8.2969 Q40.1406 3.3281 35.5469 0.9531 Q30.9531 -1.4219 24.3125 -1.4219 Q15.9219 -1.4219 10.9531 3.2969 Q6 8.0156 6 15.9219 Q6 25.1406 12.1719 29.8281 Q18.3594 34.5156 30.6094 34.5156 L43.2188 34.5156 L43.2188 35.4062 Q43.2188 41.6094 39.1406 45 Q35.0625 48.3906 27.6875 48.3906 Q23 48.3906 18.5469 47.2656 Q14.1094 46.1406 10.0156 43.8906 L10.0156 52.2031 Q14.9375 54.1094 19.5781 55.0469 Q24.2188 56 28.6094 56 Q40.4844 56 46.3438 49.8438 Q52.2031 43.7031 52.2031 31.2031 ZM28.8125 66.8906 L26.0156 69.5781 Q24.9531 70.5625 24.1406 71.0156 Q23.3438 71.4844 22.7031 71.4844 Q20.8438 71.4844 19.9688 69.7031 Q19.0938 67.9219 18.9844 63.9219 L12.8906 63.9219 Q12.9844 70.5156 15.4688 74.0938 Q17.9688 77.6875 22.4062 77.6875 Q24.2656 77.6875 25.8281 77 Q27.3906 76.3125 29.2031 74.7031 L31.9844 72.0156 Q33.0469 71.0469 33.8594 70.5781 Q34.6719 70.125 35.2969 70.125 Q37.1562 70.125 38.0312 71.9062 Q38.9062 73.6875 39.0156 77.6875 L45.1094 77.6875 Q45.0156 71.0938 42.5156 67.5 Q40.0312 63.9219 35.5938 63.9219 Q33.7344 63.9219 32.1719 64.5938 Q30.6094 65.2812 28.8125 66.8906 Z\"/><glyph unicode=\"t\" horiz-adv-x=\"39.0\" d=\"M18.3125 70.2188 L18.3125 54.6875 L36.8125 54.6875 L36.8125 47.7031 L18.3125 47.7031 L18.3125 18.0156 Q18.3125 11.3281 20.1406 9.4219 Q21.9688 7.5156 27.5938 7.5156 L36.8125 7.5156 L36.8125 0 L27.5938 0 Q17.1875 0 13.2344 3.875 Q9.2812 7.7656 9.2812 18.0156 L9.2812 47.7031 L2.6875 47.7031 L2.6875 54.6875 L9.2812 54.6875 L9.2812 70.2188 L18.3125 70.2188 Z\"/><glyph unicode=\"d\" horiz-adv-x=\"63.0\" d=\"M45.4062 46.3906 L45.4062 75.9844 L54.3906 75.9844 L54.3906 0 L45.4062 0 L45.4062 8.2031 Q42.5781 3.3281 38.25 0.9531 Q33.9375 -1.4219 27.875 -1.4219 Q17.9688 -1.4219 11.7344 6.4844 Q5.5156 14.4062 5.5156 27.2969 Q5.5156 40.1875 11.7344 48.0938 Q17.9688 56 27.875 56 Q33.9375 56 38.25 53.625 Q42.5781 51.2656 45.4062 46.3906 ZM14.7969 27.2969 Q14.7969 17.3906 18.875 11.75 Q22.9531 6.1094 30.0781 6.1094 Q37.2031 6.1094 41.2969 11.75 Q45.4062 17.3906 45.4062 27.2969 Q45.4062 37.2031 41.2969 42.8438 Q37.2031 48.4844 30.0781 48.4844 Q22.9531 48.4844 18.875 42.8438 Q14.7969 37.2031 14.7969 27.2969 Z\"/><glyph unicode=\"z\" horiz-adv-x=\"52.0\" d=\"M5.5156 54.6875 L48.1875 54.6875 L48.1875 46.4844 L14.4062 7.1719 L48.1875 7.1719 L48.1875 0 L4.2969 0 L4.2969 8.2031 L38.0938 47.5156 L5.5156 47.5156 L5.5156 54.6875 Z\"/></font></defs><g style=\"fill:white; text-rendering:optimizeLegibility; stroke:white;\"><rect x=\"0\" width=\"554\" height=\"336\" y=\"0\" style=\"stroke:none;\"/></g><g style=\"stroke-linecap:butt; fill:white; text-rendering:geometricPrecision; stroke-linejoin:bevel; shape-rendering:crispEdges; stroke:white; stroke-width:0;\"><path style=\"stroke:none;\" d=\"M484.75 42 L484.75 290 L69.25 42 Z\"/><path style=\"stroke:none;\" d=\"M484.75 290 L69.25 290 L69.25 42 Z\"/><path style=\"stroke:none;\" d=\"M484.75 42 L484.75 290 L484.75 290 Z\"/><path style=\"stroke:none;\" d=\"M69.25 42 L69.25 290 L69.25 290 Z\"/><path style=\"stroke:none;\" d=\"M484.75 42 L484.75 290 L69.25 42 Z\"/><path style=\"stroke:none;\" d=\"M484.75 290 L69.25 290 L69.25 42 Z\"/><path style=\"stroke:none;\" d=\"M484.75 42 L484.75 42 L484.75 290 Z\"/><path style=\"stroke:none;\" d=\"M69.25 42 L69.25 42 L69.25 290 Z\"/><path style=\"stroke:none;\" d=\"M484.75 42 L69.25 42 L484.75 42 Z\"/><path style=\"stroke:none;\" d=\"M69.25 42 L69.25 42 L484.75 42 Z\"/><path style=\"stroke:none;\" d=\"M484.75 290 L69.25 290 L484.75 290 Z\"/><path style=\"stroke:none;\" d=\"M69.25 290 L69.25 290 L484.75 290 Z\"/></g><g style=\"fill:rgb(190,190,190); text-rendering:geometricPrecision; stroke-dasharray:1,1; shape-rendering:crispEdges; stroke-linecap:butt; stroke:rgb(190,190,190);\"><path style=\"fill:none;\" d=\"M69.25 290 L69.25 42\"/><path style=\"fill:none;\" d=\"M69.25 290 L69.25 290\"/><path style=\"fill:none;\" d=\"M121.1875 290 L121.1875 42\"/><path style=\"fill:none;\" d=\"M121.1875 290 L121.1875 290\"/><path style=\"fill:none;\" d=\"M173.125 290 L173.125 42\"/><path style=\"fill:none;\" d=\"M173.125 290 L173.125 290\"/><path style=\"fill:none;\" d=\"M225.0625 290 L225.0625 42\"/><path style=\"fill:none;\" d=\"M225.0625 290 L225.0625 290\"/><path style=\"fill:none;\" d=\"M277 290 L277 42\"/><path style=\"fill:none;\" d=\"M277 290 L277 290\"/><path style=\"fill:none;\" d=\"M328.9375 290 L328.9375 42\"/><path style=\"fill:none;\" d=\"M328.9375 290 L328.9375 290\"/><path style=\"fill:none;\" d=\"M380.875 290 L380.875 42\"/><path style=\"fill:none;\" d=\"M380.875 290 L380.875 290\"/><path style=\"fill:none;\" d=\"M432.8125 290 L432.8125 42\"/><path style=\"fill:none;\" d=\"M432.8125 290 L432.8125 290\"/><path style=\"fill:none;\" d=\"M484.75 290 L484.75 42\"/><path style=\"fill:none;\" d=\"M484.75 290 L484.75 290\"/><path style=\"fill:none;\" d=\"M69.25 265.2 L484.75 265.2\"/><path style=\"fill:none;\" d=\"M69.25 265.2 L69.25 265.2\"/><path style=\"fill:none;\" d=\"M69.25 215.6 L484.75 215.6\"/><path style=\"fill:none;\" d=\"M69.25 215.6 L69.25 215.6\"/><path style=\"fill:none;\" d=\"M69.25 166 L484.75 166\"/><path style=\"fill:none;\" d=\"M69.25 166 L69.25 166\"/><path style=\"fill:none;\" d=\"M69.25 116.4 L484.75 116.4\"/><path style=\"fill:none;\" d=\"M69.25 116.4 L69.25 116.4\"/><path style=\"fill:none;\" d=\"M69.25 66.8 L484.75 66.8\"/><path style=\"fill:none;\" d=\"M69.25 66.8 L69.25 66.8\"/></g><g transform=\"translate(324.9375,299)\" style=\"font-size:10px; stroke-linecap:butt; text-rendering:geometricPrecision; font-family:sans-serif; stroke-linejoin:bevel; stroke-width:0;\"><text x=\"-0.6562\" xml:space=\"preserve\" y=\"9.2822\" style=\"stroke:none;\">0</text></g><g transform=\"translate(60.25,299)\" style=\"font-size:10px; stroke-linecap:butt; text-rendering:geometricPrecision; font-family:sans-serif; stroke-linejoin:bevel; stroke-width:0;\"><text x=\"-0.4844\" xml:space=\"preserve\" y=\"9.2822\" style=\"stroke:none;\">-10</text></g><g transform=\"translate(115.1875,299)\" style=\"font-size:10px; stroke-linecap:butt; text-rendering:geometricPrecision; font-family:sans-serif; stroke-linejoin:bevel; stroke-width:0;\"><text x=\"-0.4844\" xml:space=\"preserve\" y=\"9.2822\" style=\"stroke:none;\">-8</text></g><g transform=\"translate(167.125,299)\" style=\"font-size:10px; stroke-linecap:butt; text-rendering:geometricPrecision; font-family:sans-serif; stroke-linejoin:bevel; stroke-width:0;\"><text x=\"-0.4844\" xml:space=\"preserve\" y=\"9.2822\" style=\"stroke:none;\">-6</text></g><g transform=\"translate(219.0625,299)\" style=\"font-size:10px; stroke-linecap:butt; text-rendering:geometricPrecision; font-family:sans-serif; stroke-linejoin:bevel; stroke-width:0;\"><text x=\"-0.4844\" xml:space=\"preserve\" y=\"9.2822\" style=\"stroke:none;\">-4</text></g><g transform=\"translate(271.5,299)\" style=\"font-size:10px; stroke-linecap:butt; text-rendering:geometricPrecision; font-family:sans-serif; stroke-linejoin:bevel; stroke-width:0;\"><text x=\"-0.4844\" xml:space=\"preserve\" y=\"9.2822\" style=\"stroke:none;\">-2</text></g><g transform=\"translate(377.375,299)\" style=\"font-size:10px; stroke-linecap:butt; text-rendering:geometricPrecision; font-family:sans-serif; stroke-linejoin:bevel; stroke-width:0;\"><text x=\"-0.7344\" xml:space=\"preserve\" y=\"9.2822\" style=\"stroke:none;\">2</text></g><g transform=\"translate(428.8125,299)\" style=\"font-size:10px; stroke-linecap:butt; text-rendering:geometricPrecision; font-family:sans-serif; stroke-linejoin:bevel; stroke-width:0;\"><text x=\"-0.4844\" xml:space=\"preserve\" y=\"9.2822\" style=\"stroke:none;\">4</text></g><g transform=\"translate(480.75,299)\" style=\"font-size:10px; stroke-linecap:butt; text-rendering:geometricPrecision; font-family:sans-serif; stroke-linejoin:bevel; stroke-width:0;\"><text x=\"-0.7031\" xml:space=\"preserve\" y=\"9.2822\" style=\"stroke:none;\">6</text></g><g style=\"text-rendering:geometricPrecision; font-size:10px; shape-rendering:crispEdges; font-family:sans-serif; stroke-linecap:butt;\"><path style=\"fill:none;\" d=\"M69.25 290 L69.25 296\"/><path style=\"fill:none;\" d=\"M121.1875 290 L121.1875 296\"/><path style=\"fill:none;\" d=\"M173.125 290 L173.125 296\"/><path style=\"fill:none;\" d=\"M225.0625 290 L225.0625 296\"/><path style=\"fill:none;\" d=\"M277 290 L277 296\"/><path style=\"fill:none;\" d=\"M328.9375 290 L328.9375 296\"/><path style=\"fill:none;\" d=\"M380.875 290 L380.875 296\"/><path style=\"fill:none;\" d=\"M432.8125 290 L432.8125 296\"/><path style=\"fill:none;\" d=\"M484.75 290 L484.75 296\"/><path style=\"fill:none;\" d=\"M69.25 290 L69.25 293\"/><path style=\"fill:none;\" d=\"M95.2188 290 L95.2188 293\"/><path style=\"fill:none;\" d=\"M121.1875 290 L121.1875 293\"/><path style=\"fill:none;\" d=\"M147.1562 290 L147.1562 293\"/><path style=\"fill:none;\" d=\"M173.125 290 L173.125 293\"/><path style=\"fill:none;\" d=\"M199.0938 290 L199.0938 293\"/><path style=\"fill:none;\" d=\"M225.0625 290 L225.0625 293\"/><path style=\"fill:none;\" d=\"M251.0312 290 L251.0312 293\"/><path style=\"fill:none;\" d=\"M277 290 L277 293\"/><path style=\"fill:none;\" d=\"M302.9688 290 L302.9688 293\"/><path style=\"fill:none;\" d=\"M328.9375 290 L328.9375 293\"/><path style=\"fill:none;\" d=\"M354.9062 290 L354.9062 293\"/><path style=\"fill:none;\" d=\"M380.875 290 L380.875 293\"/><path style=\"fill:none;\" d=\"M406.8438 290 L406.8438 293\"/><path style=\"fill:none;\" d=\"M432.8125 290 L432.8125 293\"/><path style=\"fill:none;\" d=\"M458.7812 290 L458.7812 293\"/><path style=\"fill:none;\" d=\"M484.75 290 L484.75 293\"/><path style=\"fill:none;\" d=\"M484.75 290 L69.25 290\"/><text x=\"-0.6562\" y=\"9.2822\" transform=\"translate(52.25,159.5)\" style=\"stroke-linejoin:bevel; shape-rendering:auto; stroke:none; stroke-width:0;\" xml:space=\"preserve\">0</text></g><g transform=\"translate(48.25,258.7)\" style=\"font-size:10px; stroke-linecap:butt; text-rendering:geometricPrecision; font-family:sans-serif; stroke-linejoin:bevel; stroke-width:0;\"><text x=\"-0.4844\" xml:space=\"preserve\" y=\"9.2822\" style=\"stroke:none;\">-4</text></g><g transform=\"translate(49.25,209.1)\" style=\"font-size:10px; stroke-linecap:butt; text-rendering:geometricPrecision; font-family:sans-serif; stroke-linejoin:bevel; stroke-width:0;\"><text x=\"-0.4844\" xml:space=\"preserve\" y=\"9.2822\" style=\"stroke:none;\">-2</text></g><g transform=\"translate(53.25,109.9)\" style=\"font-size:10px; stroke-linecap:butt; text-rendering:geometricPrecision; font-family:sans-serif; stroke-linejoin:bevel; stroke-width:0;\"><text x=\"-0.7344\" xml:space=\"preserve\" y=\"9.2822\" style=\"stroke:none;\">2</text></g><g transform=\"translate(52.25,60.3)\" style=\"font-size:10px; stroke-linecap:butt; text-rendering:geometricPrecision; font-family:sans-serif; stroke-linejoin:bevel; stroke-width:0;\"><text x=\"-0.4844\" xml:space=\"preserve\" y=\"9.2822\" style=\"stroke:none;\">4</text></g><g style=\"text-rendering:geometricPrecision; font-size:10px; shape-rendering:crispEdges; font-family:sans-serif; stroke-linecap:butt;\"><path style=\"fill:none;\" d=\"M69.25 265.2 L63.25 265.2\"/><path style=\"fill:none;\" d=\"M69.25 215.6 L63.25 215.6\"/><path style=\"fill:none;\" d=\"M69.25 166 L63.25 166\"/><path style=\"fill:none;\" d=\"M69.25 116.4 L63.25 116.4\"/><path style=\"fill:none;\" d=\"M69.25 66.8 L63.25 66.8\"/><path style=\"fill:none;\" d=\"M69.25 290 L66.25 290\"/><path style=\"fill:none;\" d=\"M69.25 265.2 L66.25 265.2\"/><path style=\"fill:none;\" d=\"M69.25 240.4 L66.25 240.4\"/><path style=\"fill:none;\" d=\"M69.25 215.6 L66.25 215.6\"/><path style=\"fill:none;\" d=\"M69.25 190.8 L66.25 190.8\"/><path style=\"fill:none;\" d=\"M69.25 166 L66.25 166\"/><path style=\"fill:none;\" d=\"M69.25 141.2 L66.25 141.2\"/><path style=\"fill:none;\" d=\"M69.25 116.4 L66.25 116.4\"/><path style=\"fill:none;\" d=\"M69.25 91.6 L66.25 91.6\"/><path style=\"fill:none;\" d=\"M69.25 66.8 L66.25 66.8\"/><path style=\"fill:none;\" d=\"M69.25 42 L66.25 42\"/><path style=\"fill:none;\" d=\"M69.25 42 L69.25 290\"/></g><g transform=\"translate(248,315)\" style=\"text-rendering:geometricPrecision; stroke-width:0; font-family:sans-serif; stroke-linecap:butt; stroke-linejoin:bevel;\"><text x=\"0.8281\" xml:space=\"preserve\" y=\"13.1387\" style=\"stroke:none;\">Eixo real</text></g><g transform=\"translate(45.25,166) rotate(270) translate(-49,-19)\" style=\"text-rendering:geometricPrecision; stroke-width:0; font-family:sans-serif; stroke-linecap:butt; stroke-linejoin:bevel;\"><text x=\"0.8281\" xml:space=\"preserve\" y=\"13.1387\" style=\"stroke:none;\">Eixo imaginário</text></g><g transform=\"translate(328.9245,166)\" style=\"stroke-linecap:butt; fill:white; text-rendering:geometricPrecision; font-family:sans-serif; stroke-linejoin:bevel; stroke:white; stroke-width:0;\"><polygon style=\"stroke:none;\" points=\" -3 0 0 -3 3 0 0 3\"/></g><g style=\"text-rendering:geometricPrecision; font-family:sans-serif; stroke-linecap:butt;\" transform=\"translate(328.9245,166)\"><path style=\"fill:none;\" d=\"M-3 0 L0 -3 L3 0 L0 3 L-3 0\"/></g><g transform=\"translate(315.9531,133.1927)\" style=\"stroke-linecap:butt; fill:white; text-rendering:geometricPrecision; font-family:sans-serif; stroke-linejoin:bevel; stroke:white; stroke-width:0;\"><polygon style=\"stroke:none;\" points=\" -3 0 0 -3 3 0 0 3\"/></g><g style=\"text-rendering:geometricPrecision; font-family:sans-serif; stroke-linecap:butt;\" transform=\"translate(315.9531,133.1927)\"><path style=\"fill:none;\" d=\"M-3 0 L0 -3 L3 0 L0 3 L-3 0\"/></g><g transform=\"translate(315.9531,198.8073)\" style=\"stroke-linecap:butt; fill:white; text-rendering:geometricPrecision; font-family:sans-serif; stroke-linejoin:bevel; stroke:white; stroke-width:0;\"><polygon style=\"stroke:none;\" points=\" -3 0 0 -3 3 0 0 3\"/></g><g style=\"text-rendering:geometricPrecision; font-family:sans-serif; stroke-linecap:butt;\" transform=\"translate(315.9531,198.8073)\"><path style=\"fill:none;\" d=\"M-3 0 L0 -3 L3 0 L0 3 L-3 0\"/></g><g style=\"text-rendering:geometricPrecision; font-family:sans-serif; stroke-linecap:butt;\" transform=\"translate(245.6376,68.6679)\"><path style=\"fill:none;\" d=\"M-4 -4 L4 4\"/><path style=\"fill:none;\" d=\"M-4 4 L4 -4\"/></g><g style=\"text-rendering:geometricPrecision; font-family:sans-serif; stroke-linecap:butt;\" transform=\"translate(245.6376,263.3321)\"><path style=\"fill:none;\" d=\"M-4 -4 L4 4\"/><path style=\"fill:none;\" d=\"M-4 4 L4 -4\"/></g><g style=\"text-rendering:geometricPrecision; font-family:sans-serif; stroke-linecap:butt;\" transform=\"translate(321.3532,135.9164)\"><path style=\"fill:none;\" d=\"M-4 -4 L4 4\"/><path style=\"fill:none;\" d=\"M-4 4 L4 -4\"/></g><g style=\"text-rendering:geometricPrecision; font-family:sans-serif; stroke-linecap:butt;\" transform=\"translate(321.3532,196.0836)\"><path style=\"fill:none;\" d=\"M-4 -4 L4 4\"/><path style=\"fill:none;\" d=\"M-4 4 L4 -4\"/></g><g style=\"text-rendering:geometricPrecision; font-family:sans-serif; stroke-linecap:butt;\" transform=\"translate(328.9245,166)\"><path style=\"fill:none;\" d=\"M-4 -4 L4 4\"/><path style=\"fill:none;\" d=\"M-4 4 L4 -4\"/></g><g style=\"text-rendering:geometricPrecision; shape-rendering:crispEdges; font-family:sans-serif; stroke-linecap:butt;\"><path style=\"fill:none;\" d=\"M328.9375 273.0653 L328.9375 58.9347\"/><path style=\"fill:none;\" d=\"M69.25 290 L69.25 42 L69.25 42 L484.75 42 L484.75 290 L484.75 290 L69.25 290\"/><path style=\"fill:none;\" d=\"M484.75 42 L69.25 42\"/><path style=\"fill:none;\" d=\"M484.75 42 L484.75 290\"/><path style=\"fill:none;\" d=\"M484.75 42 L484.75 42\"/></g><g style=\"stroke-linecap:butt; fill:white; text-rendering:geometricPrecision; font-family:sans-serif; stroke-linejoin:bevel; shape-rendering:crispEdges; stroke:white; stroke-width:0;\"><path style=\"stroke:none;\" d=\"M389.425 81.44 L479.5562 81.44 L479.5562 44.48 Z\"/><path style=\"stroke:none;\" d=\"M389.425 81.44 L479.5562 44.48 L389.425 44.48 Z\"/></g><g style=\"text-rendering:geometricPrecision; shape-rendering:crispEdges; font-family:sans-serif; stroke-linecap:butt;\"><path style=\"fill:none;\" d=\"M389.425 81.44 L479.5562 81.44\"/><path style=\"fill:none;\" d=\"M479.5562 81.44 L479.5562 44.48\"/><path style=\"fill:none;\" d=\"M479.5562 44.48 L389.425 44.48\"/><path style=\"fill:none;\" d=\"M389.425 44.48 L389.425 81.44\"/></g><g transform=\"translate(394.6187,69.96)\" style=\"stroke-linecap:butt; fill:white; text-rendering:geometricPrecision; font-family:sans-serif; stroke-linejoin:bevel; stroke:white; stroke-width:0;\"><polygon style=\"stroke:none;\" points=\" -3 0 0 -3 3 0 0 3\"/></g><g style=\"text-rendering:geometricPrecision; font-family:sans-serif; stroke-linecap:butt;\" transform=\"translate(394.6187,69.96)\"><path style=\"fill:none;\" d=\"M-3 0 L0 -3 L3 0 L0 3 L-3 0\"/></g><g transform=\"translate(415.3937,69.96)\" style=\"stroke-linecap:butt; fill:white; text-rendering:geometricPrecision; font-family:sans-serif; stroke-linejoin:bevel; stroke:white; stroke-width:0;\"><polygon style=\"stroke:none;\" points=\" -3 0 0 -3 3 0 0 3\"/></g><g style=\"text-rendering:geometricPrecision; font-family:sans-serif; stroke-linecap:butt;\" transform=\"translate(415.3937,69.96)\"><path style=\"fill:none;\" d=\"M-3 0 L0 -3 L3 0 L0 3 L-3 0\"/></g><g transform=\"translate(436.1687,69.96)\" style=\"stroke-linecap:butt; fill:white; text-rendering:geometricPrecision; font-family:sans-serif; stroke-linejoin:bevel; stroke:white; stroke-width:0;\"><polygon style=\"stroke:none;\" points=\" -3 0 0 -3 3 0 0 3\"/></g><g style=\"text-rendering:geometricPrecision; font-family:sans-serif; stroke-linecap:butt;\" transform=\"translate(436.1687,69.96)\"><path style=\"fill:none;\" d=\"M-3 0 L0 -3 L3 0 L0 3 L-3 0\"/></g><g style=\"text-rendering:geometricPrecision; font-family:sans-serif; stroke-linecap:butt;\" transform=\"translate(394.6187,55.96)\"><path style=\"fill:none;\" d=\"M-4 -4 L4 4\"/><path style=\"fill:none;\" d=\"M-4 4 L4 -4\"/></g><g style=\"text-rendering:geometricPrecision; font-family:sans-serif; stroke-linecap:butt;\" transform=\"translate(415.3937,55.96)\"><path style=\"fill:none;\" d=\"M-4 -4 L4 4\"/><path style=\"fill:none;\" d=\"M-4 4 L4 -4\"/></g><g style=\"text-rendering:geometricPrecision; font-family:sans-serif; stroke-linecap:butt;\" transform=\"translate(436.1687,55.96)\"><path style=\"fill:none;\" d=\"M-4 -4 L4 4\"/><path style=\"fill:none;\" d=\"M-4 4 L4 -4\"/></g><g transform=\"translate(441.3625,46.96)\" style=\"stroke-linecap:butt; fill:white; text-rendering:geometricPrecision; font-family:sans-serif; stroke-linejoin:bevel; stroke:white; stroke-width:0;\"><rect x=\"0\" width=\"33\" height=\"32\" y=\"0\" style=\"stroke:none;\"/><text x=\"1.0156\" y=\"11.2822\" style=\"fill:black; font-size:10px; stroke:none;\" xml:space=\"preserve\">Pólos</text><text x=\"1.5469\" y=\"26.2822\" style=\"fill:black; font-size:10px; stroke:none;\" xml:space=\"preserve\">Zeros</text></g><g transform=\"translate(173,12)\" style=\"font-size:14px; stroke-linecap:butt; text-rendering:geometricPrecision; font-family:sans-serif; stroke-linejoin:bevel; stroke-width:0;\"><text x=\"0.625\" xml:space=\"preserve\" y=\"14.9951\" style=\"stroke:none;\">Pólos e zeros de transmissão</text></g></g></svg>",
      "text/plain": [
       "<IPython.core.display.SVG object>"
      ]
     },
     "metadata": {},
     "output_type": "display_data"
    }
   ],
   "source": [
    "plzr(MF) // Também pode ser feito usando ssMF"
   ]
  },
  {
   "cell_type": "code",
   "execution_count": 22,
   "metadata": {},
   "outputs": [
    {
     "name": "stdout",
     "output_type": "stream",
     "text": [
      "\u001b[4l\u001b[0m poles  = \n",
      "\n",
      "  -3.2076964 + 3.9246816i\n",
      "  -3.2076964 - 3.9246816i\n",
      "  -0.2920536 + 1.213048i \n",
      "  -0.2920536 - 1.213048i \n",
      "  -0.0005    + 0.i       \n",
      "\n",
      "\u001b[0m\u001b[4l\u001b[0m zero  = \n",
      "\n",
      "  -0.5    + 1.3228757i\n",
      "  -0.5    - 1.3228757i\n",
      "  -0.0005 + 0.i       \n",
      "\n",
      "\u001b[0m"
     ]
    }
   ],
   "source": [
    "poles = roots(MF.den)\n",
    "zero = roots(MF.num)"
   ]
  },
  {
   "cell_type": "markdown",
   "metadata": {},
   "source": [
    "Para verificar estabilidade da função transferência:"
   ]
  },
  {
   "cell_type": "code",
   "execution_count": 23,
   "metadata": {},
   "outputs": [
    {
     "name": "stdout",
     "output_type": "stream",
     "text": [
      "\u001b[4l\u001b[0m r  = \n",
      "\n",
      "   1.          31.         40.01\n",
      "   7.          25.01       0.02 \n",
      "   27.427143   40.007143   0.   \n",
      "   14.799312   0.02        0.   \n",
      "   39.970077   0.          0.   \n",
      "   0.02        0.          0.   \n",
      "\n",
      "\u001b[0m\u001b[4l\u001b[0m\n",
      "\u001b[0m\u001b[4l\u001b[0m ans  =\n",
      "\n",
      "   1.\n",
      "\n",
      "\u001b[0m"
     ]
    }
   ],
   "source": [
    "r = routh_t(polinomio)\n",
    "\n",
    "(sign(prod(sign(r(:,1))+1))+1)/2"
   ]
  },
  {
   "cell_type": "markdown",
   "metadata": {},
   "source": [
    "Para ver o mapa de pólos e zeros:"
   ]
  },
  {
   "cell_type": "code",
   "execution_count": 24,
   "metadata": {},
   "outputs": [
    {
     "name": "stdout",
     "output_type": "stream",
     "text": [
      "\u001b[4l\u001b[0m\n",
      "\u001b[0m"
     ]
    },
    {
     "data": {
      "image/svg+xml": "<svg xmlns:xlink=\"http://www.w3.org/1999/xlink\" xmlns=\"http://www.w3.org/2000/svg\" style=\"fill-opacity:1; color-rendering:auto; color-interpolation:auto; text-rendering:auto; stroke:black; stroke-linecap:square; stroke-miterlimit:10; shape-rendering:auto; stroke-opacity:1; fill:black; stroke-dasharray:none; font-weight:normal; stroke-width:1; font-family:'Dialog'; font-style:normal; stroke-linejoin:miter; font-size:12px; stroke-dashoffset:0; image-rendering:auto;\" width=\"548\" height=\"336\"><!--Generated by Scilab with Batik SVG Generator--><defs id=\"genericDefs\"/><g><defs id=\"defs1\"><font horiz-adv-x=\"60.0\" id=\"font1\"><font-face ascent=\"92.822266\" descent=\"23.583984\" units-per-em=\"100\" style=\"font-style:normal; font-family:sans-serif; font-weight:normal;\"/><missing-glyph horiz-adv-x=\"60.0\" d=\"M4.9844 -17.6719 L4.9844 70.5156 L54.9844 70.5156 L54.9844 -17.6719 L4.9844 -17.6719 ZM10.5938 -12.1094 L49.4219 -12.1094 L49.4219 64.8906 L10.5938 64.8906 L10.5938 -12.1094 Z\"/><glyph unicode=\"0\" horiz-adv-x=\"64.0\" d=\"M31.7812 66.4062 Q24.1719 66.4062 20.3281 58.9062 Q16.5 51.4219 16.5 36.375 Q16.5 21.3906 20.3281 13.8906 Q24.1719 6.3906 31.7812 6.3906 Q39.4531 6.3906 43.2812 13.8906 Q47.125 21.3906 47.125 36.375 Q47.125 51.4219 43.2812 58.9062 Q39.4531 66.4062 31.7812 66.4062 ZM31.7812 74.2188 Q44.0469 74.2188 50.5156 64.5156 Q56.9844 54.8281 56.9844 36.375 Q56.9844 17.9688 50.5156 8.2656 Q44.0469 -1.4219 31.7812 -1.4219 Q19.5312 -1.4219 13.0625 8.2656 Q6.5938 17.9688 6.5938 36.375 Q6.5938 54.8281 13.0625 64.5156 Q19.5312 74.2188 31.7812 74.2188 Z\"/><glyph unicode=\"1\" horiz-adv-x=\"64.0\" d=\"M12.4062 8.2969 L28.5156 8.2969 L28.5156 63.9219 L10.9844 60.4062 L10.9844 69.3906 L28.4219 72.9062 L38.2812 72.9062 L38.2812 8.2969 L54.3906 8.2969 L54.3906 0 L12.4062 0 L12.4062 8.2969 Z\"/><glyph unicode=\"-\" horiz-adv-x=\"36.0\" d=\"M4.8906 31.3906 L31.2031 31.3906 L31.2031 23.3906 L4.8906 23.3906 L4.8906 31.3906 Z\"/><glyph unicode=\"8\" horiz-adv-x=\"64.0\" d=\"M31.7812 34.625 Q24.75 34.625 20.7188 30.8594 Q16.7031 27.0938 16.7031 20.5156 Q16.7031 13.9219 20.7188 10.1562 Q24.75 6.3906 31.7812 6.3906 Q38.8125 6.3906 42.8594 10.1719 Q46.9219 13.9688 46.9219 20.5156 Q46.9219 27.0938 42.8906 30.8594 Q38.875 34.625 31.7812 34.625 ZM21.9219 38.8125 Q15.5781 40.375 12.0312 44.7188 Q8.5 49.0781 8.5 55.3281 Q8.5 64.0625 14.7188 69.1406 Q20.9531 74.2188 31.7812 74.2188 Q42.6719 74.2188 48.875 69.1406 Q55.0781 64.0625 55.0781 55.3281 Q55.0781 49.0781 51.5312 44.7188 Q48 40.375 41.7031 38.8125 Q48.8281 37.1562 52.7969 32.3125 Q56.7812 27.4844 56.7812 20.5156 Q56.7812 9.9062 50.3125 4.2344 Q43.8438 -1.4219 31.7812 -1.4219 Q19.7344 -1.4219 13.25 4.2344 Q6.7812 9.9062 6.7812 20.5156 Q6.7812 27.4844 10.7812 32.3125 Q14.7969 37.1562 21.9219 38.8125 ZM18.3125 54.3906 Q18.3125 48.7344 21.8438 45.5625 Q25.3906 42.3906 31.7812 42.3906 Q38.1406 42.3906 41.7188 45.5625 Q45.3125 48.7344 45.3125 54.3906 Q45.3125 60.0625 41.7188 63.2344 Q38.1406 66.4062 31.7812 66.4062 Q25.3906 66.4062 21.8438 63.2344 Q18.3125 60.0625 18.3125 54.3906 Z\"/><glyph unicode=\"6\" horiz-adv-x=\"64.0\" d=\"M33.0156 40.375 Q26.375 40.375 22.4844 35.8281 Q18.6094 31.2969 18.6094 23.3906 Q18.6094 15.5312 22.4844 10.9531 Q26.375 6.3906 33.0156 6.3906 Q39.6562 6.3906 43.5312 10.9531 Q47.4062 15.5312 47.4062 23.3906 Q47.4062 31.2969 43.5312 35.8281 Q39.6562 40.375 33.0156 40.375 ZM52.5938 71.2969 L52.5938 62.3125 Q48.875 64.0625 45.0938 64.9844 Q41.3125 65.9219 37.5938 65.9219 Q27.8281 65.9219 22.6719 59.3281 Q17.5312 52.7344 16.7969 39.4062 Q19.6719 43.6562 24.0156 45.9219 Q28.375 48.1875 33.5938 48.1875 Q44.5781 48.1875 50.9531 41.5156 Q57.3281 34.8594 57.3281 23.3906 Q57.3281 12.1562 50.6875 5.3594 Q44.0469 -1.4219 33.0156 -1.4219 Q20.3594 -1.4219 13.6719 8.2656 Q6.9844 17.9688 6.9844 36.375 Q6.9844 53.6562 15.1875 63.9375 Q23.3906 74.2188 37.2031 74.2188 Q40.9219 74.2188 44.7031 73.4844 Q48.4844 72.75 52.5938 71.2969 Z\"/><glyph unicode=\"4\" horiz-adv-x=\"64.0\" d=\"M37.7969 64.3125 L12.8906 25.3906 L37.7969 25.3906 L37.7969 64.3125 ZM35.2031 72.9062 L47.6094 72.9062 L47.6094 25.3906 L58.0156 25.3906 L58.0156 17.1875 L47.6094 17.1875 L47.6094 0 L37.7969 0 L37.7969 17.1875 L4.8906 17.1875 L4.8906 26.7031 L35.2031 72.9062 Z\"/><glyph unicode=\"2\" horiz-adv-x=\"64.0\" d=\"M19.1875 8.2969 L53.6094 8.2969 L53.6094 0 L7.3281 0 L7.3281 8.2969 Q12.9375 14.1094 22.625 23.8906 Q32.3281 33.6875 34.8125 36.5312 Q39.5469 41.8438 41.4219 45.5312 Q43.3125 49.2188 43.3125 52.7812 Q43.3125 58.5938 39.2344 62.25 Q35.1562 65.9219 28.6094 65.9219 Q23.9688 65.9219 18.8125 64.3125 Q13.6719 62.7031 7.8125 59.4219 L7.8125 69.3906 Q13.7656 71.7812 18.9375 73 Q24.125 74.2188 28.4219 74.2188 Q39.75 74.2188 46.4844 68.5469 Q53.2188 62.8906 53.2188 53.4219 Q53.2188 48.9219 51.5312 44.8906 Q49.8594 40.875 45.4062 35.4062 Q44.1875 33.9844 37.6406 27.2188 Q31.1094 20.4531 19.1875 8.2969 Z\"/><glyph unicode=\"l\" horiz-adv-x=\"28.0\" d=\"M9.4219 75.9844 L18.4062 75.9844 L18.4062 0 L9.4219 0 L9.4219 75.9844 Z\"/><glyph unicode=\"a\" horiz-adv-x=\"61.0\" d=\"M34.2812 27.4844 Q23.3906 27.4844 19.1875 25 Q14.9844 22.5156 14.9844 16.5 Q14.9844 11.7188 18.1406 8.9062 Q21.2969 6.1094 26.7031 6.1094 Q34.1875 6.1094 38.7031 11.4062 Q43.2188 16.7031 43.2188 25.4844 L43.2188 27.4844 L34.2812 27.4844 ZM52.2031 31.2031 L52.2031 0 L43.2188 0 L43.2188 8.2969 Q40.1406 3.3281 35.5469 0.9531 Q30.9531 -1.4219 24.3125 -1.4219 Q15.9219 -1.4219 10.9531 3.2969 Q6 8.0156 6 15.9219 Q6 25.1406 12.1719 29.8281 Q18.3594 34.5156 30.6094 34.5156 L43.2188 34.5156 L43.2188 35.4062 Q43.2188 41.6094 39.1406 45 Q35.0625 48.3906 27.6875 48.3906 Q23 48.3906 18.5469 47.2656 Q14.1094 46.1406 10.0156 43.8906 L10.0156 52.2031 Q14.9375 54.1094 19.5781 55.0469 Q24.2188 56 28.6094 56 Q40.4844 56 46.3438 49.8438 Q52.2031 43.7031 52.2031 31.2031 Z\"/><glyph unicode=\"e\" horiz-adv-x=\"62.0\" d=\"M56.2031 29.5938 L56.2031 25.2031 L14.8906 25.2031 Q15.4844 15.9219 20.4844 11.0625 Q25.4844 6.2031 34.4219 6.2031 Q39.5938 6.2031 44.4531 7.4688 Q49.3125 8.7344 54.1094 11.2812 L54.1094 2.7812 Q49.2656 0.7344 44.1875 -0.3438 Q39.1094 -1.4219 33.8906 -1.4219 Q20.7969 -1.4219 13.1562 6.1875 Q5.5156 13.8125 5.5156 26.8125 Q5.5156 40.2344 12.7656 48.1094 Q20.0156 56 32.3281 56 Q43.3594 56 49.7812 48.8906 Q56.2031 41.7969 56.2031 29.5938 ZM47.2188 32.2344 Q47.125 39.5938 43.0938 43.9844 Q39.0625 48.3906 32.4219 48.3906 Q24.9062 48.3906 20.3906 44.1406 Q15.875 39.8906 15.1875 32.1719 L47.2188 32.2344 Z\"/><glyph unicode=\"r\" horiz-adv-x=\"41.0\" d=\"M41.1094 46.2969 Q39.5938 47.1719 37.8125 47.5781 Q36.0312 48 33.8906 48 Q26.2656 48 22.1875 43.0469 Q18.1094 38.0938 18.1094 28.8125 L18.1094 0 L9.0781 0 L9.0781 54.6875 L18.1094 54.6875 L18.1094 46.1875 Q20.9531 51.1719 25.4844 53.5781 Q30.0312 56 36.5312 56 Q37.4531 56 38.5781 55.875 Q39.7031 55.7656 41.0625 55.5156 L41.1094 46.2969 Z\"/><glyph unicode=\" \" horiz-adv-x=\"32.0\" d=\"\"/><glyph unicode=\"o\" horiz-adv-x=\"61.0\" d=\"M30.6094 48.3906 Q23.3906 48.3906 19.1875 42.75 Q14.9844 37.1094 14.9844 27.2969 Q14.9844 17.4844 19.1562 11.8438 Q23.3438 6.2031 30.6094 6.2031 Q37.7969 6.2031 41.9844 11.8594 Q46.1875 17.5312 46.1875 27.2969 Q46.1875 37.0156 41.9844 42.7031 Q37.7969 48.3906 30.6094 48.3906 ZM30.6094 56 Q42.3281 56 49.0156 48.375 Q55.7188 40.7656 55.7188 27.2969 Q55.7188 13.875 49.0156 6.2188 Q42.3281 -1.4219 30.6094 -1.4219 Q18.8438 -1.4219 12.1719 6.2188 Q5.5156 13.875 5.5156 27.2969 Q5.5156 40.7656 12.1719 48.375 Q18.8438 56 30.6094 56 Z\"/><glyph unicode=\"x\" horiz-adv-x=\"59.0\" d=\"M54.8906 54.6875 L35.1094 28.0781 L55.9062 0 L45.3125 0 L29.3906 21.4844 L13.4844 0 L2.875 0 L24.125 28.6094 L4.6875 54.6875 L15.2812 54.6875 L29.7812 35.2031 L44.2812 54.6875 L54.8906 54.6875 Z\"/><glyph unicode=\"i\" horiz-adv-x=\"28.0\" d=\"M9.4219 54.6875 L18.4062 54.6875 L18.4062 0 L9.4219 0 L9.4219 54.6875 ZM9.4219 75.9844 L18.4062 75.9844 L18.4062 64.5938 L9.4219 64.5938 L9.4219 75.9844 Z\"/><glyph unicode=\"E\" horiz-adv-x=\"63.0\" d=\"M9.8125 72.9062 L55.9062 72.9062 L55.9062 64.5938 L19.6719 64.5938 L19.6719 43.0156 L54.3906 43.0156 L54.3906 34.7188 L19.6719 34.7188 L19.6719 8.2969 L56.7812 8.2969 L56.7812 0 L9.8125 0 L9.8125 72.9062 Z\"/><glyph unicode=\"á\" horiz-adv-x=\"61.0\" d=\"M34.2812 27.4844 Q23.3906 27.4844 19.1875 25 Q14.9844 22.5156 14.9844 16.5 Q14.9844 11.7188 18.1406 8.9062 Q21.2969 6.1094 26.7031 6.1094 Q34.1875 6.1094 38.7031 11.4062 Q43.2188 16.7031 43.2188 25.4844 L43.2188 27.4844 L34.2812 27.4844 ZM52.2031 31.2031 L52.2031 0 L43.2188 0 L43.2188 8.2969 Q40.1406 3.3281 35.5469 0.9531 Q30.9531 -1.4219 24.3125 -1.4219 Q15.9219 -1.4219 10.9531 3.2969 Q6 8.0156 6 15.9219 Q6 25.1406 12.1719 29.8281 Q18.3594 34.5156 30.6094 34.5156 L43.2188 34.5156 L43.2188 35.4062 Q43.2188 41.6094 39.1406 45 Q35.0625 48.3906 27.6875 48.3906 Q23 48.3906 18.5469 47.2656 Q14.1094 46.1406 10.0156 43.8906 L10.0156 52.2031 Q14.9375 54.1094 19.5781 55.0469 Q24.2188 56 28.6094 56 Q40.4844 56 46.3438 49.8438 Q52.2031 43.7031 52.2031 31.2031 ZM35.7812 79.9844 L45.5 79.9844 L29.5938 61.625 L22.1094 61.625 L35.7812 79.9844 Z\"/><glyph unicode=\"n\" horiz-adv-x=\"63.0\" d=\"M54.8906 33.0156 L54.8906 0 L45.9062 0 L45.9062 32.7188 Q45.9062 40.4844 42.875 44.3281 Q39.8438 48.1875 33.7969 48.1875 Q26.5156 48.1875 22.3125 43.5469 Q18.1094 38.9219 18.1094 30.9062 L18.1094 0 L9.0781 0 L9.0781 54.6875 L18.1094 54.6875 L18.1094 46.1875 Q21.3438 51.125 25.7031 53.5625 Q30.0781 56 35.7969 56 Q45.2188 56 50.0469 50.1719 Q54.8906 44.3438 54.8906 33.0156 Z\"/><glyph unicode=\"g\" horiz-adv-x=\"63.0\" d=\"M45.4062 27.9844 Q45.4062 37.75 41.375 43.1094 Q37.3594 48.4844 30.0781 48.4844 Q22.8594 48.4844 18.8281 43.1094 Q14.7969 37.75 14.7969 27.9844 Q14.7969 18.2656 18.8281 12.8906 Q22.8594 7.5156 30.0781 7.5156 Q37.3594 7.5156 41.375 12.8906 Q45.4062 18.2656 45.4062 27.9844 ZM54.3906 6.7812 Q54.3906 -7.1719 48.1875 -13.9844 Q42 -20.7969 29.2031 -20.7969 Q24.4688 -20.7969 20.2656 -20.0938 Q16.0625 -19.3906 12.1094 -17.9219 L12.1094 -9.1875 Q16.0625 -11.3281 19.9219 -12.3438 Q23.7812 -13.375 27.7812 -13.375 Q36.625 -13.375 41.0156 -8.7656 Q45.4062 -4.1562 45.4062 5.1719 L45.4062 9.625 Q42.625 4.7812 38.2812 2.3906 Q33.9375 0 27.875 0 Q17.8281 0 11.6719 7.6562 Q5.5156 15.3281 5.5156 27.9844 Q5.5156 40.6719 11.6719 48.3281 Q17.8281 56 27.875 56 Q33.9375 56 38.2812 53.6094 Q42.625 51.2188 45.4062 46.3906 L45.4062 54.6875 L54.3906 54.6875 L54.3906 6.7812 Z\"/><glyph unicode=\"m\" horiz-adv-x=\"97.0\" d=\"M52 44.1875 Q55.375 50.25 60.0625 53.125 Q64.75 56 71.0938 56 Q79.6406 56 84.2812 50.0156 Q88.9219 44.0469 88.9219 33.0156 L88.9219 0 L79.8906 0 L79.8906 32.7188 Q79.8906 40.5781 77.0938 44.375 Q74.3125 48.1875 68.6094 48.1875 Q61.625 48.1875 57.5625 43.5469 Q53.5156 38.9219 53.5156 30.9062 L53.5156 0 L44.4844 0 L44.4844 32.7188 Q44.4844 40.625 41.7031 44.4062 Q38.9219 48.1875 33.1094 48.1875 Q26.2188 48.1875 22.1562 43.5312 Q18.1094 38.875 18.1094 30.9062 L18.1094 0 L9.0781 0 L9.0781 54.6875 L18.1094 54.6875 L18.1094 46.1875 Q21.1875 51.2188 25.4844 53.6094 Q29.7812 56 35.6875 56 Q41.6562 56 45.8281 52.9688 Q50 49.9531 52 44.1875 Z\"/><glyph unicode=\"s\" horiz-adv-x=\"52.0\" d=\"M44.2812 53.0781 L44.2812 44.5781 Q40.4844 46.5312 36.375 47.5 Q32.2812 48.4844 27.875 48.4844 Q21.1875 48.4844 17.8438 46.4375 Q14.5 44.3906 14.5 40.2812 Q14.5 37.1562 16.8906 35.375 Q19.2812 33.5938 26.5156 31.9844 L29.5938 31.2969 Q39.1562 29.25 43.1875 25.5156 Q47.2188 21.7812 47.2188 15.0938 Q47.2188 7.4688 41.1875 3.0156 Q35.1562 -1.4219 24.6094 -1.4219 Q20.2188 -1.4219 15.4531 -0.5625 Q10.6875 0.2969 5.4219 2 L5.4219 11.2812 Q10.4062 8.6875 15.2344 7.3906 Q20.0625 6.1094 24.8125 6.1094 Q31.1562 6.1094 34.5625 8.2812 Q37.9844 10.4531 37.9844 14.4062 Q37.9844 18.0625 35.5156 20.0156 Q33.0625 21.9688 24.7031 23.7812 L21.5781 24.5156 Q13.2344 26.2656 9.5156 29.9062 Q5.8125 33.5469 5.8125 39.8906 Q5.8125 47.6094 11.2812 51.7969 Q16.75 56 26.8125 56 Q31.7812 56 36.1719 55.2656 Q40.5781 54.5469 44.2812 53.0781 Z\"/><glyph unicode=\"ó\" horiz-adv-x=\"61.0\" d=\"M30.6094 48.3906 Q23.3906 48.3906 19.1875 42.75 Q14.9844 37.1094 14.9844 27.2969 Q14.9844 17.4844 19.1562 11.8438 Q23.3438 6.2031 30.6094 6.2031 Q37.7969 6.2031 41.9844 11.8594 Q46.1875 17.5312 46.1875 27.2969 Q46.1875 37.0156 41.9844 42.7031 Q37.7969 48.3906 30.6094 48.3906 ZM30.6094 56 Q42.3281 56 49.0156 48.375 Q55.7188 40.7656 55.7188 27.2969 Q55.7188 13.875 49.0156 6.2188 Q42.3281 -1.4219 30.6094 -1.4219 Q18.8438 -1.4219 12.1719 6.2188 Q5.5156 13.875 5.5156 27.2969 Q5.5156 40.7656 12.1719 48.375 Q18.8438 56 30.6094 56 ZM37.3906 79.9844 L47.1094 79.9844 L31.2031 61.625 L23.7188 61.625 L37.3906 79.9844 Z\"/><glyph unicode=\"P\" horiz-adv-x=\"60.0\" d=\"M19.6719 64.7969 L19.6719 37.4062 L32.0781 37.4062 Q38.9688 37.4062 42.7188 40.9688 Q46.4844 44.5312 46.4844 51.125 Q46.4844 57.6719 42.7188 61.2344 Q38.9688 64.7969 32.0781 64.7969 L19.6719 64.7969 ZM9.8125 72.9062 L32.0781 72.9062 Q44.3438 72.9062 50.6094 67.3594 Q56.8906 61.8125 56.8906 51.125 Q56.8906 40.3281 50.6094 34.8125 Q44.3438 29.2969 32.0781 29.2969 L19.6719 29.2969 L19.6719 0 L9.8125 0 L9.8125 72.9062 Z\"/><glyph unicode=\"Z\" horiz-adv-x=\"69.0\" d=\"M5.6094 72.9062 L62.8906 72.9062 L62.8906 65.375 L16.7969 8.2969 L64.0156 8.2969 L64.0156 0 L4.5 0 L4.5 7.5156 L50.5938 64.5938 L5.6094 64.5938 L5.6094 72.9062 Z\"/><glyph unicode=\"ã\" horiz-adv-x=\"61.0\" d=\"M34.2812 27.4844 Q23.3906 27.4844 19.1875 25 Q14.9844 22.5156 14.9844 16.5 Q14.9844 11.7188 18.1406 8.9062 Q21.2969 6.1094 26.7031 6.1094 Q34.1875 6.1094 38.7031 11.4062 Q43.2188 16.7031 43.2188 25.4844 L43.2188 27.4844 L34.2812 27.4844 ZM52.2031 31.2031 L52.2031 0 L43.2188 0 L43.2188 8.2969 Q40.1406 3.3281 35.5469 0.9531 Q30.9531 -1.4219 24.3125 -1.4219 Q15.9219 -1.4219 10.9531 3.2969 Q6 8.0156 6 15.9219 Q6 25.1406 12.1719 29.8281 Q18.3594 34.5156 30.6094 34.5156 L43.2188 34.5156 L43.2188 35.4062 Q43.2188 41.6094 39.1406 45 Q35.0625 48.3906 27.6875 48.3906 Q23 48.3906 18.5469 47.2656 Q14.1094 46.1406 10.0156 43.8906 L10.0156 52.2031 Q14.9375 54.1094 19.5781 55.0469 Q24.2188 56 28.6094 56 Q40.4844 56 46.3438 49.8438 Q52.2031 43.7031 52.2031 31.2031 ZM28.8125 66.8906 L26.0156 69.5781 Q24.9531 70.5625 24.1406 71.0156 Q23.3438 71.4844 22.7031 71.4844 Q20.8438 71.4844 19.9688 69.7031 Q19.0938 67.9219 18.9844 63.9219 L12.8906 63.9219 Q12.9844 70.5156 15.4688 74.0938 Q17.9688 77.6875 22.4062 77.6875 Q24.2656 77.6875 25.8281 77 Q27.3906 76.3125 29.2031 74.7031 L31.9844 72.0156 Q33.0469 71.0469 33.8594 70.5781 Q34.6719 70.125 35.2969 70.125 Q37.1562 70.125 38.0312 71.9062 Q38.9062 73.6875 39.0156 77.6875 L45.1094 77.6875 Q45.0156 71.0938 42.5156 67.5 Q40.0312 63.9219 35.5938 63.9219 Q33.7344 63.9219 32.1719 64.5938 Q30.6094 65.2812 28.8125 66.8906 Z\"/><glyph unicode=\"t\" horiz-adv-x=\"39.0\" d=\"M18.3125 70.2188 L18.3125 54.6875 L36.8125 54.6875 L36.8125 47.7031 L18.3125 47.7031 L18.3125 18.0156 Q18.3125 11.3281 20.1406 9.4219 Q21.9688 7.5156 27.5938 7.5156 L36.8125 7.5156 L36.8125 0 L27.5938 0 Q17.1875 0 13.2344 3.875 Q9.2812 7.7656 9.2812 18.0156 L9.2812 47.7031 L2.6875 47.7031 L2.6875 54.6875 L9.2812 54.6875 L9.2812 70.2188 L18.3125 70.2188 Z\"/><glyph unicode=\"d\" horiz-adv-x=\"63.0\" d=\"M45.4062 46.3906 L45.4062 75.9844 L54.3906 75.9844 L54.3906 0 L45.4062 0 L45.4062 8.2031 Q42.5781 3.3281 38.25 0.9531 Q33.9375 -1.4219 27.875 -1.4219 Q17.9688 -1.4219 11.7344 6.4844 Q5.5156 14.4062 5.5156 27.2969 Q5.5156 40.1875 11.7344 48.0938 Q17.9688 56 27.875 56 Q33.9375 56 38.25 53.625 Q42.5781 51.2656 45.4062 46.3906 ZM14.7969 27.2969 Q14.7969 17.3906 18.875 11.75 Q22.9531 6.1094 30.0781 6.1094 Q37.2031 6.1094 41.2969 11.75 Q45.4062 17.3906 45.4062 27.2969 Q45.4062 37.2031 41.2969 42.8438 Q37.2031 48.4844 30.0781 48.4844 Q22.9531 48.4844 18.875 42.8438 Q14.7969 37.2031 14.7969 27.2969 Z\"/><glyph unicode=\"z\" horiz-adv-x=\"52.0\" d=\"M5.5156 54.6875 L48.1875 54.6875 L48.1875 46.4844 L14.4062 7.1719 L48.1875 7.1719 L48.1875 0 L4.2969 0 L4.2969 8.2031 L38.0938 47.5156 L5.5156 47.5156 L5.5156 54.6875 Z\"/></font></defs><g style=\"fill:white; text-rendering:optimizeLegibility; stroke:white;\"><rect x=\"0\" width=\"548\" height=\"336\" y=\"0\" style=\"stroke:none;\"/></g><g style=\"stroke-linecap:butt; fill:white; text-rendering:geometricPrecision; stroke-linejoin:bevel; shape-rendering:crispEdges; stroke:white; stroke-width:0;\"><path style=\"stroke:none;\" d=\"M479.5 42 L479.5 290.361 L68.5 42 Z\"/><path style=\"stroke:none;\" d=\"M479.5 290.361 L68.5 290.361 L68.5 42 Z\"/><path style=\"stroke:none;\" d=\"M479.5 42 L479.5 290.361 L479.5 290.361 Z\"/><path style=\"stroke:none;\" d=\"M68.5 42 L68.5 290.361 L68.5 290.361 Z\"/><path style=\"stroke:none;\" d=\"M479.5 42 L479.5 290.361 L68.5 42 Z\"/><path style=\"stroke:none;\" d=\"M479.5 290.361 L68.5 290.361 L68.5 42 Z\"/><path style=\"stroke:none;\" d=\"M479.5 42 L479.5 42 L479.5 290.361 Z\"/><path style=\"stroke:none;\" d=\"M68.5 42 L68.5 42 L68.5 290.361 Z\"/><path style=\"stroke:none;\" d=\"M479.5 42 L68.5 42 L479.5 42 Z\"/><path style=\"stroke:none;\" d=\"M68.5 42 L68.5 42 L479.5 42 Z\"/><path style=\"stroke:none;\" d=\"M479.5 290.361 L68.5 290.361 L479.5 290.361 Z\"/><path style=\"stroke:none;\" d=\"M68.5 290.361 L68.5 290.361 L479.5 290.361 Z\"/></g><g style=\"fill:rgb(190,190,190); text-rendering:geometricPrecision; stroke-dasharray:1,1; shape-rendering:crispEdges; stroke-linecap:butt; stroke:rgb(190,190,190);\"><path style=\"fill:none;\" d=\"M68.5 290.361 L68.5 42\"/><path style=\"fill:none;\" d=\"M68.5 290.361 L68.5 290.361\"/><path style=\"fill:none;\" d=\"M119.875 290.361 L119.875 42\"/><path style=\"fill:none;\" d=\"M119.875 290.361 L119.875 290.361\"/><path style=\"fill:none;\" d=\"M171.25 290.361 L171.25 42\"/><path style=\"fill:none;\" d=\"M171.25 290.361 L171.25 290.361\"/><path style=\"fill:none;\" d=\"M222.625 290.361 L222.625 42\"/><path style=\"fill:none;\" d=\"M222.625 290.361 L222.625 290.361\"/><path style=\"fill:none;\" d=\"M274 290.361 L274 42\"/><path style=\"fill:none;\" d=\"M274 290.361 L274 290.361\"/><path style=\"fill:none;\" d=\"M325.375 290.361 L325.375 42\"/><path style=\"fill:none;\" d=\"M325.375 290.361 L325.375 290.361\"/><path style=\"fill:none;\" d=\"M376.75 290.361 L376.75 42\"/><path style=\"fill:none;\" d=\"M376.75 290.361 L376.75 290.361\"/><path style=\"fill:none;\" d=\"M428.125 290.361 L428.125 42\"/><path style=\"fill:none;\" d=\"M428.125 290.361 L428.125 290.361\"/><path style=\"fill:none;\" d=\"M479.5 290.361 L479.5 42\"/><path style=\"fill:none;\" d=\"M479.5 290.361 L479.5 290.361\"/><path style=\"fill:none;\" d=\"M68.5 265.5249 L479.5 265.5249\"/><path style=\"fill:none;\" d=\"M68.5 265.5249 L68.5 265.5249\"/><path style=\"fill:none;\" d=\"M68.5 215.8527 L479.5 215.8527\"/><path style=\"fill:none;\" d=\"M68.5 215.8527 L68.5 215.8527\"/><path style=\"fill:none;\" d=\"M68.5 166.1805 L479.5 166.1805\"/><path style=\"fill:none;\" d=\"M68.5 166.1805 L68.5 166.1805\"/><path style=\"fill:none;\" d=\"M68.5 116.5083 L479.5 116.5083\"/><path style=\"fill:none;\" d=\"M68.5 116.5083 L68.5 116.5083\"/><path style=\"fill:none;\" d=\"M68.5 66.8361 L479.5 66.8361\"/><path style=\"fill:none;\" d=\"M68.5 66.8361 L68.5 66.8361\"/></g><g transform=\"translate(321.375,299.361)\" style=\"font-size:10px; stroke-linecap:butt; text-rendering:geometricPrecision; font-family:sans-serif; stroke-linejoin:bevel; stroke-width:0;\"><text x=\"-0.6562\" xml:space=\"preserve\" y=\"9.2822\" style=\"stroke:none;\">0</text></g><g transform=\"translate(59.5,299.361)\" style=\"font-size:10px; stroke-linecap:butt; text-rendering:geometricPrecision; font-family:sans-serif; stroke-linejoin:bevel; stroke-width:0;\"><text x=\"-0.4844\" xml:space=\"preserve\" y=\"9.2822\" style=\"stroke:none;\">-10</text></g><g transform=\"translate(113.875,299.361)\" style=\"font-size:10px; stroke-linecap:butt; text-rendering:geometricPrecision; font-family:sans-serif; stroke-linejoin:bevel; stroke-width:0;\"><text x=\"-0.4844\" xml:space=\"preserve\" y=\"9.2822\" style=\"stroke:none;\">-8</text></g><g transform=\"translate(165.25,299.361)\" style=\"font-size:10px; stroke-linecap:butt; text-rendering:geometricPrecision; font-family:sans-serif; stroke-linejoin:bevel; stroke-width:0;\"><text x=\"-0.4844\" xml:space=\"preserve\" y=\"9.2822\" style=\"stroke:none;\">-6</text></g><g transform=\"translate(216.625,299.361)\" style=\"font-size:10px; stroke-linecap:butt; text-rendering:geometricPrecision; font-family:sans-serif; stroke-linejoin:bevel; stroke-width:0;\"><text x=\"-0.4844\" xml:space=\"preserve\" y=\"9.2822\" style=\"stroke:none;\">-4</text></g><g transform=\"translate(268.5,299.361)\" style=\"font-size:10px; stroke-linecap:butt; text-rendering:geometricPrecision; font-family:sans-serif; stroke-linejoin:bevel; stroke-width:0;\"><text x=\"-0.4844\" xml:space=\"preserve\" y=\"9.2822\" style=\"stroke:none;\">-2</text></g><g transform=\"translate(373.25,299.361)\" style=\"font-size:10px; stroke-linecap:butt; text-rendering:geometricPrecision; font-family:sans-serif; stroke-linejoin:bevel; stroke-width:0;\"><text x=\"-0.7344\" xml:space=\"preserve\" y=\"9.2822\" style=\"stroke:none;\">2</text></g><g transform=\"translate(424.125,299.361)\" style=\"font-size:10px; stroke-linecap:butt; text-rendering:geometricPrecision; font-family:sans-serif; stroke-linejoin:bevel; stroke-width:0;\"><text x=\"-0.4844\" xml:space=\"preserve\" y=\"9.2822\" style=\"stroke:none;\">4</text></g><g transform=\"translate(475.5,299.361)\" style=\"font-size:10px; stroke-linecap:butt; text-rendering:geometricPrecision; font-family:sans-serif; stroke-linejoin:bevel; stroke-width:0;\"><text x=\"-0.7031\" xml:space=\"preserve\" y=\"9.2822\" style=\"stroke:none;\">6</text></g><g style=\"text-rendering:geometricPrecision; font-size:10px; shape-rendering:crispEdges; font-family:sans-serif; stroke-linecap:butt;\"><path style=\"fill:none;\" d=\"M68.5 290.361 L68.5 296.361\"/><path style=\"fill:none;\" d=\"M119.875 290.361 L119.875 296.361\"/><path style=\"fill:none;\" d=\"M171.25 290.361 L171.25 296.361\"/><path style=\"fill:none;\" d=\"M222.625 290.361 L222.625 296.361\"/><path style=\"fill:none;\" d=\"M274 290.361 L274 296.361\"/><path style=\"fill:none;\" d=\"M325.375 290.361 L325.375 296.361\"/><path style=\"fill:none;\" d=\"M376.75 290.361 L376.75 296.361\"/><path style=\"fill:none;\" d=\"M428.125 290.361 L428.125 296.361\"/><path style=\"fill:none;\" d=\"M479.5 290.361 L479.5 296.361\"/><path style=\"fill:none;\" d=\"M68.5 290.361 L68.5 293.361\"/><path style=\"fill:none;\" d=\"M94.1875 290.361 L94.1875 293.361\"/><path style=\"fill:none;\" d=\"M119.875 290.361 L119.875 293.361\"/><path style=\"fill:none;\" d=\"M145.5625 290.361 L145.5625 293.361\"/><path style=\"fill:none;\" d=\"M171.25 290.361 L171.25 293.361\"/><path style=\"fill:none;\" d=\"M196.9375 290.361 L196.9375 293.361\"/><path style=\"fill:none;\" d=\"M222.625 290.361 L222.625 293.361\"/><path style=\"fill:none;\" d=\"M248.3125 290.361 L248.3125 293.361\"/><path style=\"fill:none;\" d=\"M274 290.361 L274 293.361\"/><path style=\"fill:none;\" d=\"M299.6875 290.361 L299.6875 293.361\"/><path style=\"fill:none;\" d=\"M325.375 290.361 L325.375 293.361\"/><path style=\"fill:none;\" d=\"M351.0625 290.361 L351.0625 293.361\"/><path style=\"fill:none;\" d=\"M376.75 290.361 L376.75 293.361\"/><path style=\"fill:none;\" d=\"M402.4375 290.361 L402.4375 293.361\"/><path style=\"fill:none;\" d=\"M428.125 290.361 L428.125 293.361\"/><path style=\"fill:none;\" d=\"M453.8125 290.361 L453.8125 293.361\"/><path style=\"fill:none;\" d=\"M479.5 290.361 L479.5 293.361\"/><path style=\"fill:none;\" d=\"M479.5 290.361 L68.5 290.361\"/><text x=\"-0.6562\" y=\"9.2822\" transform=\"translate(51.5,159.6805)\" style=\"stroke-linejoin:bevel; shape-rendering:auto; stroke:none; stroke-width:0;\" xml:space=\"preserve\">0</text></g><g transform=\"translate(47.5,259.0249)\" style=\"font-size:10px; stroke-linecap:butt; text-rendering:geometricPrecision; font-family:sans-serif; stroke-linejoin:bevel; stroke-width:0;\"><text x=\"-0.4844\" xml:space=\"preserve\" y=\"9.2822\" style=\"stroke:none;\">-4</text></g><g transform=\"translate(48.5,209.3527)\" style=\"font-size:10px; stroke-linecap:butt; text-rendering:geometricPrecision; font-family:sans-serif; stroke-linejoin:bevel; stroke-width:0;\"><text x=\"-0.4844\" xml:space=\"preserve\" y=\"9.2822\" style=\"stroke:none;\">-2</text></g><g transform=\"translate(52.5,110.0083)\" style=\"font-size:10px; stroke-linecap:butt; text-rendering:geometricPrecision; font-family:sans-serif; stroke-linejoin:bevel; stroke-width:0;\"><text x=\"-0.7344\" xml:space=\"preserve\" y=\"9.2822\" style=\"stroke:none;\">2</text></g><g transform=\"translate(51.5,60.3361)\" style=\"font-size:10px; stroke-linecap:butt; text-rendering:geometricPrecision; font-family:sans-serif; stroke-linejoin:bevel; stroke-width:0;\"><text x=\"-0.4844\" xml:space=\"preserve\" y=\"9.2822\" style=\"stroke:none;\">4</text></g><g style=\"text-rendering:geometricPrecision; font-size:10px; shape-rendering:crispEdges; font-family:sans-serif; stroke-linecap:butt;\"><path style=\"fill:none;\" d=\"M68.5 265.5249 L62.5 265.5249\"/><path style=\"fill:none;\" d=\"M68.5 215.8527 L62.5 215.8527\"/><path style=\"fill:none;\" d=\"M68.5 166.1805 L62.5 166.1805\"/><path style=\"fill:none;\" d=\"M68.5 116.5083 L62.5 116.5083\"/><path style=\"fill:none;\" d=\"M68.5 66.8361 L62.5 66.8361\"/><path style=\"fill:none;\" d=\"M68.5 290.361 L65.5 290.361\"/><path style=\"fill:none;\" d=\"M68.5 265.5249 L65.5 265.5249\"/><path style=\"fill:none;\" d=\"M68.5 240.6888 L65.5 240.6888\"/><path style=\"fill:none;\" d=\"M68.5 215.8527 L65.5 215.8527\"/><path style=\"fill:none;\" d=\"M68.5 191.0166 L65.5 191.0166\"/><path style=\"fill:none;\" d=\"M68.5 166.1805 L65.5 166.1805\"/><path style=\"fill:none;\" d=\"M68.5 141.3444 L65.5 141.3444\"/><path style=\"fill:none;\" d=\"M68.5 116.5083 L65.5 116.5083\"/><path style=\"fill:none;\" d=\"M68.5 91.6722 L65.5 91.6722\"/><path style=\"fill:none;\" d=\"M68.5 66.8361 L65.5 66.8361\"/><path style=\"fill:none;\" d=\"M68.5 42 L65.5 42\"/><path style=\"fill:none;\" d=\"M68.5 42 L68.5 290.361\"/></g><g transform=\"translate(245,315.361)\" style=\"text-rendering:geometricPrecision; stroke-width:0; font-family:sans-serif; stroke-linecap:butt; stroke-linejoin:bevel;\"><text x=\"0.8281\" xml:space=\"preserve\" y=\"13.1387\" style=\"stroke:none;\">Eixo real</text></g><g transform=\"translate(44.5,166.1805) rotate(270) translate(-49,-19)\" style=\"text-rendering:geometricPrecision; stroke-width:0; font-family:sans-serif; stroke-linecap:butt; stroke-linejoin:bevel;\"><text x=\"0.8281\" xml:space=\"preserve\" y=\"13.1387\" style=\"stroke:none;\">Eixo imaginário</text></g><g transform=\"translate(325.3622,166.1805)\" style=\"stroke-linecap:butt; fill:white; text-rendering:geometricPrecision; font-family:sans-serif; stroke-linejoin:bevel; stroke:white; stroke-width:0;\"><polygon style=\"stroke:none;\" points=\" -3 0 0 -3 3 0 0 3\"/></g><g style=\"text-rendering:geometricPrecision; font-family:sans-serif; stroke-linecap:butt;\" transform=\"translate(325.3622,166.1805)\"><path style=\"fill:none;\" d=\"M-3 0 L0 -3 L3 0 L0 3 L-3 0\"/></g><g transform=\"translate(312.5312,133.3254)\" style=\"stroke-linecap:butt; fill:white; text-rendering:geometricPrecision; font-family:sans-serif; stroke-linejoin:bevel; stroke:white; stroke-width:0;\"><polygon style=\"stroke:none;\" points=\" -3 0 0 -3 3 0 0 3\"/></g><g style=\"text-rendering:geometricPrecision; font-family:sans-serif; stroke-linecap:butt;\" transform=\"translate(312.5312,133.3254)\"><path style=\"fill:none;\" d=\"M-3 0 L0 -3 L3 0 L0 3 L-3 0\"/></g><g transform=\"translate(312.5312,199.0356)\" style=\"stroke-linecap:butt; fill:white; text-rendering:geometricPrecision; font-family:sans-serif; stroke-linejoin:bevel; stroke:white; stroke-width:0;\"><polygon style=\"stroke:none;\" points=\" -3 0 0 -3 3 0 0 3\"/></g><g style=\"text-rendering:geometricPrecision; font-family:sans-serif; stroke-linecap:butt;\" transform=\"translate(312.5312,199.0356)\"><path style=\"fill:none;\" d=\"M-3 0 L0 -3 L3 0 L0 3 L-3 0\"/></g><g style=\"text-rendering:geometricPrecision; font-family:sans-serif; stroke-linecap:butt;\" transform=\"translate(242.9773,68.7067)\"><path style=\"fill:none;\" d=\"M-4 -4 L4 4\"/><path style=\"fill:none;\" d=\"M-4 4 L4 -4\"/></g><g style=\"text-rendering:geometricPrecision; font-family:sans-serif; stroke-linecap:butt;\" transform=\"translate(242.9773,263.6543)\"><path style=\"fill:none;\" d=\"M-4 -4 L4 4\"/><path style=\"fill:none;\" d=\"M-4 4 L4 -4\"/></g><g style=\"text-rendering:geometricPrecision; font-family:sans-serif; stroke-linecap:butt;\" transform=\"translate(317.8729,136.0531)\"><path style=\"fill:none;\" d=\"M-4 -4 L4 4\"/><path style=\"fill:none;\" d=\"M-4 4 L4 -4\"/></g><g style=\"text-rendering:geometricPrecision; font-family:sans-serif; stroke-linecap:butt;\" transform=\"translate(317.8729,196.3079)\"><path style=\"fill:none;\" d=\"M-4 -4 L4 4\"/><path style=\"fill:none;\" d=\"M-4 4 L4 -4\"/></g><g style=\"text-rendering:geometricPrecision; font-family:sans-serif; stroke-linecap:butt;\" transform=\"translate(325.3622,166.1805)\"><path style=\"fill:none;\" d=\"M-4 -4 L4 4\"/><path style=\"fill:none;\" d=\"M-4 4 L4 -4\"/></g><g style=\"text-rendering:geometricPrecision; shape-rendering:crispEdges; font-family:sans-serif; stroke-linecap:butt;\"><path style=\"fill:none;\" d=\"M325.375 273.4017 L325.375 58.9593\"/><path style=\"fill:none;\" d=\"M68.5 290.361 L68.5 42 L68.5 42 L479.5 42 L479.5 290.361 L479.5 290.361 L68.5 290.361\"/><path style=\"fill:none;\" d=\"M479.5 42 L68.5 42\"/><path style=\"fill:none;\" d=\"M479.5 42 L479.5 290.361\"/><path style=\"fill:none;\" d=\"M479.5 42 L479.5 42\"/></g><g style=\"stroke-linecap:butt; fill:white; text-rendering:geometricPrecision; font-family:sans-serif; stroke-linejoin:bevel; shape-rendering:crispEdges; stroke:white; stroke-width:0;\"><path style=\"stroke:none;\" d=\"M384.85 81.4508 L474.3625 81.4508 L474.3625 44.4836 Z\"/><path style=\"stroke:none;\" d=\"M384.85 81.4508 L474.3625 44.4836 L384.85 44.4836 Z\"/></g><g style=\"text-rendering:geometricPrecision; shape-rendering:crispEdges; font-family:sans-serif; stroke-linecap:butt;\"><path style=\"fill:none;\" d=\"M384.85 81.4508 L474.3625 81.4508\"/><path style=\"fill:none;\" d=\"M474.3625 81.4508 L474.3625 44.4836\"/><path style=\"fill:none;\" d=\"M474.3625 44.4836 L384.85 44.4836\"/><path style=\"fill:none;\" d=\"M384.85 44.4836 L384.85 81.4508\"/></g><g transform=\"translate(389.9875,69.9672)\" style=\"stroke-linecap:butt; fill:white; text-rendering:geometricPrecision; font-family:sans-serif; stroke-linejoin:bevel; stroke:white; stroke-width:0;\"><polygon style=\"stroke:none;\" points=\" -3 0 0 -3 3 0 0 3\"/></g><g style=\"text-rendering:geometricPrecision; font-family:sans-serif; stroke-linecap:butt;\" transform=\"translate(389.9875,69.9672)\"><path style=\"fill:none;\" d=\"M-3 0 L0 -3 L3 0 L0 3 L-3 0\"/></g><g transform=\"translate(410.5375,69.9672)\" style=\"stroke-linecap:butt; fill:white; text-rendering:geometricPrecision; font-family:sans-serif; stroke-linejoin:bevel; stroke:white; stroke-width:0;\"><polygon style=\"stroke:none;\" points=\" -3 0 0 -3 3 0 0 3\"/></g><g style=\"text-rendering:geometricPrecision; font-family:sans-serif; stroke-linecap:butt;\" transform=\"translate(410.5375,69.9672)\"><path style=\"fill:none;\" d=\"M-3 0 L0 -3 L3 0 L0 3 L-3 0\"/></g><g transform=\"translate(431.0875,69.9672)\" style=\"stroke-linecap:butt; fill:white; text-rendering:geometricPrecision; font-family:sans-serif; stroke-linejoin:bevel; stroke:white; stroke-width:0;\"><polygon style=\"stroke:none;\" points=\" -3 0 0 -3 3 0 0 3\"/></g><g style=\"text-rendering:geometricPrecision; font-family:sans-serif; stroke-linecap:butt;\" transform=\"translate(431.0875,69.9672)\"><path style=\"fill:none;\" d=\"M-3 0 L0 -3 L3 0 L0 3 L-3 0\"/></g><g style=\"text-rendering:geometricPrecision; font-family:sans-serif; stroke-linecap:butt;\" transform=\"translate(389.9875,55.9672)\"><path style=\"fill:none;\" d=\"M-4 -4 L4 4\"/><path style=\"fill:none;\" d=\"M-4 4 L4 -4\"/></g><g style=\"text-rendering:geometricPrecision; font-family:sans-serif; stroke-linecap:butt;\" transform=\"translate(410.5375,55.9672)\"><path style=\"fill:none;\" d=\"M-4 -4 L4 4\"/><path style=\"fill:none;\" d=\"M-4 4 L4 -4\"/></g><g style=\"text-rendering:geometricPrecision; font-family:sans-serif; stroke-linecap:butt;\" transform=\"translate(431.0875,55.9672)\"><path style=\"fill:none;\" d=\"M-4 -4 L4 4\"/><path style=\"fill:none;\" d=\"M-4 4 L4 -4\"/></g><g transform=\"translate(436.225,46.9672)\" style=\"stroke-linecap:butt; fill:white; text-rendering:geometricPrecision; font-family:sans-serif; stroke-linejoin:bevel; stroke:white; stroke-width:0;\"><rect x=\"0\" width=\"33\" height=\"32\" y=\"0\" style=\"stroke:none;\"/><text x=\"1.0156\" y=\"11.2822\" style=\"fill:black; font-size:10px; stroke:none;\" xml:space=\"preserve\">Pólos</text><text x=\"1.5469\" y=\"26.2822\" style=\"fill:black; font-size:10px; stroke:none;\" xml:space=\"preserve\">Zeros</text></g><g transform=\"translate(170,12)\" style=\"font-size:14px; stroke-linecap:butt; text-rendering:geometricPrecision; font-family:sans-serif; stroke-linejoin:bevel; stroke-width:0;\"><text x=\"0.625\" xml:space=\"preserve\" y=\"14.9951\" style=\"stroke:none;\">Pólos e zeros de transmissão</text></g></g></svg>",
      "text/plain": [
       "<IPython.core.display.SVG object>"
      ]
     },
     "metadata": {},
     "output_type": "display_data"
    }
   ],
   "source": [
    "plzr(MF) // Funciona com um objeto ss, tf ou zpk"
   ]
  },
  {
   "cell_type": "markdown",
   "metadata": {},
   "source": [
    "#### Análise com Lyapunov"
   ]
  },
  {
   "cell_type": "markdown",
   "metadata": {},
   "source": [
    "Para ver o que a função faz:help lyap"
   ]
  },
  {
   "cell_type": "code",
   "execution_count": 25,
   "metadata": {},
   "outputs": [
    {
     "name": "stdout",
     "output_type": "stream",
     "text": [
      "\u001b[4l\u001b[0m\n",
      "\u001b[0m"
     ]
    }
   ],
   "source": [
    "help lyap"
   ]
  },
  {
   "cell_type": "markdown",
   "metadata": {},
   "source": [
    "Iremos usar a primeira opção do comando acima, para isso, definiremos uma matriz Q diagonal positiva qualquer e obteremos os autovetores e autovalores da matriz W, solução da equação de Lyapunov"
   ]
  },
  {
   "cell_type": "code",
   "execution_count": 26,
   "metadata": {},
   "outputs": [
    {
     "name": "stdout",
     "output_type": "stream",
     "text": [
      "\u001b[4l\u001b[0m\n",
      "\u001b[0m\u001b[4l\u001b[0m W  = \n",
      "\n",
      "  -62.251484   0.9316295   3.0899085   4.6914228  -14.010584\n",
      "   0.9316295  -1.1990087   0.9284848  -1.0637467  -5.0435617\n",
      "   3.0899085   0.9284848  -1.4134027   0.5951893   2.2707277\n",
      "   4.6914228  -1.0637467   0.5951893  -1.3661277  -3.2583144\n",
      "  -14.010584  -5.0435617   2.2707277  -3.2583144  -1000.0891\n",
      "\n",
      "\u001b[0m\u001b[4l\u001b[0m V  = \n",
      "\n",
      "         column 1 to 3\n",
      "\n",
      "   0.0626227 + 0.0185883i   0.0626227 - 0.0185883i   0.0336133 - 0.0117489i\n",
      "  -0.4920916 + 0.3295801i  -0.4920916 - 0.3295801i   0.0051708 + 0.0795742i\n",
      "   0.1160037 + 0.3155248i   0.1160037 - 0.3155248i  -0.7202913 + 0.i       \n",
      "   0.729343  + 0.i          0.729343  + 0.i         -0.1647514 + 0.6681334i\n",
      "  -0.0005056 - 0.0012071i  -0.0005056 + 0.0012071i  -0.00157   - 0.0024359i\n",
      "\n",
      "         column 4 to 5\n",
      "\n",
      "   0.0336133 + 0.0117489i  -0.0049239 + 0.i\n",
      "   0.0051708 - 0.0795742i   0.0004025 + 0.i\n",
      "  -0.7202913 + 0.i         -0.0002134 + 0.i\n",
      "  -0.1647514 - 0.6681334i   0.0007502 + 0.i\n",
      "  -0.00157   + 0.0024359i   0.9999875 + 0.i\n",
      " D  = \n",
      "\n",
      "         column 1 to 3\n",
      "\n",
      "  -3.2076964 + 3.9246816i   0.        + 0.i          0.        + 0.i      \n",
      "   0.        + 0.i         -3.2076964 - 3.9246816i   0.        + 0.i      \n",
      "   0.        + 0.i          0.        + 0.i         -0.2920536 + 1.213048i\n",
      "   0.        + 0.i          0.        + 0.i          0.        + 0.i      \n",
      "   0.        + 0.i          0.        + 0.i          0.        + 0.i      \n",
      "\n",
      "         column 4 to 5\n",
      "\n",
      "   0.        + 0.i         0.     + 0.i\n",
      "   0.        + 0.i         0.     + 0.i\n",
      "   0.        + 0.i         0.     + 0.i\n",
      "  -0.2920536 - 1.213048i   0.     + 0.i\n",
      "   0.        + 0.i        -0.0005 + 0.i\n",
      "\n",
      "\u001b[0m"
     ]
    }
   ],
   "source": [
    "Q = eye(5,5);\n",
    "W = lyap(Amf,Q,'c')\n",
    "[V,D]=spec(Amf)"
   ]
  },
  {
   "cell_type": "markdown",
   "metadata": {},
   "source": [
    "Para obter a diagonal em um vetor da matriz diagonal:"
   ]
  },
  {
   "cell_type": "code",
   "execution_count": 27,
   "metadata": {},
   "outputs": [
    {
     "name": "stdout",
     "output_type": "stream",
     "text": [
      "\u001b[4l\u001b[0m ans  =\n",
      "\n",
      "  -3.2076964 + 3.9246816i\n",
      "  -3.2076964 - 3.9246816i\n",
      "  -0.2920536 + 1.213048i \n",
      "  -0.2920536 - 1.213048i \n",
      "  -0.0005    + 0.i       \n",
      "\n",
      "\u001b[0m"
     ]
    }
   ],
   "source": [
    "diag(D) // A função também cria uma matriz diagonal"
   ]
  },
  {
   "cell_type": "markdown",
   "metadata": {},
   "source": [
    "E para obter o determinante da matriz:"
   ]
  },
  {
   "cell_type": "code",
   "execution_count": 28,
   "metadata": {},
   "outputs": [
    {
     "name": "stdout",
     "output_type": "stream",
     "text": [
      "\u001b[4l\u001b[0m ans  =\n",
      "\n",
      "  -5804.4170\n",
      "\n",
      "\u001b[0m"
     ]
    }
   ],
   "source": [
    "det(W)"
   ]
  },
  {
   "cell_type": "markdown",
   "metadata": {},
   "source": [
    "### Problema 4"
   ]
  },
  {
   "cell_type": "markdown",
   "metadata": {},
   "source": [
    "Obter os sinais de saı́da y(t) e controle u(t) do sistema em malha fechada para a entrada r(t) o degrau unitário e o impulso unitário. Determinar o maior pico do sinal de saı́da e o tempo que a saı́da leva para atingir 98% do regime permanente, para r(t) = 1."
   ]
  },
  {
   "cell_type": "markdown",
   "metadata": {},
   "source": [
    "Podemos usar a função `csim`:"
   ]
  },
  {
   "cell_type": "code",
   "execution_count": 29,
   "metadata": {},
   "outputs": [
    {
     "name": "stdout",
     "output_type": "stream",
     "text": [
      "\u001b[4l\u001b[0m\n",
      "\u001b[0m\u001b[4l\u001b[0m\n",
      "\u001b[0m\u001b[4l\u001b[0m\n",
      "\u001b[0m\u001b[4l\u001b[0m\n",
      "\u001b[0m\u001b[4l\u001b[0m\n",
      "\u001b[0m"
     ]
    },
    {
     "data": {
      "image/svg+xml": "<svg xmlns:xlink=\"http://www.w3.org/1999/xlink\" xmlns=\"http://www.w3.org/2000/svg\" style=\"fill-opacity:1; color-rendering:auto; color-interpolation:auto; text-rendering:auto; stroke:black; stroke-linecap:square; stroke-miterlimit:10; shape-rendering:auto; stroke-opacity:1; fill:black; stroke-dasharray:none; font-weight:normal; stroke-width:1; font-family:'Dialog'; font-style:normal; stroke-linejoin:miter; font-size:12px; stroke-dashoffset:0; image-rendering:auto;\" width=\"548\" height=\"336\"><!--Generated by Scilab with Batik SVG Generator--><defs id=\"genericDefs\"/><g><defs id=\"defs1\"><clipPath clipPathUnits=\"userSpaceOnUse\" id=\"clipPath1\"><path d=\"M68.4959 41.9975 L479.5041 41.9975 L479.5041 290.3635 L68.4959 290.3635 L68.4959 41.9975 Z\"/></clipPath><font horiz-adv-x=\"60.0\" id=\"font1\"><font-face ascent=\"92.822266\" descent=\"23.583984\" units-per-em=\"100\" style=\"font-style:normal; font-family:sans-serif; font-weight:normal;\"/><missing-glyph horiz-adv-x=\"60.0\" d=\"M4.9844 -17.6719 L4.9844 70.5156 L54.9844 70.5156 L54.9844 -17.6719 L4.9844 -17.6719 ZM10.5938 -12.1094 L49.4219 -12.1094 L49.4219 64.8906 L10.5938 64.8906 L10.5938 -12.1094 Z\"/><glyph unicode=\"0\" horiz-adv-x=\"64.0\" d=\"M31.7812 66.4062 Q24.1719 66.4062 20.3281 58.9062 Q16.5 51.4219 16.5 36.375 Q16.5 21.3906 20.3281 13.8906 Q24.1719 6.3906 31.7812 6.3906 Q39.4531 6.3906 43.2812 13.8906 Q47.125 21.3906 47.125 36.375 Q47.125 51.4219 43.2812 58.9062 Q39.4531 66.4062 31.7812 66.4062 ZM31.7812 74.2188 Q44.0469 74.2188 50.5156 64.5156 Q56.9844 54.8281 56.9844 36.375 Q56.9844 17.9688 50.5156 8.2656 Q44.0469 -1.4219 31.7812 -1.4219 Q19.5312 -1.4219 13.0625 8.2656 Q6.5938 17.9688 6.5938 36.375 Q6.5938 54.8281 13.0625 64.5156 Q19.5312 74.2188 31.7812 74.2188 Z\"/><glyph unicode=\"2\" horiz-adv-x=\"64.0\" d=\"M19.1875 8.2969 L53.6094 8.2969 L53.6094 0 L7.3281 0 L7.3281 8.2969 Q12.9375 14.1094 22.625 23.8906 Q32.3281 33.6875 34.8125 36.5312 Q39.5469 41.8438 41.4219 45.5312 Q43.3125 49.2188 43.3125 52.7812 Q43.3125 58.5938 39.2344 62.25 Q35.1562 65.9219 28.6094 65.9219 Q23.9688 65.9219 18.8125 64.3125 Q13.6719 62.7031 7.8125 59.4219 L7.8125 69.3906 Q13.7656 71.7812 18.9375 73 Q24.125 74.2188 28.4219 74.2188 Q39.75 74.2188 46.4844 68.5469 Q53.2188 62.8906 53.2188 53.4219 Q53.2188 48.9219 51.5312 44.8906 Q49.8594 40.875 45.4062 35.4062 Q44.1875 33.9844 37.6406 27.2188 Q31.1094 20.4531 19.1875 8.2969 Z\"/><glyph unicode=\"1\" horiz-adv-x=\"64.0\" d=\"M12.4062 8.2969 L28.5156 8.2969 L28.5156 63.9219 L10.9844 60.4062 L10.9844 69.3906 L28.4219 72.9062 L38.2812 72.9062 L38.2812 8.2969 L54.3906 8.2969 L54.3906 0 L12.4062 0 L12.4062 8.2969 Z\"/><glyph unicode=\"4\" horiz-adv-x=\"64.0\" d=\"M37.7969 64.3125 L12.8906 25.3906 L37.7969 25.3906 L37.7969 64.3125 ZM35.2031 72.9062 L47.6094 72.9062 L47.6094 25.3906 L58.0156 25.3906 L58.0156 17.1875 L47.6094 17.1875 L47.6094 0 L37.7969 0 L37.7969 17.1875 L4.8906 17.1875 L4.8906 26.7031 L35.2031 72.9062 Z\"/><glyph unicode=\"6\" horiz-adv-x=\"64.0\" d=\"M33.0156 40.375 Q26.375 40.375 22.4844 35.8281 Q18.6094 31.2969 18.6094 23.3906 Q18.6094 15.5312 22.4844 10.9531 Q26.375 6.3906 33.0156 6.3906 Q39.6562 6.3906 43.5312 10.9531 Q47.4062 15.5312 47.4062 23.3906 Q47.4062 31.2969 43.5312 35.8281 Q39.6562 40.375 33.0156 40.375 ZM52.5938 71.2969 L52.5938 62.3125 Q48.875 64.0625 45.0938 64.9844 Q41.3125 65.9219 37.5938 65.9219 Q27.8281 65.9219 22.6719 59.3281 Q17.5312 52.7344 16.7969 39.4062 Q19.6719 43.6562 24.0156 45.9219 Q28.375 48.1875 33.5938 48.1875 Q44.5781 48.1875 50.9531 41.5156 Q57.3281 34.8594 57.3281 23.3906 Q57.3281 12.1562 50.6875 5.3594 Q44.0469 -1.4219 33.0156 -1.4219 Q20.3594 -1.4219 13.6719 8.2656 Q6.9844 17.9688 6.9844 36.375 Q6.9844 53.6562 15.1875 63.9375 Q23.3906 74.2188 37.2031 74.2188 Q40.9219 74.2188 44.7031 73.4844 Q48.4844 72.75 52.5938 71.2969 Z\"/><glyph unicode=\"8\" horiz-adv-x=\"64.0\" d=\"M31.7812 34.625 Q24.75 34.625 20.7188 30.8594 Q16.7031 27.0938 16.7031 20.5156 Q16.7031 13.9219 20.7188 10.1562 Q24.75 6.3906 31.7812 6.3906 Q38.8125 6.3906 42.8594 10.1719 Q46.9219 13.9688 46.9219 20.5156 Q46.9219 27.0938 42.8906 30.8594 Q38.875 34.625 31.7812 34.625 ZM21.9219 38.8125 Q15.5781 40.375 12.0312 44.7188 Q8.5 49.0781 8.5 55.3281 Q8.5 64.0625 14.7188 69.1406 Q20.9531 74.2188 31.7812 74.2188 Q42.6719 74.2188 48.875 69.1406 Q55.0781 64.0625 55.0781 55.3281 Q55.0781 49.0781 51.5312 44.7188 Q48 40.375 41.7031 38.8125 Q48.8281 37.1562 52.7969 32.3125 Q56.7812 27.4844 56.7812 20.5156 Q56.7812 9.9062 50.3125 4.2344 Q43.8438 -1.4219 31.7812 -1.4219 Q19.7344 -1.4219 13.25 4.2344 Q6.7812 9.9062 6.7812 20.5156 Q6.7812 27.4844 10.7812 32.3125 Q14.7969 37.1562 21.9219 38.8125 ZM18.3125 54.3906 Q18.3125 48.7344 21.8438 45.5625 Q25.3906 42.3906 31.7812 42.3906 Q38.1406 42.3906 41.7188 45.5625 Q45.3125 48.7344 45.3125 54.3906 Q45.3125 60.0625 41.7188 63.2344 Q38.1406 66.4062 31.7812 66.4062 Q25.3906 66.4062 21.8438 63.2344 Q18.3125 60.0625 18.3125 54.3906 Z\"/><glyph unicode=\".\" horiz-adv-x=\"32.0\" d=\"M10.6875 12.4062 L21 12.4062 L21 0 L10.6875 0 L10.6875 12.4062 Z\"/><glyph unicode=\")\" horiz-adv-x=\"39.0\" d=\"M8.0156 75.875 L15.8281 75.875 Q23.1406 64.3594 26.7812 53.3125 Q30.4219 42.2812 30.4219 31.3906 Q30.4219 20.4531 26.7812 9.375 Q23.1406 -1.7031 15.8281 -13.1875 L8.0156 -13.1875 Q14.5 -2 17.7031 9.0625 Q20.9062 20.125 20.9062 31.3906 Q20.9062 42.6719 17.7031 53.6562 Q14.5 64.6562 8.0156 75.875 Z\"/><glyph unicode=\"s\" horiz-adv-x=\"52.0\" d=\"M44.2812 53.0781 L44.2812 44.5781 Q40.4844 46.5312 36.375 47.5 Q32.2812 48.4844 27.875 48.4844 Q21.1875 48.4844 17.8438 46.4375 Q14.5 44.3906 14.5 40.2812 Q14.5 37.1562 16.8906 35.375 Q19.2812 33.5938 26.5156 31.9844 L29.5938 31.2969 Q39.1562 29.25 43.1875 25.5156 Q47.2188 21.7812 47.2188 15.0938 Q47.2188 7.4688 41.1875 3.0156 Q35.1562 -1.4219 24.6094 -1.4219 Q20.2188 -1.4219 15.4531 -0.5625 Q10.6875 0.2969 5.4219 2 L5.4219 11.2812 Q10.4062 8.6875 15.2344 7.3906 Q20.0625 6.1094 24.8125 6.1094 Q31.1562 6.1094 34.5625 8.2812 Q37.9844 10.4531 37.9844 14.4062 Q37.9844 18.0625 35.5156 20.0156 Q33.0625 21.9688 24.7031 23.7812 L21.5781 24.5156 Q13.2344 26.2656 9.5156 29.9062 Q5.8125 33.5469 5.8125 39.8906 Q5.8125 47.6094 11.2812 51.7969 Q16.75 56 26.8125 56 Q31.7812 56 36.1719 55.2656 Q40.5781 54.5469 44.2812 53.0781 Z\"/><glyph unicode=\"(\" horiz-adv-x=\"39.0\" d=\"M31 75.875 Q24.4688 64.6562 21.2812 53.6562 Q18.1094 42.6719 18.1094 31.3906 Q18.1094 20.125 21.3125 9.0625 Q24.5156 -2 31 -13.1875 L23.1875 -13.1875 Q15.875 -1.7031 12.2344 9.375 Q8.5938 20.4531 8.5938 31.3906 Q8.5938 42.2812 12.2031 53.3125 Q15.8281 64.3594 23.1875 75.875 L31 75.875 Z\"/><glyph unicode=\" \" horiz-adv-x=\"32.0\" d=\"\"/><glyph unicode=\"o\" horiz-adv-x=\"61.0\" d=\"M30.6094 48.3906 Q23.3906 48.3906 19.1875 42.75 Q14.9844 37.1094 14.9844 27.2969 Q14.9844 17.4844 19.1562 11.8438 Q23.3438 6.2031 30.6094 6.2031 Q37.7969 6.2031 41.9844 11.8594 Q46.1875 17.5312 46.1875 27.2969 Q46.1875 37.0156 41.9844 42.7031 Q37.7969 48.3906 30.6094 48.3906 ZM30.6094 56 Q42.3281 56 49.0156 48.375 Q55.7188 40.7656 55.7188 27.2969 Q55.7188 13.875 49.0156 6.2188 Q42.3281 -1.4219 30.6094 -1.4219 Q18.8438 -1.4219 12.1719 6.2188 Q5.5156 13.875 5.5156 27.2969 Q5.5156 40.7656 12.1719 48.375 Q18.8438 56 30.6094 56 Z\"/><glyph unicode=\"p\" horiz-adv-x=\"63.0\" d=\"M18.1094 8.2031 L18.1094 -20.7969 L9.0781 -20.7969 L9.0781 54.6875 L18.1094 54.6875 L18.1094 46.3906 Q20.9531 51.2656 25.2656 53.625 Q29.5938 56 35.5938 56 Q45.5625 56 51.7812 48.0938 Q58.0156 40.1875 58.0156 27.2969 Q58.0156 14.4062 51.7812 6.4844 Q45.5625 -1.4219 35.5938 -1.4219 Q29.5938 -1.4219 25.2656 0.9531 Q20.9531 3.3281 18.1094 8.2031 ZM48.6875 27.2969 Q48.6875 37.2031 44.6094 42.8438 Q40.5312 48.4844 33.4062 48.4844 Q26.2656 48.4844 22.1875 42.8438 Q18.1094 37.2031 18.1094 27.2969 Q18.1094 17.3906 22.1875 11.75 Q26.2656 6.1094 33.4062 6.1094 Q40.5312 6.1094 44.6094 11.75 Q48.6875 17.3906 48.6875 27.2969 Z\"/><glyph unicode=\"m\" horiz-adv-x=\"97.0\" d=\"M52 44.1875 Q55.375 50.25 60.0625 53.125 Q64.75 56 71.0938 56 Q79.6406 56 84.2812 50.0156 Q88.9219 44.0469 88.9219 33.0156 L88.9219 0 L79.8906 0 L79.8906 32.7188 Q79.8906 40.5781 77.0938 44.375 Q74.3125 48.1875 68.6094 48.1875 Q61.625 48.1875 57.5625 43.5469 Q53.5156 38.9219 53.5156 30.9062 L53.5156 0 L44.4844 0 L44.4844 32.7188 Q44.4844 40.625 41.7031 44.4062 Q38.9219 48.1875 33.1094 48.1875 Q26.2188 48.1875 22.1562 43.5312 Q18.1094 38.875 18.1094 30.9062 L18.1094 0 L9.0781 0 L9.0781 54.6875 L18.1094 54.6875 L18.1094 46.1875 Q21.1875 51.2188 25.4844 53.6094 Q29.7812 56 35.6875 56 Q41.6562 56 45.8281 52.9688 Q50 49.9531 52 44.1875 Z\"/><glyph unicode=\"e\" horiz-adv-x=\"62.0\" d=\"M56.2031 29.5938 L56.2031 25.2031 L14.8906 25.2031 Q15.4844 15.9219 20.4844 11.0625 Q25.4844 6.2031 34.4219 6.2031 Q39.5938 6.2031 44.4531 7.4688 Q49.3125 8.7344 54.1094 11.2812 L54.1094 2.7812 Q49.2656 0.7344 44.1875 -0.3438 Q39.1094 -1.4219 33.8906 -1.4219 Q20.7969 -1.4219 13.1562 6.1875 Q5.5156 13.8125 5.5156 26.8125 Q5.5156 40.2344 12.7656 48.1094 Q20.0156 56 32.3281 56 Q43.3594 56 49.7812 48.8906 Q56.2031 41.7969 56.2031 29.5938 ZM47.2188 32.2344 Q47.125 39.5938 43.0938 43.9844 Q39.0625 48.3906 32.4219 48.3906 Q24.9062 48.3906 20.3906 44.1406 Q15.875 39.8906 15.1875 32.1719 L47.2188 32.2344 Z\"/><glyph unicode=\"T\" horiz-adv-x=\"61.0\" d=\"M-0.2969 72.9062 L61.375 72.9062 L61.375 64.5938 L35.5 64.5938 L35.5 0 L25.5938 0 L25.5938 64.5938 L-0.2969 64.5938 L-0.2969 72.9062 Z\"/><glyph unicode=\"C\" horiz-adv-x=\"70.0\" d=\"M64.4062 67.2812 L64.4062 56.8906 Q59.4219 61.5312 53.7812 63.8125 Q48.1406 66.1094 41.7969 66.1094 Q29.2969 66.1094 22.6562 58.4688 Q16.0156 50.8281 16.0156 36.375 Q16.0156 21.9688 22.6562 14.3281 Q29.2969 6.6875 41.7969 6.6875 Q48.1406 6.6875 53.7812 8.9844 Q59.4219 11.2812 64.4062 15.9219 L64.4062 5.6094 Q59.2344 2.0938 53.4375 0.3281 Q47.6562 -1.4219 41.2188 -1.4219 Q24.6562 -1.4219 15.125 8.7031 Q5.6094 18.8438 5.6094 36.375 Q5.6094 53.9531 15.125 64.0781 Q24.6562 74.2188 41.2188 74.2188 Q47.75 74.2188 53.5312 72.4844 Q59.3281 70.75 64.4062 67.2812 Z\"/><glyph unicode=\"°\" horiz-adv-x=\"50.0\" d=\"M25 67.9219 Q21.0938 67.9219 18.4062 65.2031 Q15.7188 62.5 15.7188 58.5938 Q15.7188 54.7344 18.4062 52.0781 Q21.0938 49.4219 25 49.4219 Q28.9062 49.4219 31.5938 52.0781 Q34.2812 54.7344 34.2812 58.5938 Q34.2812 62.4531 31.5625 65.1875 Q28.8594 67.9219 25 67.9219 ZM25 74.2188 Q28.125 74.2188 31 73.0156 Q33.8906 71.8281 35.9844 69.5781 Q38.2344 67.3906 39.3594 64.5938 Q40.4844 61.8125 40.4844 58.5938 Q40.4844 52.1562 35.9688 47.6875 Q31.4531 43.2188 24.9062 43.2188 Q18.3125 43.2188 13.9062 47.6094 Q9.5156 52 9.5156 58.5938 Q9.5156 65.1406 14 69.6719 Q18.5 74.2188 25 74.2188 Z\"/><glyph unicode=\"d\" horiz-adv-x=\"63.0\" d=\"M45.4062 46.3906 L45.4062 75.9844 L54.3906 75.9844 L54.3906 0 L45.4062 0 L45.4062 8.2031 Q42.5781 3.3281 38.25 0.9531 Q33.9375 -1.4219 27.875 -1.4219 Q17.9688 -1.4219 11.7344 6.4844 Q5.5156 14.4062 5.5156 27.2969 Q5.5156 40.1875 11.7344 48.0938 Q17.9688 56 27.875 56 Q33.9375 56 38.25 53.625 Q42.5781 51.2656 45.4062 46.3906 ZM14.7969 27.2969 Q14.7969 17.3906 18.875 11.75 Q22.9531 6.1094 30.0781 6.1094 Q37.2031 6.1094 41.2969 11.75 Q45.4062 17.3906 45.4062 27.2969 Q45.4062 37.2031 41.2969 42.8438 Q37.2031 48.4844 30.0781 48.4844 Q22.9531 48.4844 18.875 42.8438 Q14.7969 37.2031 14.7969 27.2969 Z\"/><glyph unicode=\"í\" horiz-adv-x=\"28.0\" d=\"M20.7031 79.9844 L30.4219 79.9844 L14.5156 61.625 L7.0312 61.625 L20.7031 79.9844 ZM9.4219 54.6875 L18.4062 54.6875 L18.4062 0 L9.4219 0 L9.4219 54.6875 ZM13.9219 56 L13.9219 56 Z\"/><glyph unicode=\"a\" horiz-adv-x=\"61.0\" d=\"M34.2812 27.4844 Q23.3906 27.4844 19.1875 25 Q14.9844 22.5156 14.9844 16.5 Q14.9844 11.7188 18.1406 8.9062 Q21.2969 6.1094 26.7031 6.1094 Q34.1875 6.1094 38.7031 11.4062 Q43.2188 16.7031 43.2188 25.4844 L43.2188 27.4844 L34.2812 27.4844 ZM52.2031 31.2031 L52.2031 0 L43.2188 0 L43.2188 8.2969 Q40.1406 3.3281 35.5469 0.9531 Q30.9531 -1.4219 24.3125 -1.4219 Q15.9219 -1.4219 10.9531 3.2969 Q6 8.0156 6 15.9219 Q6 25.1406 12.1719 29.8281 Q18.3594 34.5156 30.6094 34.5156 L43.2188 34.5156 L43.2188 35.4062 Q43.2188 41.6094 39.1406 45 Q35.0625 48.3906 27.6875 48.3906 Q23 48.3906 18.5469 47.2656 Q14.1094 46.1406 10.0156 43.8906 L10.0156 52.2031 Q14.9375 54.1094 19.5781 55.0469 Q24.2188 56 28.6094 56 Q40.4844 56 46.3438 49.8438 Q52.2031 43.7031 52.2031 31.2031 Z\"/><glyph unicode=\"S\" horiz-adv-x=\"63.0\" d=\"M53.5156 70.5156 L53.5156 60.8906 Q47.9062 63.5781 42.9219 64.8906 Q37.9375 66.2188 33.2969 66.2188 Q25.25 66.2188 20.875 63.0938 Q16.5 59.9688 16.5 54.2031 Q16.5 49.3594 19.4062 46.8906 Q22.3125 44.4375 30.4219 42.9219 L36.375 41.7031 Q47.4062 39.5938 52.6562 34.2969 Q57.9062 29 57.9062 20.125 Q57.9062 9.5156 50.7969 4.0469 Q43.7031 -1.4219 29.9844 -1.4219 Q24.8125 -1.4219 18.9688 -0.25 Q13.1406 0.9219 6.8906 3.2188 L6.8906 13.375 Q12.8906 10.0156 18.6562 8.2969 Q24.4219 6.5938 29.9844 6.5938 Q38.4219 6.5938 43.0156 9.9062 Q47.6094 13.2344 47.6094 19.3906 Q47.6094 24.75 44.3125 27.7812 Q41.0156 30.8125 33.5 32.3281 L27.4844 33.5 Q16.4531 35.6875 11.5156 40.375 Q6.5938 45.0625 6.5938 53.4219 Q6.5938 63.0938 13.4062 68.6562 Q20.2188 74.2188 32.1719 74.2188 Q37.3125 74.2188 42.625 73.2812 Q47.9531 72.3594 53.5156 70.5156 Z\"/><glyph unicode=\"u\" horiz-adv-x=\"63.0\" d=\"M8.5 21.5781 L8.5 54.6875 L17.4844 54.6875 L17.4844 21.9219 Q17.4844 14.1562 20.5 10.2656 Q23.5312 6.3906 29.5938 6.3906 Q36.8594 6.3906 41.0781 11.0312 Q45.3125 15.6719 45.3125 23.6875 L45.3125 54.6875 L54.2969 54.6875 L54.2969 0 L45.3125 0 L45.3125 8.4062 Q42.0469 3.4219 37.7188 1 Q33.4062 -1.4219 27.6875 -1.4219 Q18.2656 -1.4219 13.375 4.4375 Q8.5 10.2969 8.5 21.5781 ZM31.1094 56 L31.1094 56 Z\"/><glyph unicode=\"r\" horiz-adv-x=\"41.0\" d=\"M41.1094 46.2969 Q39.5938 47.1719 37.8125 47.5781 Q36.0312 48 33.8906 48 Q26.2656 48 22.1875 43.0469 Q18.1094 38.0938 18.1094 28.8125 L18.1094 0 L9.0781 0 L9.0781 54.6875 L18.1094 54.6875 L18.1094 46.1875 Q20.9531 51.1719 25.4844 53.5781 Q30.0312 56 36.5312 56 Q37.4531 56 38.5781 55.875 Q39.7031 55.7656 41.0625 55.5156 L41.1094 46.2969 Z\"/><glyph unicode=\"g\" horiz-adv-x=\"63.0\" d=\"M45.4062 27.9844 Q45.4062 37.75 41.375 43.1094 Q37.3594 48.4844 30.0781 48.4844 Q22.8594 48.4844 18.8281 43.1094 Q14.7969 37.75 14.7969 27.9844 Q14.7969 18.2656 18.8281 12.8906 Q22.8594 7.5156 30.0781 7.5156 Q37.3594 7.5156 41.375 12.8906 Q45.4062 18.2656 45.4062 27.9844 ZM54.3906 6.7812 Q54.3906 -7.1719 48.1875 -13.9844 Q42 -20.7969 29.2031 -20.7969 Q24.4688 -20.7969 20.2656 -20.0938 Q16.0625 -19.3906 12.1094 -17.9219 L12.1094 -9.1875 Q16.0625 -11.3281 19.9219 -12.3438 Q23.7812 -13.375 27.7812 -13.375 Q36.625 -13.375 41.0156 -8.7656 Q45.4062 -4.1562 45.4062 5.1719 L45.4062 9.625 Q42.625 4.7812 38.2812 2.3906 Q33.9375 0 27.875 0 Q17.8281 0 11.6719 7.6562 Q5.5156 15.3281 5.5156 27.9844 Q5.5156 40.6719 11.6719 48.3281 Q17.8281 56 27.875 56 Q33.9375 56 38.2812 53.6094 Q42.625 51.2188 45.4062 46.3906 L45.4062 54.6875 L54.3906 54.6875 L54.3906 6.7812 Z\"/><glyph unicode=\"t\" horiz-adv-x=\"39.0\" d=\"M18.3125 70.2188 L18.3125 54.6875 L36.8125 54.6875 L36.8125 47.7031 L18.3125 47.7031 L18.3125 18.0156 Q18.3125 11.3281 20.1406 9.4219 Q21.9688 7.5156 27.5938 7.5156 L36.8125 7.5156 L36.8125 0 L27.5938 0 Q17.1875 0 13.2344 3.875 Q9.2812 7.7656 9.2812 18.0156 L9.2812 47.7031 L2.6875 47.7031 L2.6875 54.6875 L9.2812 54.6875 L9.2812 70.2188 L18.3125 70.2188 Z\"/><glyph unicode=\"R\" horiz-adv-x=\"69.0\" d=\"M44.3906 34.1875 Q47.5625 33.1094 50.5625 29.5938 Q53.5625 26.0781 56.5938 19.9219 L66.6094 0 L56 0 L46.6875 18.7031 Q43.0625 26.0312 39.6719 28.4219 Q36.2812 30.8125 30.4219 30.8125 L19.6719 30.8125 L19.6719 0 L9.8125 0 L9.8125 72.9062 L32.0781 72.9062 Q44.5781 72.9062 50.7344 67.6719 Q56.8906 62.4531 56.8906 51.9062 Q56.8906 45.0156 53.6875 40.4688 Q50.4844 35.9375 44.3906 34.1875 ZM19.6719 64.7969 L19.6719 38.9219 L32.0781 38.9219 Q39.2031 38.9219 42.8438 42.2188 Q46.4844 45.5156 46.4844 51.9062 Q46.4844 58.2969 42.8438 61.5469 Q39.2031 64.7969 32.0781 64.7969 L19.6719 64.7969 Z\"/><glyph unicode=\"á\" horiz-adv-x=\"61.0\" d=\"M34.2812 27.4844 Q23.3906 27.4844 19.1875 25 Q14.9844 22.5156 14.9844 16.5 Q14.9844 11.7188 18.1406 8.9062 Q21.2969 6.1094 26.7031 6.1094 Q34.1875 6.1094 38.7031 11.4062 Q43.2188 16.7031 43.2188 25.4844 L43.2188 27.4844 L34.2812 27.4844 ZM52.2031 31.2031 L52.2031 0 L43.2188 0 L43.2188 8.2969 Q40.1406 3.3281 35.5469 0.9531 Q30.9531 -1.4219 24.3125 -1.4219 Q15.9219 -1.4219 10.9531 3.2969 Q6 8.0156 6 15.9219 Q6 25.1406 12.1719 29.8281 Q18.3594 34.5156 30.6094 34.5156 L43.2188 34.5156 L43.2188 35.4062 Q43.2188 41.6094 39.1406 45 Q35.0625 48.3906 27.6875 48.3906 Q23 48.3906 18.5469 47.2656 Q14.1094 46.1406 10.0156 43.8906 L10.0156 52.2031 Q14.9375 54.1094 19.5781 55.0469 Q24.2188 56 28.6094 56 Q40.4844 56 46.3438 49.8438 Q52.2031 43.7031 52.2031 31.2031 ZM35.7812 79.9844 L45.5 79.9844 L29.5938 61.625 L22.1094 61.625 L35.7812 79.9844 Z\"/><glyph unicode=\"i\" horiz-adv-x=\"28.0\" d=\"M9.4219 54.6875 L18.4062 54.6875 L18.4062 0 L9.4219 0 L9.4219 54.6875 ZM9.4219 75.9844 L18.4062 75.9844 L18.4062 64.5938 L9.4219 64.5938 L9.4219 75.9844 Z\"/><glyph unicode=\"n\" horiz-adv-x=\"63.0\" d=\"M54.8906 33.0156 L54.8906 0 L45.9062 0 L45.9062 32.7188 Q45.9062 40.4844 42.875 44.3281 Q39.8438 48.1875 33.7969 48.1875 Q26.5156 48.1875 22.3125 43.5469 Q18.1094 38.9219 18.1094 30.9062 L18.1094 0 L9.0781 0 L9.0781 54.6875 L18.1094 54.6875 L18.1094 46.1875 Q21.3438 51.125 25.7031 53.5625 Q30.0781 56 35.7969 56 Q45.2188 56 50.0469 50.1719 Q54.8906 44.3438 54.8906 33.0156 Z\"/></font></defs><g style=\"fill:white; text-rendering:optimizeLegibility; stroke:white;\"><rect x=\"0\" width=\"548\" height=\"336\" y=\"0\" style=\"stroke:none;\"/></g><g style=\"stroke-linecap:butt; fill:white; text-rendering:geometricPrecision; stroke-linejoin:bevel; shape-rendering:crispEdges; stroke:white; stroke-width:0;\"><path style=\"stroke:none;\" d=\"M479.5 42 L479.5 290.361 L68.5 42 Z\"/><path style=\"stroke:none;\" d=\"M479.5 290.361 L68.5 290.361 L68.5 42 Z\"/><path style=\"stroke:none;\" d=\"M479.5 42 L479.5 290.361 L479.5 290.361 Z\"/><path style=\"stroke:none;\" d=\"M68.5 42 L68.5 290.361 L68.5 290.361 Z\"/><path style=\"stroke:none;\" d=\"M479.5 42 L479.5 290.361 L68.5 42 Z\"/><path style=\"stroke:none;\" d=\"M479.5 290.361 L68.5 290.361 L68.5 42 Z\"/><path style=\"stroke:none;\" d=\"M479.5 42 L479.5 42 L479.5 290.361 Z\"/><path style=\"stroke:none;\" d=\"M68.5 42 L68.5 42 L68.5 290.361 Z\"/><path style=\"stroke:none;\" d=\"M479.5 42 L68.5 42 L479.5 42 Z\"/><path style=\"stroke:none;\" d=\"M68.5 42 L68.5 42 L479.5 42 Z\"/><path style=\"stroke:none;\" d=\"M479.5 290.361 L68.5 290.361 L479.5 290.361 Z\"/><path style=\"stroke:none;\" d=\"M68.5 290.361 L68.5 290.361 L479.5 290.361 Z\"/></g><g style=\"text-rendering:geometricPrecision; stroke-dasharray:1,1; shape-rendering:crispEdges; stroke-linecap:butt;\"><path style=\"fill:none;\" d=\"M68.5 290.361 L68.5 42\"/><path style=\"fill:none;\" d=\"M68.5 290.361 L68.5 290.361\"/><path style=\"fill:none;\" d=\"M101.38 290.361 L101.38 42\"/><path style=\"fill:none;\" d=\"M101.38 290.361 L101.38 290.361\"/><path style=\"fill:none;\" d=\"M134.26 290.361 L134.26 42\"/><path style=\"fill:none;\" d=\"M134.26 290.361 L134.26 290.361\"/><path style=\"fill:none;\" d=\"M167.14 290.361 L167.14 42\"/><path style=\"fill:none;\" d=\"M167.14 290.361 L167.14 290.361\"/><path style=\"fill:none;\" d=\"M200.02 290.361 L200.02 42\"/><path style=\"fill:none;\" d=\"M200.02 290.361 L200.02 290.361\"/><path style=\"fill:none;\" d=\"M232.9 290.361 L232.9 42\"/><path style=\"fill:none;\" d=\"M232.9 290.361 L232.9 290.361\"/><path style=\"fill:none;\" d=\"M265.78 290.361 L265.78 42\"/><path style=\"fill:none;\" d=\"M265.78 290.361 L265.78 290.361\"/><path style=\"fill:none;\" d=\"M298.66 290.361 L298.66 42\"/><path style=\"fill:none;\" d=\"M298.66 290.361 L298.66 290.361\"/><path style=\"fill:none;\" d=\"M331.54 290.361 L331.54 42\"/><path style=\"fill:none;\" d=\"M331.54 290.361 L331.54 290.361\"/><path style=\"fill:none;\" d=\"M364.42 290.361 L364.42 42\"/><path style=\"fill:none;\" d=\"M364.42 290.361 L364.42 290.361\"/><path style=\"fill:none;\" d=\"M397.3 290.361 L397.3 42\"/><path style=\"fill:none;\" d=\"M397.3 290.361 L397.3 290.361\"/><path style=\"fill:none;\" d=\"M430.18 290.361 L430.18 42\"/><path style=\"fill:none;\" d=\"M430.18 290.361 L430.18 290.361\"/><path style=\"fill:none;\" d=\"M463.06 290.361 L463.06 42\"/><path style=\"fill:none;\" d=\"M463.06 290.361 L463.06 290.361\"/><path style=\"fill:none;\" d=\"M68.5 290.361 L479.5 290.361\"/><path style=\"fill:none;\" d=\"M68.5 290.361 L68.5 290.361\"/><path style=\"fill:none;\" d=\"M68.5 248.9675 L479.5 248.9675\"/><path style=\"fill:none;\" d=\"M68.5 248.9675 L68.5 248.9675\"/><path style=\"fill:none;\" d=\"M68.5 207.574 L479.5 207.574\"/><path style=\"fill:none;\" d=\"M68.5 207.574 L68.5 207.574\"/><path style=\"fill:none;\" d=\"M68.5 166.1805 L479.5 166.1805\"/><path style=\"fill:none;\" d=\"M68.5 166.1805 L68.5 166.1805\"/><path style=\"fill:none;\" d=\"M68.5 124.787 L479.5 124.787\"/><path style=\"fill:none;\" d=\"M68.5 124.787 L68.5 124.787\"/><path style=\"fill:none;\" d=\"M68.5 83.3935 L479.5 83.3935\"/><path style=\"fill:none;\" d=\"M68.5 83.3935 L68.5 83.3935\"/><path style=\"fill:none;\" d=\"M68.5 42 L479.5 42\"/><path style=\"fill:none;\" d=\"M68.5 42 L68.5 42\"/></g><g transform=\"translate(64.5,299.361)\" style=\"font-size:10px; stroke-linecap:butt; text-rendering:geometricPrecision; font-family:sans-serif; stroke-linejoin:bevel; stroke-width:0;\"><text x=\"-0.6562\" xml:space=\"preserve\" y=\"9.2822\" style=\"stroke:none;\">0</text></g><g transform=\"translate(390.8,299.361)\" style=\"font-size:10px; stroke-linecap:butt; text-rendering:geometricPrecision; font-family:sans-serif; stroke-linejoin:bevel; stroke-width:0;\"><text x=\"-0.7344\" xml:space=\"preserve\" y=\"9.2822\" style=\"stroke:none;\">20</text></g><g transform=\"translate(226.4,299.361)\" style=\"font-size:10px; stroke-linecap:butt; text-rendering:geometricPrecision; font-family:sans-serif; stroke-linejoin:bevel; stroke-width:0;\"><text x=\"-1.0938\" xml:space=\"preserve\" y=\"9.2822\" style=\"stroke:none;\">10</text></g><g transform=\"translate(97.88,299.361)\" style=\"font-size:10px; stroke-linecap:butt; text-rendering:geometricPrecision; font-family:sans-serif; stroke-linejoin:bevel; stroke-width:0;\"><text x=\"-0.7344\" xml:space=\"preserve\" y=\"9.2822\" style=\"stroke:none;\">2</text></g><g transform=\"translate(130.26,299.361)\" style=\"font-size:10px; stroke-linecap:butt; text-rendering:geometricPrecision; font-family:sans-serif; stroke-linejoin:bevel; stroke-width:0;\"><text x=\"-0.4844\" xml:space=\"preserve\" y=\"9.2822\" style=\"stroke:none;\">4</text></g><g transform=\"translate(163.14,299.361)\" style=\"font-size:10px; stroke-linecap:butt; text-rendering:geometricPrecision; font-family:sans-serif; stroke-linejoin:bevel; stroke-width:0;\"><text x=\"-0.7031\" xml:space=\"preserve\" y=\"9.2822\" style=\"stroke:none;\">6</text></g><g transform=\"translate(196.52,299.361)\" style=\"font-size:10px; stroke-linecap:butt; text-rendering:geometricPrecision; font-family:sans-serif; stroke-linejoin:bevel; stroke-width:0;\"><text x=\"-0.6719\" xml:space=\"preserve\" y=\"9.2822\" style=\"stroke:none;\">8</text></g><g transform=\"translate(259.28,299.361)\" style=\"font-size:10px; stroke-linecap:butt; text-rendering:geometricPrecision; font-family:sans-serif; stroke-linejoin:bevel; stroke-width:0;\"><text x=\"-1.0938\" xml:space=\"preserve\" y=\"9.2822\" style=\"stroke:none;\">12</text></g><g transform=\"translate(292.16,299.361)\" style=\"font-size:10px; stroke-linecap:butt; text-rendering:geometricPrecision; font-family:sans-serif; stroke-linejoin:bevel; stroke-width:0;\"><text x=\"-1.0938\" xml:space=\"preserve\" y=\"9.2822\" style=\"stroke:none;\">14</text></g><g transform=\"translate(325.04,299.361)\" style=\"font-size:10px; stroke-linecap:butt; text-rendering:geometricPrecision; font-family:sans-serif; stroke-linejoin:bevel; stroke-width:0;\"><text x=\"-1.0938\" xml:space=\"preserve\" y=\"9.2822\" style=\"stroke:none;\">16</text></g><g transform=\"translate(357.92,299.361)\" style=\"font-size:10px; stroke-linecap:butt; text-rendering:geometricPrecision; font-family:sans-serif; stroke-linejoin:bevel; stroke-width:0;\"><text x=\"-1.0938\" xml:space=\"preserve\" y=\"9.2822\" style=\"stroke:none;\">18</text></g><g transform=\"translate(423.68,299.361)\" style=\"font-size:10px; stroke-linecap:butt; text-rendering:geometricPrecision; font-family:sans-serif; stroke-linejoin:bevel; stroke-width:0;\"><text x=\"-0.7344\" xml:space=\"preserve\" y=\"9.2822\" style=\"stroke:none;\">22</text></g><g transform=\"translate(456.06,299.361)\" style=\"font-size:10px; stroke-linecap:butt; text-rendering:geometricPrecision; font-family:sans-serif; stroke-linejoin:bevel; stroke-width:0;\"><text x=\"-0.7344\" xml:space=\"preserve\" y=\"9.2822\" style=\"stroke:none;\">24</text></g><g style=\"text-rendering:geometricPrecision; font-size:10px; shape-rendering:crispEdges; font-family:sans-serif; stroke-linecap:butt;\"><path style=\"fill:none;\" d=\"M68.5 290.361 L68.5 296.361\"/><path style=\"fill:none;\" d=\"M101.38 290.361 L101.38 296.361\"/><path style=\"fill:none;\" d=\"M134.26 290.361 L134.26 296.361\"/><path style=\"fill:none;\" d=\"M167.14 290.361 L167.14 296.361\"/><path style=\"fill:none;\" d=\"M200.02 290.361 L200.02 296.361\"/><path style=\"fill:none;\" d=\"M232.9 290.361 L232.9 296.361\"/><path style=\"fill:none;\" d=\"M265.78 290.361 L265.78 296.361\"/><path style=\"fill:none;\" d=\"M298.66 290.361 L298.66 296.361\"/><path style=\"fill:none;\" d=\"M331.54 290.361 L331.54 296.361\"/><path style=\"fill:none;\" d=\"M364.42 290.361 L364.42 296.361\"/><path style=\"fill:none;\" d=\"M397.3 290.361 L397.3 296.361\"/><path style=\"fill:none;\" d=\"M430.18 290.361 L430.18 296.361\"/><path style=\"fill:none;\" d=\"M463.06 290.361 L463.06 296.361\"/><path style=\"fill:none;\" d=\"M68.5 290.361 L68.5 293.361\"/><path style=\"fill:none;\" d=\"M84.94 290.361 L84.94 293.361\"/><path style=\"fill:none;\" d=\"M101.38 290.361 L101.38 293.361\"/><path style=\"fill:none;\" d=\"M117.82 290.361 L117.82 293.361\"/><path style=\"fill:none;\" d=\"M134.26 290.361 L134.26 293.361\"/><path style=\"fill:none;\" d=\"M150.7 290.361 L150.7 293.361\"/><path style=\"fill:none;\" d=\"M167.14 290.361 L167.14 293.361\"/><path style=\"fill:none;\" d=\"M183.58 290.361 L183.58 293.361\"/><path style=\"fill:none;\" d=\"M200.02 290.361 L200.02 293.361\"/><path style=\"fill:none;\" d=\"M216.46 290.361 L216.46 293.361\"/><path style=\"fill:none;\" d=\"M232.9 290.361 L232.9 293.361\"/><path style=\"fill:none;\" d=\"M249.34 290.361 L249.34 293.361\"/><path style=\"fill:none;\" d=\"M265.78 290.361 L265.78 293.361\"/><path style=\"fill:none;\" d=\"M282.22 290.361 L282.22 293.361\"/><path style=\"fill:none;\" d=\"M298.66 290.361 L298.66 293.361\"/><path style=\"fill:none;\" d=\"M315.1 290.361 L315.1 293.361\"/><path style=\"fill:none;\" d=\"M331.54 290.361 L331.54 293.361\"/><path style=\"fill:none;\" d=\"M347.98 290.361 L347.98 293.361\"/><path style=\"fill:none;\" d=\"M364.42 290.361 L364.42 293.361\"/><path style=\"fill:none;\" d=\"M380.86 290.361 L380.86 293.361\"/><path style=\"fill:none;\" d=\"M397.3 290.361 L397.3 293.361\"/><path style=\"fill:none;\" d=\"M413.74 290.361 L413.74 293.361\"/><path style=\"fill:none;\" d=\"M430.18 290.361 L430.18 293.361\"/><path style=\"fill:none;\" d=\"M446.62 290.361 L446.62 293.361\"/><path style=\"fill:none;\" d=\"M463.06 290.361 L463.06 293.361\"/><path style=\"fill:none;\" d=\"M479.5 290.361 L479.5 293.361\"/><path style=\"fill:none;\" d=\"M479.5 290.361 L68.5 290.361\"/><text x=\"-0.6562\" y=\"9.2822\" transform=\"translate(51.5,283.861)\" style=\"stroke-linejoin:bevel; shape-rendering:auto; stroke:none; stroke-width:0;\" xml:space=\"preserve\">0</text></g><g transform=\"translate(52.5,76.8935)\" style=\"font-size:10px; stroke-linecap:butt; text-rendering:geometricPrecision; font-family:sans-serif; stroke-linejoin:bevel; stroke-width:0;\"><text x=\"-1.0938\" xml:space=\"preserve\" y=\"9.2822\" style=\"stroke:none;\">1</text></g><g transform=\"translate(43.5,242.4675)\" style=\"font-size:10px; stroke-linecap:butt; text-rendering:geometricPrecision; font-family:sans-serif; stroke-linejoin:bevel; stroke-width:0;\"><text x=\"-0.6562\" xml:space=\"preserve\" y=\"9.2822\" style=\"stroke:none;\">0.2</text></g><g transform=\"translate(42.5,201.074)\" style=\"font-size:10px; stroke-linecap:butt; text-rendering:geometricPrecision; font-family:sans-serif; stroke-linejoin:bevel; stroke-width:0;\"><text x=\"-0.6562\" xml:space=\"preserve\" y=\"9.2822\" style=\"stroke:none;\">0.4</text></g><g transform=\"translate(42.5,159.6805)\" style=\"font-size:10px; stroke-linecap:butt; text-rendering:geometricPrecision; font-family:sans-serif; stroke-linejoin:bevel; stroke-width:0;\"><text x=\"-0.6562\" xml:space=\"preserve\" y=\"9.2822\" style=\"stroke:none;\">0.6</text></g><g transform=\"translate(42.5,118.287)\" style=\"font-size:10px; stroke-linecap:butt; text-rendering:geometricPrecision; font-family:sans-serif; stroke-linejoin:bevel; stroke-width:0;\"><text x=\"-0.6562\" xml:space=\"preserve\" y=\"9.2822\" style=\"stroke:none;\">0.8</text></g><g transform=\"translate(43.5,35.5)\" style=\"font-size:10px; stroke-linecap:butt; text-rendering:geometricPrecision; font-family:sans-serif; stroke-linejoin:bevel; stroke-width:0;\"><text x=\"-1.0938\" xml:space=\"preserve\" y=\"9.2822\" style=\"stroke:none;\">1.2</text></g><g style=\"text-rendering:geometricPrecision; font-size:10px; shape-rendering:crispEdges; font-family:sans-serif; stroke-linecap:butt;\"><path style=\"fill:none;\" d=\"M68.5 290.361 L62.5 290.361\"/><path style=\"fill:none;\" d=\"M68.5 248.9675 L62.5 248.9675\"/><path style=\"fill:none;\" d=\"M68.5 207.574 L62.5 207.574\"/><path style=\"fill:none;\" d=\"M68.5 166.1805 L62.5 166.1805\"/><path style=\"fill:none;\" d=\"M68.5 124.787 L62.5 124.787\"/><path style=\"fill:none;\" d=\"M68.5 83.3935 L62.5 83.3935\"/><path style=\"fill:none;\" d=\"M68.5 42 L62.5 42\"/><path style=\"fill:none;\" d=\"M68.5 290.361 L65.5 290.361\"/><path style=\"fill:none;\" d=\"M68.5 269.6642 L65.5 269.6642\"/><path style=\"fill:none;\" d=\"M68.5 248.9675 L65.5 248.9675\"/><path style=\"fill:none;\" d=\"M68.5 228.2707 L65.5 228.2707\"/><path style=\"fill:none;\" d=\"M68.5 207.574 L65.5 207.574\"/><path style=\"fill:none;\" d=\"M68.5 186.8772 L65.5 186.8772\"/><path style=\"fill:none;\" d=\"M68.5 166.1805 L65.5 166.1805\"/><path style=\"fill:none;\" d=\"M68.5 145.4837 L65.5 145.4837\"/><path style=\"fill:none;\" d=\"M68.5 124.787 L65.5 124.787\"/><path style=\"fill:none;\" d=\"M68.5 104.0902 L65.5 104.0902\"/><path style=\"fill:none;\" d=\"M68.5 83.3935 L65.5 83.3935\"/><path style=\"fill:none;\" d=\"M68.5 62.6967 L65.5 62.6967\"/><path style=\"fill:none;\" d=\"M68.5 42 L65.5 42\"/><path style=\"fill:none;\" d=\"M68.5 42 L68.5 290.361\"/></g><g transform=\"translate(240,315.361)\" style=\"text-rendering:geometricPrecision; stroke-width:0; font-family:sans-serif; stroke-linecap:butt; stroke-linejoin:bevel;\"><text x=\"2.0312\" xml:space=\"preserve\" y=\"13.1387\" style=\"stroke:none;\">Tempo (s)</text></g><g transform=\"translate(39.5,166.1805) rotate(270) translate(-33.5,-19)\" style=\"text-rendering:geometricPrecision; stroke-width:0; font-family:sans-serif; stroke-linecap:butt; stroke-linejoin:bevel;\"><text x=\"1.2031\" xml:space=\"preserve\" y=\"13.1387\" style=\"stroke:none;\">Saída (°C)</text></g><g style=\"text-rendering:geometricPrecision; stroke-width:2; shape-rendering:crispEdges; font-family:sans-serif; stroke-linecap:butt;\"><path d=\"M68.5 290.361 L69.322 285.6895 L70.144 273.5592 L70.966 256.491 L71.788 236.5815 L72.61 215.5049 L73.432 194.539 L74.254 174.6045 L75.076 156.3134 L75.898 140.0211 L76.72 125.8783 L77.542 113.8791 L78.364 103.9054 L79.186 95.7647 L80.008 89.2215 L80.83 84.0224 L81.652 79.9157 L82.474 76.665 L83.296 74.0584 L84.118 71.9137 L84.94 70.0807 L85.762 68.4409 L86.584 66.9054 L87.406 65.4123 L88.228 63.9225 L89.05 62.4159 L89.872 60.8876 L90.694 59.3437 L91.516 57.7985 L92.338 56.271 L93.16 54.7832 L93.982 53.3572 L94.804 52.0147 L95.626 50.7754 L96.448 49.6564 L97.27 48.6719 L98.092 47.8328 L98.914 47.1474 L99.736 46.6205 L100.558 46.2547 L101.38 46.0501 L102.202 46.0048 L103.024 46.1153 L103.846 46.3767 L104.668 46.783 L105.49 47.3275 L106.312 48.003 L107.134 48.8016 L107.956 49.7154 L108.778 50.7363 L109.6 51.8561 L110.422 53.0666 L111.244 54.3597 L112.066 55.7275 L112.888 57.1619 L113.71 58.6552 L114.532 60.1996 L115.354 61.7877 L116.176 63.4121 L116.998 65.0654 L117.82 66.7405 L118.642 68.4305 L119.464 70.1285 L120.286 71.8279 L121.108 73.5223 L121.93 75.2054 L122.752 76.8711 L123.574 78.5137 L124.396 80.1276 L125.218 81.7075 L126.04 83.2483 L126.862 84.7453 L127.684 86.194 L128.506 87.5903 L129.328 88.9303 L130.15 90.2106 L130.972 91.4278 L131.794 92.5793 L132.616 93.6623 L133.438 94.6749 L134.26 95.615 L135.082 96.4811 L135.904 97.2721 L136.726 97.9871 L137.548 98.6255 L138.37 99.1871 L139.192 99.6719 L140.014 100.0803 L140.836 100.4129 L141.658 100.6706 L142.48 100.8545 L143.302 100.9662 L144.124 101.0072 L144.946 100.9795 L145.768 100.8851 L146.59 100.7262 L147.412 100.5055 L148.234 100.2254 L149.056 99.8888 L149.878 99.4985 L150.7 99.0577 L151.522 98.5695 L152.344 98.0371 L153.166 97.4638 L153.988 96.853 L154.81 96.2081 L155.632 95.5327 L156.454 94.83 L157.276 94.1037 L158.098 93.3572 L158.92 92.5939 L159.742 91.8172 L160.564 91.0305 L161.386 90.2372 L162.208 89.4404 L163.03 88.6433 L163.852 87.849 L164.674 87.0604 L165.496 86.2803 L166.318 85.5117 L167.14 84.7569 L167.962 84.0187 L168.784 83.2992 L169.606 82.6007 L170.428 81.9253 L171.25 81.275 L172.072 80.6514 L172.894 80.0563 L173.716 79.491 L174.538 78.957 L175.36 78.4552 L176.182 77.9868 L177.004 77.5525 L177.826 77.1531 L178.648 76.7891 L179.47 76.4608 L180.292 76.1685 L181.114 75.9123 L181.936 75.6921 L182.758 75.5077 L183.58 75.3588 L184.402 75.2449 L185.224 75.1655 L186.046 75.1199 L186.868 75.1073 L187.69 75.1268 L188.512 75.1774 L189.334 75.2579 L190.156 75.3673 L190.978 75.5043 L191.8 75.6675 L192.622 75.8556 L193.444 76.0671 L194.266 76.3006 L195.088 76.5546 L195.91 76.8274 L196.732 77.1174 L197.554 77.4231 L198.376 77.7429 L199.198 78.0751 L200.02 78.4181 L200.842 78.7702 L201.664 79.1299 L202.486 79.4955 L203.308 79.8655 L204.13 80.2383 L204.952 80.6125 L205.774 80.9864 L206.596 81.3588 L207.418 81.7283 L208.24 82.0934 L209.062 82.453 L209.884 82.8057 L210.706 83.1506 L211.528 83.4863 L212.35 83.812 L213.172 84.1267 L213.994 84.4295 L214.816 84.7195 L215.638 84.996 L216.46 85.2584 L217.282 85.5061 L218.104 85.7384 L218.926 85.9551 L219.748 86.1556 L220.57 86.3397 L221.392 86.5072 L222.214 86.6578 L223.036 86.7916 L223.858 86.9084 L224.68 87.0083 L225.502 87.0915 L226.324 87.158 L227.146 87.2081 L227.968 87.2421 L228.79 87.2604 L229.612 87.2632 L230.434 87.251 L231.256 87.2244 L232.078 87.1838 L232.9 87.1298 L233.722 87.0629 L234.544 86.9839 L235.366 86.8933 L236.188 86.7919 L237.01 86.6803 L237.832 86.5592 L238.654 86.4295 L239.476 86.2918 L240.298 86.1469 L241.12 85.9955 L241.942 85.8385 L242.764 85.6766 L243.586 85.5105 L244.408 85.3411 L245.23 85.169 L246.052 84.995 L246.874 84.8199 L247.696 84.6442 L248.518 84.4688 L249.34 84.2942 L250.162 84.1212 L250.984 83.9503 L251.806 83.7821 L252.628 83.6172 L253.45 83.4562 L254.272 83.2995 L255.094 83.1477 L255.916 83.0011 L256.738 82.8602 L257.56 82.7253 L258.382 82.5968 L259.204 82.4751 L260.026 82.3603 L260.848 82.2527 L261.67 82.1525 L262.492 82.06 L263.314 81.9751 L264.136 81.8981 L264.958 81.829 L265.78 81.7679 L266.602 81.7146 L267.424 81.6693 L268.246 81.6319 L269.068 81.6023 L269.89 81.5803 L270.712 81.5658 L271.534 81.5588 L272.356 81.5589 L273.178 81.566 L274 81.5799 L274.822 81.6002 L275.644 81.6268 L276.466 81.6594 L277.288 81.6976 L278.11 81.7412 L278.932 81.7898 L279.754 81.8431 L280.576 81.9008 L281.398 81.9625 L282.22 82.0278 L283.042 82.0965 L283.864 82.1681 L284.686 82.2423 L285.508 82.3187 L286.33 82.397 L287.152 82.4768 L287.974 82.5578 L288.796 82.6396 L289.618 82.7219 L290.44 82.8043 L291.262 82.8866 L292.084 82.9684 L292.906 83.0495 L293.728 83.1294 L294.55 83.2081 L295.372 83.2851 L296.194 83.3603 L297.016 83.4334 L297.838 83.5042 L298.66 83.5725 L299.482 83.6381 L300.304 83.7008 L301.126 83.7604 L301.948 83.8169 L302.77 83.8701 L303.592 83.9199 L304.414 83.9662 L305.236 84.0089 L306.058 84.048 L306.88 84.0834 L307.702 84.1151 L308.524 84.143 L309.346 84.1673 L310.168 84.1878 L310.99 84.2046 L311.812 84.2178 L312.634 84.2274 L313.456 84.2334 L314.278 84.236 L315.1 84.2353 L315.922 84.2313 L316.744 84.2242 L317.566 84.214 L318.388 84.201 L319.21 84.1851 L320.032 84.1667 L320.854 84.1457 L321.676 84.1224 L322.498 84.097 L323.32 84.0695 L324.142 84.0402 L324.964 84.0092 L325.786 83.9767 L326.608 83.9428 L327.43 83.9078 L328.252 83.8717 L329.074 83.8348 L329.896 83.7972 L330.718 83.7591 L331.54 83.7207 L332.362 83.682 L333.184 83.6433 L334.006 83.6047 L334.828 83.5664 L335.65 83.5284 L336.472 83.491 L337.294 83.4543 L338.116 83.4183 L338.938 83.3832 L339.76 83.3491 L340.582 83.3161 L341.404 83.2843 L342.226 83.2538 L343.048 83.2246 L343.87 83.1969 L344.692 83.1707 L345.514 83.1461 L346.336 83.123 L347.158 83.1016 L347.98 83.0819 L348.802 83.0639 L349.624 83.0477 L350.446 83.0332 L351.268 83.0204 L352.09 83.0094 L352.912 83.0001 L353.734 82.9926 L354.556 82.9867 L355.378 82.9826 L356.2 82.98 L357.022 82.9791 L357.844 82.9798 L358.666 82.982 L359.488 82.9856 L360.31 82.9907 L361.132 82.9971 L361.954 83.0048 L362.776 83.0137 L363.598 83.0237 L364.42 83.0349 L365.242 83.047 L366.064 83.0601 L366.886 83.074 L367.708 83.0887 L368.53 83.1041 L369.352 83.1201 L370.174 83.1367 L370.996 83.1537 L371.818 83.1711 L372.64 83.1888 L373.462 83.2067 L374.284 83.2248 L375.106 83.243 L375.928 83.2611 L376.75 83.2792 L377.572 83.2972 L378.394 83.3149 L379.216 83.3324 L380.038 83.3496 L380.86 83.3664 L381.682 83.3828 L382.504 83.3987 L383.326 83.4141 L384.148 83.4289 L384.97 83.4431 L385.792 83.4566 L386.614 83.4695 L387.436 83.4817 L388.258 83.4931 L389.08 83.5037 L389.902 83.5136 L390.724 83.5227 L391.546 83.531 L392.368 83.5385 L393.19 83.5451 L394.012 83.5509 L394.834 83.5559 L395.656 83.5601 L396.478 83.5635 L397.3 83.5661 L398.122 83.5679 L398.944 83.5689 L399.766 83.5692 L400.588 83.5687 L401.41 83.5675 L402.232 83.5657 L403.054 83.5632 L403.876 83.5601 L404.698 83.5563 L405.52 83.552 L406.342 83.5472 L407.164 83.5419 L407.986 83.5361 L408.808 83.5299 L409.63 83.5233 L410.452 83.5163 L411.274 83.509 L412.096 83.5014 L412.918 83.4936 L413.74 83.4856 L414.562 83.4774 L415.384 83.4691 L416.206 83.4606 L417.028 83.4521 L417.85 83.4436 L418.672 83.4351 L419.494 83.4266 L420.316 83.4182 L421.138 83.4099 L421.96 83.4017 L422.782 83.3937 L423.604 83.3858 L424.426 83.3782 L425.248 83.3708 L426.07 83.3636 L426.892 83.3567 L427.714 83.3501 L428.536 83.3438 L429.358 83.3378 L430.18 83.3322 L431.002 83.3269 L431.824 83.322 L432.646 83.3174 L433.468 83.3132 L434.29 83.3094 L435.112 83.306 L435.934 83.303 L436.756 83.3003 L437.578 83.298 L438.4 83.2962 L439.222 83.2946 L440.044 83.2935 L440.866 83.2927 L441.688 83.2923 L442.51 83.2923 L443.332 83.2926 L444.154 83.2932 L444.976 83.2941 L445.798 83.2953 L446.62 83.2969 L447.442 83.2987 L448.264 83.3007 L449.086 83.3031 L449.908 83.3056 L450.73 83.3084 L451.552 83.3113 L452.374 83.3145 L453.196 83.3178 L454.018 83.3212 L454.84 83.3248 L455.662 83.3285 L456.484 83.3323 L457.306 83.3361 L458.128 83.34 L458.95 83.344 L459.772 83.348 L460.594 83.352 L461.416 83.356 L462.238 83.36 L463.06 83.3639 L463.882 83.3678 L464.704 83.3716 L465.526 83.3754 L466.348 83.3791 L467.17 83.3826 L467.992 83.3861 L468.814 83.3894 L469.636 83.3926 L470.458 83.3957 L471.28 83.3986 L472.102 83.4014 L472.924 83.404 L473.746 83.4065 L474.568 83.4087 L475.39 83.4109 L476.212 83.4128 L477.034 83.4145 L477.856 83.4161 L478.678 83.4175 L479.5 83.4187\" style=\"fill:none; clip-path:url(#clipPath1);\"/><path d=\"M68.5 290.361 L68.5 42 L68.5 42 L479.5 42 L479.5 290.361 L479.5 290.361 L68.5 290.361\" style=\"fill:none; stroke-width:1;\"/><path d=\"M479.5 42 L68.5 42\" style=\"fill:none; stroke-width:1;\"/><path d=\"M479.5 42 L479.5 290.361\" style=\"fill:none; stroke-width:1;\"/><path d=\"M479.5 42 L479.5 42\" style=\"fill:none; stroke-width:1;\"/></g><g style=\"stroke-linecap:butt; fill:white; text-rendering:geometricPrecision; font-family:sans-serif; stroke-linejoin:bevel; shape-rendering:crispEdges; stroke:white; stroke-width:0;\"><path style=\"stroke:none;\" d=\"M315.85 66.4508 L474.3625 66.4508 L474.3625 44.4836 Z\"/><path style=\"stroke:none;\" d=\"M315.85 66.4508 L474.3625 44.4836 L315.85 44.4836 Z\"/></g><g style=\"text-rendering:geometricPrecision; shape-rendering:crispEdges; font-family:sans-serif; stroke-linecap:butt;\"><path style=\"fill:none;\" d=\"M315.85 66.4508 L474.3625 66.4508\"/><path style=\"fill:none;\" d=\"M474.3625 66.4508 L474.3625 44.4836\"/><path style=\"fill:none;\" d=\"M474.3625 44.4836 L315.85 44.4836\"/><path style=\"fill:none;\" d=\"M315.85 44.4836 L315.85 66.4508\"/><path d=\"M320.9875 55.4672 L341.5375 55.4672 L362.0875 55.4672\" style=\"fill:none; stroke-width:2;\"/></g><g transform=\"translate(367.225,46.9672)\" style=\"stroke-linecap:butt; fill:white; text-rendering:geometricPrecision; font-family:sans-serif; stroke-linejoin:bevel; stroke:white; stroke-width:0;\"><rect x=\"0\" width=\"102\" height=\"17\" y=\"0\" style=\"stroke:none;\"/><text x=\"1.0156\" y=\"11.2822\" style=\"fill:black; font-size:10px; stroke:none;\" xml:space=\"preserve\">Resposta ao degrau</text></g><g transform=\"translate(174.5,12)\" style=\"font-size:14px; stroke-linecap:butt; text-rendering:geometricPrecision; font-family:sans-serif; stroke-linejoin:bevel; stroke-width:0;\"><text x=\"0.625\" xml:space=\"preserve\" y=\"14.9951\" style=\"stroke:none;\">Resposta ao degrau unitário</text></g></g></svg>",
      "text/plain": [
       "<IPython.core.display.SVG object>"
      ]
     },
     "metadata": {},
     "output_type": "display_data"
    }
   ],
   "source": [
    "t = 0:0.05:25;\n",
    "y = csim('step',t,MF);\n",
    "plot(t,y,'k-','LineWidth',2); xgrid;\n",
    "title('Resposta ao degrau unitário');\n",
    "xlabel('Tempo (s)'); ylabel('Saída (°C)'); legend('Resposta ao degrau');"
   ]
  },
  {
   "cell_type": "markdown",
   "metadata": {},
   "source": [
    "Para obter o valor máximo da saída:"
   ]
  },
  {
   "cell_type": "code",
   "execution_count": 30,
   "metadata": {},
   "outputs": [
    {
     "name": "stdout",
     "output_type": "stream",
     "text": [
      "\u001b[4l\u001b[0m tempMax  = \n",
      "\n",
      "   1.1806502\n",
      "\n",
      "\u001b[0m"
     ]
    }
   ],
   "source": [
    "tempMax = max(y)"
   ]
  },
  {
   "cell_type": "markdown",
   "metadata": {},
   "source": [
    "E para obter o tempo em que isso ocorre:"
   ]
  },
  {
   "cell_type": "code",
   "execution_count": 31,
   "metadata": {},
   "outputs": [
    {
     "name": "stdout",
     "output_type": "stream",
     "text": [
      "\u001b[4l\u001b[0m\n",
      "\u001b[0m\u001b[4l\u001b[0m tempo98  = \n",
      "\n",
      "   2.0500000\n",
      "\n",
      "\u001b[0m"
     ]
    }
   ],
   "source": [
    "[vv,pp] = max(y);\n",
    "tempo98 = t(pp)"
   ]
  },
  {
   "cell_type": "markdown",
   "metadata": {},
   "source": [
    "Para obter o U(s):"
   ]
  },
  {
   "cell_type": "code",
   "execution_count": 32,
   "metadata": {},
   "outputs": [
    {
     "name": "stdout",
     "output_type": "stream",
     "text": [
      "\u001b[4l\u001b[0m U  = \n",
      "\n",
      "   0.05s +100.11s² +220.07s³ +140.01s⁴ +20s⁵  \n",
      "   -----------------------------------------  \n",
      "     0.02 +40.01s +25.01s² +31s³ +7s⁴ +s⁵     \n",
      "\n",
      "\u001b[0m"
     ]
    }
   ],
   "source": [
    "U = K/(1+G*K)"
   ]
  },
  {
   "cell_type": "markdown",
   "metadata": {},
   "source": [
    "Agora, vamos plotar o gráfico:"
   ]
  },
  {
   "cell_type": "code",
   "execution_count": 33,
   "metadata": {},
   "outputs": [
    {
     "name": "stdout",
     "output_type": "stream",
     "text": [
      "\u001b[4l\u001b[0m\n",
      "\u001b[0m"
     ]
    },
    {
     "data": {
      "image/svg+xml": "<svg xmlns:xlink=\"http://www.w3.org/1999/xlink\" xmlns=\"http://www.w3.org/2000/svg\" style=\"fill-opacity:1; color-rendering:auto; color-interpolation:auto; text-rendering:auto; stroke:black; stroke-linecap:square; stroke-miterlimit:10; shape-rendering:auto; stroke-opacity:1; fill:black; stroke-dasharray:none; font-weight:normal; stroke-width:1; font-family:'Dialog'; font-style:normal; stroke-linejoin:miter; font-size:12px; stroke-dashoffset:0; image-rendering:auto;\" width=\"548\" height=\"336\"><!--Generated by Scilab with Batik SVG Generator--><defs id=\"genericDefs\"/><g><defs id=\"defs1\"><clipPath clipPathUnits=\"userSpaceOnUse\" id=\"clipPath1\"><path d=\"M68.4959 41.9975 L479.5041 41.9975 L479.5041 294.0025 L68.4959 294.0025 L68.4959 41.9975 Z\"/></clipPath><font horiz-adv-x=\"60.0\" id=\"font1\"><font-face ascent=\"92.822266\" descent=\"23.583984\" units-per-em=\"100\" style=\"font-style:normal; font-family:sans-serif; font-weight:normal;\"/><missing-glyph horiz-adv-x=\"60.0\" d=\"M4.9844 -17.6719 L4.9844 70.5156 L54.9844 70.5156 L54.9844 -17.6719 L4.9844 -17.6719 ZM10.5938 -12.1094 L49.4219 -12.1094 L49.4219 64.8906 L10.5938 64.8906 L10.5938 -12.1094 Z\"/><glyph unicode=\"0\" horiz-adv-x=\"64.0\" d=\"M31.7812 66.4062 Q24.1719 66.4062 20.3281 58.9062 Q16.5 51.4219 16.5 36.375 Q16.5 21.3906 20.3281 13.8906 Q24.1719 6.3906 31.7812 6.3906 Q39.4531 6.3906 43.2812 13.8906 Q47.125 21.3906 47.125 36.375 Q47.125 51.4219 43.2812 58.9062 Q39.4531 66.4062 31.7812 66.4062 ZM31.7812 74.2188 Q44.0469 74.2188 50.5156 64.5156 Q56.9844 54.8281 56.9844 36.375 Q56.9844 17.9688 50.5156 8.2656 Q44.0469 -1.4219 31.7812 -1.4219 Q19.5312 -1.4219 13.0625 8.2656 Q6.5938 17.9688 6.5938 36.375 Q6.5938 54.8281 13.0625 64.5156 Q19.5312 74.2188 31.7812 74.2188 Z\"/><glyph unicode=\"2\" horiz-adv-x=\"64.0\" d=\"M19.1875 8.2969 L53.6094 8.2969 L53.6094 0 L7.3281 0 L7.3281 8.2969 Q12.9375 14.1094 22.625 23.8906 Q32.3281 33.6875 34.8125 36.5312 Q39.5469 41.8438 41.4219 45.5312 Q43.3125 49.2188 43.3125 52.7812 Q43.3125 58.5938 39.2344 62.25 Q35.1562 65.9219 28.6094 65.9219 Q23.9688 65.9219 18.8125 64.3125 Q13.6719 62.7031 7.8125 59.4219 L7.8125 69.3906 Q13.7656 71.7812 18.9375 73 Q24.125 74.2188 28.4219 74.2188 Q39.75 74.2188 46.4844 68.5469 Q53.2188 62.8906 53.2188 53.4219 Q53.2188 48.9219 51.5312 44.8906 Q49.8594 40.875 45.4062 35.4062 Q44.1875 33.9844 37.6406 27.2188 Q31.1094 20.4531 19.1875 8.2969 Z\"/><glyph unicode=\"1\" horiz-adv-x=\"64.0\" d=\"M12.4062 8.2969 L28.5156 8.2969 L28.5156 63.9219 L10.9844 60.4062 L10.9844 69.3906 L28.4219 72.9062 L38.2812 72.9062 L38.2812 8.2969 L54.3906 8.2969 L54.3906 0 L12.4062 0 L12.4062 8.2969 Z\"/><glyph unicode=\"4\" horiz-adv-x=\"64.0\" d=\"M37.7969 64.3125 L12.8906 25.3906 L37.7969 25.3906 L37.7969 64.3125 ZM35.2031 72.9062 L47.6094 72.9062 L47.6094 25.3906 L58.0156 25.3906 L58.0156 17.1875 L47.6094 17.1875 L47.6094 0 L37.7969 0 L37.7969 17.1875 L4.8906 17.1875 L4.8906 26.7031 L35.2031 72.9062 Z\"/><glyph unicode=\"6\" horiz-adv-x=\"64.0\" d=\"M33.0156 40.375 Q26.375 40.375 22.4844 35.8281 Q18.6094 31.2969 18.6094 23.3906 Q18.6094 15.5312 22.4844 10.9531 Q26.375 6.3906 33.0156 6.3906 Q39.6562 6.3906 43.5312 10.9531 Q47.4062 15.5312 47.4062 23.3906 Q47.4062 31.2969 43.5312 35.8281 Q39.6562 40.375 33.0156 40.375 ZM52.5938 71.2969 L52.5938 62.3125 Q48.875 64.0625 45.0938 64.9844 Q41.3125 65.9219 37.5938 65.9219 Q27.8281 65.9219 22.6719 59.3281 Q17.5312 52.7344 16.7969 39.4062 Q19.6719 43.6562 24.0156 45.9219 Q28.375 48.1875 33.5938 48.1875 Q44.5781 48.1875 50.9531 41.5156 Q57.3281 34.8594 57.3281 23.3906 Q57.3281 12.1562 50.6875 5.3594 Q44.0469 -1.4219 33.0156 -1.4219 Q20.3594 -1.4219 13.6719 8.2656 Q6.9844 17.9688 6.9844 36.375 Q6.9844 53.6562 15.1875 63.9375 Q23.3906 74.2188 37.2031 74.2188 Q40.9219 74.2188 44.7031 73.4844 Q48.4844 72.75 52.5938 71.2969 Z\"/><glyph unicode=\"8\" horiz-adv-x=\"64.0\" d=\"M31.7812 34.625 Q24.75 34.625 20.7188 30.8594 Q16.7031 27.0938 16.7031 20.5156 Q16.7031 13.9219 20.7188 10.1562 Q24.75 6.3906 31.7812 6.3906 Q38.8125 6.3906 42.8594 10.1719 Q46.9219 13.9688 46.9219 20.5156 Q46.9219 27.0938 42.8906 30.8594 Q38.875 34.625 31.7812 34.625 ZM21.9219 38.8125 Q15.5781 40.375 12.0312 44.7188 Q8.5 49.0781 8.5 55.3281 Q8.5 64.0625 14.7188 69.1406 Q20.9531 74.2188 31.7812 74.2188 Q42.6719 74.2188 48.875 69.1406 Q55.0781 64.0625 55.0781 55.3281 Q55.0781 49.0781 51.5312 44.7188 Q48 40.375 41.7031 38.8125 Q48.8281 37.1562 52.7969 32.3125 Q56.7812 27.4844 56.7812 20.5156 Q56.7812 9.9062 50.3125 4.2344 Q43.8438 -1.4219 31.7812 -1.4219 Q19.7344 -1.4219 13.25 4.2344 Q6.7812 9.9062 6.7812 20.5156 Q6.7812 27.4844 10.7812 32.3125 Q14.7969 37.1562 21.9219 38.8125 ZM18.3125 54.3906 Q18.3125 48.7344 21.8438 45.5625 Q25.3906 42.3906 31.7812 42.3906 Q38.1406 42.3906 41.7188 45.5625 Q45.3125 48.7344 45.3125 54.3906 Q45.3125 60.0625 41.7188 63.2344 Q38.1406 66.4062 31.7812 66.4062 Q25.3906 66.4062 21.8438 63.2344 Q18.3125 60.0625 18.3125 54.3906 Z\"/><glyph unicode=\"5\" horiz-adv-x=\"64.0\" d=\"M10.7969 72.9062 L49.5156 72.9062 L49.5156 64.5938 L19.8281 64.5938 L19.8281 46.7344 Q21.9688 47.4688 24.1094 47.8281 Q26.2656 48.1875 28.4219 48.1875 Q40.625 48.1875 47.75 41.5 Q54.8906 34.8125 54.8906 23.3906 Q54.8906 11.625 47.5625 5.0938 Q40.2344 -1.4219 26.9062 -1.4219 Q22.3125 -1.4219 17.5469 -0.6406 Q12.7969 0.1406 7.7188 1.7031 L7.7188 11.625 Q12.1094 9.2344 16.7969 8.0625 Q21.4844 6.8906 26.7031 6.8906 Q35.1562 6.8906 40.0781 11.3281 Q45.0156 15.7656 45.0156 23.3906 Q45.0156 31 40.0781 35.4375 Q35.1562 39.8906 26.7031 39.8906 Q22.75 39.8906 18.8125 39.0156 Q14.8906 38.1406 10.7969 36.2812 L10.7969 72.9062 Z\"/></font></defs><g style=\"fill:white; text-rendering:optimizeLegibility; stroke:white;\"><rect x=\"0\" width=\"548\" height=\"336\" y=\"0\" style=\"stroke:none;\"/></g><g style=\"stroke-linecap:butt; fill:white; text-rendering:geometricPrecision; stroke-linejoin:bevel; shape-rendering:crispEdges; stroke:white; stroke-width:0;\"><path style=\"stroke:none;\" d=\"M479.5 42 L479.5 294 L68.5 42 Z\"/><path style=\"stroke:none;\" d=\"M479.5 294 L68.5 294 L68.5 42 Z\"/><path style=\"stroke:none;\" d=\"M479.5 42 L479.5 294 L479.5 294 Z\"/><path style=\"stroke:none;\" d=\"M68.5 42 L68.5 294 L68.5 294 Z\"/><path style=\"stroke:none;\" d=\"M479.5 42 L479.5 294 L68.5 42 Z\"/><path style=\"stroke:none;\" d=\"M479.5 294 L68.5 294 L68.5 42 Z\"/><path style=\"stroke:none;\" d=\"M479.5 42 L479.5 42 L479.5 294 Z\"/><path style=\"stroke:none;\" d=\"M68.5 42 L68.5 42 L68.5 294 Z\"/><path style=\"stroke:none;\" d=\"M479.5 42 L68.5 42 L479.5 42 Z\"/><path style=\"stroke:none;\" d=\"M68.5 42 L68.5 42 L479.5 42 Z\"/><path style=\"stroke:none;\" d=\"M479.5 294 L68.5 294 L479.5 294 Z\"/><path style=\"stroke:none;\" d=\"M68.5 294 L68.5 294 L479.5 294 Z\"/></g><g transform=\"translate(64.5,303)\" style=\"font-size:10px; stroke-linecap:butt; text-rendering:geometricPrecision; font-family:sans-serif; stroke-linejoin:bevel; stroke-width:0;\"><text x=\"-0.6562\" xml:space=\"preserve\" y=\"9.2822\" style=\"stroke:none;\">0</text></g><g transform=\"translate(390.8,303)\" style=\"font-size:10px; stroke-linecap:butt; text-rendering:geometricPrecision; font-family:sans-serif; stroke-linejoin:bevel; stroke-width:0;\"><text x=\"-0.7344\" xml:space=\"preserve\" y=\"9.2822\" style=\"stroke:none;\">20</text></g><g transform=\"translate(226.4,303)\" style=\"font-size:10px; stroke-linecap:butt; text-rendering:geometricPrecision; font-family:sans-serif; stroke-linejoin:bevel; stroke-width:0;\"><text x=\"-1.0938\" xml:space=\"preserve\" y=\"9.2822\" style=\"stroke:none;\">10</text></g><g transform=\"translate(97.88,303)\" style=\"font-size:10px; stroke-linecap:butt; text-rendering:geometricPrecision; font-family:sans-serif; stroke-linejoin:bevel; stroke-width:0;\"><text x=\"-0.7344\" xml:space=\"preserve\" y=\"9.2822\" style=\"stroke:none;\">2</text></g><g transform=\"translate(130.26,303)\" style=\"font-size:10px; stroke-linecap:butt; text-rendering:geometricPrecision; font-family:sans-serif; stroke-linejoin:bevel; stroke-width:0;\"><text x=\"-0.4844\" xml:space=\"preserve\" y=\"9.2822\" style=\"stroke:none;\">4</text></g><g transform=\"translate(163.14,303)\" style=\"font-size:10px; stroke-linecap:butt; text-rendering:geometricPrecision; font-family:sans-serif; stroke-linejoin:bevel; stroke-width:0;\"><text x=\"-0.7031\" xml:space=\"preserve\" y=\"9.2822\" style=\"stroke:none;\">6</text></g><g transform=\"translate(196.52,303)\" style=\"font-size:10px; stroke-linecap:butt; text-rendering:geometricPrecision; font-family:sans-serif; stroke-linejoin:bevel; stroke-width:0;\"><text x=\"-0.6719\" xml:space=\"preserve\" y=\"9.2822\" style=\"stroke:none;\">8</text></g><g transform=\"translate(259.28,303)\" style=\"font-size:10px; stroke-linecap:butt; text-rendering:geometricPrecision; font-family:sans-serif; stroke-linejoin:bevel; stroke-width:0;\"><text x=\"-1.0938\" xml:space=\"preserve\" y=\"9.2822\" style=\"stroke:none;\">12</text></g><g transform=\"translate(292.16,303)\" style=\"font-size:10px; stroke-linecap:butt; text-rendering:geometricPrecision; font-family:sans-serif; stroke-linejoin:bevel; stroke-width:0;\"><text x=\"-1.0938\" xml:space=\"preserve\" y=\"9.2822\" style=\"stroke:none;\">14</text></g><g transform=\"translate(325.04,303)\" style=\"font-size:10px; stroke-linecap:butt; text-rendering:geometricPrecision; font-family:sans-serif; stroke-linejoin:bevel; stroke-width:0;\"><text x=\"-1.0938\" xml:space=\"preserve\" y=\"9.2822\" style=\"stroke:none;\">16</text></g><g transform=\"translate(357.92,303)\" style=\"font-size:10px; stroke-linecap:butt; text-rendering:geometricPrecision; font-family:sans-serif; stroke-linejoin:bevel; stroke-width:0;\"><text x=\"-1.0938\" xml:space=\"preserve\" y=\"9.2822\" style=\"stroke:none;\">18</text></g><g transform=\"translate(423.68,303)\" style=\"font-size:10px; stroke-linecap:butt; text-rendering:geometricPrecision; font-family:sans-serif; stroke-linejoin:bevel; stroke-width:0;\"><text x=\"-0.7344\" xml:space=\"preserve\" y=\"9.2822\" style=\"stroke:none;\">22</text></g><g transform=\"translate(456.06,303)\" style=\"font-size:10px; stroke-linecap:butt; text-rendering:geometricPrecision; font-family:sans-serif; stroke-linejoin:bevel; stroke-width:0;\"><text x=\"-0.7344\" xml:space=\"preserve\" y=\"9.2822\" style=\"stroke:none;\">24</text></g><g style=\"text-rendering:geometricPrecision; font-size:10px; shape-rendering:crispEdges; font-family:sans-serif; stroke-linecap:butt;\"><path style=\"fill:none;\" d=\"M68.5 294 L68.5 300\"/><path style=\"fill:none;\" d=\"M101.38 294 L101.38 300\"/><path style=\"fill:none;\" d=\"M134.26 294 L134.26 300\"/><path style=\"fill:none;\" d=\"M167.14 294 L167.14 300\"/><path style=\"fill:none;\" d=\"M200.02 294 L200.02 300\"/><path style=\"fill:none;\" d=\"M232.9 294 L232.9 300\"/><path style=\"fill:none;\" d=\"M265.78 294 L265.78 300\"/><path style=\"fill:none;\" d=\"M298.66 294 L298.66 300\"/><path style=\"fill:none;\" d=\"M331.54 294 L331.54 300\"/><path style=\"fill:none;\" d=\"M364.42 294 L364.42 300\"/><path style=\"fill:none;\" d=\"M397.3 294 L397.3 300\"/><path style=\"fill:none;\" d=\"M430.18 294 L430.18 300\"/><path style=\"fill:none;\" d=\"M463.06 294 L463.06 300\"/><path style=\"fill:none;\" d=\"M68.5 294 L68.5 297\"/><path style=\"fill:none;\" d=\"M84.94 294 L84.94 297\"/><path style=\"fill:none;\" d=\"M101.38 294 L101.38 297\"/><path style=\"fill:none;\" d=\"M117.82 294 L117.82 297\"/><path style=\"fill:none;\" d=\"M134.26 294 L134.26 297\"/><path style=\"fill:none;\" d=\"M150.7 294 L150.7 297\"/><path style=\"fill:none;\" d=\"M167.14 294 L167.14 297\"/><path style=\"fill:none;\" d=\"M183.58 294 L183.58 297\"/><path style=\"fill:none;\" d=\"M200.02 294 L200.02 297\"/><path style=\"fill:none;\" d=\"M216.46 294 L216.46 297\"/><path style=\"fill:none;\" d=\"M232.9 294 L232.9 297\"/><path style=\"fill:none;\" d=\"M249.34 294 L249.34 297\"/><path style=\"fill:none;\" d=\"M265.78 294 L265.78 297\"/><path style=\"fill:none;\" d=\"M282.22 294 L282.22 297\"/><path style=\"fill:none;\" d=\"M298.66 294 L298.66 297\"/><path style=\"fill:none;\" d=\"M315.1 294 L315.1 297\"/><path style=\"fill:none;\" d=\"M331.54 294 L331.54 297\"/><path style=\"fill:none;\" d=\"M347.98 294 L347.98 297\"/><path style=\"fill:none;\" d=\"M364.42 294 L364.42 297\"/><path style=\"fill:none;\" d=\"M380.86 294 L380.86 297\"/><path style=\"fill:none;\" d=\"M397.3 294 L397.3 297\"/><path style=\"fill:none;\" d=\"M413.74 294 L413.74 297\"/><path style=\"fill:none;\" d=\"M430.18 294 L430.18 297\"/><path style=\"fill:none;\" d=\"M446.62 294 L446.62 297\"/><path style=\"fill:none;\" d=\"M463.06 294 L463.06 297\"/><path style=\"fill:none;\" d=\"M479.5 294 L479.5 297\"/><path style=\"fill:none;\" d=\"M479.5 294 L68.5 294\"/><text x=\"-0.6562\" y=\"9.2822\" transform=\"translate(51.5,245.5)\" style=\"stroke-linejoin:bevel; shape-rendering:auto; stroke:none; stroke-width:0;\" xml:space=\"preserve\">0</text></g><g transform=\"translate(46.5,35.5)\" style=\"font-size:10px; stroke-linecap:butt; text-rendering:geometricPrecision; font-family:sans-serif; stroke-linejoin:bevel; stroke-width:0;\"><text x=\"-0.7344\" xml:space=\"preserve\" y=\"9.2822\" style=\"stroke:none;\">20</text></g><g transform=\"translate(46.5,140.5)\" style=\"font-size:10px; stroke-linecap:butt; text-rendering:geometricPrecision; font-family:sans-serif; stroke-linejoin:bevel; stroke-width:0;\"><text x=\"-1.0938\" xml:space=\"preserve\" y=\"9.2822\" style=\"stroke:none;\">10</text></g><g transform=\"translate(52.5,193)\" style=\"font-size:10px; stroke-linecap:butt; text-rendering:geometricPrecision; font-family:sans-serif; stroke-linejoin:bevel; stroke-width:0;\"><text x=\"-0.7656\" xml:space=\"preserve\" y=\"9.2822\" style=\"stroke:none;\">5</text></g><g transform=\"translate(46.5,88)\" style=\"font-size:10px; stroke-linecap:butt; text-rendering:geometricPrecision; font-family:sans-serif; stroke-linejoin:bevel; stroke-width:0;\"><text x=\"-1.0938\" xml:space=\"preserve\" y=\"9.2822\" style=\"stroke:none;\">15</text></g><g style=\"text-rendering:geometricPrecision; font-size:10px; shape-rendering:crispEdges; font-family:sans-serif; stroke-linecap:butt;\"><path style=\"fill:none;\" d=\"M68.5 252 L62.5 252\"/><path style=\"fill:none;\" d=\"M68.5 199.5 L62.5 199.5\"/><path style=\"fill:none;\" d=\"M68.5 147 L62.5 147\"/><path style=\"fill:none;\" d=\"M68.5 94.5 L62.5 94.5\"/><path style=\"fill:none;\" d=\"M68.5 42 L62.5 42\"/><path style=\"fill:none;\" d=\"M68.5 294 L65.5 294\"/><path style=\"fill:none;\" d=\"M68.5 283.5 L65.5 283.5\"/><path style=\"fill:none;\" d=\"M68.5 273 L65.5 273\"/><path style=\"fill:none;\" d=\"M68.5 262.5 L65.5 262.5\"/><path style=\"fill:none;\" d=\"M68.5 252 L65.5 252\"/><path style=\"fill:none;\" d=\"M68.5 241.5 L65.5 241.5\"/><path style=\"fill:none;\" d=\"M68.5 231 L65.5 231\"/><path style=\"fill:none;\" d=\"M68.5 220.5 L65.5 220.5\"/><path style=\"fill:none;\" d=\"M68.5 210 L65.5 210\"/><path style=\"fill:none;\" d=\"M68.5 199.5 L65.5 199.5\"/><path style=\"fill:none;\" d=\"M68.5 189 L65.5 189\"/><path style=\"fill:none;\" d=\"M68.5 178.5 L65.5 178.5\"/><path style=\"fill:none;\" d=\"M68.5 168 L65.5 168\"/><path style=\"fill:none;\" d=\"M68.5 157.5 L65.5 157.5\"/><path style=\"fill:none;\" d=\"M68.5 147 L65.5 147\"/><path style=\"fill:none;\" d=\"M68.5 136.5 L65.5 136.5\"/><path style=\"fill:none;\" d=\"M68.5 126 L65.5 126\"/><path style=\"fill:none;\" d=\"M68.5 115.5 L65.5 115.5\"/><path style=\"fill:none;\" d=\"M68.5 105 L65.5 105\"/><path style=\"fill:none;\" d=\"M68.5 94.5 L65.5 94.5\"/><path style=\"fill:none;\" d=\"M68.5 84 L65.5 84\"/><path style=\"fill:none;\" d=\"M68.5 73.5 L65.5 73.5\"/><path style=\"fill:none;\" d=\"M68.5 63 L65.5 63\"/><path style=\"fill:none;\" d=\"M68.5 52.5 L65.5 52.5\"/><path style=\"fill:none;\" d=\"M68.5 42 L65.5 42\"/><path style=\"fill:none;\" d=\"M68.5 42 L68.5 294\"/><path d=\"M68.5 42 L69.322 46.7347 L70.144 59.0378 L70.966 76.3514 L71.788 96.5485 L72.61 117.9303 L73.432 139.2003 L74.254 159.4243 L75.076 177.9814 L75.898 194.5107 L76.72 208.8595 L77.542 221.0336 L78.364 231.1528 L79.186 239.4123 L80.008 246.0512 L80.83 251.3264 L81.652 255.4933 L82.474 258.7917 L83.296 261.4367 L84.118 263.6131 L84.94 265.4733 L85.762 267.1375 L86.584 268.6959 L87.406 270.2113 L88.228 271.7234 L89.05 273.2526 L89.872 274.8039 L90.694 276.371 L91.516 277.9395 L92.338 279.49 L93.16 281.0003 L93.982 282.448 L94.804 283.8109 L95.626 285.0692 L96.448 286.2054 L97.27 287.2052 L98.092 288.0574 L98.914 288.7539 L99.736 289.2894 L100.558 289.6615 L101.38 289.87 L102.202 289.9169 L103.024 289.8058 L103.846 289.5415 L104.668 289.1302 L105.49 288.5786 L106.312 287.8941 L107.134 287.0847 L107.956 286.1584 L108.778 285.1234 L109.6 283.988 L110.422 282.7605 L111.244 281.4492 L112.066 280.0621 L112.888 278.6074 L113.71 277.0929 L114.532 275.5264 L115.354 273.9156 L116.176 272.268 L116.998 270.5909 L117.82 268.8917 L118.642 267.1774 L119.464 265.4548 L120.286 263.7308 L121.108 262.0119 L121.93 260.3044 L122.752 258.6144 L123.574 256.9479 L124.396 255.3104 L125.218 253.7075 L126.04 252.1441 L126.862 250.6252 L127.684 249.1552 L128.506 247.7383 L129.328 246.3786 L130.15 245.0794 L130.972 243.8441 L131.794 242.6756 L132.616 241.5764 L133.438 240.5488 L134.26 239.5946 L135.082 238.7154 L135.904 237.9125 L136.726 237.1867 L137.548 236.5385 L138.37 235.9683 L139.192 235.476 L140.014 235.0612 L140.836 234.7234 L141.658 234.4614 L142.48 234.2743 L143.302 234.1606 L144.124 234.1185 L144.946 234.1462 L145.768 234.2415 L146.59 234.4023 L147.412 234.6259 L148.234 234.9096 L149.056 235.2507 L149.878 235.6463 L150.7 236.0931 L151.522 236.5881 L152.344 237.1279 L153.166 237.7093 L153.988 238.3287 L154.81 238.9827 L155.632 239.6677 L156.454 240.3804 L157.276 241.117 L158.098 241.8743 L158.92 242.6485 L159.742 243.4363 L160.564 244.2343 L161.386 245.039 L162.208 245.8474 L163.03 246.656 L163.852 247.4619 L164.674 248.2619 L165.496 249.0533 L166.318 249.8332 L167.14 250.5989 L167.962 251.348 L168.784 252.078 L169.606 252.7867 L170.428 253.472 L171.25 254.1319 L172.072 254.7647 L172.894 255.3686 L173.716 255.9422 L174.538 256.4843 L175.36 256.9935 L176.182 257.4689 L177.004 257.9096 L177.826 258.3151 L178.648 258.6846 L179.47 259.0179 L180.292 259.3146 L181.114 259.5748 L181.936 259.7984 L182.758 259.9857 L183.58 260.137 L184.402 260.2527 L185.224 260.3335 L186.046 260.38 L186.868 260.393 L187.69 260.3734 L188.512 260.3223 L189.334 260.2408 L190.156 260.13 L190.978 259.9912 L191.8 259.8258 L192.622 259.6352 L193.444 259.4207 L194.266 259.184 L195.088 258.9265 L195.91 258.6499 L196.732 258.3557 L197.554 258.0457 L198.376 257.7213 L199.198 257.3844 L200.02 257.0366 L200.842 256.6794 L201.664 256.3146 L202.486 255.9437 L203.308 255.5684 L204.13 255.1902 L204.952 254.8106 L205.774 254.4312 L206.596 254.0534 L207.418 253.6786 L208.24 253.3082 L209.062 252.9434 L209.884 252.5855 L210.706 252.2356 L211.528 251.8949 L212.35 251.5644 L213.172 251.2451 L213.994 250.9379 L214.816 250.6436 L215.638 250.363 L216.46 250.0967 L217.282 249.8454 L218.104 249.6096 L218.926 249.3897 L219.748 249.1862 L220.57 248.9993 L221.392 248.8293 L222.214 248.6763 L223.036 248.5405 L223.858 248.4219 L224.68 248.3204 L225.502 248.236 L226.324 248.1684 L227.146 248.1174 L227.968 248.0828 L228.79 248.0642 L229.612 248.0613 L230.434 248.0735 L231.256 248.1004 L232.078 248.1415 L232.9 248.1962 L233.722 248.264 L234.544 248.3441 L235.366 248.4359 L236.188 248.5387 L237.01 248.6519 L237.832 248.7746 L238.654 248.9062 L239.476 249.0459 L240.298 249.1928 L241.12 249.3463 L241.942 249.5055 L242.764 249.6698 L243.586 249.8382 L244.408 250.0101 L245.23 250.1846 L246.052 250.3611 L246.874 250.5388 L247.696 250.717 L248.518 250.895 L249.34 251.0721 L250.162 251.2476 L250.984 251.421 L251.806 251.5916 L252.628 251.7589 L253.45 251.9223 L254.272 252.0813 L255.094 252.2354 L255.916 252.3841 L256.738 252.5271 L257.56 252.664 L258.382 252.7943 L259.204 252.9179 L260.026 253.0344 L260.848 253.1436 L261.67 253.2452 L262.492 253.3392 L263.314 253.4253 L264.136 253.5035 L264.958 253.5736 L265.78 253.6357 L266.602 253.6898 L267.424 253.7358 L268.246 253.7738 L269.068 253.8039 L269.89 253.8263 L270.712 253.841 L271.534 253.8482 L272.356 253.8481 L273.178 253.841 L274 253.827 L274.822 253.8063 L275.644 253.7794 L276.466 253.7464 L277.288 253.7076 L278.11 253.6635 L278.932 253.6142 L279.754 253.5601 L280.576 253.5016 L281.398 253.4391 L282.22 253.3728 L283.042 253.3032 L283.864 253.2306 L284.686 253.1553 L285.508 253.0778 L286.33 252.9984 L287.152 252.9174 L287.974 252.8353 L288.796 252.7523 L289.618 252.6688 L290.44 252.5852 L291.262 252.5017 L292.084 252.4187 L292.906 252.3365 L293.728 252.2554 L294.55 252.1756 L295.372 252.0974 L296.194 252.0211 L297.016 251.947 L297.838 251.8751 L298.66 251.8058 L299.482 251.7393 L300.304 251.6757 L301.126 251.6151 L301.948 251.5578 L302.77 251.5038 L303.592 251.4532 L304.414 251.4063 L305.236 251.3629 L306.058 251.3232 L306.88 251.2873 L307.702 251.2552 L308.524 251.2268 L309.346 251.2022 L310.168 251.1814 L310.99 251.1643 L311.812 251.1509 L312.634 251.1411 L313.456 251.1349 L314.278 251.1322 L315.1 251.133 L315.922 251.137 L316.744 251.1442 L317.566 251.1545 L318.388 251.1677 L319.21 251.1838 L320.032 251.2025 L320.854 251.2237 L321.676 251.2473 L322.498 251.2731 L323.32 251.301 L324.142 251.3307 L324.964 251.3622 L325.786 251.3951 L326.608 251.4295 L327.43 251.465 L328.252 251.5016 L329.074 251.5391 L329.896 251.5772 L330.718 251.6158 L331.54 251.6548 L332.362 251.694 L333.184 251.7333 L334.006 251.7725 L334.828 251.8114 L335.65 251.8499 L336.472 251.8878 L337.294 251.9251 L338.116 251.9616 L338.938 251.9973 L339.76 252.0318 L340.582 252.0653 L341.404 252.0976 L342.226 252.1286 L343.048 252.1581 L343.87 252.1862 L344.692 252.2128 L345.514 252.2379 L346.336 252.2612 L347.158 252.283 L347.98 252.303 L348.802 252.3212 L349.624 252.3377 L350.446 252.3525 L351.268 252.3654 L352.09 252.3766 L352.912 252.386 L353.734 252.3937 L354.556 252.3996 L355.378 252.4039 L356.2 252.4064 L357.022 252.4073 L357.844 252.4067 L358.666 252.4045 L359.488 252.4008 L360.31 252.3957 L361.132 252.3892 L361.954 252.3814 L362.776 252.3724 L363.598 252.3622 L364.42 252.3509 L365.242 252.3386 L366.064 252.3253 L366.886 252.3112 L367.708 252.2963 L368.53 252.2807 L369.352 252.2644 L370.174 252.2476 L370.996 252.2304 L371.818 252.2127 L372.64 252.1948 L373.462 252.1766 L374.284 252.1583 L375.106 252.1399 L375.928 252.1214 L376.75 252.1031 L377.572 252.0849 L378.394 252.0668 L379.216 252.0491 L380.038 252.0316 L380.86 252.0146 L381.682 251.998 L382.504 251.9818 L383.326 251.9662 L384.148 251.9512 L384.97 251.9368 L385.792 251.923 L386.614 251.91 L387.436 251.8976 L388.258 251.8861 L389.08 251.8752 L389.902 251.8652 L390.724 251.856 L391.546 251.8476 L392.368 251.84 L393.19 251.8333 L394.012 251.8273 L394.834 251.8223 L395.656 251.818 L396.478 251.8146 L397.3 251.812 L398.122 251.8101 L398.944 251.8091 L399.766 251.8088 L400.588 251.8093 L401.41 251.8104 L402.232 251.8123 L403.054 251.8148 L403.876 251.818 L404.698 251.8218 L405.52 251.8261 L406.342 251.831 L407.164 251.8364 L407.986 251.8423 L408.808 251.8486 L409.63 251.8553 L410.452 251.8624 L411.274 251.8698 L412.096 251.8775 L412.918 251.8854 L413.74 251.8935 L414.562 251.9019 L415.384 251.9103 L416.206 251.9189 L417.028 251.9275 L417.85 251.9361 L418.672 251.9448 L419.494 251.9534 L420.316 251.9619 L421.138 251.9703 L421.96 251.9786 L422.782 251.9868 L423.604 251.9948 L424.426 252.0025 L425.248 252.01 L426.07 252.0173 L426.892 252.0243 L427.714 252.031 L428.536 252.0374 L429.358 252.0435 L430.18 252.0492 L431.002 252.0545 L431.824 252.0595 L432.646 252.0642 L433.468 252.0684 L434.29 252.0723 L435.112 252.0758 L435.934 252.0789 L436.756 252.0816 L437.578 252.0839 L438.4 252.0858 L439.222 252.0873 L440.044 252.0885 L440.866 252.0892 L441.688 252.0897 L442.51 252.0897 L443.332 252.0894 L444.154 252.0888 L444.976 252.0879 L445.798 252.0866 L446.62 252.0851 L447.442 252.0833 L448.264 252.0812 L449.086 252.0788 L449.908 252.0762 L450.73 252.0734 L451.552 252.0704 L452.374 252.0672 L453.196 252.0639 L454.018 252.0604 L454.84 252.0568 L455.662 252.053 L456.484 252.0492 L457.306 252.0453 L458.128 252.0413 L458.95 252.0373 L459.772 252.0332 L460.594 252.0292 L461.416 252.0251 L462.238 252.0211 L463.06 252.0171 L463.882 252.0131 L464.704 252.0092 L465.526 252.0054 L466.348 252.0017 L467.17 251.9981 L467.992 251.9946 L468.814 251.9912 L469.636 251.9879 L470.458 251.9848 L471.28 251.9819 L472.102 251.979 L472.924 251.9764 L473.746 251.9739 L474.568 251.9716 L475.39 251.9695 L476.212 251.9675 L477.034 251.9657 L477.856 251.9641 L478.678 251.9627 L479.5 251.9615\" style=\"fill:none; stroke-width:2; clip-path:url(#clipPath1);\"/><path style=\"fill:none;\" d=\"M68.5 294 L68.5 42 L68.5 42 L479.5 42 L479.5 294 L479.5 294 L68.5 294\"/><path style=\"fill:none;\" d=\"M479.5 42 L68.5 42\"/><path style=\"fill:none;\" d=\"M479.5 42 L479.5 294\"/><path style=\"fill:none;\" d=\"M479.5 42 L479.5 42\"/></g></g></svg>",
      "text/plain": [
       "<IPython.core.display.SVG object>"
      ]
     },
     "metadata": {},
     "output_type": "display_data"
    }
   ],
   "source": [
    "plot(t,csim('step',t,U),'k-','LineWidth',2);"
   ]
  }
 ],
 "metadata": {
  "kernelspec": {
   "display_name": "Scilab",
   "language": "scilab",
   "name": "scilab"
  },
  "language_info": {
   "file_extension": ".sci",
   "help_links": [
    {
     "text": "MetaKernel Magics",
     "url": "https://metakernel.readthedocs.io/en/latest/source/README.html"
    }
   ],
   "mimetype": "text/x-octave",
   "name": "octave",
   "version": "0.9.10"
  }
 },
 "nbformat": 4,
 "nbformat_minor": 5
}